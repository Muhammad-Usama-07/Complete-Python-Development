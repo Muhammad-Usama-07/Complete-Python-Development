{
  "nbformat": 4,
  "nbformat_minor": 0,
  "metadata": {
    "kernelspec": {
      "display_name": "Python 3",
      "language": "python",
      "name": "python3"
    },
    "language_info": {
      "codemirror_mode": {
        "name": "ipython",
        "version": 3
      },
      "file_extension": ".py",
      "mimetype": "text/x-python",
      "name": "python",
      "nbconvert_exporter": "python",
      "pygments_lexer": "ipython3",
      "version": "3.7.6"
    },
    "colab": {
      "name": "MyPythonWork.ipynb",
      "provenance": [],
      "include_colab_link": true
    }
  },
  "cells": [
    {
      "cell_type": "markdown",
      "metadata": {
        "id": "view-in-github",
        "colab_type": "text"
      },
      "source": [
        "<a href=\"https://colab.research.google.com/github/Muhammad-Usama-07/Complete-Your-Python-Here/blob/master/MyPythonWork.ipynb\" target=\"_parent\"><img src=\"https://colab.research.google.com/assets/colab-badge.svg\" alt=\"Open In Colab\"/></a>"
      ]
    },
    {
      "cell_type": "markdown",
      "metadata": {
        "id": "d6Kkx2moYJYi"
      },
      "source": [
        "# Introduction to python \n",
        "\n",
        "we will us <b>python</b> crash course book"
      ]
    },
    {
      "cell_type": "code",
      "metadata": {
        "colab": {
          "base_uri": "https://localhost:8080/"
        },
        "id": "s78Djrw0YJYw",
        "outputId": "eefacca8-6103-4986-8ae4-59510f1dd930"
      },
      "source": [
        "print(\"Helo\",\"Python\",\"Hru\",sep=\"=====\", end=\"\\t\")\n",
        "print(\"ONe more\")"
      ],
      "execution_count": 25,
      "outputs": [
        {
          "output_type": "stream",
          "text": [
            "Helo=====Python=====Hru\tONe more\n"
          ],
          "name": "stdout"
        }
      ]
    },
    {
      "cell_type": "code",
      "metadata": {
        "colab": {
          "base_uri": "https://localhost:8080/"
        },
        "id": "e19RiDwJYJYy",
        "outputId": "ae4f356f-7631-4b54-a747-ca0c113a14a8"
      },
      "source": [
        "print(\"Welcome\")"
      ],
      "execution_count": 26,
      "outputs": [
        {
          "output_type": "stream",
          "text": [
            "Welcome\n"
          ],
          "name": "stdout"
        }
      ]
    },
    {
      "cell_type": "markdown",
      "metadata": {
        "id": "XZhRkgavYJYz"
      },
      "source": [
        "# Varaibles"
      ]
    },
    {
      "cell_type": "markdown",
      "metadata": {
        "id": "iJrq6MvUYJY0"
      },
      "source": [
        "Data types"
      ]
    },
    {
      "cell_type": "markdown",
      "metadata": {
        "id": "v8B-fS-KYJY1"
      },
      "source": [
        "int , flaot, string, boolean"
      ]
    },
    {
      "cell_type": "code",
      "metadata": {
        "id": "m5lURnxmYJY1"
      },
      "source": [
        "a = 10"
      ],
      "execution_count": 27,
      "outputs": []
    },
    {
      "cell_type": "code",
      "metadata": {
        "colab": {
          "base_uri": "https://localhost:8080/"
        },
        "id": "dmlCxhzBYJY2",
        "outputId": "09d9c9c6-af6c-404e-eede-6fc87af2824b"
      },
      "source": [
        "print(type(a))"
      ],
      "execution_count": 28,
      "outputs": [
        {
          "output_type": "stream",
          "text": [
            "<class 'int'>\n"
          ],
          "name": "stdout"
        }
      ]
    },
    {
      "cell_type": "code",
      "metadata": {
        "colab": {
          "base_uri": "https://localhost:8080/"
        },
        "id": "7bKAJ4tAYJY3",
        "outputId": "1c213bf7-c39f-4c28-bf7c-4e59b77c77e5"
      },
      "source": [
        "id(a)"
      ],
      "execution_count": 29,
      "outputs": [
        {
          "output_type": "execute_result",
          "data": {
            "text/plain": [
              "10914784"
            ]
          },
          "metadata": {
            "tags": []
          },
          "execution_count": 29
        }
      ]
    },
    {
      "cell_type": "code",
      "metadata": {
        "colab": {
          "base_uri": "https://localhost:8080/"
        },
        "id": "qiirLaGTYJY3",
        "outputId": "c41e708e-1787-4740-eceb-2f3c0f9335b9"
      },
      "source": [
        "b = 12.4\n",
        "type(b)"
      ],
      "execution_count": 30,
      "outputs": [
        {
          "output_type": "execute_result",
          "data": {
            "text/plain": [
              "float"
            ]
          },
          "metadata": {
            "tags": []
          },
          "execution_count": 30
        }
      ]
    },
    {
      "cell_type": "code",
      "metadata": {
        "id": "Ov3W-nSoYJY4"
      },
      "source": [
        "c = True\n",
        "d = False "
      ],
      "execution_count": 31,
      "outputs": []
    },
    {
      "cell_type": "code",
      "metadata": {
        "colab": {
          "base_uri": "https://localhost:8080/"
        },
        "id": "SzN_g4GzYJY5",
        "outputId": "8515ac3a-33cc-4847-ceb9-469fc8277da2"
      },
      "source": [
        "type(c)"
      ],
      "execution_count": 32,
      "outputs": [
        {
          "output_type": "execute_result",
          "data": {
            "text/plain": [
              "bool"
            ]
          },
          "metadata": {
            "tags": []
          },
          "execution_count": 32
        }
      ]
    },
    {
      "cell_type": "code",
      "metadata": {
        "colab": {
          "base_uri": "https://localhost:8080/"
        },
        "id": "6zipwgBcYJY5",
        "outputId": "ba0a1285-efb2-4042-8447-02619fd56e5b"
      },
      "source": [
        "name = \"AI\"\n",
        "print(type(name))"
      ],
      "execution_count": 33,
      "outputs": [
        {
          "output_type": "stream",
          "text": [
            "<class 'str'>\n"
          ],
          "name": "stdout"
        }
      ]
    },
    {
      "cell_type": "code",
      "metadata": {
        "id": "n-gU2XHYYJY6"
      },
      "source": [
        "name = 45"
      ],
      "execution_count": 34,
      "outputs": []
    },
    {
      "cell_type": "code",
      "metadata": {
        "colab": {
          "base_uri": "https://localhost:8080/"
        },
        "id": "rsktpR87YJY6",
        "outputId": "30734b25-edcb-4add-a217-22845ccab661"
      },
      "source": [
        "type(name)"
      ],
      "execution_count": 35,
      "outputs": [
        {
          "output_type": "execute_result",
          "data": {
            "text/plain": [
              "int"
            ]
          },
          "metadata": {
            "tags": []
          },
          "execution_count": 35
        }
      ]
    },
    {
      "cell_type": "code",
      "metadata": {
        "id": "t_YQaM7SYJY7"
      },
      "source": [
        "val1  = 100"
      ],
      "execution_count": 36,
      "outputs": []
    },
    {
      "cell_type": "code",
      "metadata": {
        "id": "yGVOLQLaYJY7"
      },
      "source": [
        "val2 = val1  # pass by reference "
      ],
      "execution_count": 37,
      "outputs": []
    },
    {
      "cell_type": "code",
      "metadata": {
        "colab": {
          "base_uri": "https://localhost:8080/"
        },
        "id": "BBvRzeQYYJY8",
        "outputId": "200bcc81-d77b-4639-abcc-be8028378e5d"
      },
      "source": [
        "val2"
      ],
      "execution_count": 38,
      "outputs": [
        {
          "output_type": "execute_result",
          "data": {
            "text/plain": [
              "100"
            ]
          },
          "metadata": {
            "tags": []
          },
          "execution_count": 38
        }
      ]
    },
    {
      "cell_type": "code",
      "metadata": {
        "id": "divBPmH2YJY8"
      },
      "source": [
        "val1 = 200"
      ],
      "execution_count": 39,
      "outputs": []
    },
    {
      "cell_type": "code",
      "metadata": {
        "colab": {
          "base_uri": "https://localhost:8080/"
        },
        "id": "4n_DuEjTYJY9",
        "outputId": "1a2b7508-97d4-4ebd-91cb-defdd3332c27"
      },
      "source": [
        "val2"
      ],
      "execution_count": 40,
      "outputs": [
        {
          "output_type": "execute_result",
          "data": {
            "text/plain": [
              "100"
            ]
          },
          "metadata": {
            "tags": []
          },
          "execution_count": 40
        }
      ]
    },
    {
      "cell_type": "code",
      "metadata": {
        "colab": {
          "base_uri": "https://localhost:8080/"
        },
        "id": "bDhPxJq9YJY9",
        "outputId": "9ceacddd-57f8-420a-ce7d-034e528c56a6"
      },
      "source": [
        "id(val1)==id(val2)"
      ],
      "execution_count": 41,
      "outputs": [
        {
          "output_type": "execute_result",
          "data": {
            "text/plain": [
              "False"
            ]
          },
          "metadata": {
            "tags": []
          },
          "execution_count": 41
        }
      ]
    },
    {
      "cell_type": "code",
      "metadata": {
        "id": "RWKCjmljYJY-"
      },
      "source": [
        "val3 = 200"
      ],
      "execution_count": 42,
      "outputs": []
    },
    {
      "cell_type": "code",
      "metadata": {
        "colab": {
          "base_uri": "https://localhost:8080/"
        },
        "id": "alKBfZguYJY-",
        "outputId": "c2ec391f-d851-4af6-999a-42989eb44ec6"
      },
      "source": [
        "id(val1)==id(val3)"
      ],
      "execution_count": 43,
      "outputs": [
        {
          "output_type": "execute_result",
          "data": {
            "text/plain": [
              "True"
            ]
          },
          "metadata": {
            "tags": []
          },
          "execution_count": 43
        }
      ]
    },
    {
      "cell_type": "code",
      "metadata": {
        "id": "U-_PjPDYYJY_"
      },
      "source": [
        "name  = \"Pakistan\""
      ],
      "execution_count": 44,
      "outputs": []
    },
    {
      "cell_type": "code",
      "metadata": {
        "colab": {
          "base_uri": "https://localhost:8080/"
        },
        "id": "AYSJy5HzYJY_",
        "outputId": "b04ac6f4-04e3-4f00-c830-c7302e5a8abd"
      },
      "source": [
        "name.count('a')"
      ],
      "execution_count": 45,
      "outputs": [
        {
          "output_type": "execute_result",
          "data": {
            "text/plain": [
              "2"
            ]
          },
          "metadata": {
            "tags": []
          },
          "execution_count": 45
        }
      ]
    },
    {
      "cell_type": "code",
      "metadata": {
        "colab": {
          "base_uri": "https://localhost:8080/"
        },
        "id": "fdenjkS4YJZA",
        "outputId": "c05f0a87-9cd5-4a18-cc84-f68c7041a65e"
      },
      "source": [
        "name.find('n')"
      ],
      "execution_count": 46,
      "outputs": [
        {
          "output_type": "execute_result",
          "data": {
            "text/plain": [
              "7"
            ]
          },
          "metadata": {
            "tags": []
          },
          "execution_count": 46
        }
      ]
    },
    {
      "cell_type": "code",
      "metadata": {
        "colab": {
          "base_uri": "https://localhost:8080/"
        },
        "id": "U1u9d9oJYJZA",
        "outputId": "d249f7eb-b3df-4b22-ffd4-89441b62e192"
      },
      "source": [
        "len(name)"
      ],
      "execution_count": 47,
      "outputs": [
        {
          "output_type": "execute_result",
          "data": {
            "text/plain": [
              "8"
            ]
          },
          "metadata": {
            "tags": []
          },
          "execution_count": 47
        }
      ]
    },
    {
      "cell_type": "code",
      "metadata": {
        "id": "000MJeAQYJZB"
      },
      "source": [
        ""
      ],
      "execution_count": 47,
      "outputs": []
    },
    {
      "cell_type": "code",
      "metadata": {
        "colab": {
          "base_uri": "https://localhost:8080/"
        },
        "id": "0YNkc8yhYJZB",
        "outputId": "de508e3b-b8ca-4fe6-b5fa-9a6a923db4c7"
      },
      "source": [
        "name =  \"Pakistan\"\n",
        "year = 1947\n",
        "\n",
        "# i am Pakistan and i came into existance in 1947\n",
        "print(\"i am \" +name+ \" and i came into existance in \" +str(year))"
      ],
      "execution_count": 48,
      "outputs": [
        {
          "output_type": "stream",
          "text": [
            "i am Pakistan and i came into existance in 1947\n"
          ],
          "name": "stdout"
        }
      ]
    },
    {
      "cell_type": "code",
      "metadata": {
        "colab": {
          "base_uri": "https://localhost:8080/",
          "height": 35
        },
        "id": "RS4InAL2YJZC",
        "outputId": "fe18f6c4-915b-4cfa-c859-6105cc98cb14"
      },
      "source": [
        "\"this is my friend's book\""
      ],
      "execution_count": 49,
      "outputs": [
        {
          "output_type": "execute_result",
          "data": {
            "application/vnd.google.colaboratory.intrinsic+json": {
              "type": "string"
            },
            "text/plain": [
              "\"this is my friend's book\""
            ]
          },
          "metadata": {
            "tags": []
          },
          "execution_count": 49
        }
      ]
    },
    {
      "cell_type": "markdown",
      "metadata": {
        "id": "OwJ-pgzcYJZC"
      },
      "source": [
        "# String formatting"
      ]
    },
    {
      "cell_type": "code",
      "metadata": {
        "colab": {
          "base_uri": "https://localhost:8080/"
        },
        "id": "axNRQxZ_YJZC",
        "outputId": "3898cb81-2f06-45f0-fa10-58f5a297ff05"
      },
      "source": [
        "name  = input(\"Enter your name\")\n",
        "age  = input(\"Enter your age\")\n",
        "print(\"My name is {} and my age is {}\".format(name,age))"
      ],
      "execution_count": 50,
      "outputs": [
        {
          "output_type": "stream",
          "text": [
            "Enter your nameUsama\n",
            "Enter your age20\n",
            "My name is Usama and my age is 20\n"
          ],
          "name": "stdout"
        }
      ]
    },
    {
      "cell_type": "code",
      "metadata": {
        "colab": {
          "base_uri": "https://localhost:8080/"
        },
        "id": "mPYAOpDgYJZD",
        "outputId": "352df393-b3d3-4300-83a1-076790ffc123"
      },
      "source": [
        "name  = input(\"Enter your name\").split()\n",
        "age  = input(\"Enter your age\")\n",
        "print(f\"My name is {name} and my age is {age}\")"
      ],
      "execution_count": 52,
      "outputs": [
        {
          "output_type": "stream",
          "text": [
            "Enter your nameUsama\n",
            "Enter your age20\\\n",
            "My name is ['Usama'] and my age is 20\\\n"
          ],
          "name": "stdout"
        }
      ]
    },
    {
      "cell_type": "code",
      "metadata": {
        "colab": {
          "base_uri": "https://localhost:8080/"
        },
        "id": "U4i6cFz4YJZD",
        "outputId": "21264179-0668-43d5-fb9f-f20bfc5ff8d0"
      },
      "source": [
        "name  = input(\"Enter your name\").split(',')"
      ],
      "execution_count": 53,
      "outputs": [
        {
          "output_type": "stream",
          "text": [
            "Enter your nameUsama\n"
          ],
          "name": "stdout"
        }
      ]
    },
    {
      "cell_type": "code",
      "metadata": {
        "colab": {
          "base_uri": "https://localhost:8080/",
          "height": 35
        },
        "id": "lP-TF0fFYJZE",
        "outputId": "14706b5f-4e09-499e-a601-38666eeb3b75"
      },
      "source": [
        "name[0]"
      ],
      "execution_count": 54,
      "outputs": [
        {
          "output_type": "execute_result",
          "data": {
            "application/vnd.google.colaboratory.intrinsic+json": {
              "type": "string"
            },
            "text/plain": [
              "'Usama'"
            ]
          },
          "metadata": {
            "tags": []
          },
          "execution_count": 54
        }
      ]
    },
    {
      "cell_type": "code",
      "metadata": {
        "colab": {
          "base_uri": "https://localhost:8080/"
        },
        "id": "UXx1XlNrYJZE",
        "outputId": "c4ec82ca-a368-47c4-8494-d101fe1a2dbc"
      },
      "source": [
        "# immutable , iterable\n",
        "name"
      ],
      "execution_count": 55,
      "outputs": [
        {
          "output_type": "execute_result",
          "data": {
            "text/plain": [
              "['Usama']"
            ]
          },
          "metadata": {
            "tags": []
          },
          "execution_count": 55
        }
      ]
    },
    {
      "cell_type": "code",
      "metadata": {
        "id": "pDc9216FYJZF"
      },
      "source": [
        "name[0]='p'"
      ],
      "execution_count": 56,
      "outputs": []
    },
    {
      "cell_type": "code",
      "metadata": {
        "colab": {
          "base_uri": "https://localhost:8080/"
        },
        "id": "wQpxZ4OiYJZF",
        "outputId": "c272f7ae-e978-4f7d-b45e-4891e0e035a0"
      },
      "source": [
        "print(\"We are \\\"Students\\\" in AI course\")"
      ],
      "execution_count": 57,
      "outputs": [
        {
          "output_type": "stream",
          "text": [
            "We are \"Students\" in AI course\n"
          ],
          "name": "stdout"
        }
      ]
    },
    {
      "cell_type": "markdown",
      "metadata": {
        "id": "2zZea6CcYJZF"
      },
      "source": [
        "# Operators"
      ]
    },
    {
      "cell_type": "markdown",
      "metadata": {
        "id": "CEUAF3erYJZG"
      },
      "source": [
        "  operator: + - * / "
      ]
    },
    {
      "cell_type": "code",
      "metadata": {
        "colab": {
          "base_uri": "https://localhost:8080/"
        },
        "id": "_11YVJPcYJZG",
        "outputId": "10db295a-efe6-42be-c940-76899689d4fb"
      },
      "source": [
        "2  +  4"
      ],
      "execution_count": 58,
      "outputs": [
        {
          "output_type": "execute_result",
          "data": {
            "text/plain": [
              "6"
            ]
          },
          "metadata": {
            "tags": []
          },
          "execution_count": 58
        }
      ]
    },
    {
      "cell_type": "code",
      "metadata": {
        "colab": {
          "base_uri": "https://localhost:8080/"
        },
        "id": "yt57yCSGYJZH",
        "outputId": "936a7fa9-c48c-4742-93fe-5142abe18f1a"
      },
      "source": [
        "2.4 + 8 "
      ],
      "execution_count": 59,
      "outputs": [
        {
          "output_type": "execute_result",
          "data": {
            "text/plain": [
              "10.4"
            ]
          },
          "metadata": {
            "tags": []
          },
          "execution_count": 59
        }
      ]
    },
    {
      "cell_type": "code",
      "metadata": {
        "colab": {
          "base_uri": "https://localhost:8080/"
        },
        "id": "3pL1E2gqYJZH",
        "outputId": "2f724379-389a-449a-af09-7b9343b6711e"
      },
      "source": [
        "12 / 5 "
      ],
      "execution_count": 60,
      "outputs": [
        {
          "output_type": "execute_result",
          "data": {
            "text/plain": [
              "2.4"
            ]
          },
          "metadata": {
            "tags": []
          },
          "execution_count": 60
        }
      ]
    },
    {
      "cell_type": "code",
      "metadata": {
        "colab": {
          "base_uri": "https://localhost:8080/"
        },
        "id": "LpxjRegiYJZH",
        "outputId": "074f27aa-35ad-459d-b16a-0e6f5c0ef9fd"
      },
      "source": [
        "12 // 5"
      ],
      "execution_count": 61,
      "outputs": [
        {
          "output_type": "execute_result",
          "data": {
            "text/plain": [
              "2"
            ]
          },
          "metadata": {
            "tags": []
          },
          "execution_count": 61
        }
      ]
    },
    {
      "cell_type": "markdown",
      "metadata": {
        "id": "aJq-P09MYJZI"
      },
      "source": [
        "Counter >>. increment decrement"
      ]
    },
    {
      "cell_type": "code",
      "metadata": {
        "id": "f7r7PsskYJZI"
      },
      "source": [
        "age  = 10"
      ],
      "execution_count": 62,
      "outputs": []
    },
    {
      "cell_type": "code",
      "metadata": {
        "colab": {
          "base_uri": "https://localhost:8080/"
        },
        "id": "qsHKLGI6YJZJ",
        "outputId": "235fa253-60a2-49fa-b06d-604ab4f33768"
      },
      "source": [
        "age =age + 1\n",
        "age"
      ],
      "execution_count": 63,
      "outputs": [
        {
          "output_type": "execute_result",
          "data": {
            "text/plain": [
              "11"
            ]
          },
          "metadata": {
            "tags": []
          },
          "execution_count": 63
        }
      ]
    },
    {
      "cell_type": "code",
      "metadata": {
        "colab": {
          "base_uri": "https://localhost:8080/"
        },
        "id": "PLLjabkOYJZL",
        "outputId": "62ace333-6a05-4367-bc8d-c570894fcdae"
      },
      "source": [
        "age +=1\n",
        "age"
      ],
      "execution_count": 64,
      "outputs": [
        {
          "output_type": "execute_result",
          "data": {
            "text/plain": [
              "12"
            ]
          },
          "metadata": {
            "tags": []
          },
          "execution_count": 64
        }
      ]
    },
    {
      "cell_type": "code",
      "metadata": {
        "colab": {
          "base_uri": "https://localhost:8080/"
        },
        "id": "5Y8lfgaEYJZM",
        "outputId": "d1026d99-7992-450e-9612-f292eb72923b"
      },
      "source": [
        "age -=1\n",
        "age"
      ],
      "execution_count": 65,
      "outputs": [
        {
          "output_type": "execute_result",
          "data": {
            "text/plain": [
              "11"
            ]
          },
          "metadata": {
            "tags": []
          },
          "execution_count": 65
        }
      ]
    },
    {
      "cell_type": "code",
      "metadata": {
        "colab": {
          "base_uri": "https://localhost:8080/"
        },
        "id": "Uq7fZh4_YJZM",
        "outputId": "4d321a23-6eb4-4e8f-e2a3-077c45e06993"
      },
      "source": [
        "age *=2\n",
        "age"
      ],
      "execution_count": 66,
      "outputs": [
        {
          "output_type": "execute_result",
          "data": {
            "text/plain": [
              "22"
            ]
          },
          "metadata": {
            "tags": []
          },
          "execution_count": 66
        }
      ]
    },
    {
      "cell_type": "code",
      "metadata": {
        "colab": {
          "base_uri": "https://localhost:8080/"
        },
        "id": "bdm-wjgGYJZN",
        "outputId": "e6524098-eeac-4754-e727-dbf04be0fe4d"
      },
      "source": [
        "age //=2\n",
        "age"
      ],
      "execution_count": 67,
      "outputs": [
        {
          "output_type": "execute_result",
          "data": {
            "text/plain": [
              "11"
            ]
          },
          "metadata": {
            "tags": []
          },
          "execution_count": 67
        }
      ]
    },
    {
      "cell_type": "markdown",
      "metadata": {
        "id": "6QpRC1dcYJZO"
      },
      "source": [
        "Modulo Operator (%) returns remainder "
      ]
    },
    {
      "cell_type": "code",
      "metadata": {
        "colab": {
          "base_uri": "https://localhost:8080/"
        },
        "id": "AXnR5v4DYJZO",
        "outputId": "be166bb6-5f91-468c-fb6f-d07eb2d856b6"
      },
      "source": [
        "18%5"
      ],
      "execution_count": 68,
      "outputs": [
        {
          "output_type": "execute_result",
          "data": {
            "text/plain": [
              "3"
            ]
          },
          "metadata": {
            "tags": []
          },
          "execution_count": 68
        }
      ]
    },
    {
      "cell_type": "markdown",
      "metadata": {
        "id": "DnsNLHgEYJZP"
      },
      "source": [
        "> , < >=, <=, ==, !=  return boolean values"
      ]
    },
    {
      "cell_type": "markdown",
      "metadata": {
        "id": "Ba3UNFHPYJZP"
      },
      "source": [
        "Logical operators : not , and , or "
      ]
    },
    {
      "cell_type": "markdown",
      "metadata": {
        "id": "Y0Cp_5NkYJZQ"
      },
      "source": [
        "# Python List "
      ]
    },
    {
      "cell_type": "code",
      "metadata": {
        "id": "cGlDDLzEYJZQ"
      },
      "source": [
        "a = []"
      ],
      "execution_count": 69,
      "outputs": []
    },
    {
      "cell_type": "code",
      "metadata": {
        "colab": {
          "base_uri": "https://localhost:8080/"
        },
        "id": "FIMkUepXYJZQ",
        "outputId": "06ca85f8-a99e-424b-ea8f-32676da728f3"
      },
      "source": [
        "print(type(a))"
      ],
      "execution_count": 70,
      "outputs": [
        {
          "output_type": "stream",
          "text": [
            "<class 'list'>\n"
          ],
          "name": "stdout"
        }
      ]
    },
    {
      "cell_type": "markdown",
      "metadata": {
        "id": "lzaH64KGYJZR"
      },
      "source": [
        "# indexing "
      ]
    },
    {
      "cell_type": "code",
      "metadata": {
        "id": "jIRYOio7YJZS"
      },
      "source": [
        "b =    [12, 23.4, False, \"Pakistan\",[12,34]]\n",
        "#index [ 0   1      2       3           4]  \n",
        "#-ve idex[-5 -4     -3     -2           -1 ]"
      ],
      "execution_count": 71,
      "outputs": []
    },
    {
      "cell_type": "code",
      "metadata": {
        "colab": {
          "base_uri": "https://localhost:8080/"
        },
        "id": "Maj3POFCYJZS",
        "outputId": "97673990-d4d2-4cc6-ba2b-de8de6a5c76f"
      },
      "source": [
        "b[2]"
      ],
      "execution_count": 72,
      "outputs": [
        {
          "output_type": "execute_result",
          "data": {
            "text/plain": [
              "False"
            ]
          },
          "metadata": {
            "tags": []
          },
          "execution_count": 72
        }
      ]
    },
    {
      "cell_type": "code",
      "metadata": {
        "colab": {
          "base_uri": "https://localhost:8080/",
          "height": 35
        },
        "id": "t3sBr5TkYJZT",
        "outputId": "65c2171a-59bd-4a6f-a959-5ff807bc2d60"
      },
      "source": [
        "b[-2]"
      ],
      "execution_count": 73,
      "outputs": [
        {
          "output_type": "execute_result",
          "data": {
            "application/vnd.google.colaboratory.intrinsic+json": {
              "type": "string"
            },
            "text/plain": [
              "'Pakistan'"
            ]
          },
          "metadata": {
            "tags": []
          },
          "execution_count": 73
        }
      ]
    },
    {
      "cell_type": "code",
      "metadata": {
        "colab": {
          "base_uri": "https://localhost:8080/"
        },
        "id": "g6CzESNJYJZT",
        "outputId": "1d11b74a-5c74-4301-c85a-8a36d81c21d8"
      },
      "source": [
        "b[-1][1]"
      ],
      "execution_count": 74,
      "outputs": [
        {
          "output_type": "execute_result",
          "data": {
            "text/plain": [
              "34"
            ]
          },
          "metadata": {
            "tags": []
          },
          "execution_count": 74
        }
      ]
    },
    {
      "cell_type": "code",
      "metadata": {
        "colab": {
          "base_uri": "https://localhost:8080/",
          "height": 35
        },
        "id": "aXmpxjrnYJZU",
        "outputId": "4c421710-9363-4d45-f70a-665eae4bb00e"
      },
      "source": [
        "b[3][4]"
      ],
      "execution_count": 75,
      "outputs": [
        {
          "output_type": "execute_result",
          "data": {
            "application/vnd.google.colaboratory.intrinsic+json": {
              "type": "string"
            },
            "text/plain": [
              "'s'"
            ]
          },
          "metadata": {
            "tags": []
          },
          "execution_count": 75
        }
      ]
    },
    {
      "cell_type": "code",
      "metadata": {
        "id": "ngYPyfcWYJZU"
      },
      "source": [
        "a.append(\"marks\")"
      ],
      "execution_count": 76,
      "outputs": []
    },
    {
      "cell_type": "code",
      "metadata": {
        "colab": {
          "base_uri": "https://localhost:8080/"
        },
        "id": "eyss_LePYJZV",
        "outputId": "ae7f456e-1515-4b4c-c6ec-834c545a43c1"
      },
      "source": [
        "a"
      ],
      "execution_count": 77,
      "outputs": [
        {
          "output_type": "execute_result",
          "data": {
            "text/plain": [
              "['marks']"
            ]
          },
          "metadata": {
            "tags": []
          },
          "execution_count": 77
        }
      ]
    },
    {
      "cell_type": "code",
      "metadata": {
        "id": "iSGc1bagYJZW"
      },
      "source": [
        "a.append(\"paper\")"
      ],
      "execution_count": 78,
      "outputs": []
    },
    {
      "cell_type": "code",
      "metadata": {
        "colab": {
          "base_uri": "https://localhost:8080/"
        },
        "id": "M75Bu4VUYJZW",
        "outputId": "a0c094fb-0b0c-42fe-9e25-c89808ae711d"
      },
      "source": [
        "a"
      ],
      "execution_count": 79,
      "outputs": [
        {
          "output_type": "execute_result",
          "data": {
            "text/plain": [
              "['marks', 'paper']"
            ]
          },
          "metadata": {
            "tags": []
          },
          "execution_count": 79
        }
      ]
    },
    {
      "cell_type": "code",
      "metadata": {
        "colab": {
          "base_uri": "https://localhost:8080/"
        },
        "id": "lWCCFnQ6YJZX",
        "outputId": "8bcaf33d-2d01-4d2f-e63e-3cb262fbdaf2"
      },
      "source": [
        "a.insert(2,\"pencil\")\n",
        "a"
      ],
      "execution_count": 80,
      "outputs": [
        {
          "output_type": "execute_result",
          "data": {
            "text/plain": [
              "['marks', 'paper', 'pencil']"
            ]
          },
          "metadata": {
            "tags": []
          },
          "execution_count": 80
        }
      ]
    },
    {
      "cell_type": "code",
      "metadata": {
        "id": "bQbqw3YLYJZX"
      },
      "source": [
        "c = a.copy()"
      ],
      "execution_count": 81,
      "outputs": []
    },
    {
      "cell_type": "code",
      "metadata": {
        "colab": {
          "base_uri": "https://localhost:8080/"
        },
        "id": "m9ZJsCOxYJZY",
        "outputId": "f55cff6c-c256-4176-f93f-bc1d5b3ddc67"
      },
      "source": [
        "c"
      ],
      "execution_count": 82,
      "outputs": [
        {
          "output_type": "execute_result",
          "data": {
            "text/plain": [
              "['marks', 'paper', 'pencil']"
            ]
          },
          "metadata": {
            "tags": []
          },
          "execution_count": 82
        }
      ]
    },
    {
      "cell_type": "code",
      "metadata": {
        "id": "zSbQfriVYJZY"
      },
      "source": [
        "a.append([\"a\", \"b\", 'c'])"
      ],
      "execution_count": 83,
      "outputs": []
    },
    {
      "cell_type": "code",
      "metadata": {
        "colab": {
          "base_uri": "https://localhost:8080/"
        },
        "id": "dsgA1YCkYJZZ",
        "outputId": "637a2ea5-1b78-4a1a-cd6a-1fbe3a2599ba"
      },
      "source": [
        "a"
      ],
      "execution_count": 84,
      "outputs": [
        {
          "output_type": "execute_result",
          "data": {
            "text/plain": [
              "['marks', 'paper', 'pencil', ['a', 'b', 'c']]"
            ]
          },
          "metadata": {
            "tags": []
          },
          "execution_count": 84
        }
      ]
    },
    {
      "cell_type": "code",
      "metadata": {
        "id": "bgB1MOjWYJZZ"
      },
      "source": [
        "a.extend([\"a\", \"b\", 'c'])"
      ],
      "execution_count": 85,
      "outputs": []
    },
    {
      "cell_type": "code",
      "metadata": {
        "colab": {
          "base_uri": "https://localhost:8080/"
        },
        "id": "B5ok2M_wYJZa",
        "outputId": "a5c1ff87-972a-48c2-84ac-3f9ab2b60240"
      },
      "source": [
        "a"
      ],
      "execution_count": 86,
      "outputs": [
        {
          "output_type": "execute_result",
          "data": {
            "text/plain": [
              "['marks', 'paper', 'pencil', ['a', 'b', 'c'], 'a', 'b', 'c']"
            ]
          },
          "metadata": {
            "tags": []
          },
          "execution_count": 86
        }
      ]
    },
    {
      "cell_type": "code",
      "metadata": {
        "id": "XbmgsBDtYJZa"
      },
      "source": [
        "a.extend(\"nasir\")"
      ],
      "execution_count": 87,
      "outputs": []
    },
    {
      "cell_type": "code",
      "metadata": {
        "colab": {
          "base_uri": "https://localhost:8080/"
        },
        "id": "RmCmqJC1YJZb",
        "outputId": "0b6ed429-2ab5-465d-c9de-9a0bdf0e832c"
      },
      "source": [
        "a"
      ],
      "execution_count": 88,
      "outputs": [
        {
          "output_type": "execute_result",
          "data": {
            "text/plain": [
              "['marks',\n",
              " 'paper',\n",
              " 'pencil',\n",
              " ['a', 'b', 'c'],\n",
              " 'a',\n",
              " 'b',\n",
              " 'c',\n",
              " 'n',\n",
              " 'a',\n",
              " 's',\n",
              " 'i',\n",
              " 'r']"
            ]
          },
          "metadata": {
            "tags": []
          },
          "execution_count": 88
        }
      ]
    },
    {
      "cell_type": "code",
      "metadata": {
        "colab": {
          "base_uri": "https://localhost:8080/",
          "height": 163
        },
        "id": "ZHt8IP_EYJZb",
        "outputId": "b9004784-67eb-444e-caf6-9af407b93c8b"
      },
      "source": [
        "a.index('marks', 1)"
      ],
      "execution_count": 89,
      "outputs": [
        {
          "output_type": "error",
          "ename": "ValueError",
          "evalue": "ignored",
          "traceback": [
            "\u001b[0;31m---------------------------------------------------------------------------\u001b[0m",
            "\u001b[0;31mValueError\u001b[0m                                Traceback (most recent call last)",
            "\u001b[0;32m<ipython-input-89-dc589c3053ba>\u001b[0m in \u001b[0;36m<module>\u001b[0;34m()\u001b[0m\n\u001b[0;32m----> 1\u001b[0;31m \u001b[0ma\u001b[0m\u001b[0;34m.\u001b[0m\u001b[0mindex\u001b[0m\u001b[0;34m(\u001b[0m\u001b[0;34m'marks'\u001b[0m\u001b[0;34m,\u001b[0m \u001b[0;36m1\u001b[0m\u001b[0;34m)\u001b[0m\u001b[0;34m\u001b[0m\u001b[0;34m\u001b[0m\u001b[0m\n\u001b[0m",
            "\u001b[0;31mValueError\u001b[0m: 'marks' is not in list"
          ]
        }
      ]
    },
    {
      "cell_type": "code",
      "metadata": {
        "colab": {
          "base_uri": "https://localhost:8080/",
          "height": 180
        },
        "id": "F7xoK2ygYJZc",
        "outputId": "4738af70-f6b9-48c8-f43c-2ba6e998e760"
      },
      "source": [
        "del a[13] # by index\n",
        "a"
      ],
      "execution_count": 90,
      "outputs": [
        {
          "output_type": "error",
          "ename": "IndexError",
          "evalue": "ignored",
          "traceback": [
            "\u001b[0;31m---------------------------------------------------------------------------\u001b[0m",
            "\u001b[0;31mIndexError\u001b[0m                                Traceback (most recent call last)",
            "\u001b[0;32m<ipython-input-90-3dec91e667f6>\u001b[0m in \u001b[0;36m<module>\u001b[0;34m()\u001b[0m\n\u001b[0;32m----> 1\u001b[0;31m \u001b[0;32mdel\u001b[0m \u001b[0ma\u001b[0m\u001b[0;34m[\u001b[0m\u001b[0;36m13\u001b[0m\u001b[0;34m]\u001b[0m \u001b[0;31m# by index\u001b[0m\u001b[0;34m\u001b[0m\u001b[0;34m\u001b[0m\u001b[0m\n\u001b[0m\u001b[1;32m      2\u001b[0m \u001b[0ma\u001b[0m\u001b[0;34m\u001b[0m\u001b[0;34m\u001b[0m\u001b[0m\n",
            "\u001b[0;31mIndexError\u001b[0m: list assignment index out of range"
          ]
        }
      ]
    },
    {
      "cell_type": "code",
      "metadata": {
        "colab": {
          "base_uri": "https://localhost:8080/"
        },
        "id": "8ieTodzJYJZc",
        "outputId": "d9ad6177-0355-41ae-f01a-963e4bd283c2"
      },
      "source": [
        "rem=a.remove(\"pencil\")\n",
        "print(rem)"
      ],
      "execution_count": 91,
      "outputs": [
        {
          "output_type": "stream",
          "text": [
            "None\n"
          ],
          "name": "stdout"
        }
      ]
    },
    {
      "cell_type": "code",
      "metadata": {
        "colab": {
          "base_uri": "https://localhost:8080/"
        },
        "id": "xzzI3X4KYJZc",
        "outputId": "6b60a7bf-b589-4f8e-ea71-c7bd8f37443a"
      },
      "source": [
        "a"
      ],
      "execution_count": 92,
      "outputs": [
        {
          "output_type": "execute_result",
          "data": {
            "text/plain": [
              "['marks', 'paper', ['a', 'b', 'c'], 'a', 'b', 'c', 'n', 'a', 's', 'i', 'r']"
            ]
          },
          "metadata": {
            "tags": []
          },
          "execution_count": 92
        }
      ]
    },
    {
      "cell_type": "code",
      "metadata": {
        "id": "T3Ei0j-cYJZd"
      },
      "source": [
        "removedValue=[]"
      ],
      "execution_count": 93,
      "outputs": []
    },
    {
      "cell_type": "code",
      "metadata": {
        "id": "dchVPDJWYJZd"
      },
      "source": [
        "\n",
        "removedValue.append(b.pop())"
      ],
      "execution_count": 94,
      "outputs": []
    },
    {
      "cell_type": "code",
      "metadata": {
        "colab": {
          "base_uri": "https://localhost:8080/"
        },
        "id": "m7NmXkiOYJZd",
        "outputId": "b3728f6f-35de-471c-ea11-92ba536a0c4d"
      },
      "source": [
        "removedValue"
      ],
      "execution_count": 95,
      "outputs": [
        {
          "output_type": "execute_result",
          "data": {
            "text/plain": [
              "[[12, 34]]"
            ]
          },
          "metadata": {
            "tags": []
          },
          "execution_count": 95
        }
      ]
    },
    {
      "cell_type": "code",
      "metadata": {
        "id": "v53KiCTCYJZd"
      },
      "source": [
        "removedValue.sort()"
      ],
      "execution_count": 96,
      "outputs": []
    },
    {
      "cell_type": "code",
      "metadata": {
        "id": "WN4UsD2xYJZd"
      },
      "source": [
        "alist = [23,45,43,12,2,78,65,89]"
      ],
      "execution_count": 97,
      "outputs": []
    },
    {
      "cell_type": "code",
      "metadata": {
        "id": "glwJv6arYJZe"
      },
      "source": [
        "sorted_in_ascending_order = sorted(alist)"
      ],
      "execution_count": 98,
      "outputs": []
    },
    {
      "cell_type": "code",
      "metadata": {
        "id": "vMsDD8MQYJZe"
      },
      "source": [
        "sorted_in_descending_order  = sorted(alist,reverse=True)"
      ],
      "execution_count": 99,
      "outputs": []
    },
    {
      "cell_type": "code",
      "metadata": {
        "colab": {
          "base_uri": "https://localhost:8080/"
        },
        "id": "8pPCpjIrYJZe",
        "outputId": "4c611371-d6f5-4555-b1fa-5021beb0d903"
      },
      "source": [
        "sorted_in_ascending_order ,sorted_in_descending_order"
      ],
      "execution_count": 100,
      "outputs": [
        {
          "output_type": "execute_result",
          "data": {
            "text/plain": [
              "([2, 12, 23, 43, 45, 65, 78, 89], [89, 78, 65, 45, 43, 23, 12, 2])"
            ]
          },
          "metadata": {
            "tags": []
          },
          "execution_count": 100
        }
      ]
    },
    {
      "cell_type": "markdown",
      "metadata": {
        "id": "J_oXztPpYJZe"
      },
      "source": [
        "# Slicing a list \n"
      ]
    },
    {
      "cell_type": "code",
      "metadata": {
        "id": "ShDOMoDVYJZe"
      },
      "source": [
        "mylist = [2,3,4,5,6,7,8,9]"
      ],
      "execution_count": 101,
      "outputs": []
    },
    {
      "cell_type": "code",
      "metadata": {
        "colab": {
          "base_uri": "https://localhost:8080/"
        },
        "id": "jAMXoCpeYJZe",
        "outputId": "03e2991e-84f1-4343-de21-8ce8417544e0"
      },
      "source": [
        "sliced = mylist[2:5]\r\n",
        "sliced"
      ],
      "execution_count": 107,
      "outputs": [
        {
          "output_type": "execute_result",
          "data": {
            "text/plain": [
              "[4, 5, 6]"
            ]
          },
          "metadata": {
            "tags": []
          },
          "execution_count": 107
        }
      ]
    },
    {
      "cell_type": "code",
      "metadata": {
        "id": "YTe0GrI-YJZf"
      },
      "source": [
        "sliced[2]=66"
      ],
      "execution_count": 108,
      "outputs": []
    },
    {
      "cell_type": "code",
      "metadata": {
        "colab": {
          "base_uri": "https://localhost:8080/"
        },
        "id": "KEokvYpDYJZf",
        "outputId": "447cb39d-11fd-4d3f-dfe9-6f63fb05fe17"
      },
      "source": [
        "sliced"
      ],
      "execution_count": 109,
      "outputs": [
        {
          "output_type": "execute_result",
          "data": {
            "text/plain": [
              "[4, 5, 66]"
            ]
          },
          "metadata": {
            "tags": []
          },
          "execution_count": 109
        }
      ]
    },
    {
      "cell_type": "code",
      "metadata": {
        "colab": {
          "base_uri": "https://localhost:8080/"
        },
        "id": "reDslf10YJZf",
        "outputId": "fe5828ec-8900-4d37-eeac-a22e7ba0cbe1"
      },
      "source": [
        "mylist"
      ],
      "execution_count": 110,
      "outputs": [
        {
          "output_type": "execute_result",
          "data": {
            "text/plain": [
              "[2, 3, 4, 5, 6, 7, 8, 9]"
            ]
          },
          "metadata": {
            "tags": []
          },
          "execution_count": 110
        }
      ]
    },
    {
      "cell_type": "code",
      "metadata": {
        "colab": {
          "base_uri": "https://localhost:8080/"
        },
        "id": "l5XeQ5WdYJZf",
        "outputId": "3a2c7386-f002-43e3-e384-1c5becb2e34e"
      },
      "source": [
        "#copy List trick #03\r\n",
        "\r\n",
        "newSlice = mylist[:]\r\n",
        "newSlice\r\n"
      ],
      "execution_count": 113,
      "outputs": [
        {
          "output_type": "execute_result",
          "data": {
            "text/plain": [
              "[2, 3, 4, 5, 6, 7, 8, 9]"
            ]
          },
          "metadata": {
            "tags": []
          },
          "execution_count": 113
        }
      ]
    },
    {
      "cell_type": "code",
      "metadata": {
        "colab": {
          "base_uri": "https://localhost:8080/"
        },
        "id": "CQlmQDJpYJZf",
        "outputId": "695e9cb2-e891-4fe4-c4a7-cb2910248ada"
      },
      "source": [
        "aslice = mylist[:55]\n",
        "aslice"
      ],
      "execution_count": 114,
      "outputs": [
        {
          "output_type": "execute_result",
          "data": {
            "text/plain": [
              "[2, 3, 4, 5, 6, 7, 8, 9]"
            ]
          },
          "metadata": {
            "tags": []
          },
          "execution_count": 114
        }
      ]
    },
    {
      "cell_type": "code",
      "metadata": {
        "colab": {
          "base_uri": "https://localhost:8080/"
        },
        "id": "PT7djVOWYJZf",
        "outputId": "8c0261fc-cba2-4919-e9ce-0a3f24041ed5"
      },
      "source": [
        "mylist[-4:]"
      ],
      "execution_count": 115,
      "outputs": [
        {
          "output_type": "execute_result",
          "data": {
            "text/plain": [
              "[6, 7, 8, 9]"
            ]
          },
          "metadata": {
            "tags": []
          },
          "execution_count": 115
        }
      ]
    },
    {
      "cell_type": "code",
      "metadata": {
        "id": "PHwNHjhoYJZg"
      },
      "source": [
        "yourlist = [1,2,3,4,5,6,7,8,9,0]"
      ],
      "execution_count": 116,
      "outputs": []
    },
    {
      "cell_type": "code",
      "metadata": {
        "colab": {
          "base_uri": "https://localhost:8080/"
        },
        "id": "d323EMpAYJZg",
        "outputId": "dc7bebf1-b8ff-4806-c972-81d034979b80"
      },
      "source": [
        "yourlist[0:10:3]"
      ],
      "execution_count": 117,
      "outputs": [
        {
          "output_type": "execute_result",
          "data": {
            "text/plain": [
              "[1, 4, 7, 0]"
            ]
          },
          "metadata": {
            "tags": []
          },
          "execution_count": 117
        }
      ]
    },
    {
      "cell_type": "code",
      "metadata": {
        "colab": {
          "base_uri": "https://localhost:8080/"
        },
        "id": "MpDe6yZkYJZg",
        "outputId": "519a5e62-ca32-4100-a402-f129cd85e4eb"
      },
      "source": [
        "yourlist[-8:8]"
      ],
      "execution_count": 118,
      "outputs": [
        {
          "output_type": "execute_result",
          "data": {
            "text/plain": [
              "[3, 4, 5, 6, 7, 8]"
            ]
          },
          "metadata": {
            "tags": []
          },
          "execution_count": 118
        }
      ]
    },
    {
      "cell_type": "code",
      "metadata": {
        "colab": {
          "base_uri": "https://localhost:8080/"
        },
        "id": "7Z9C_YyfYJZg",
        "outputId": "34d9e5a1-98f7-4ec8-8943-4596315ca98d"
      },
      "source": [
        "yourlist[5:-9]"
      ],
      "execution_count": 119,
      "outputs": [
        {
          "output_type": "execute_result",
          "data": {
            "text/plain": [
              "[]"
            ]
          },
          "metadata": {
            "tags": []
          },
          "execution_count": 119
        }
      ]
    },
    {
      "cell_type": "code",
      "metadata": {
        "colab": {
          "base_uri": "https://localhost:8080/"
        },
        "id": "xDrVTLlCYJZg",
        "outputId": "492a36c0-ad2b-4e16-da20-d11f4df1d163"
      },
      "source": [
        "yourlist[5:-9:-1]"
      ],
      "execution_count": 120,
      "outputs": [
        {
          "output_type": "execute_result",
          "data": {
            "text/plain": [
              "[6, 5, 4, 3]"
            ]
          },
          "metadata": {
            "tags": []
          },
          "execution_count": 120
        }
      ]
    },
    {
      "cell_type": "code",
      "metadata": {
        "colab": {
          "base_uri": "https://localhost:8080/"
        },
        "id": "QFYKWA2XYJZh",
        "outputId": "49843c06-2a58-4db6-83a0-251ec66b17ee"
      },
      "source": [
        "#ReverseList Trick # 03\r\n",
        "yourlist[::-1]"
      ],
      "execution_count": 122,
      "outputs": [
        {
          "output_type": "execute_result",
          "data": {
            "text/plain": [
              "[0, 9, 8, 7, 6, 5, 4, 3, 2, 1]"
            ]
          },
          "metadata": {
            "tags": []
          },
          "execution_count": 122
        }
      ]
    },
    {
      "cell_type": "code",
      "metadata": {
        "id": "iXj9JmbHYJZh"
      },
      "source": [
        "#Working with 2d list\r\n",
        "list2d = [[[1,2,3,4,5],[6,7,8,0,0]]]"
      ],
      "execution_count": 127,
      "outputs": []
    },
    {
      "cell_type": "code",
      "metadata": {
        "colab": {
          "base_uri": "https://localhost:8080/"
        },
        "id": "X-HtkuPbYJZh",
        "outputId": "6f9a9dfb-e87f-408c-ca1b-fad78c5015a4"
      },
      "source": [
        "print(list2d)"
      ],
      "execution_count": 128,
      "outputs": [
        {
          "output_type": "stream",
          "text": [
            "[[[1, 2, 3, 4, 5], [6, 7, 8, 0, 0]]]\n"
          ],
          "name": "stdout"
        }
      ]
    },
    {
      "cell_type": "code",
      "metadata": {
        "id": "PdPzzctpYJZh"
      },
      "source": [
        "a= [1,2,3, [1,2,3], [3,5,7]]"
      ],
      "execution_count": 129,
      "outputs": []
    },
    {
      "cell_type": "code",
      "metadata": {
        "colab": {
          "base_uri": "https://localhost:8080/"
        },
        "id": "tCLl1kmmYJZh",
        "outputId": "c2561214-ebdf-4c54-9699-4a410302ae01"
      },
      "source": [
        "a"
      ],
      "execution_count": 130,
      "outputs": [
        {
          "output_type": "execute_result",
          "data": {
            "text/plain": [
              "[1, 2, 3, [1, 2, 3], [3, 5, 7]]"
            ]
          },
          "metadata": {
            "tags": []
          },
          "execution_count": 130
        }
      ]
    },
    {
      "cell_type": "code",
      "metadata": {
        "id": "wStG28SrYJZi"
      },
      "source": [
        ""
      ],
      "execution_count": null,
      "outputs": []
    }
  ]
}