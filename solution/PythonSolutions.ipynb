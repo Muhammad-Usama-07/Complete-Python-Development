{
  "cells": [
    {
      "cell_type": "markdown",
      "metadata": {
        "id": "view-in-github",
        "colab_type": "text"
      },
      "source": [
        "<a href=\"https://colab.research.google.com/github/Muhammad-Usama-07/Complete-Python-Development/blob/master/solution/PythonSolutions.ipynb\" target=\"_parent\"><img src=\"https://colab.research.google.com/assets/colab-badge.svg\" alt=\"Open In Colab\"/></a>"
      ]
    },
    {
      "cell_type": "markdown",
      "id": "95881b5f",
      "metadata": {
        "id": "95881b5f"
      },
      "source": [
        "# Get Mongodb data using Python "
      ]
    },
    {
      "cell_type": "code",
      "execution_count": null,
      "id": "9877ab26",
      "metadata": {
        "id": "9877ab26"
      },
      "outputs": [],
      "source": [
        "import pymongo\n",
        "from pymongo import MongoClient"
      ]
    },
    {
      "cell_type": "code",
      "execution_count": null,
      "id": "59ecfae0",
      "metadata": {
        "id": "59ecfae0"
      },
      "outputs": [],
      "source": [
        "client = MongoClient(host=\"mongodb://localhost:17017/\", port=17017,username='username', password='password')\n",
        "db = client['client_name']\n",
        "col = db['Collections']"
      ]
    },
    {
      "cell_type": "markdown",
      "source": [
        "# Add column with multiple rows in empty dictionary"
      ],
      "metadata": {
        "id": "A5t2byzuHUOU"
      },
      "id": "A5t2byzuHUOU"
    },
    {
      "cell_type": "code",
      "execution_count": null,
      "id": "f4d2ef3b",
      "metadata": {
        "colab": {
          "base_uri": "https://localhost:8080/"
        },
        "id": "f4d2ef3b",
        "outputId": "94251ff9-a75a-4b01-a58d-9a959698df73"
      },
      "outputs": [
        {
          "output_type": "execute_result",
          "data": {
            "text/plain": [
              "{'1': [0, 1, 2, 3, 4], '2': [0, 1, 2, 3, 4], '3': [0, 1, 2, 3, 4]}"
            ]
          },
          "metadata": {},
          "execution_count": 1
        }
      ],
      "source": [
        "a_dict = {}\n",
        "b = ['1', '2', '3']\n",
        "for j in b:\n",
        "    a_dict[j] = []\n",
        "    for i in range(0,5):\n",
        "        a_dict[j].append(i)\n",
        "a_dict\n"
      ]
    },
    {
      "cell_type": "markdown",
      "source": [
        "# Get duration of audio"
      ],
      "metadata": {
        "id": "QQO9Gr-tIHTH"
      },
      "id": "QQO9Gr-tIHTH"
    },
    {
      "cell_type": "code",
      "execution_count": null,
      "id": "e91f7d66",
      "metadata": {
        "id": "e91f7d66"
      },
      "outputs": [],
      "source": [
        "import librosa\n",
        "librosa.get_duration(filename='my.wav')"
      ]
    },
    {
      "cell_type": "markdown",
      "source": [
        "# If library/package not working in jupter notebook after installation of that package in virtual enviroment "
      ],
      "metadata": {
        "id": "MsIes0zbK4ZR"
      },
      "id": "MsIes0zbK4ZR"
    },
    {
      "cell_type": "code",
      "source": [
        "import sys\n",
        "!{sys.executable} -m pip install Package_Name"
      ],
      "metadata": {
        "id": "U_fBzz7QILDl"
      },
      "id": "U_fBzz7QILDl",
      "execution_count": null,
      "outputs": []
    },
    {
      "cell_type": "markdown",
      "source": [
        "# Get path of a method of python"
      ],
      "metadata": {
        "id": "XPq6Eu_DdFW5"
      },
      "id": "XPq6Eu_DdFW5"
    },
    {
      "cell_type": "code",
      "source": [
        "import os\n",
        "\n",
        "def fake_method():\n",
        "  pass\n",
        "print(os.path.abspath(inspect.getfile(fake_method)))"
      ],
      "metadata": {
        "id": "dfrbzSMVdJQA"
      },
      "id": "dfrbzSMVdJQA",
      "execution_count": null,
      "outputs": []
    },
    {
      "cell_type": "markdown",
      "source": [
        "# Make DataFrame from dictionary (assign same list to 3 columns using dictionary keys)"
      ],
      "metadata": {
        "id": "da7bzf7TxBKY"
      },
      "id": "da7bzf7TxBKY"
    },
    {
      "cell_type": "code",
      "source": [
        "dg = {'a': [], 'b': [], 'c': []}\n",
        "li = [1,2,3,4,5]\n",
        "for i in dg:\n",
        "    pth = []\n",
        "    count = 0\n",
        "    for j in li:\n",
        "        \n",
        "        dg[i].append(j)\n",
        "        pth.append(count)\n",
        "        if i == 'c' and count == 5:\n",
        "            dfff = pd.DataFrame(dg)\n",
        "dfff"
      ],
      "metadata": {
        "id": "MiL-izU1xD5g"
      },
      "id": "MiL-izU1xD5g",
      "execution_count": null,
      "outputs": []
    },
    {
      "cell_type": "markdown",
      "source": [
        "# Merge multiple DataFrames on the basis of specific column"
      ],
      "metadata": {
        "id": "9PYefytLywMy"
      },
      "id": "9PYefytLywMy"
    },
    {
      "cell_type": "code",
      "source": [
        "d1 = {'p': [1,2,3,4,5], 'a': [2,4,5,6,6]}\n",
        "d2 = {'p': [1,4,2,3,5], 'b': [3,6,7,4,5]}\n",
        "d3 = {'p': [5,2,4,3,1], 'c': [2,4,5,6,7]}\n",
        "df1 = pd.DataFrame(d1)\n",
        "df2 = pd.DataFrame(d2)\n",
        "df3 = pd.DataFrame(d3)\n",
        "df1.merge(df2,on=\"p\").merge(df3,on=\"p\")"
      ],
      "metadata": {
        "id": "YSBzfEtVyvGP"
      },
      "id": "YSBzfEtVyvGP",
      "execution_count": null,
      "outputs": []
    },
    {
      "cell_type": "markdown",
      "source": [
        "# Send data from mongodb to sql"
      ],
      "metadata": {
        "id": "8AgBVTBnAvNS"
      },
      "id": "8AgBVTBnAvNS"
    },
    {
      "cell_type": "code",
      "source": [
        "from pymongo import MongoClient\n",
        "from mysql.connector import (connection)\n",
        "import pandas as pd \n",
        "import json \n",
        "import warnings\n",
        "import time\n",
        "warnings.filterwarnings('ignore')\n",
        "\n",
        "client = MongoClient(\"Server Address\",\n",
        "                  username='username',\n",
        "                 password='Pass')\n",
        "database = client[\"clientname\"]\n",
        "collection = database[\"databasename\"]\n",
        "mg_cursor = collection.find({})\n",
        "\n",
        "cnx = connection.MySQLConnection(host= 'DataBase Server Address', user= 'username', password= 'Pass')\n",
        "sq_cursor = cnx.cursor()\n",
        "try:\n",
        "    for doc in mg_cursor[:50]:\n",
        "        print(f'************************************** Iteration No. {count}')\n",
        "        column1= str(doc['column1'])\n",
        "        column2 = str(doc['column2']), \n",
        "        column3 = doc['column3'], \n",
        "        column4 = doc['column4'],\n",
        "        query = '''insert into inbound_Calls.data_for_bi (campaign_id, number, created_at, updated_at, transferred) \n",
        "        values (%s, %s, %s, %s, %s);'''\n",
        "        sq_cursor.execute(query, (column1, column2[0], column3[0], column4[0], column5))\n",
        "        count +=1\n",
        "finally:\n",
        "    client.close()\n",
        "    cnx.commit()\n",
        "    cnx.close()"
      ],
      "metadata": {
        "id": "Bw5H_U96AtJw"
      },
      "id": "Bw5H_U96AtJw",
      "execution_count": null,
      "outputs": []
    },
    {
      "cell_type": "markdown",
      "source": [
        "# Change Background Color of Image"
      ],
      "metadata": {
        "id": "SIZRsb8NiG9X"
      },
      "id": "SIZRsb8NiG9X"
    },
    {
      "cell_type": "code",
      "source": [
        "import cv2\n",
        "import numpy as np\n",
        "\n",
        "from glob import glob\n",
        "imagess = glob('pages-to-jpg/*.jpg')\n",
        "k = 0\n",
        "for i, imgg in enumerate(imagess):\n",
        "    print('Converting File No: ', k)\n",
        "    m =  cv2.imread(imgg)\n",
        "    h,w,bpp = np.shape(m)\n",
        "\n",
        "    for py in range(0,h):\n",
        "        for px in range(0,w):\n",
        "    #can change the below logic of rgb according to requirements. In this \n",
        "    #white background is changed to #e8e8e8  corresponding to 232,232,232 \n",
        "    #intensity, red color of the image is retained.\n",
        "            if(m[py][px][0] >160 and m[py][px][1] >160 and m[py][px][2] >160):            \n",
        "                m[py][px][0]=168\n",
        "                m[py][px][1]=212\n",
        "                m[py][px][2]=185\n",
        "\n",
        "    x = imgg.split('-')[-1]\n",
        "    cv2.imwrite(f'images/{x}',m)\n",
        "    k +=1\n"
      ],
      "metadata": {
        "id": "a2Eg1YhPiDqh"
      },
      "id": "a2Eg1YhPiDqh",
      "execution_count": null,
      "outputs": []
    }
  ],
  "metadata": {
    "kernelspec": {
      "display_name": "Python 3 (ipykernel)",
      "language": "python",
      "name": "python3"
    },
    "language_info": {
      "codemirror_mode": {
        "name": "ipython",
        "version": 3
      },
      "file_extension": ".py",
      "mimetype": "text/x-python",
      "name": "python",
      "nbconvert_exporter": "python",
      "pygments_lexer": "ipython3",
      "version": "3.7.0"
    },
    "colab": {
      "provenance": [],
      "include_colab_link": true
    }
  },
  "nbformat": 4,
  "nbformat_minor": 5
}