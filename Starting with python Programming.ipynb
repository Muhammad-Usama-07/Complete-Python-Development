{
  "nbformat": 4,
  "nbformat_minor": 0,
  "metadata": {
    "kernelspec": {
      "display_name": "Python 3",
      "language": "python",
      "name": "python3"
    },
    "language_info": {
      "codemirror_mode": {
        "name": "ipython",
        "version": 3
      },
      "file_extension": ".py",
      "mimetype": "text/x-python",
      "name": "python",
      "nbconvert_exporter": "python",
      "pygments_lexer": "ipython3",
      "version": "3.7.3"
    },
    "colab": {
      "name": "Starting with python Programming.ipynb",
      "provenance": []
    }
  },
  "cells": [
    {
      "cell_type": "markdown",
      "metadata": {
        "id": "8VVvy6z_ogSs"
      },
      "source": [
        "# Print and its Functions"
      ]
    },
    {
      "cell_type": "code",
      "metadata": {
        "colab": {
          "base_uri": "https://localhost:8080/"
        },
        "id": "YtQSPzsCogS_",
        "outputId": "bdda9882-c487-4ab3-d25d-fa506857650f"
      },
      "source": [
        "print(\"Welcome python\")"
      ],
      "execution_count": 131,
      "outputs": [
        {
          "output_type": "stream",
          "text": [
            "Welcome python\n"
          ],
          "name": "stdout"
        }
      ]
    },
    {
      "cell_type": "markdown",
      "metadata": {
        "id": "viJGiN14ogTD"
      },
      "source": [
        "# print with end"
      ]
    },
    {
      "cell_type": "code",
      "metadata": {
        "colab": {
          "base_uri": "https://localhost:8080/"
        },
        "id": "AeigIjoRogTD",
        "outputId": "1f1b15c2-8f61-4c2a-847d-bbe874e7d749"
      },
      "source": [
        "print(\"Hello\", end = \" -  \")\n",
        "print(\"world\")"
      ],
      "execution_count": 132,
      "outputs": [
        {
          "output_type": "stream",
          "text": [
            "Hello -  world\n"
          ],
          "name": "stdout"
        }
      ]
    },
    {
      "cell_type": "code",
      "metadata": {
        "colab": {
          "base_uri": "https://localhost:8080/"
        },
        "id": "uPFX-Pv9ogTE",
        "outputId": "8aa43683-514c-4abe-ecb2-534de749e580"
      },
      "source": [
        "print(\"Hello\", end = \" ### \")\n",
        "print(\"world\")"
      ],
      "execution_count": 133,
      "outputs": [
        {
          "output_type": "stream",
          "text": [
            "Hello ### world\n"
          ],
          "name": "stdout"
        }
      ]
    },
    {
      "cell_type": "code",
      "metadata": {
        "colab": {
          "base_uri": "https://localhost:8080/"
        },
        "id": "mO_8jEFGogTF",
        "outputId": "168e6a58-5922-400a-8d5c-3a45f94ea7b1"
      },
      "source": [
        "print(\"Hello\", end = \"\\n\")\n",
        "print(\"world\")"
      ],
      "execution_count": 134,
      "outputs": [
        {
          "output_type": "stream",
          "text": [
            "Hello\n",
            "world\n"
          ],
          "name": "stdout"
        }
      ]
    },
    {
      "cell_type": "markdown",
      "metadata": {
        "id": "Em5OoJQjogTG"
      },
      "source": [
        "# print two string togather"
      ]
    },
    {
      "cell_type": "code",
      "metadata": {
        "colab": {
          "base_uri": "https://localhost:8080/"
        },
        "id": "KZMwyeAaogTH",
        "outputId": "376bb396-190b-45d0-cc89-b7b7a1fa6cfa"
      },
      "source": [
        "print('first String','Second String')"
      ],
      "execution_count": 135,
      "outputs": [
        {
          "output_type": "stream",
          "text": [
            "first String Second String\n"
          ],
          "name": "stdout"
        }
      ]
    },
    {
      "cell_type": "code",
      "metadata": {
        "colab": {
          "base_uri": "https://localhost:8080/"
        },
        "id": "R131cnqBogTI",
        "outputId": "a0a3dc12-27ac-4a4a-f24d-dde4b385438b"
      },
      "source": [
        "print('first String'+'Second String')"
      ],
      "execution_count": 136,
      "outputs": [
        {
          "output_type": "stream",
          "text": [
            "first StringSecond String\n"
          ],
          "name": "stdout"
        }
      ]
    },
    {
      "cell_type": "markdown",
      "metadata": {
        "id": "WQS7CCDPogTI"
      },
      "source": [
        "# print wtith sep"
      ]
    },
    {
      "cell_type": "code",
      "metadata": {
        "colab": {
          "base_uri": "https://localhost:8080/"
        },
        "id": "Fc6nTHJ5ogTJ",
        "outputId": "473ce7c9-f0ce-4cdc-f4d6-e4ea88405b56"
      },
      "source": [
        "print(\"hello\",\"word\",sep = '....')"
      ],
      "execution_count": 137,
      "outputs": [
        {
          "output_type": "stream",
          "text": [
            "hello....word\n"
          ],
          "name": "stdout"
        }
      ]
    },
    {
      "cell_type": "markdown",
      "metadata": {
        "id": "Wdhr4G3lwm_9"
      },
      "source": [
        "# Variables"
      ]
    },
    {
      "cell_type": "code",
      "metadata": {
        "id": "eCy6WkxpogTK"
      },
      "source": [
        "# declearing a variable and passing by value\n",
        "var1 = \"Hello\""
      ],
      "execution_count": 245,
      "outputs": []
    },
    {
      "cell_type": "code",
      "metadata": {
        "colab": {
          "base_uri": "https://localhost:8080/",
          "height": 35
        },
        "id": "_WC61wxsogTL",
        "outputId": "654459d7-cbfc-4047-f703-58fd52dd9b74"
      },
      "source": [
        "var1"
      ],
      "execution_count": 246,
      "outputs": [
        {
          "output_type": "execute_result",
          "data": {
            "application/vnd.google.colaboratory.intrinsic+json": {
              "type": "string"
            },
            "text/plain": [
              "'Hello'"
            ]
          },
          "metadata": {
            "tags": []
          },
          "execution_count": 246
        }
      ]
    },
    {
      "cell_type": "code",
      "metadata": {
        "colab": {
          "base_uri": "https://localhost:8080/"
        },
        "id": "eX0_ExdKsEvO",
        "outputId": "c57db50b-438b-434d-d21f-f6473ddc103b"
      },
      "source": [
        "varr2 = var1 # passing by reference\r\n",
        "print(varr2)"
      ],
      "execution_count": 248,
      "outputs": [
        {
          "output_type": "stream",
          "text": [
            "Hello\n"
          ],
          "name": "stdout"
        }
      ]
    },
    {
      "cell_type": "code",
      "metadata": {
        "colab": {
          "base_uri": "https://localhost:8080/"
        },
        "id": "8DJm8fXmogTM",
        "outputId": "2371629e-2868-47ef-bc5e-a9fad11be954"
      },
      "source": [
        "# Another way\n",
        "print(var1)"
      ],
      "execution_count": 140,
      "outputs": [
        {
          "output_type": "stream",
          "text": [
            "Hello\n"
          ],
          "name": "stdout"
        }
      ]
    },
    {
      "cell_type": "code",
      "metadata": {
        "id": "8yYvXcsQogTN"
      },
      "source": [
        "# assigning integer value to the variable.\n",
        "var2 = 123"
      ],
      "execution_count": 141,
      "outputs": []
    },
    {
      "cell_type": "code",
      "metadata": {
        "colab": {
          "base_uri": "https://localhost:8080/"
        },
        "id": "L-Aj8HTHogTN",
        "outputId": "b0898363-42a2-45b1-dbe8-ed97524231e3"
      },
      "source": [
        "var2"
      ],
      "execution_count": 142,
      "outputs": [
        {
          "output_type": "execute_result",
          "data": {
            "text/plain": [
              "123"
            ]
          },
          "metadata": {
            "tags": []
          },
          "execution_count": 142
        }
      ]
    },
    {
      "cell_type": "code",
      "metadata": {
        "colab": {
          "base_uri": "https://localhost:8080/"
        },
        "id": "RhUBlDQOogTO",
        "outputId": "5629fb72-1304-4eb5-92ad-25471e81b2ef"
      },
      "source": [
        "#floating variable\n",
        "var3 = 1.234455454\n",
        "var3"
      ],
      "execution_count": 143,
      "outputs": [
        {
          "output_type": "execute_result",
          "data": {
            "text/plain": [
              "1.234455454"
            ]
          },
          "metadata": {
            "tags": []
          },
          "execution_count": 143
        }
      ]
    },
    {
      "cell_type": "code",
      "metadata": {
        "colab": {
          "base_uri": "https://localhost:8080/"
        },
        "id": "ImhqwNbLogTP",
        "outputId": "d20d55cc-36f5-42cd-daad-35916ded3fff"
      },
      "source": [
        "# Boolean Variable\n",
        "var4 = True\n",
        "var5 = False\n",
        "print(var4,var5)"
      ],
      "execution_count": 144,
      "outputs": [
        {
          "output_type": "stream",
          "text": [
            "True False\n"
          ],
          "name": "stdout"
        }
      ]
    },
    {
      "cell_type": "code",
      "metadata": {
        "colab": {
          "base_uri": "https://localhost:8080/",
          "height": 35
        },
        "id": "IU2DOnHLogTP",
        "outputId": "a39cf67b-8b91-492e-f7e6-64cc0e64dc44"
      },
      "source": [
        "# assigning String value to the variable.\n",
        "var6 = \"this is a string\"\n",
        "var6"
      ],
      "execution_count": 240,
      "outputs": [
        {
          "output_type": "execute_result",
          "data": {
            "application/vnd.google.colaboratory.intrinsic+json": {
              "type": "string"
            },
            "text/plain": [
              "'this is a string'"
            ]
          },
          "metadata": {
            "tags": []
          },
          "execution_count": 240
        }
      ]
    },
    {
      "cell_type": "code",
      "metadata": {
        "colab": {
          "base_uri": "https://localhost:8080/"
        },
        "id": "KO3CWYD0rIbA",
        "outputId": "ab54be0f-13dc-43c7-d88d-4dea30fc7d81"
      },
      "source": [
        "id(var6)"
      ],
      "execution_count": 241,
      "outputs": [
        {
          "output_type": "execute_result",
          "data": {
            "text/plain": [
              "139988913409744"
            ]
          },
          "metadata": {
            "tags": []
          },
          "execution_count": 241
        }
      ]
    },
    {
      "cell_type": "code",
      "metadata": {
        "colab": {
          "base_uri": "https://localhost:8080/",
          "height": 35
        },
        "id": "JHO0b0aSogTQ",
        "outputId": "a44c249a-6285-4ced-c1e5-001ba86fe435"
      },
      "source": [
        "# Concatinating two string with no single character space b/w them\n",
        "var7 = \"with second string\"\n",
        "var6+var7"
      ],
      "execution_count": 146,
      "outputs": [
        {
          "output_type": "execute_result",
          "data": {
            "application/vnd.google.colaboratory.intrinsic+json": {
              "type": "string"
            },
            "text/plain": [
              "'this is a stringwith second string'"
            ]
          },
          "metadata": {
            "tags": []
          },
          "execution_count": 146
        }
      ]
    },
    {
      "cell_type": "code",
      "metadata": {
        "colab": {
          "base_uri": "https://localhost:8080/"
        },
        "id": "JhbBZI3-ogTQ",
        "outputId": "d06d95ac-55d5-4117-ef6f-7a18a226302e"
      },
      "source": [
        "'''When replacing with comma b/w them\n",
        "it will create single character space b/w the string'''\n",
        "print(var6,var7)"
      ],
      "execution_count": 147,
      "outputs": [
        {
          "output_type": "stream",
          "text": [
            "this is a string with second string\n"
          ],
          "name": "stdout"
        }
      ]
    },
    {
      "cell_type": "code",
      "metadata": {
        "colab": {
          "base_uri": "https://localhost:8080/"
        },
        "id": "R0Xo1c1BogTQ",
        "outputId": "dff8d625-e873-4b21-ead3-b418ff19246f"
      },
      "source": [
        "# Finding type data types of variale.\n",
        "type(var1)\n"
      ],
      "execution_count": 148,
      "outputs": [
        {
          "output_type": "execute_result",
          "data": {
            "text/plain": [
              "str"
            ]
          },
          "metadata": {
            "tags": []
          },
          "execution_count": 148
        }
      ]
    },
    {
      "cell_type": "code",
      "metadata": {
        "colab": {
          "base_uri": "https://localhost:8080/"
        },
        "id": "UVOSDKDtogTR",
        "outputId": "19e5479f-f4b0-4047-8d42-81f8d2f20231"
      },
      "source": [
        "type(var2)"
      ],
      "execution_count": 149,
      "outputs": [
        {
          "output_type": "execute_result",
          "data": {
            "text/plain": [
              "int"
            ]
          },
          "metadata": {
            "tags": []
          },
          "execution_count": 149
        }
      ]
    },
    {
      "cell_type": "code",
      "metadata": {
        "colab": {
          "base_uri": "https://localhost:8080/"
        },
        "id": "6ThjfTn7ogTR",
        "outputId": "8a9a83b9-c362-4c50-cc05-86e1717bfe5a"
      },
      "source": [
        "type(var3)"
      ],
      "execution_count": 150,
      "outputs": [
        {
          "output_type": "execute_result",
          "data": {
            "text/plain": [
              "float"
            ]
          },
          "metadata": {
            "tags": []
          },
          "execution_count": 150
        }
      ]
    },
    {
      "cell_type": "code",
      "metadata": {
        "colab": {
          "base_uri": "https://localhost:8080/"
        },
        "id": "IvNLCdjHogTR",
        "outputId": "5dea009f-b1b1-4baa-8946-4b20f97ceae0"
      },
      "source": [
        "type(var4)"
      ],
      "execution_count": 151,
      "outputs": [
        {
          "output_type": "execute_result",
          "data": {
            "text/plain": [
              "bool"
            ]
          },
          "metadata": {
            "tags": []
          },
          "execution_count": 151
        }
      ]
    },
    {
      "cell_type": "code",
      "metadata": {
        "colab": {
          "base_uri": "https://localhost:8080/"
        },
        "id": "L828JxAEogTR",
        "outputId": "053d572a-8834-49d4-edb6-42d25e4851f5"
      },
      "source": [
        "type(var5)"
      ],
      "execution_count": 152,
      "outputs": [
        {
          "output_type": "execute_result",
          "data": {
            "text/plain": [
              "bool"
            ]
          },
          "metadata": {
            "tags": []
          },
          "execution_count": 152
        }
      ]
    },
    {
      "cell_type": "code",
      "metadata": {
        "colab": {
          "base_uri": "https://localhost:8080/"
        },
        "id": "QtBNNa2bogTS",
        "outputId": "2c96d08b-6c3a-450d-dd9a-1bc2918f4f80"
      },
      "source": [
        "type(var6)"
      ],
      "execution_count": 242,
      "outputs": [
        {
          "output_type": "execute_result",
          "data": {
            "text/plain": [
              "str"
            ]
          },
          "metadata": {
            "tags": []
          },
          "execution_count": 242
        }
      ]
    },
    {
      "cell_type": "code",
      "metadata": {
        "colab": {
          "base_uri": "https://localhost:8080/"
        },
        "id": "ctjT2k5irfFY",
        "outputId": "3fd150cc-e588-45df-bf35-3271bd0ca66c"
      },
      "source": [
        "#finding class of varriable type \r\n",
        "print(type(var6))"
      ],
      "execution_count": 249,
      "outputs": [
        {
          "output_type": "stream",
          "text": [
            "<class 'str'>\n"
          ],
          "name": "stdout"
        }
      ]
    },
    {
      "cell_type": "code",
      "metadata": {
        "colab": {
          "base_uri": "https://localhost:8080/"
        },
        "id": "EcoVnv1Msf-X",
        "outputId": "2359892b-c4d9-4821-855a-8c019c12a10b"
      },
      "source": [
        "#checking variable equality\r\n",
        "id(var1)==id(varr2)"
      ],
      "execution_count": 252,
      "outputs": [
        {
          "output_type": "execute_result",
          "data": {
            "text/plain": [
              "True"
            ]
          },
          "metadata": {
            "tags": []
          },
          "execution_count": 252
        }
      ]
    },
    {
      "cell_type": "code",
      "metadata": {
        "colab": {
          "base_uri": "https://localhost:8080/"
        },
        "id": "2l9p4nqJs9GV",
        "outputId": "c2fba602-5377-4011-ef49-75dd8857bf8c"
      },
      "source": [
        "# finding index number in the string\r\n",
        "varrr3 = \"Pakistan\"\r\n",
        "varrr3.find('s') "
      ],
      "execution_count": 263,
      "outputs": [
        {
          "output_type": "execute_result",
          "data": {
            "text/plain": [
              "4"
            ]
          },
          "metadata": {
            "tags": []
          },
          "execution_count": 263
        }
      ]
    },
    {
      "cell_type": "code",
      "metadata": {
        "colab": {
          "base_uri": "https://localhost:8080/"
        },
        "id": "X-YRS6ONt42W",
        "outputId": "4e3d5fd2-ff24-4700-a53f-e6485599b54c"
      },
      "source": [
        "# finding lenght of variable\r\n",
        "len(varr3)"
      ],
      "execution_count": 265,
      "outputs": [
        {
          "output_type": "execute_result",
          "data": {
            "text/plain": [
              "8"
            ]
          },
          "metadata": {
            "tags": []
          },
          "execution_count": 265
        }
      ]
    },
    {
      "cell_type": "code",
      "metadata": {
        "colab": {
          "base_uri": "https://localhost:8080/"
        },
        "id": "ry2wKfAnuJ1E",
        "outputId": "cb5c4a18-2900-420b-f06a-3d883d603c7f"
      },
      "source": [
        "# Concatinating two String\r\n",
        "name = \"pakistan\"\r\n",
        "dobyear = 1947\r\n",
        "\r\n",
        "print(\"my name is \"+name+\" and my birth year is \"+str(dobyear))"
      ],
      "execution_count": 269,
      "outputs": [
        {
          "output_type": "stream",
          "text": [
            "my name is pakistan and my birth year is 1947\n"
          ],
          "name": "stdout"
        }
      ]
    },
    {
      "cell_type": "code",
      "metadata": {
        "id": "SAE9OZc8vS_l"
      },
      "source": [
        ""
      ],
      "execution_count": 270,
      "outputs": []
    },
    {
      "cell_type": "markdown",
      "metadata": {
        "id": "vbXOZLSHogTS"
      },
      "source": [
        "# Arrays"
      ]
    },
    {
      "cell_type": "code",
      "metadata": {
        "colab": {
          "base_uri": "https://localhost:8080/"
        },
        "id": "ydatz4tBogTS",
        "outputId": "8b8b5dec-735c-46b8-c83f-871f327c92dc"
      },
      "source": [
        "dishes = [\"Biryani\", \"Qourma\", \"meetha\"]\n",
        "dishes\n",
        "\n",
        "# dishes is the array variable and inside the bracket is its elements."
      ],
      "execution_count": 154,
      "outputs": [
        {
          "output_type": "execute_result",
          "data": {
            "text/plain": [
              "['Biryani', 'Qourma', 'meetha']"
            ]
          },
          "metadata": {
            "tags": []
          },
          "execution_count": 154
        }
      ]
    },
    {
      "cell_type": "code",
      "metadata": {
        "id": "sdzWNwq-ogTS"
      },
      "source": [
        "# Replacing a Value of element in an array.\n",
        "dishes[0] = \"Qabab\""
      ],
      "execution_count": 155,
      "outputs": []
    },
    {
      "cell_type": "code",
      "metadata": {
        "colab": {
          "base_uri": "https://localhost:8080/",
          "height": 35
        },
        "id": "DHSueRBSogTS",
        "outputId": "e2904c00-833d-44d5-9303-4282aedea7cc"
      },
      "source": [
        "# calling a single element. \n",
        "x = dishes[0]\n",
        "x"
      ],
      "execution_count": 156,
      "outputs": [
        {
          "output_type": "execute_result",
          "data": {
            "application/vnd.google.colaboratory.intrinsic+json": {
              "type": "string"
            },
            "text/plain": [
              "'Qabab'"
            ]
          },
          "metadata": {
            "tags": []
          },
          "execution_count": 156
        }
      ]
    },
    {
      "cell_type": "code",
      "metadata": {
        "colab": {
          "base_uri": "https://localhost:8080/"
        },
        "id": "K8qpKRx0ogTT",
        "outputId": "a1575d4d-9053-494e-c8d5-311fb2e9a106"
      },
      "source": [
        "# Finding lenght of an array.\n",
        "len(dishes)"
      ],
      "execution_count": 157,
      "outputs": [
        {
          "output_type": "execute_result",
          "data": {
            "text/plain": [
              "3"
            ]
          },
          "metadata": {
            "tags": []
          },
          "execution_count": 157
        }
      ]
    },
    {
      "cell_type": "code",
      "metadata": {
        "colab": {
          "base_uri": "https://localhost:8080/"
        },
        "id": "VUJ6VxylogTT",
        "outputId": "14006534-f1be-4200-cf50-b6cffc097c1f"
      },
      "source": [
        "# Adding a new element in an array list.\n",
        "dishes.append(\"kheer\")\n",
        "dishes"
      ],
      "execution_count": 158,
      "outputs": [
        {
          "output_type": "execute_result",
          "data": {
            "text/plain": [
              "['Qabab', 'Qourma', 'meetha', 'kheer']"
            ]
          },
          "metadata": {
            "tags": []
          },
          "execution_count": 158
        }
      ]
    },
    {
      "cell_type": "code",
      "metadata": {
        "colab": {
          "base_uri": "https://localhost:8080/"
        },
        "id": "_GNA-yJCogTT",
        "outputId": "c8f150c4-5144-45f3-c1c1-ffedcb37d98f"
      },
      "source": [
        "# Deleting an element in an array by using index number.\n",
        "dishes.pop(2)\n",
        "dishes"
      ],
      "execution_count": 159,
      "outputs": [
        {
          "output_type": "execute_result",
          "data": {
            "text/plain": [
              "['Qabab', 'Qourma', 'kheer']"
            ]
          },
          "metadata": {
            "tags": []
          },
          "execution_count": 159
        }
      ]
    },
    {
      "cell_type": "code",
      "metadata": {
        "colab": {
          "base_uri": "https://localhost:8080/"
        },
        "id": "ZTCB8xOFogTT",
        "outputId": "c3c465b2-2ad3-4bb0-8a65-daa8f599e9b3"
      },
      "source": [
        "# Deleting an element in an array by using element name.\n",
        "dishes.remove(\"kheer\")\n",
        "dishes"
      ],
      "execution_count": 160,
      "outputs": [
        {
          "output_type": "execute_result",
          "data": {
            "text/plain": [
              "['Qabab', 'Qourma']"
            ]
          },
          "metadata": {
            "tags": []
          },
          "execution_count": 160
        }
      ]
    },
    {
      "cell_type": "code",
      "metadata": {
        "colab": {
          "base_uri": "https://localhost:8080/"
        },
        "id": "hrtODQgsogTU",
        "outputId": "b0971fe1-7d6d-41d3-a3f3-56df2eefe9b3"
      },
      "source": [
        "dishes"
      ],
      "execution_count": 161,
      "outputs": [
        {
          "output_type": "execute_result",
          "data": {
            "text/plain": [
              "['Qabab', 'Qourma']"
            ]
          },
          "metadata": {
            "tags": []
          },
          "execution_count": 161
        }
      ]
    },
    {
      "cell_type": "code",
      "metadata": {
        "colab": {
          "base_uri": "https://localhost:8080/"
        },
        "id": "Qql9gsSgogTU",
        "outputId": "1ca8bc65-49ac-4661-8715-fddc048fd317"
      },
      "source": [
        "# Making new list by copying element form the old list.\n",
        "x = dishes.copy()\n",
        "x"
      ],
      "execution_count": 162,
      "outputs": [
        {
          "output_type": "execute_result",
          "data": {
            "text/plain": [
              "['Qabab', 'Qourma']"
            ]
          },
          "metadata": {
            "tags": []
          },
          "execution_count": 162
        }
      ]
    },
    {
      "cell_type": "code",
      "metadata": {
        "id": "twW9-Wa3ogTU"
      },
      "source": [
        "# Clear all element from of the list.\n",
        "x.clear()"
      ],
      "execution_count": 163,
      "outputs": []
    },
    {
      "cell_type": "code",
      "metadata": {
        "colab": {
          "base_uri": "https://localhost:8080/"
        },
        "id": "Q0iaDB6jogTU",
        "outputId": "70f82f2b-7f89-4412-b4b9-e204e4443ffd"
      },
      "source": [
        "x"
      ],
      "execution_count": 164,
      "outputs": [
        {
          "output_type": "execute_result",
          "data": {
            "text/plain": [
              "[]"
            ]
          },
          "metadata": {
            "tags": []
          },
          "execution_count": 164
        }
      ]
    },
    {
      "cell_type": "code",
      "metadata": {
        "colab": {
          "base_uri": "https://localhost:8080/"
        },
        "id": "HQbjwo7BogTU",
        "outputId": "81067bbc-15a6-46b6-f1dd-d8812c6f4152"
      },
      "source": [
        "int_list = (1,2,3,4)\n",
        "int_list"
      ],
      "execution_count": 165,
      "outputs": [
        {
          "output_type": "execute_result",
          "data": {
            "text/plain": [
              "(1, 2, 3, 4)"
            ]
          },
          "metadata": {
            "tags": []
          },
          "execution_count": 165
        }
      ]
    },
    {
      "cell_type": "code",
      "metadata": {
        "id": "0dtmyOhGogTV"
      },
      "source": [
        "# Adding new list to the old list.\n",
        "dishes.extend(int_list)"
      ],
      "execution_count": 166,
      "outputs": []
    },
    {
      "cell_type": "code",
      "metadata": {
        "colab": {
          "base_uri": "https://localhost:8080/"
        },
        "id": "8W0iw_iEogTV",
        "outputId": "95a7d23b-2b61-4963-8a43-b83d17cd9f8d"
      },
      "source": [
        "dishes"
      ],
      "execution_count": 167,
      "outputs": [
        {
          "output_type": "execute_result",
          "data": {
            "text/plain": [
              "['Qabab', 'Qourma', 1, 2, 3, 4]"
            ]
          },
          "metadata": {
            "tags": []
          },
          "execution_count": 167
        }
      ]
    },
    {
      "cell_type": "code",
      "metadata": {
        "id": "FUP8FqUuogTV"
      },
      "source": [
        "# Adding a new element into the list with specific index.\n",
        "dishes.insert(1,\"Chicken biryani\")"
      ],
      "execution_count": 168,
      "outputs": []
    },
    {
      "cell_type": "code",
      "metadata": {
        "colab": {
          "base_uri": "https://localhost:8080/"
        },
        "id": "livCSH_QogTV",
        "outputId": "f73bfd4a-9b61-4cf3-b36f-f97e0d10e52f"
      },
      "source": [
        "dishes"
      ],
      "execution_count": 169,
      "outputs": [
        {
          "output_type": "execute_result",
          "data": {
            "text/plain": [
              "['Qabab', 'Chicken biryani', 'Qourma', 1, 2, 3, 4]"
            ]
          },
          "metadata": {
            "tags": []
          },
          "execution_count": 169
        }
      ]
    },
    {
      "cell_type": "code",
      "metadata": {
        "id": "WGP5_tlwogTV"
      },
      "source": [
        "# Reversing a list\n",
        "dishes.reverse()"
      ],
      "execution_count": 170,
      "outputs": []
    },
    {
      "cell_type": "code",
      "metadata": {
        "colab": {
          "base_uri": "https://localhost:8080/"
        },
        "id": "-TvtkPTbogTV",
        "outputId": "f16ef28b-6af0-4f87-e133-124be9cfdeed"
      },
      "source": [
        "dishes"
      ],
      "execution_count": 171,
      "outputs": [
        {
          "output_type": "execute_result",
          "data": {
            "text/plain": [
              "[4, 3, 2, 1, 'Qourma', 'Chicken biryani', 'Qabab']"
            ]
          },
          "metadata": {
            "tags": []
          },
          "execution_count": 171
        }
      ]
    },
    {
      "cell_type": "code",
      "metadata": {
        "colab": {
          "base_uri": "https://localhost:8080/"
        },
        "id": "WiLV1hecogTW",
        "outputId": "5f9eacd1-39ef-4b15-9f67-3dc353254359"
      },
      "source": [
        "# Another way of removing element.\n",
        "del dishes[0]\n",
        "dishes"
      ],
      "execution_count": 172,
      "outputs": [
        {
          "output_type": "execute_result",
          "data": {
            "text/plain": [
              "[3, 2, 1, 'Qourma', 'Chicken biryani', 'Qabab']"
            ]
          },
          "metadata": {
            "tags": []
          },
          "execution_count": 172
        }
      ]
    },
    {
      "cell_type": "code",
      "metadata": {
        "colab": {
          "base_uri": "https://localhost:8080/"
        },
        "id": "LDJaCIOlogTW",
        "outputId": "026f7c90-a637-4cdd-d26f-92d362091fa2"
      },
      "source": [
        "# Way of joining two list.\n",
        "list2 = [1,2,3,4]\n",
        "list3 = list2 + dishes\n",
        "print(list3)"
      ],
      "execution_count": 239,
      "outputs": [
        {
          "output_type": "stream",
          "text": [
            "[1, 2, 3, 4, 3, 2, 1, 'Qourma', 'Chicken biryani', 'Qabab']\n"
          ],
          "name": "stdout"
        }
      ]
    },
    {
      "cell_type": "code",
      "metadata": {
        "id": "JL51tXqEqp7R"
      },
      "source": [
        ""
      ],
      "execution_count": null,
      "outputs": []
    },
    {
      "cell_type": "markdown",
      "metadata": {
        "id": "mZgJtBufogTW"
      },
      "source": [
        "# Tuples"
      ]
    },
    {
      "cell_type": "markdown",
      "metadata": {
        "id": "ggM1BnaqogTW"
      },
      "source": [
        ""
      ]
    },
    {
      "cell_type": "code",
      "metadata": {
        "colab": {
          "base_uri": "https://localhost:8080/"
        },
        "id": "Cugmuw1togTW",
        "outputId": "881acf4c-58cf-4de9-b266-d0fecaeffceb"
      },
      "source": [
        "tuple1 = (1,2,3)\n",
        "print(tuple1)"
      ],
      "execution_count": 174,
      "outputs": [
        {
          "output_type": "stream",
          "text": [
            "(1, 2, 3)\n"
          ],
          "name": "stdout"
        }
      ]
    },
    {
      "cell_type": "code",
      "metadata": {
        "colab": {
          "base_uri": "https://localhost:8080/"
        },
        "id": "Fi8ihjPdogTX",
        "outputId": "9148efd5-10d1-4c62-d41c-679ba717e51a"
      },
      "source": [
        "tuple2 = (\"A\",\"B\",\"C\")\n",
        "tuple2"
      ],
      "execution_count": 175,
      "outputs": [
        {
          "output_type": "execute_result",
          "data": {
            "text/plain": [
              "('A', 'B', 'C')"
            ]
          },
          "metadata": {
            "tags": []
          },
          "execution_count": 175
        }
      ]
    },
    {
      "cell_type": "markdown",
      "metadata": {
        "id": "kY8f4TqxogTX"
      },
      "source": [
        "## Set\n",
        "A set is a collection which is unordered and unindexed"
      ]
    },
    {
      "cell_type": "code",
      "metadata": {
        "colab": {
          "base_uri": "https://localhost:8080/"
        },
        "id": "Ar4GqFaaogTX",
        "outputId": "771310e9-d208-471c-ee86-f02a54e66236"
      },
      "source": [
        "varset = {\"how\", \"are\", \"you\"}\n",
        "print(varset)"
      ],
      "execution_count": 176,
      "outputs": [
        {
          "output_type": "stream",
          "text": [
            "{'are', 'how', 'you'}\n"
          ],
          "name": "stdout"
        }
      ]
    },
    {
      "cell_type": "code",
      "metadata": {
        "colab": {
          "base_uri": "https://localhost:8080/"
        },
        "id": "hm9vBqYvogTX",
        "outputId": "373c89d3-d490-4c5b-d4b7-bc40181a5a06"
      },
      "source": [
        "# Checking condition.\n",
        "print(\"are\" in  varset)"
      ],
      "execution_count": 177,
      "outputs": [
        {
          "output_type": "stream",
          "text": [
            "True\n"
          ],
          "name": "stdout"
        }
      ]
    },
    {
      "cell_type": "code",
      "metadata": {
        "id": "2aHJM6c2ogTX"
      },
      "source": [
        "# Adding an item in the set.\n",
        "\n",
        "varset.add(\"world\")"
      ],
      "execution_count": 178,
      "outputs": []
    },
    {
      "cell_type": "code",
      "metadata": {
        "colab": {
          "base_uri": "https://localhost:8080/"
        },
        "id": "nL-JxjL3ogTY",
        "outputId": "fd16cc67-9100-4f9d-9442-b420ee2768a5"
      },
      "source": [
        "varset"
      ],
      "execution_count": 179,
      "outputs": [
        {
          "output_type": "execute_result",
          "data": {
            "text/plain": [
              "{'are', 'how', 'world', 'you'}"
            ]
          },
          "metadata": {
            "tags": []
          },
          "execution_count": 179
        }
      ]
    },
    {
      "cell_type": "code",
      "metadata": {
        "colab": {
          "base_uri": "https://localhost:8080/"
        },
        "id": "LNYMiZL0ogTY",
        "outputId": "a6d9fa49-cd26-4689-ff0f-549e369672d9"
      },
      "source": [
        "# Add multiple items to a set\n",
        "\n",
        "varset.update([\"I\",\"am\",\"fine\"])\n",
        "varset"
      ],
      "execution_count": 180,
      "outputs": [
        {
          "output_type": "execute_result",
          "data": {
            "text/plain": [
              "{'I', 'am', 'are', 'fine', 'how', 'world', 'you'}"
            ]
          },
          "metadata": {
            "tags": []
          },
          "execution_count": 180
        }
      ]
    },
    {
      "cell_type": "code",
      "metadata": {
        "colab": {
          "base_uri": "https://localhost:8080/",
          "height": 0
        },
        "id": "cBnZL7HWogTY",
        "outputId": "93150e77-bf42-4567-d2f2-6de855675a5b"
      },
      "source": [
        "# Removing item in the set.\n",
        "\"\"\"varset.remove(\"are\")\n",
        "varset\"\"\"\n",
        "# set does'nt support remove function."
      ],
      "execution_count": 181,
      "outputs": [
        {
          "output_type": "execute_result",
          "data": {
            "application/vnd.google.colaboratory.intrinsic+json": {
              "type": "string"
            },
            "text/plain": [
              "'varset.remove(\"are\")\\nvarset'"
            ]
          },
          "metadata": {
            "tags": []
          },
          "execution_count": 181
        }
      ]
    },
    {
      "cell_type": "code",
      "metadata": {
        "colab": {
          "base_uri": "https://localhost:8080/"
        },
        "id": "q6hDYyMhogTY",
        "outputId": "470b2810-b32a-4246-bfdc-1d3db2d0a884"
      },
      "source": [
        "varset.discard(\"are\")\n",
        "varset"
      ],
      "execution_count": 182,
      "outputs": [
        {
          "output_type": "execute_result",
          "data": {
            "text/plain": [
              "{'I', 'am', 'fine', 'how', 'world', 'you'}"
            ]
          },
          "metadata": {
            "tags": []
          },
          "execution_count": 182
        }
      ]
    },
    {
      "cell_type": "markdown",
      "metadata": {
        "id": "5G1hzFrDogTY"
      },
      "source": [
        "# Dictionary\n",
        "A dictionary is a collection which is unordered, changeable and indexed.\n",
        "In Python dictionaries are written with curly brackets, and they have keys and values."
      ]
    },
    {
      "cell_type": "code",
      "metadata": {
        "colab": {
          "base_uri": "https://localhost:8080/"
        },
        "id": "LLHMlnzBogTZ",
        "outputId": "c49f9dac-d115-4fd1-d11a-e3c7024a527b"
      },
      "source": [
        "dict1 = {\"key\": \"Locker\", \"fruit\":\"apple\", \"mango\": \"Chausa\"}\n",
        "dict1"
      ],
      "execution_count": 183,
      "outputs": [
        {
          "output_type": "execute_result",
          "data": {
            "text/plain": [
              "{'fruit': 'apple', 'key': 'Locker', 'mango': 'Chausa'}"
            ]
          },
          "metadata": {
            "tags": []
          },
          "execution_count": 183
        }
      ]
    },
    {
      "cell_type": "code",
      "metadata": {
        "colab": {
          "base_uri": "https://localhost:8080/",
          "height": 0
        },
        "id": "eYpIGL8togTZ",
        "outputId": "25a27468-a5f4-44d4-c205-995f047209ed"
      },
      "source": [
        "x = dict1[\"key\"]\n",
        "x"
      ],
      "execution_count": 184,
      "outputs": [
        {
          "output_type": "execute_result",
          "data": {
            "application/vnd.google.colaboratory.intrinsic+json": {
              "type": "string"
            },
            "text/plain": [
              "'Locker'"
            ]
          },
          "metadata": {
            "tags": []
          },
          "execution_count": 184
        }
      ]
    },
    {
      "cell_type": "code",
      "metadata": {
        "colab": {
          "base_uri": "https://localhost:8080/",
          "height": 0
        },
        "id": "CWjGJsfcogTZ",
        "outputId": "fb79194f-939c-4f02-cdd3-b427342afda0"
      },
      "source": [
        "x = dict1.get(\"key\")\n",
        "x"
      ],
      "execution_count": 185,
      "outputs": [
        {
          "output_type": "execute_result",
          "data": {
            "application/vnd.google.colaboratory.intrinsic+json": {
              "type": "string"
            },
            "text/plain": [
              "'Locker'"
            ]
          },
          "metadata": {
            "tags": []
          },
          "execution_count": 185
        }
      ]
    },
    {
      "cell_type": "code",
      "metadata": {
        "colab": {
          "base_uri": "https://localhost:8080/"
        },
        "id": "6v6FPO-cogTZ",
        "outputId": "bebacc1d-c237-4e21-f66f-5265a192c0e0"
      },
      "source": [
        "#Another way of creating dictionaries.\n",
        "dict2 = dict(brand=\"Ford\", model=\"Mustang\", year=1964)\n",
        "dict2"
      ],
      "execution_count": 186,
      "outputs": [
        {
          "output_type": "execute_result",
          "data": {
            "text/plain": [
              "{'brand': 'Ford', 'model': 'Mustang', 'year': 1964}"
            ]
          },
          "metadata": {
            "tags": []
          },
          "execution_count": 186
        }
      ]
    },
    {
      "cell_type": "code",
      "metadata": {
        "id": "PCcdrv76ogTa"
      },
      "source": [
        "# Assigning different value to the key.\n",
        "dict1[\"fruit\"] = \"Orange\""
      ],
      "execution_count": 187,
      "outputs": []
    },
    {
      "cell_type": "code",
      "metadata": {
        "colab": {
          "base_uri": "https://localhost:8080/"
        },
        "id": "UoYba389ogTa",
        "outputId": "428cfee5-20a9-44be-a8b8-23c6aa7c15d1"
      },
      "source": [
        "dict1"
      ],
      "execution_count": 188,
      "outputs": [
        {
          "output_type": "execute_result",
          "data": {
            "text/plain": [
              "{'fruit': 'Orange', 'key': 'Locker', 'mango': 'Chausa'}"
            ]
          },
          "metadata": {
            "tags": []
          },
          "execution_count": 188
        }
      ]
    },
    {
      "cell_type": "code",
      "metadata": {
        "colab": {
          "base_uri": "https://localhost:8080/"
        },
        "id": "eDGswgqjogTa",
        "outputId": "72f41e26-b594-412e-b57f-a77da70d41a8"
      },
      "source": [
        "# Adding item in the dictionary.\n",
        "dict1"
      ],
      "execution_count": 189,
      "outputs": [
        {
          "output_type": "execute_result",
          "data": {
            "text/plain": [
              "{'fruit': 'Orange', 'key': 'Locker', 'mango': 'Chausa'}"
            ]
          },
          "metadata": {
            "tags": []
          },
          "execution_count": 189
        }
      ]
    },
    {
      "cell_type": "code",
      "metadata": {
        "id": "MIBFczYKogTa"
      },
      "source": [
        "dict1[\"colour\"] = \"Red\""
      ],
      "execution_count": 190,
      "outputs": []
    },
    {
      "cell_type": "code",
      "metadata": {
        "colab": {
          "base_uri": "https://localhost:8080/"
        },
        "id": "38iRoujpogTa",
        "outputId": "3ab189e1-5d22-404d-dbeb-e18d930fcb10"
      },
      "source": [
        "dict1"
      ],
      "execution_count": 191,
      "outputs": [
        {
          "output_type": "execute_result",
          "data": {
            "text/plain": [
              "{'colour': 'Red', 'fruit': 'Orange', 'key': 'Locker', 'mango': 'Chausa'}"
            ]
          },
          "metadata": {
            "tags": []
          },
          "execution_count": 191
        }
      ]
    },
    {
      "cell_type": "code",
      "metadata": {
        "colab": {
          "base_uri": "https://localhost:8080/",
          "height": 0
        },
        "id": "I9f1vbUPogTa",
        "outputId": "32fa8427-0dc3-4265-eaaf-2d242510baf4"
      },
      "source": [
        "# Removing item with the specific key name in the dictionary.\n",
        "dict1.pop(\"key\")"
      ],
      "execution_count": 192,
      "outputs": [
        {
          "output_type": "execute_result",
          "data": {
            "application/vnd.google.colaboratory.intrinsic+json": {
              "type": "string"
            },
            "text/plain": [
              "'Locker'"
            ]
          },
          "metadata": {
            "tags": []
          },
          "execution_count": 192
        }
      ]
    },
    {
      "cell_type": "code",
      "metadata": {
        "colab": {
          "base_uri": "https://localhost:8080/"
        },
        "id": "owCIUgxDogTb",
        "outputId": "1d0a89fc-6e75-433a-ad42-7bb7a6ba177e"
      },
      "source": [
        "dict1\n",
        "# Another wayof removing item by del keyword."
      ],
      "execution_count": 193,
      "outputs": [
        {
          "output_type": "execute_result",
          "data": {
            "text/plain": [
              "{'colour': 'Red', 'fruit': 'Orange', 'mango': 'Chausa'}"
            ]
          },
          "metadata": {
            "tags": []
          },
          "execution_count": 193
        }
      ]
    },
    {
      "cell_type": "markdown",
      "metadata": {
        "id": "RSqRzPx0ogTb"
      },
      "source": [
        "### Nested dictionary"
      ]
    },
    {
      "cell_type": "code",
      "metadata": {
        "colab": {
          "base_uri": "https://localhost:8080/"
        },
        "id": "IRy1LW-hogTb",
        "outputId": "5a0303e5-2d16-4bf1-b927-db9153388e6e"
      },
      "source": [
        "Courses = {\n",
        "  \"course1\" : {\n",
        "    \"name\" : \"OS\",\n",
        "    \"year\" : 2019\n",
        "  },\n",
        "  \"course2\" : {\n",
        "    \"name\" : \"WE\",\n",
        "    \"year\" : 2019\n",
        "  },\n",
        "  \"course3\" : {\n",
        "    \"name\" : \"DBMS\",\n",
        "    \"year\" : 2019\n",
        "  }\n",
        "}\n",
        "Courses"
      ],
      "execution_count": 194,
      "outputs": [
        {
          "output_type": "execute_result",
          "data": {
            "text/plain": [
              "{'course1': {'name': 'OS', 'year': 2019},\n",
              " 'course2': {'name': 'WE', 'year': 2019},\n",
              " 'course3': {'name': 'DBMS', 'year': 2019}}"
            ]
          },
          "metadata": {
            "tags": []
          },
          "execution_count": 194
        }
      ]
    },
    {
      "cell_type": "code",
      "metadata": {
        "colab": {
          "base_uri": "https://localhost:8080/"
        },
        "id": "_w_OtbdvogTb",
        "outputId": "522f6a5e-0e28-48d8-9dae-c612a2d065ee"
      },
      "source": [
        "# Another way of nesting a dictionaries.\n",
        "course1 = {\n",
        "    \"name\" : \"OS\",\n",
        "    \"year\" : 2019\n",
        "  }\n",
        "course2 = {\n",
        "    \"name\" : \"WE\",\n",
        "    \"year\" : 2019\n",
        "  }\n",
        "course3 = {\n",
        "    \"name\" : \"DBMS\",\n",
        "    \"year\" : 2019\n",
        "  }\n",
        "Course = {\n",
        "    \"mycourse1\": course1,\n",
        "    \"mycourse2\": course2,\n",
        "}\n",
        "Course"
      ],
      "execution_count": 195,
      "outputs": [
        {
          "output_type": "execute_result",
          "data": {
            "text/plain": [
              "{'mycourse1': {'name': 'OS', 'year': 2019},\n",
              " 'mycourse2': {'name': 'WE', 'year': 2019}}"
            ]
          },
          "metadata": {
            "tags": []
          },
          "execution_count": 195
        }
      ]
    },
    {
      "cell_type": "markdown",
      "metadata": {
        "id": "aI20-HRXogTc"
      },
      "source": [
        "# (Conditions)"
      ]
    },
    {
      "cell_type": "markdown",
      "metadata": {
        "id": "f4gYiHy1ogTc"
      },
      "source": [
        "### if else"
      ]
    },
    {
      "cell_type": "code",
      "metadata": {
        "colab": {
          "base_uri": "https://localhost:8080/"
        },
        "id": "nPaBjEcWogTc",
        "outputId": "72f4401a-d532-48f5-e4c2-f96a7a36d9e1"
      },
      "source": [
        "a = 55\n",
        "b = 44\n",
        "if b < a:\n",
        "    print(\"a is greater than  b\")\n",
        "else:\n",
        "    print(\"b is greater than a\")"
      ],
      "execution_count": 196,
      "outputs": [
        {
          "output_type": "stream",
          "text": [
            "a is greater than  b\n"
          ],
          "name": "stdout"
        }
      ]
    },
    {
      "cell_type": "markdown",
      "metadata": {
        "id": "9LBUZR_3ogTc"
      },
      "source": [
        "### Elif"
      ]
    },
    {
      "cell_type": "code",
      "metadata": {
        "colab": {
          "base_uri": "https://localhost:8080/"
        },
        "id": "lXu-hm8kogTc",
        "outputId": "0608269b-f9d3-407e-c549-177e355aed80"
      },
      "source": [
        "a = 65\n",
        "b = 78\n",
        "if a > b:\n",
        "    print(\"a is greater than b \")\n",
        "elif b > a:\n",
        "    print(\"b is greater than a \")\n",
        "else:\n",
        "    print(\"Nothing to show u\")"
      ],
      "execution_count": 197,
      "outputs": [
        {
          "output_type": "stream",
          "text": [
            "b is greater than a \n"
          ],
          "name": "stdout"
        }
      ]
    },
    {
      "cell_type": "markdown",
      "metadata": {
        "id": "B4TIbP5_ogTc"
      },
      "source": [
        "### short cut if else"
      ]
    },
    {
      "cell_type": "code",
      "metadata": {
        "colab": {
          "base_uri": "https://localhost:8080/"
        },
        "id": "xhIPKZK7ogTd",
        "outputId": "7a1ffd68-c7d3-4c12-e27c-46e622fe3f9d"
      },
      "source": [
        "a = 3\n",
        "b = 2\n",
        "print(\"a is greater than b \") if a > b else print(\"b is greater than a \")"
      ],
      "execution_count": 198,
      "outputs": [
        {
          "output_type": "stream",
          "text": [
            "a is greater than b \n"
          ],
          "name": "stdout"
        }
      ]
    },
    {
      "cell_type": "markdown",
      "metadata": {
        "id": "1_jeHfxAogTd"
      },
      "source": [
        "### short Three condition at an time"
      ]
    },
    {
      "cell_type": "code",
      "metadata": {
        "colab": {
          "base_uri": "https://localhost:8080/"
        },
        "id": "bwFRBSmsogTd",
        "outputId": "ba366056-3fc9-474d-9c4e-ffd5bc51c8c6"
      },
      "source": [
        "a = 330\n",
        "b = 330\n",
        "#(first condition)  (---second condition---)  (third condition)       \n",
        "print(\"A\") if a > b else print(\"=\") if a == b else print(\"B\")"
      ],
      "execution_count": 199,
      "outputs": [
        {
          "output_type": "stream",
          "text": [
            "=\n"
          ],
          "name": "stdout"
        }
      ]
    },
    {
      "cell_type": "markdown",
      "metadata": {
        "id": "PtUJgcRzogTd"
      },
      "source": [
        "### And"
      ]
    },
    {
      "cell_type": "code",
      "metadata": {
        "colab": {
          "base_uri": "https://localhost:8080/"
        },
        "id": "sWbI8hR8ogTd",
        "outputId": "9d73b994-0a3e-4e02-cb14-e29329b03dfc"
      },
      "source": [
        "a = 1\n",
        "b = 2\n",
        "c = 3\n",
        "if c > b and b > a:\n",
        "    print(\"Condition satisfied\")\n",
        "else:\n",
        "    print(\"Not satisfied\")"
      ],
      "execution_count": 200,
      "outputs": [
        {
          "output_type": "stream",
          "text": [
            "Condition satisfied\n"
          ],
          "name": "stdout"
        }
      ]
    },
    {
      "cell_type": "markdown",
      "metadata": {
        "id": "Ho2uSnSRogTe"
      },
      "source": [
        "### Or"
      ]
    },
    {
      "cell_type": "code",
      "metadata": {
        "colab": {
          "base_uri": "https://localhost:8080/"
        },
        "id": "kE7bIQcCogTe",
        "outputId": "79f510f3-a67c-474f-8a41-575a34cfbe09"
      },
      "source": [
        "a = 1\n",
        "b = 2\n",
        "c = 3\n",
        "if c > b or b > a or c > a:\n",
        "    print(\"Condition satisfied\")\n",
        "else:\n",
        "    print(\"Not satisfied\")"
      ],
      "execution_count": 201,
      "outputs": [
        {
          "output_type": "stream",
          "text": [
            "Condition satisfied\n"
          ],
          "name": "stdout"
        }
      ]
    },
    {
      "cell_type": "markdown",
      "metadata": {
        "id": "hMyWT2-IogTe"
      },
      "source": [
        "## Nested if-else"
      ]
    },
    {
      "cell_type": "code",
      "metadata": {
        "colab": {
          "base_uri": "https://localhost:8080/"
        },
        "id": "9AZRnhEuogTe",
        "outputId": "a2ffd8bf-d1ac-43da-81ec-0c6f614a4cc6"
      },
      "source": [
        "a = 100\n",
        "if a > 40:\n",
        "    if a > 90:\n",
        "        print(a)\n",
        "else:\n",
        "    print(\"a is not valid\")\n"
      ],
      "execution_count": 202,
      "outputs": [
        {
          "output_type": "stream",
          "text": [
            "100\n"
          ],
          "name": "stdout"
        }
      ]
    },
    {
      "cell_type": "markdown",
      "metadata": {
        "id": "yPdmOnX2ogTe"
      },
      "source": [
        "# while loop"
      ]
    },
    {
      "cell_type": "code",
      "metadata": {
        "colab": {
          "base_uri": "https://localhost:8080/"
        },
        "id": "ahas61W7ogTf",
        "outputId": "c1afb389-3201-4435-b1a8-3e5068fe896b"
      },
      "source": [
        "# Generating number from 1-10 using while loop.\n",
        "i = 1\n",
        "while i < 11:\n",
        "    print(i)\n",
        "    i+= 1"
      ],
      "execution_count": 203,
      "outputs": [
        {
          "output_type": "stream",
          "text": [
            "1\n",
            "2\n",
            "3\n",
            "4\n",
            "5\n",
            "6\n",
            "7\n",
            "8\n",
            "9\n",
            "10\n"
          ],
          "name": "stdout"
        }
      ]
    },
    {
      "cell_type": "code",
      "metadata": {
        "colab": {
          "base_uri": "https://localhost:8080/"
        },
        "id": "4ers-mhSogTf",
        "outputId": "287a44dd-1cc2-4194-b431-c26ab21afb77"
      },
      "source": [
        "# Using break staement in while loop.\n",
        "i = 1\n",
        "while i < 11:\n",
        "    i+= 1\n",
        "    if i == 5:\n",
        "        break\n",
        "    print(i)"
      ],
      "execution_count": 204,
      "outputs": [
        {
          "output_type": "stream",
          "text": [
            "2\n",
            "3\n",
            "4\n"
          ],
          "name": "stdout"
        }
      ]
    },
    {
      "cell_type": "code",
      "metadata": {
        "colab": {
          "base_uri": "https://localhost:8080/"
        },
        "id": "yo75IZrqogTf",
        "outputId": "1f6e8c83-3fec-41ec-c11e-2c90822138e4"
      },
      "source": [
        "# Using continue staement in while loop.\n",
        "i = 1\n",
        "while i < 11:\n",
        "    i+= 1\n",
        "    if i == 5:\n",
        "        continue\n",
        "    print(i)"
      ],
      "execution_count": 205,
      "outputs": [
        {
          "output_type": "stream",
          "text": [
            "2\n",
            "3\n",
            "4\n",
            "6\n",
            "7\n",
            "8\n",
            "9\n",
            "10\n",
            "11\n"
          ],
          "name": "stdout"
        }
      ]
    },
    {
      "cell_type": "markdown",
      "metadata": {
        "id": "cgKd6JrGogTg"
      },
      "source": [
        "# For Loop"
      ]
    },
    {
      "cell_type": "code",
      "metadata": {
        "colab": {
          "base_uri": "https://localhost:8080/"
        },
        "id": "TvKk2RlYw0JB",
        "outputId": "050088dd-06c1-4a36-9190-d0ce9b927376"
      },
      "source": [
        "#working with basic loop\r\n",
        "\r\n",
        "for a in range(5):\r\n",
        "  #indent\r\n",
        "  print(a, \"Usama\")"
      ],
      "execution_count": 275,
      "outputs": [
        {
          "output_type": "stream",
          "text": [
            "0 Usama\n",
            "1 Usama\n",
            "2 Usama\n",
            "3 Usama\n",
            "4 Usama\n"
          ],
          "name": "stdout"
        }
      ]
    },
    {
      "cell_type": "code",
      "metadata": {
        "colab": {
          "base_uri": "https://localhost:8080/"
        },
        "id": "LHC1SseHxpNR",
        "outputId": "f861ed56-ebdc-4b75-c519-0f8927d5f16e"
      },
      "source": [
        "#printing single charaacter fromstrijg\r\n",
        "for char in \"pakistanzindabad\":\r\n",
        "  print(char.upper())"
      ],
      "execution_count": 278,
      "outputs": [
        {
          "output_type": "stream",
          "text": [
            "P\n",
            "A\n",
            "K\n",
            "I\n",
            "S\n",
            "T\n",
            "A\n",
            "N\n",
            "Z\n",
            "I\n",
            "N\n",
            "D\n",
            "A\n",
            "B\n",
            "A\n",
            "D\n"
          ],
          "name": "stdout"
        }
      ]
    },
    {
      "cell_type": "code",
      "metadata": {
        "colab": {
          "base_uri": "https://localhost:8080/"
        },
        "id": "ByCRG12cyGwJ",
        "outputId": "a7fa365f-90cb-41bd-ddd1-e0bb5a956a04"
      },
      "source": [
        "#printing single charaacter fromstrijg\r\n",
        "for char in \"pakistanzindabad\":\r\n",
        "  print(char.upper(), end=\"\")"
      ],
      "execution_count": 280,
      "outputs": [
        {
          "output_type": "stream",
          "text": [
            "PAKISTANZINDABAD"
          ],
          "name": "stdout"
        }
      ]
    },
    {
      "cell_type": "code",
      "metadata": {
        "colab": {
          "base_uri": "https://localhost:8080/"
        },
        "id": "zAQQqN4UyJc5",
        "outputId": "bd8d5579-7339-4e7f-8d39-9c46a09f8c77"
      },
      "source": [
        "# printing list from loop.\r\n",
        "for student in [\"usama\", \"rameez\", \"ali\", \"ather\"]:\r\n",
        "  print(f\"the name of the stuidnetg is {student}\")"
      ],
      "execution_count": 283,
      "outputs": [
        {
          "output_type": "stream",
          "text": [
            "the name of the stuidnetg is usama\n",
            "the name of the stuidnetg is rameez\n",
            "the name of the stuidnetg is ali\n",
            "the name of the stuidnetg is ather\n"
          ],
          "name": "stdout"
        }
      ]
    },
    {
      "cell_type": "code",
      "metadata": {
        "colab": {
          "base_uri": "https://localhost:8080/"
        },
        "id": "CMqsuY-syp9Y",
        "outputId": "11fe56d3-4420-4753-f85f-abecf9906ba3"
      },
      "source": [
        "# printing form specefic range\r\n",
        "for num in range(1,10):\r\n",
        "  print(num)"
      ],
      "execution_count": 285,
      "outputs": [
        {
          "output_type": "stream",
          "text": [
            "1\n",
            "2\n",
            "3\n",
            "4\n",
            "5\n",
            "6\n",
            "7\n",
            "8\n",
            "9\n"
          ],
          "name": "stdout"
        }
      ]
    },
    {
      "cell_type": "code",
      "metadata": {
        "colab": {
          "base_uri": "https://localhost:8080/"
        },
        "id": "o5Kr-49Py1cw",
        "outputId": "5989aee7-3cd6-44fc-8cf0-0358acebb30c"
      },
      "source": [
        "# printing number form specefic range with step\r\n",
        "for num in range(1,10,2):\r\n",
        "  print(num)"
      ],
      "execution_count": 288,
      "outputs": [
        {
          "output_type": "stream",
          "text": [
            "1\n",
            "3\n",
            "5\n",
            "7\n",
            "9\n"
          ],
          "name": "stdout"
        }
      ]
    },
    {
      "cell_type": "code",
      "metadata": {
        "colab": {
          "base_uri": "https://localhost:8080/"
        },
        "id": "4u3ciAFAzE-g",
        "outputId": "65a302f1-2f42-4482-a711-f63993e3ba63"
      },
      "source": [
        "# printing number form specefic range with step in reverse order\r\n",
        "for num in range(10,0,-1):\r\n",
        "  print(num)"
      ],
      "execution_count": 292,
      "outputs": [
        {
          "output_type": "stream",
          "text": [
            "10\n",
            "9\n",
            "8\n",
            "7\n",
            "6\n",
            "5\n",
            "4\n",
            "3\n",
            "2\n",
            "1\n"
          ],
          "name": "stdout"
        }
      ]
    },
    {
      "cell_type": "code",
      "metadata": {
        "id": "sFiR5OE8zlUn"
      },
      "source": [
        "# printing nam eiht other string\r\n",
        "student_list  = [\"usama\", \"rameez\", \"ali\", \"ather\"]\r\n"
      ],
      "execution_count": 295,
      "outputs": []
    },
    {
      "cell_type": "code",
      "metadata": {
        "colab": {
          "base_uri": "https://localhost:8080/"
        },
        "id": "3rXQzcwDzU2m",
        "outputId": "f4670aee-b195-4165-a1f0-73998a89051c"
      },
      "source": [
        "for i in student_list:\r\n",
        "  print(i, \"pakistani\")"
      ],
      "execution_count": 296,
      "outputs": [
        {
          "output_type": "stream",
          "text": [
            "usama pakistani\n",
            "rameez pakistani\n",
            "ali pakistani\n",
            "ather pakistani\n"
          ],
          "name": "stdout"
        }
      ]
    },
    {
      "cell_type": "code",
      "metadata": {
        "id": "2MuW1332xj6o"
      },
      "source": [
        "}# here  we have list,set, and dictionary\r\n",
        "#list3,varset,dict1"
      ],
      "execution_count": 276,
      "outputs": []
    },
    {
      "cell_type": "code",
      "metadata": {
        "colab": {
          "base_uri": "https://localhost:8080/"
        },
        "id": "xi9DbcQlogTg",
        "outputId": "cffcce13-6fe9-43e4-dbe3-ed30ad31b472"
      },
      "source": [
        "     # set   ,list, dictionary \n",
        "print(varset ,list3,  dict1)"
      ],
      "execution_count": 207,
      "outputs": [
        {
          "output_type": "stream",
          "text": [
            "{'how', 'you', 'world', 'am', 'fine', 'I'} [1, 2, 3, 4, 3, 2, 1, 'Qourma', 'Chicken biryani', 'Qabab'] {'fruit': 'Orange', 'mango': 'Chausa', 'colour': 'Red'}\n"
          ],
          "name": "stdout"
        }
      ]
    },
    {
      "cell_type": "code",
      "metadata": {
        "colab": {
          "base_uri": "https://localhost:8080/"
        },
        "id": "wlbW6J4XogTg",
        "outputId": "fcc5478b-818f-4dbd-997c-231d9378f8c3"
      },
      "source": [
        "# Applying for loop to list.\n",
        "for i in list3:\n",
        "    print(i)"
      ],
      "execution_count": 208,
      "outputs": [
        {
          "output_type": "stream",
          "text": [
            "1\n",
            "2\n",
            "3\n",
            "4\n",
            "3\n",
            "2\n",
            "1\n",
            "Qourma\n",
            "Chicken biryani\n",
            "Qabab\n"
          ],
          "name": "stdout"
        }
      ]
    },
    {
      "cell_type": "code",
      "metadata": {
        "colab": {
          "base_uri": "https://localhost:8080/"
        },
        "id": "r5a8N3ZQogTg",
        "outputId": "d004c1b3-9264-4e1e-b132-e7b97aea9a28"
      },
      "source": [
        "# Applying for loop to set.\n",
        "for i in varset:\n",
        "    print(i)"
      ],
      "execution_count": 209,
      "outputs": [
        {
          "output_type": "stream",
          "text": [
            "how\n",
            "you\n",
            "world\n",
            "am\n",
            "fine\n",
            "I\n"
          ],
          "name": "stdout"
        }
      ]
    },
    {
      "cell_type": "code",
      "metadata": {
        "colab": {
          "base_uri": "https://localhost:8080/"
        },
        "id": "aOcmtTdLogTh",
        "outputId": "17990ae0-9662-42eb-b254-c817ad138ce3"
      },
      "source": [
        "# Applying for loop to dictionary(will print only keys).\n",
        "for i in dict1:\n",
        "    print(i)"
      ],
      "execution_count": 210,
      "outputs": [
        {
          "output_type": "stream",
          "text": [
            "fruit\n",
            "mango\n",
            "colour\n"
          ],
          "name": "stdout"
        }
      ]
    },
    {
      "cell_type": "code",
      "metadata": {
        "colab": {
          "base_uri": "https://localhost:8080/"
        },
        "id": "v8aL4IabogTh",
        "outputId": "c70d2654-7c23-4d68-8a2a-f7ca241c8b34"
      },
      "source": [
        "# For accessing values of key (using for loop).\n",
        "for i in dict1.values():\n",
        "    print(i)"
      ],
      "execution_count": 211,
      "outputs": [
        {
          "output_type": "stream",
          "text": [
            "Orange\n",
            "Chausa\n",
            "Red\n"
          ],
          "name": "stdout"
        }
      ]
    },
    {
      "cell_type": "code",
      "metadata": {
        "colab": {
          "base_uri": "https://localhost:8080/"
        },
        "id": "VbWYxwjiogTh",
        "outputId": "7b5eb1d8-6478-4c8c-e38b-a752071d6a84"
      },
      "source": [
        "# For accessing both keys and values of dictionary(using for loop).\n",
        "for k,v in dict1.items():\n",
        "    print(k,v)"
      ],
      "execution_count": 212,
      "outputs": [
        {
          "output_type": "stream",
          "text": [
            "fruit Orange\n",
            "mango Chausa\n",
            "colour Red\n"
          ],
          "name": "stdout"
        }
      ]
    },
    {
      "cell_type": "code",
      "metadata": {
        "colab": {
          "base_uri": "https://localhost:8080/"
        },
        "id": "koCYm5qKogTh",
        "outputId": "1dd35575-d937-425b-8b30-3383759967e5"
      },
      "source": [
        "\n",
        "varset"
      ],
      "execution_count": 213,
      "outputs": [
        {
          "output_type": "execute_result",
          "data": {
            "text/plain": [
              "{'I', 'am', 'fine', 'how', 'world', 'you'}"
            ]
          },
          "metadata": {
            "tags": []
          },
          "execution_count": 213
        }
      ]
    },
    {
      "cell_type": "code",
      "metadata": {
        "id": "j6S_BW7fogTi"
      },
      "source": [
        "# using break statement in for loop.\n",
        "for i in varset:\n",
        "    \n",
        "    if i == \"how\":\n",
        "        break\n",
        "    print(i)"
      ],
      "execution_count": 214,
      "outputs": []
    },
    {
      "cell_type": "code",
      "metadata": {
        "colab": {
          "base_uri": "https://localhost:8080/"
        },
        "id": "3jzGAr4kogTi",
        "outputId": "9315bcf2-ad72-493d-b7da-fe689f88ad89"
      },
      "source": [
        "# Using continue statement in for loop.\n",
        "for i in varset:\n",
        "    if i == \"how\":\n",
        "        continue\n",
        "    print(i)\n",
        "# it prints all elements except \"how\"."
      ],
      "execution_count": 215,
      "outputs": [
        {
          "output_type": "stream",
          "text": [
            "you\n",
            "world\n",
            "am\n",
            "fine\n",
            "I\n"
          ],
          "name": "stdout"
        }
      ]
    },
    {
      "cell_type": "markdown",
      "metadata": {
        "id": "urJorn4aogTi"
      },
      "source": [
        "### range() function in for loop."
      ]
    },
    {
      "cell_type": "code",
      "metadata": {
        "colab": {
          "base_uri": "https://localhost:8080/"
        },
        "id": "tprWf6uSogTj",
        "outputId": "80d27c5f-641a-4c0f-f40e-a0e50fdb3cbd"
      },
      "source": [
        "for x in range(5):\n",
        "    print(x)"
      ],
      "execution_count": 216,
      "outputs": [
        {
          "output_type": "stream",
          "text": [
            "0\n",
            "1\n",
            "2\n",
            "3\n",
            "4\n"
          ],
          "name": "stdout"
        }
      ]
    },
    {
      "cell_type": "code",
      "metadata": {
        "colab": {
          "base_uri": "https://localhost:8080/"
        },
        "id": "6O6tgHvUogTj",
        "outputId": "a34e9bae-3e3c-430f-9e7e-ad965bc3199a"
      },
      "source": [
        "# By assigning starting number to the range function.\n",
        "for x in range(2,10):\n",
        "    print(x)"
      ],
      "execution_count": 217,
      "outputs": [
        {
          "output_type": "stream",
          "text": [
            "2\n",
            "3\n",
            "4\n",
            "5\n",
            "6\n",
            "7\n",
            "8\n",
            "9\n"
          ],
          "name": "stdout"
        }
      ]
    },
    {
      "cell_type": "code",
      "metadata": {
        "colab": {
          "base_uri": "https://localhost:8080/"
        },
        "id": "uctMbvdMogTj",
        "outputId": "a86f2be5-fe4e-42cc-eef8-2d2e1aa42fae"
      },
      "source": [
        "# Incrementing in the sequence with 1.\n",
        "for x in range(2,10,2):\n",
        "    print(x)"
      ],
      "execution_count": 218,
      "outputs": [
        {
          "output_type": "stream",
          "text": [
            "2\n",
            "4\n",
            "6\n",
            "8\n"
          ],
          "name": "stdout"
        }
      ]
    },
    {
      "cell_type": "markdown",
      "metadata": {
        "id": "Y4yBcBPNogTj"
      },
      "source": [
        "### Using nested loop."
      ]
    },
    {
      "cell_type": "code",
      "metadata": {
        "colab": {
          "base_uri": "https://localhost:8080/"
        },
        "id": "ov4nIpN0ogTj",
        "outputId": "a6e53da0-f979-4387-fb9d-14a9a6060948"
      },
      "source": [
        "lis1 = ['a','b','c','d']\n",
        "lis2 = [1,2,3,4]\n",
        "for i in lis1:\n",
        "    for j in lis2:\n",
        "        print(i,j)"
      ],
      "execution_count": 219,
      "outputs": [
        {
          "output_type": "stream",
          "text": [
            "a 1\n",
            "a 2\n",
            "a 3\n",
            "a 4\n",
            "b 1\n",
            "b 2\n",
            "b 3\n",
            "b 4\n",
            "c 1\n",
            "c 2\n",
            "c 3\n",
            "c 4\n",
            "d 1\n",
            "d 2\n",
            "d 3\n",
            "d 4\n"
          ],
          "name": "stdout"
        }
      ]
    },
    {
      "cell_type": "markdown",
      "metadata": {
        "id": "MWkkoxiGogTk"
      },
      "source": [
        "# Function in python"
      ]
    },
    {
      "cell_type": "code",
      "metadata": {
        "colab": {
          "base_uri": "https://localhost:8080/"
        },
        "id": "7yz0NDhRogTk",
        "outputId": "7967e696-98c3-4218-c64c-bfd985ea2eb9"
      },
      "source": [
        "def function1():\n",
        "    print(\"This is my first function\")\n",
        "function1()"
      ],
      "execution_count": 220,
      "outputs": [
        {
          "output_type": "stream",
          "text": [
            "This is my first function\n"
          ],
          "name": "stdout"
        }
      ]
    },
    {
      "cell_type": "code",
      "metadata": {
        "colab": {
          "base_uri": "https://localhost:8080/"
        },
        "id": "KdqcRHsXogTk",
        "outputId": "940a19e9-f2c1-46b4-fd7a-c3cda59ddbac"
      },
      "source": [
        "# Parametric function.\n",
        "def function2(var):\n",
        "    print(var)\n",
        "function2(\"This is the second function\")\n",
        "function2(\"And it is a parametric function.\")"
      ],
      "execution_count": 221,
      "outputs": [
        {
          "output_type": "stream",
          "text": [
            "This is the second function\n",
            "And it is a parametric function.\n"
          ],
          "name": "stdout"
        }
      ]
    },
    {
      "cell_type": "code",
      "metadata": {
        "colab": {
          "base_uri": "https://localhost:8080/"
        },
        "id": "dV0texmOogTk",
        "outputId": "5997cd45-492a-4eb5-f3cd-b353fd4cf912"
      },
      "source": [
        "# Taking multiple argument to the function.\n",
        "def function3(name_var, your_name):\n",
        "    print(name_var + \": \" + your_name)\n",
        "function3(\"Name\",\"Jack\")\n",
        "function3(\"Father Name\",\"Jonson\")"
      ],
      "execution_count": 222,
      "outputs": [
        {
          "output_type": "stream",
          "text": [
            "Name: Jack\n",
            "Father Name: Jonson\n"
          ],
          "name": "stdout"
        }
      ]
    },
    {
      "cell_type": "markdown",
      "metadata": {
        "id": "FNB45QWGogTl"
      },
      "source": [
        "# Arbitrary Arguments, *args\n",
        "\n",
        "If you do not know how many arguments that will be passed into your function, add a * before the parameter name in the function definition.\n",
        "\n",
        "This way the function will receive a tuple of arguments, and can access the items accordingly:"
      ]
    },
    {
      "cell_type": "code",
      "metadata": {
        "colab": {
          "base_uri": "https://localhost:8080/"
        },
        "id": "iSaC08b9ogTl",
        "outputId": "65237266-cfc7-470f-efea-218be239f0f0"
      },
      "source": [
        "def function4(*var):\n",
        "        print(var, end = '')\n",
        "function4(\"orange\", \"mango\")"
      ],
      "execution_count": 223,
      "outputs": [
        {
          "output_type": "stream",
          "text": [
            "('orange', 'mango')"
          ],
          "name": "stdout"
        }
      ]
    },
    {
      "cell_type": "markdown",
      "metadata": {
        "id": "456-w5EpogTl"
      },
      "source": [
        "## Default parameter value."
      ]
    },
    {
      "cell_type": "code",
      "metadata": {
        "colab": {
          "base_uri": "https://localhost:8080/"
        },
        "id": "cVnC_roiogTl",
        "outputId": "283b696d-bece-4417-ee9b-777c3a256092"
      },
      "source": [
        "def func(var = \"newyork\"):\n",
        "    print(\"You are in\",var)\n",
        "func()\n",
        "func(\"london\")\n",
        "func(\"paris\")"
      ],
      "execution_count": 224,
      "outputs": [
        {
          "output_type": "stream",
          "text": [
            "You are in newyork\n",
            "You are in london\n",
            "You are in paris\n"
          ],
          "name": "stdout"
        }
      ]
    },
    {
      "cell_type": "markdown",
      "metadata": {
        "id": "xHTVtAuvogTl"
      },
      "source": [
        "## Passing a List as an Argument"
      ]
    },
    {
      "cell_type": "code",
      "metadata": {
        "colab": {
          "base_uri": "https://localhost:8080/"
        },
        "id": "NUeijXnqogTl",
        "outputId": "ec481bef-5ce0-4ad0-f836-5a8676038b97"
      },
      "source": [
        "\n",
        "def my_function(food):\n",
        "    for x in food:\n",
        "        print(x)\n",
        "\n",
        "fruits = [\"apple\", \"banana\", \"cherry\"]\n",
        "\n",
        "my_function(fruits)"
      ],
      "execution_count": 225,
      "outputs": [
        {
          "output_type": "stream",
          "text": [
            "apple\n",
            "banana\n",
            "cherry\n"
          ],
          "name": "stdout"
        }
      ]
    },
    {
      "cell_type": "markdown",
      "metadata": {
        "id": "A5wjEVfLogTm"
      },
      "source": [
        "## Using return keword to return value."
      ]
    },
    {
      "cell_type": "code",
      "metadata": {
        "colab": {
          "base_uri": "https://localhost:8080/"
        },
        "id": "sHr3geYgogTm",
        "outputId": "69f8ccc0-fade-4b16-8cd3-c87d09ab6bf3"
      },
      "source": [
        "# Function that return the square of number.\n",
        "def retun(x):\n",
        "    return x*x\n",
        "var = 3\n",
        "print(\"The square of\",var,\"is\",retun(var))"
      ],
      "execution_count": 226,
      "outputs": [
        {
          "output_type": "stream",
          "text": [
            "The square of 3 is 9\n"
          ],
          "name": "stdout"
        }
      ]
    },
    {
      "cell_type": "markdown",
      "metadata": {
        "id": "m9ITm0QJogTm"
      },
      "source": [
        "## Recursion function"
      ]
    },
    {
      "cell_type": "code",
      "metadata": {
        "colab": {
          "base_uri": "https://localhost:8080/"
        },
        "id": "01TiiSrZogTm",
        "outputId": "4d13438e-e7f7-4270-c34d-9f037fdf98ad"
      },
      "source": [
        "def tri_recursion(k):\n",
        "    if(k>0):\n",
        "        result = k+tri_recursion(k-1)\n",
        "        print(result)\n",
        "    else:\n",
        "        result = 0\n",
        "    return result\n",
        "\n",
        "print(\"\\n\\nRecursion Example Results\")\n",
        "tri_recursion(6)"
      ],
      "execution_count": 227,
      "outputs": [
        {
          "output_type": "stream",
          "text": [
            "\n",
            "\n",
            "Recursion Example Results\n",
            "1\n",
            "3\n",
            "6\n",
            "10\n",
            "15\n",
            "21\n"
          ],
          "name": "stdout"
        },
        {
          "output_type": "execute_result",
          "data": {
            "text/plain": [
              "21"
            ]
          },
          "metadata": {
            "tags": []
          },
          "execution_count": 227
        }
      ]
    },
    {
      "cell_type": "markdown",
      "metadata": {
        "id": "BzyH1gdYogTm"
      },
      "source": [
        "# Classes & Objects"
      ]
    },
    {
      "cell_type": "code",
      "metadata": {
        "colab": {
          "base_uri": "https://localhost:8080/"
        },
        "id": "kWytAoFwogTm",
        "outputId": "f907ec2b-d9a7-4d0d-d79b-232008176895"
      },
      "source": [
        "class first:\n",
        "    x = 5\n",
        "\n",
        "obj = first()\n",
        "print(obj.x)"
      ],
      "execution_count": 228,
      "outputs": [
        {
          "output_type": "stream",
          "text": [
            "5\n"
          ],
          "name": "stdout"
        }
      ]
    },
    {
      "cell_type": "markdown",
      "metadata": {
        "id": "mu3IpCGrogTn"
      },
      "source": [
        "### Working with constructor of class and creating varaible"
      ]
    },
    {
      "cell_type": "code",
      "metadata": {
        "colab": {
          "base_uri": "https://localhost:8080/"
        },
        "id": "K2jLqddwogTn",
        "outputId": "0361e956-b434-4a2c-fe0a-c1e9265dfba7"
      },
      "source": [
        "class fruit:\n",
        "    def __init__(self, fname, catagory):\n",
        "        self.fname = fname\n",
        "        self.catagory = catagory\n",
        "obj1 = fruit(\"Orange\", \"Citrus\")\n",
        "print(obj1.fname, \"is the\", obj1.catagory, \"catagory\")"
      ],
      "execution_count": 229,
      "outputs": [
        {
          "output_type": "stream",
          "text": [
            "Orange is the Citrus catagory\n"
          ],
          "name": "stdout"
        }
      ]
    },
    {
      "cell_type": "markdown",
      "metadata": {
        "id": "uqty68eVogTn"
      },
      "source": [
        "### Creating Method "
      ]
    },
    {
      "cell_type": "code",
      "metadata": {
        "colab": {
          "base_uri": "https://localhost:8080/"
        },
        "id": "RuvJqKpYogTn",
        "outputId": "eea67e8e-c76d-4978-f852-5fc5922f9d6e"
      },
      "source": [
        "class fruit:\n",
        "    def __init__(self, fname, catagory):\n",
        "        self.fname = fname\n",
        "        self.catagory = catagory\n",
        "    def func1(self):\n",
        "        print(\"your fruit is\"+self.fname)\n",
        "        \n",
        "obj2 = fruit(\"Orange\", \"Citrus\")\n",
        "print(obj2.func1())"
      ],
      "execution_count": 230,
      "outputs": [
        {
          "output_type": "stream",
          "text": [
            "your fruit isOrange\n",
            "None\n"
          ],
          "name": "stdout"
        }
      ]
    },
    {
      "cell_type": "markdown",
      "metadata": {
        "id": "OZFIyC5hogTn"
      },
      "source": [
        "#### The self Parameter\n",
        "The self parameter is a reference to the current instance of the class, and is used to access variables that belongs to the class.\n",
        "\n",
        "It does not have to be named self , you can call it whatever you like, but it has to be the first parameter of any function in the class"
      ]
    },
    {
      "cell_type": "markdown",
      "metadata": {
        "id": "WKD-m9BhogTo"
      },
      "source": [
        "# Inheritance in python"
      ]
    },
    {
      "cell_type": "code",
      "metadata": {
        "colab": {
          "base_uri": "https://localhost:8080/"
        },
        "id": "0ubIchvgogTo",
        "outputId": "b17d6957-d08f-44de-d4ad-c9b539db768f"
      },
      "source": [
        "# Creating parent class\n",
        "\n",
        "class parent:\n",
        "    def __init__(self, fname, rollno):\n",
        "        self.firstname = fname;\n",
        "        self.rollNumber = rollno;\n",
        "    def printName(self):\n",
        "        print('My name is',self.firstname,'\\nand Roll number is: ',self.rollNumber);\n",
        "        \n",
        "        \n",
        "obj = parent('Usama', 2103102);\n",
        "obj.printName();\n",
        "\n",
        "        "
      ],
      "execution_count": 231,
      "outputs": [
        {
          "output_type": "stream",
          "text": [
            "My name is Usama \n",
            "and Roll number is:  2103102\n"
          ],
          "name": "stdout"
        }
      ]
    },
    {
      "cell_type": "code",
      "metadata": {
        "colab": {
          "base_uri": "https://localhost:8080/"
        },
        "id": "6VM2KQ_IogTo",
        "outputId": "40f33ee9-665c-4a28-d255-6d5ecdcbcf9c"
      },
      "source": [
        "#inheriting parent class to child class.\n",
        "class child(parent):\n",
        "    pass\n",
        "\n",
        "obj = child('Usama', 4802292); # Accesing parent class method.\n",
        "obj.printName();"
      ],
      "execution_count": 232,
      "outputs": [
        {
          "output_type": "stream",
          "text": [
            "My name is Usama \n",
            "and Roll number is:  4802292\n"
          ],
          "name": "stdout"
        }
      ]
    },
    {
      "cell_type": "markdown",
      "metadata": {
        "id": "2RKFTc-_ogTo"
      },
      "source": [
        "# Working with RegEx(regular expression)"
      ]
    },
    {
      "cell_type": "code",
      "metadata": {
        "id": "QJkWxVjYogTp"
      },
      "source": [
        "# RegEx can be used to check if a string contains the specified search pattern.\n",
        "\n",
        "import re"
      ],
      "execution_count": 233,
      "outputs": []
    },
    {
      "cell_type": "markdown",
      "metadata": {
        "id": "BJ6pLM2-ogTp"
      },
      "source": [
        "## checking for string which start from \"the\" and end with \"ing\""
      ]
    },
    {
      "cell_type": "code",
      "metadata": {
        "colab": {
          "base_uri": "https://localhost:8080/"
        },
        "id": "SIlzb9JIogTp",
        "outputId": "9cd06e2b-9490-4c0d-abae-80a12cf59d61"
      },
      "source": [
        "string = \"The pthon programming\";\n",
        "x = re.search(\"^The.*ing$\", string)\n",
        "if(x):\n",
        "    print(\"working\")\n",
        "else:\n",
        "    print(\"not working\")"
      ],
      "execution_count": 234,
      "outputs": [
        {
          "output_type": "stream",
          "text": [
            "working\n"
          ],
          "name": "stdout"
        }
      ]
    },
    {
      "cell_type": "markdown",
      "metadata": {
        "id": "Ifnv_S8SogTp"
      },
      "source": [
        "# Find a charater or string in whole string and save the the character in a list"
      ]
    },
    {
      "cell_type": "code",
      "metadata": {
        "colab": {
          "base_uri": "https://localhost:8080/"
        },
        "id": "OT7p8MtKogTp",
        "outputId": "ed5441f8-6686-4abf-a677-c73c18236db2"
      },
      "source": [
        "a = re.findall(\"o\", string)\n",
        "print(a)"
      ],
      "execution_count": 235,
      "outputs": [
        {
          "output_type": "stream",
          "text": [
            "['o', 'o']\n"
          ],
          "name": "stdout"
        }
      ]
    },
    {
      "cell_type": "markdown",
      "metadata": {
        "id": "rYoxs7a2ogTq"
      },
      "source": [
        "# The finding number of spaces in an string."
      ]
    },
    {
      "cell_type": "code",
      "metadata": {
        "colab": {
          "base_uri": "https://localhost:8080/"
        },
        "id": "ri7tJOVAogTq",
        "outputId": "1a228cdc-99b1-4128-9980-375a06c53365"
      },
      "source": [
        "s = re.search(\"\\s\",string)\n",
        "print(s.start())"
      ],
      "execution_count": 236,
      "outputs": [
        {
          "output_type": "stream",
          "text": [
            "3\n"
          ],
          "name": "stdout"
        }
      ]
    },
    {
      "cell_type": "markdown",
      "metadata": {
        "id": "S9TA2UAdogTq"
      },
      "source": [
        "# Seperate string into words"
      ]
    },
    {
      "cell_type": "code",
      "metadata": {
        "colab": {
          "base_uri": "https://localhost:8080/"
        },
        "id": "chn9EsLbogTq",
        "outputId": "1b0a5f57-debf-4965-eaa0-b69d78f2d733"
      },
      "source": [
        "w = re.split(\"\\s\", string)\n",
        "print(w)"
      ],
      "execution_count": 237,
      "outputs": [
        {
          "output_type": "stream",
          "text": [
            "['The', 'pthon', 'programming']\n"
          ],
          "name": "stdout"
        }
      ]
    },
    {
      "cell_type": "markdown",
      "metadata": {
        "id": "6Fx5sUbVogTq"
      },
      "source": [
        "# Replacing the character/text with the text of your choice"
      ]
    },
    {
      "cell_type": "code",
      "metadata": {
        "colab": {
          "base_uri": "https://localhost:8080/"
        },
        "id": "scqI-gCSogTq",
        "outputId": "693e7577-3ede-47c1-cdc9-e385aad3eb88"
      },
      "source": [
        "r = re.sub(\"\\s\",\"----\", string)\n",
        "print(r)"
      ],
      "execution_count": 238,
      "outputs": [
        {
          "output_type": "stream",
          "text": [
            "The----pthon----programming\n"
          ],
          "name": "stdout"
        }
      ]
    },
    {
      "cell_type": "code",
      "metadata": {
        "id": "GPrfFRSAogTr"
      },
      "source": [
        ""
      ],
      "execution_count": 238,
      "outputs": []
    }
  ]
}