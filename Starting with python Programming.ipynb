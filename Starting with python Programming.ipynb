{
 "cells": [
  {
   "cell_type": "markdown",
   "metadata": {
    "colab_type": "text",
    "id": "view-in-github"
   },
   "source": [
    "<a href=\"https://colab.research.google.com/github/Muhammad-Usama-07/Complete-Your-Python-Here/blob/master/Starting%20with%20python%20Programming.ipynb\" target=\"_parent\"><img src=\"https://colab.research.google.com/assets/colab-badge.svg\" alt=\"Open In Colab\"/></a>"
   ]
  },
  {
   "cell_type": "markdown",
   "metadata": {
    "id": "8VVvy6z_ogSs"
   },
   "source": [
    "# Print and its Functions"
   ]
  },
  {
   "cell_type": "code",
   "execution_count": null,
   "metadata": {
    "colab": {
     "base_uri": "https://localhost:8080/"
    },
    "id": "YtQSPzsCogS_",
    "outputId": "bdda9882-c487-4ab3-d25d-fa506857650f"
   },
   "outputs": [],
   "source": [
    "print(\"Welcome python\")"
   ]
  },
  {
   "cell_type": "markdown",
   "metadata": {
    "id": "viJGiN14ogTD"
   },
   "source": [
    "# print with end"
   ]
  },
  {
   "cell_type": "code",
   "execution_count": null,
   "metadata": {
    "colab": {
     "base_uri": "https://localhost:8080/"
    },
    "id": "AeigIjoRogTD",
    "outputId": "1f1b15c2-8f61-4c2a-847d-bbe874e7d749"
   },
   "outputs": [],
   "source": [
    "print(\"Hello\", end = \" -  \")\n",
    "print(\"world\")"
   ]
  },
  {
   "cell_type": "code",
   "execution_count": null,
   "metadata": {
    "colab": {
     "base_uri": "https://localhost:8080/"
    },
    "id": "uPFX-Pv9ogTE",
    "outputId": "8aa43683-514c-4abe-ecb2-534de749e580"
   },
   "outputs": [],
   "source": [
    "print(\"Hello\", end = \" ### \")\n",
    "print(\"world\")"
   ]
  },
  {
   "cell_type": "code",
   "execution_count": null,
   "metadata": {
    "colab": {
     "base_uri": "https://localhost:8080/"
    },
    "id": "mO_8jEFGogTF",
    "outputId": "168e6a58-5922-400a-8d5c-3a45f94ea7b1"
   },
   "outputs": [],
   "source": [
    "print(\"Hello\", end = \"\\n\")\n",
    "print(\"world\")"
   ]
  },
  {
   "cell_type": "markdown",
   "metadata": {
    "id": "Em5OoJQjogTG"
   },
   "source": [
    "# print two string togather"
   ]
  },
  {
   "cell_type": "code",
   "execution_count": null,
   "metadata": {
    "colab": {
     "base_uri": "https://localhost:8080/"
    },
    "id": "KZMwyeAaogTH",
    "outputId": "376bb396-190b-45d0-cc89-b7b7a1fa6cfa"
   },
   "outputs": [],
   "source": [
    "print('first String','Second String')"
   ]
  },
  {
   "cell_type": "code",
   "execution_count": null,
   "metadata": {
    "colab": {
     "base_uri": "https://localhost:8080/"
    },
    "id": "R131cnqBogTI",
    "outputId": "a0a3dc12-27ac-4a4a-f24d-dde4b385438b"
   },
   "outputs": [],
   "source": [
    "print('first String'+'Second String')"
   ]
  },
  {
   "cell_type": "markdown",
   "metadata": {
    "id": "WQS7CCDPogTI"
   },
   "source": [
    "# print wtith sep"
   ]
  },
  {
   "cell_type": "code",
   "execution_count": null,
   "metadata": {
    "colab": {
     "base_uri": "https://localhost:8080/"
    },
    "id": "Fc6nTHJ5ogTJ",
    "outputId": "473ce7c9-f0ce-4cdc-f4d6-e4ea88405b56"
   },
   "outputs": [],
   "source": [
    "print(\"hello\",\"word\",sep = '....')"
   ]
  },
  {
   "cell_type": "markdown",
   "metadata": {
    "id": "Wdhr4G3lwm_9"
   },
   "source": [
    "# Variables"
   ]
  },
  {
   "cell_type": "code",
   "execution_count": null,
   "metadata": {
    "id": "eCy6WkxpogTK"
   },
   "outputs": [],
   "source": [
    "# declearing a variable and passing by value\n",
    "var1 = \"Hello\""
   ]
  },
  {
   "cell_type": "code",
   "execution_count": null,
   "metadata": {
    "colab": {
     "base_uri": "https://localhost:8080/",
     "height": 35
    },
    "id": "_WC61wxsogTL",
    "outputId": "654459d7-cbfc-4047-f703-58fd52dd9b74"
   },
   "outputs": [],
   "source": [
    "var1"
   ]
  },
  {
   "cell_type": "code",
   "execution_count": null,
   "metadata": {
    "colab": {
     "base_uri": "https://localhost:8080/"
    },
    "id": "eX0_ExdKsEvO",
    "outputId": "c57db50b-438b-434d-d21f-f6473ddc103b"
   },
   "outputs": [],
   "source": [
    "varr2 = var1 # passing by reference\n",
    "print(varr2)"
   ]
  },
  {
   "cell_type": "code",
   "execution_count": null,
   "metadata": {
    "colab": {
     "base_uri": "https://localhost:8080/"
    },
    "id": "8DJm8fXmogTM",
    "outputId": "2371629e-2868-47ef-bc5e-a9fad11be954"
   },
   "outputs": [],
   "source": [
    "# Another way\n",
    "print(var1)"
   ]
  },
  {
   "cell_type": "code",
   "execution_count": null,
   "metadata": {
    "id": "8yYvXcsQogTN"
   },
   "outputs": [],
   "source": [
    "# assigning integer value to the variable.\n",
    "var2 = 123"
   ]
  },
  {
   "cell_type": "code",
   "execution_count": null,
   "metadata": {
    "colab": {
     "base_uri": "https://localhost:8080/"
    },
    "id": "L-Aj8HTHogTN",
    "outputId": "b0898363-42a2-45b1-dbe8-ed97524231e3"
   },
   "outputs": [],
   "source": [
    "var2"
   ]
  },
  {
   "cell_type": "code",
   "execution_count": null,
   "metadata": {
    "colab": {
     "base_uri": "https://localhost:8080/"
    },
    "id": "RhUBlDQOogTO",
    "outputId": "5629fb72-1304-4eb5-92ad-25471e81b2ef"
   },
   "outputs": [],
   "source": [
    "#floating variable\n",
    "var3 = 1.234455454\n",
    "var3"
   ]
  },
  {
   "cell_type": "code",
   "execution_count": null,
   "metadata": {
    "colab": {
     "base_uri": "https://localhost:8080/"
    },
    "id": "ImhqwNbLogTP",
    "outputId": "d20d55cc-36f5-42cd-daad-35916ded3fff"
   },
   "outputs": [],
   "source": [
    "# Boolean Variable\n",
    "var4 = True\n",
    "var5 = False\n",
    "print(var4,var5)"
   ]
  },
  {
   "cell_type": "code",
   "execution_count": null,
   "metadata": {
    "colab": {
     "base_uri": "https://localhost:8080/",
     "height": 35
    },
    "id": "IU2DOnHLogTP",
    "outputId": "a39cf67b-8b91-492e-f7e6-64cc0e64dc44"
   },
   "outputs": [],
   "source": [
    "# assigning String value to the variable.\n",
    "var6 = \"this is a string\"\n",
    "var6"
   ]
  },
  {
   "cell_type": "code",
   "execution_count": null,
   "metadata": {
    "colab": {
     "base_uri": "https://localhost:8080/"
    },
    "id": "KO3CWYD0rIbA",
    "outputId": "ab54be0f-13dc-43c7-d88d-4dea30fc7d81"
   },
   "outputs": [],
   "source": [
    "id(var6)"
   ]
  },
  {
   "cell_type": "code",
   "execution_count": null,
   "metadata": {
    "colab": {
     "base_uri": "https://localhost:8080/",
     "height": 35
    },
    "id": "JHO0b0aSogTQ",
    "outputId": "a44c249a-6285-4ced-c1e5-001ba86fe435"
   },
   "outputs": [],
   "source": [
    "# Concatinating two string with no single character space b/w them\n",
    "var7 = \"with second string\"\n",
    "var6+var7"
   ]
  },
  {
   "cell_type": "code",
   "execution_count": null,
   "metadata": {
    "colab": {
     "base_uri": "https://localhost:8080/"
    },
    "id": "JhbBZI3-ogTQ",
    "outputId": "d06d95ac-55d5-4117-ef6f-7a18a226302e"
   },
   "outputs": [],
   "source": [
    "'''When replacing with comma b/w them\n",
    "it will create single character space b/w the string'''\n",
    "print(var6,var7)"
   ]
  },
  {
   "cell_type": "code",
   "execution_count": null,
   "metadata": {
    "colab": {
     "base_uri": "https://localhost:8080/"
    },
    "id": "R0Xo1c1BogTQ",
    "outputId": "dff8d625-e873-4b21-ead3-b418ff19246f"
   },
   "outputs": [],
   "source": [
    "# Finding type data types of variale.\n",
    "type(var1)\n"
   ]
  },
  {
   "cell_type": "code",
   "execution_count": null,
   "metadata": {
    "colab": {
     "base_uri": "https://localhost:8080/"
    },
    "id": "UVOSDKDtogTR",
    "outputId": "19e5479f-f4b0-4047-8d42-81f8d2f20231"
   },
   "outputs": [],
   "source": [
    "type(var2)"
   ]
  },
  {
   "cell_type": "code",
   "execution_count": null,
   "metadata": {
    "colab": {
     "base_uri": "https://localhost:8080/"
    },
    "id": "6ThjfTn7ogTR",
    "outputId": "8a9a83b9-c362-4c50-cc05-86e1717bfe5a"
   },
   "outputs": [],
   "source": [
    "type(var3)"
   ]
  },
  {
   "cell_type": "code",
   "execution_count": null,
   "metadata": {
    "colab": {
     "base_uri": "https://localhost:8080/"
    },
    "id": "IvNLCdjHogTR",
    "outputId": "5dea009f-b1b1-4baa-8946-4b20f97ceae0"
   },
   "outputs": [],
   "source": [
    "type(var4)"
   ]
  },
  {
   "cell_type": "code",
   "execution_count": null,
   "metadata": {
    "colab": {
     "base_uri": "https://localhost:8080/"
    },
    "id": "L828JxAEogTR",
    "outputId": "053d572a-8834-49d4-edb6-42d25e4851f5"
   },
   "outputs": [],
   "source": [
    "type(var5)"
   ]
  },
  {
   "cell_type": "code",
   "execution_count": null,
   "metadata": {
    "colab": {
     "base_uri": "https://localhost:8080/"
    },
    "id": "QtBNNa2bogTS",
    "outputId": "2c96d08b-6c3a-450d-dd9a-1bc2918f4f80"
   },
   "outputs": [],
   "source": [
    "type(var6)"
   ]
  },
  {
   "cell_type": "code",
   "execution_count": null,
   "metadata": {
    "colab": {
     "base_uri": "https://localhost:8080/"
    },
    "id": "ctjT2k5irfFY",
    "outputId": "3fd150cc-e588-45df-bf35-3271bd0ca66c"
   },
   "outputs": [],
   "source": [
    "#finding class of varriable type \n",
    "print(type(var6))"
   ]
  },
  {
   "cell_type": "code",
   "execution_count": null,
   "metadata": {
    "colab": {
     "base_uri": "https://localhost:8080/"
    },
    "id": "EcoVnv1Msf-X",
    "outputId": "2359892b-c4d9-4821-855a-8c019c12a10b"
   },
   "outputs": [],
   "source": [
    "#checking variable equality\n",
    "id(var1)==id(varr2)"
   ]
  },
  {
   "cell_type": "code",
   "execution_count": null,
   "metadata": {
    "colab": {
     "base_uri": "https://localhost:8080/"
    },
    "id": "2l9p4nqJs9GV",
    "outputId": "c2fba602-5377-4011-ef49-75dd8857bf8c"
   },
   "outputs": [],
   "source": [
    "# finding index number in the string\n",
    "varrr3 = \"Pakistan\"\n",
    "varrr3.find('s') "
   ]
  },
  {
   "cell_type": "code",
   "execution_count": null,
   "metadata": {
    "colab": {
     "base_uri": "https://localhost:8080/"
    },
    "id": "X-YRS6ONt42W",
    "outputId": "4e3d5fd2-ff24-4700-a53f-e6485599b54c"
   },
   "outputs": [],
   "source": [
    "# finding lenght of variable\n",
    "len(varr3)"
   ]
  },
  {
   "cell_type": "code",
   "execution_count": null,
   "metadata": {
    "colab": {
     "base_uri": "https://localhost:8080/"
    },
    "id": "ry2wKfAnuJ1E",
    "outputId": "cb5c4a18-2900-420b-f06a-3d883d603c7f"
   },
   "outputs": [],
   "source": [
    "# Concatinating two String\n",
    "name = \"pakistan\"\n",
    "dobyear = 1947\n",
    "\n",
    "print(\"my name is \"+name+\" and my birth year is \"+str(dobyear))"
   ]
  },
  {
   "cell_type": "code",
   "execution_count": null,
   "metadata": {
    "id": "SAE9OZc8vS_l"
   },
   "outputs": [],
   "source": []
  },
  {
   "cell_type": "markdown",
   "metadata": {
    "id": "vbXOZLSHogTS"
   },
   "source": [
    "# Arrays"
   ]
  },
  {
   "cell_type": "code",
   "execution_count": null,
   "metadata": {
    "colab": {
     "base_uri": "https://localhost:8080/"
    },
    "id": "ydatz4tBogTS",
    "outputId": "df5805a5-9aed-4342-afad-b280471464ea"
   },
   "outputs": [],
   "source": [
    "dishes = [\"Biryani\", \"Qourma\", \"meetha\"]\n",
    "dishes\n",
    "\n",
    "# dishes is the array variable and inside the bracket is its elements."
   ]
  },
  {
   "cell_type": "code",
   "execution_count": null,
   "metadata": {
    "id": "sdzWNwq-ogTS"
   },
   "outputs": [],
   "source": [
    "# Replacing a Value of element in an array.\n",
    "dishes[0] = \"Qabab\""
   ]
  },
  {
   "cell_type": "code",
   "execution_count": null,
   "metadata": {
    "colab": {
     "base_uri": "https://localhost:8080/",
     "height": 35
    },
    "id": "DHSueRBSogTS",
    "outputId": "a2f29b2b-9939-4e58-af67-7adce7de5c6e"
   },
   "outputs": [],
   "source": [
    "# calling a single element. \n",
    "x = dishes[0]\n",
    "x"
   ]
  },
  {
   "cell_type": "code",
   "execution_count": null,
   "metadata": {
    "colab": {
     "base_uri": "https://localhost:8080/"
    },
    "id": "K8qpKRx0ogTT",
    "outputId": "f17255c2-33bd-4642-e0f6-d75bd9c62145"
   },
   "outputs": [],
   "source": [
    "# Finding lenght of an array.\n",
    "len(dishes)"
   ]
  },
  {
   "cell_type": "code",
   "execution_count": null,
   "metadata": {
    "colab": {
     "base_uri": "https://localhost:8080/"
    },
    "id": "VUJ6VxylogTT",
    "outputId": "3414741f-36e0-493d-e4d9-eb8b66fdf4b4"
   },
   "outputs": [],
   "source": [
    "# Adding a new element in an array list.\n",
    "dishes.append(\"kheer\")\n",
    "dishes"
   ]
  },
  {
   "cell_type": "code",
   "execution_count": null,
   "metadata": {
    "colab": {
     "base_uri": "https://localhost:8080/"
    },
    "id": "_GNA-yJCogTT",
    "outputId": "6f10c4a7-e0df-4cde-958e-7414a8a90b4a"
   },
   "outputs": [],
   "source": [
    "# Deleting an element in an array by using index number.\n",
    "dishes.pop(2)\n",
    "dishes"
   ]
  },
  {
   "cell_type": "code",
   "execution_count": null,
   "metadata": {
    "colab": {
     "base_uri": "https://localhost:8080/"
    },
    "id": "ZTCB8xOFogTT",
    "outputId": "ad886b32-ef75-4f2a-8bfb-39a06356a46b"
   },
   "outputs": [],
   "source": [
    "# Deleting an element in an array by using element name.\n",
    "dishes.remove(\"kheer\")\n",
    "dishes"
   ]
  },
  {
   "cell_type": "code",
   "execution_count": null,
   "metadata": {
    "colab": {
     "base_uri": "https://localhost:8080/"
    },
    "id": "hrtODQgsogTU",
    "outputId": "d64482d3-d3b6-45af-d4f3-dab80453924c"
   },
   "outputs": [],
   "source": [
    "dishes"
   ]
  },
  {
   "cell_type": "code",
   "execution_count": null,
   "metadata": {
    "colab": {
     "base_uri": "https://localhost:8080/"
    },
    "id": "Qql9gsSgogTU",
    "outputId": "0fb16df1-9b7b-4413-95f2-42a794749ce4"
   },
   "outputs": [],
   "source": [
    "# Making new list by copying element form the old list.\n",
    "x = dishes.copy()\n",
    "x"
   ]
  },
  {
   "cell_type": "code",
   "execution_count": null,
   "metadata": {
    "id": "twW9-Wa3ogTU"
   },
   "outputs": [],
   "source": [
    "# Clear all element from of the list.\n",
    "x.clear()"
   ]
  },
  {
   "cell_type": "code",
   "execution_count": null,
   "metadata": {
    "colab": {
     "base_uri": "https://localhost:8080/"
    },
    "id": "Q0iaDB6jogTU",
    "outputId": "4e827217-13d9-4632-f4e1-ff6714c60491"
   },
   "outputs": [],
   "source": [
    "x"
   ]
  },
  {
   "cell_type": "code",
   "execution_count": null,
   "metadata": {
    "colab": {
     "base_uri": "https://localhost:8080/"
    },
    "id": "HQbjwo7BogTU",
    "outputId": "68c18e97-8522-48f5-d83d-983cefeb5ee9"
   },
   "outputs": [],
   "source": [
    "int_list = (1,2,3,4)\n",
    "int_list"
   ]
  },
  {
   "cell_type": "code",
   "execution_count": null,
   "metadata": {
    "id": "0dtmyOhGogTV"
   },
   "outputs": [],
   "source": [
    "# Adding new list to the old list(by adding separate elemnets).\n",
    "dishes.extend(int_list)"
   ]
  },
  {
   "cell_type": "code",
   "execution_count": null,
   "metadata": {
    "colab": {
     "base_uri": "https://localhost:8080/"
    },
    "id": "8W0iw_iEogTV",
    "outputId": "4643589e-b3f3-4e6d-8cbb-158f23aae5d1"
   },
   "outputs": [],
   "source": [
    "dishes"
   ]
  },
  {
   "cell_type": "code",
   "execution_count": null,
   "metadata": {
    "id": "FUP8FqUuogTV"
   },
   "outputs": [],
   "source": [
    "# Adding a new element into the list with specific index.\n",
    "dishes.insert(1,\"Chicken biryani\")"
   ]
  },
  {
   "cell_type": "code",
   "execution_count": null,
   "metadata": {
    "colab": {
     "base_uri": "https://localhost:8080/"
    },
    "id": "livCSH_QogTV",
    "outputId": "4765bb17-f937-461d-8542-97407e27da21"
   },
   "outputs": [],
   "source": [
    "dishes"
   ]
  },
  {
   "cell_type": "code",
   "execution_count": null,
   "metadata": {
    "id": "WGP5_tlwogTV"
   },
   "outputs": [],
   "source": [
    "# Reversing a list\n",
    "dishes.reverse()"
   ]
  },
  {
   "cell_type": "code",
   "execution_count": null,
   "metadata": {
    "colab": {
     "base_uri": "https://localhost:8080/"
    },
    "id": "-TvtkPTbogTV",
    "outputId": "27b7acc1-459d-48ce-b1ff-a001cac726eb"
   },
   "outputs": [],
   "source": [
    "dishes"
   ]
  },
  {
   "cell_type": "code",
   "execution_count": null,
   "metadata": {
    "colab": {
     "base_uri": "https://localhost:8080/"
    },
    "id": "WiLV1hecogTW",
    "outputId": "aeb655b2-ac68-4986-f2ff-b1d3f69c4beb"
   },
   "outputs": [],
   "source": [
    "# Another way of removing element.\n",
    "del dishes[0]\n",
    "dishes"
   ]
  },
  {
   "cell_type": "code",
   "execution_count": null,
   "metadata": {
    "colab": {
     "base_uri": "https://localhost:8080/"
    },
    "id": "LDJaCIOlogTW",
    "outputId": "685550c7-b8f0-49ea-89ad-2c8176b41de1"
   },
   "outputs": [],
   "source": [
    "# first Way of joining two list.\n",
    "list2 = [1,2,3,4]\n",
    "list3 = list2 + dishes\n",
    "print(list3)"
   ]
  },
  {
   "cell_type": "code",
   "execution_count": null,
   "metadata": {
    "id": "JL51tXqEqp7R"
   },
   "outputs": [],
   "source": []
  },
  {
   "cell_type": "markdown",
   "metadata": {
    "id": "mZgJtBufogTW"
   },
   "source": [
    "# Tuples"
   ]
  },
  {
   "cell_type": "markdown",
   "metadata": {
    "id": "ggM1BnaqogTW"
   },
   "source": []
  },
  {
   "cell_type": "code",
   "execution_count": null,
   "metadata": {
    "colab": {
     "base_uri": "https://localhost:8080/"
    },
    "id": "Cugmuw1togTW",
    "outputId": "bcc9b2fd-4c51-44a3-dfb5-5a91ccff36c8"
   },
   "outputs": [],
   "source": [
    "tuple1 = (1,2,3)\n",
    "print(tuple1)"
   ]
  },
  {
   "cell_type": "code",
   "execution_count": null,
   "metadata": {
    "colab": {
     "base_uri": "https://localhost:8080/"
    },
    "id": "Fi8ihjPdogTX",
    "outputId": "f6e581f1-9a33-4990-e4af-b003f4939627"
   },
   "outputs": [],
   "source": [
    "tuple2 = (\"A\",\"B\",\"C\")\n",
    "tuple2"
   ]
  },
  {
   "cell_type": "code",
   "execution_count": null,
   "metadata": {
    "colab": {
     "base_uri": "https://localhost:8080/"
    },
    "id": "9eVyP07vLgLj",
    "outputId": "0f7fe726-c28d-4d43-a080-fcd93c648ad9"
   },
   "outputs": [],
   "source": [
    "type(tuple1)"
   ]
  },
  {
   "cell_type": "code",
   "execution_count": null,
   "metadata": {
    "colab": {
     "base_uri": "https://localhost:8080/"
    },
    "id": "2tvgJusaLr4b",
    "outputId": "07d93ef4-4d46-4e99-cc9b-8d0eefb49e19"
   },
   "outputs": [],
   "source": [
    "# convert list to tuple\n",
    "list_to_tuple = list(tuple1)\n",
    "list_to_tuple "
   ]
  },
  {
   "cell_type": "markdown",
   "metadata": {
    "id": "kY8f4TqxogTX"
   },
   "source": [
    "## Set\n",
    "A set is a collection which is unordered and unindexed"
   ]
  },
  {
   "cell_type": "code",
   "execution_count": null,
   "metadata": {
    "colab": {
     "base_uri": "https://localhost:8080/"
    },
    "id": "Ar4GqFaaogTX",
    "outputId": "771310e9-d208-471c-ee86-f02a54e66236"
   },
   "outputs": [],
   "source": [
    "varset = {\"how\", \"are\", \"you\"}\n",
    "print(varset)"
   ]
  },
  {
   "cell_type": "code",
   "execution_count": null,
   "metadata": {
    "colab": {
     "base_uri": "https://localhost:8080/"
    },
    "id": "hm9vBqYvogTX",
    "outputId": "373c89d3-d490-4c5b-d4b7-bc40181a5a06"
   },
   "outputs": [],
   "source": [
    "# Checking condition.\n",
    "print(\"are\" in  varset)"
   ]
  },
  {
   "cell_type": "code",
   "execution_count": null,
   "metadata": {
    "id": "2aHJM6c2ogTX"
   },
   "outputs": [],
   "source": [
    "# Adding an item in the set.\n",
    "\n",
    "varset.add(\"world\")"
   ]
  },
  {
   "cell_type": "code",
   "execution_count": null,
   "metadata": {
    "colab": {
     "base_uri": "https://localhost:8080/"
    },
    "id": "nL-JxjL3ogTY",
    "outputId": "fd16cc67-9100-4f9d-9442-b420ee2768a5"
   },
   "outputs": [],
   "source": [
    "varset"
   ]
  },
  {
   "cell_type": "code",
   "execution_count": null,
   "metadata": {
    "colab": {
     "base_uri": "https://localhost:8080/"
    },
    "id": "LNYMiZL0ogTY",
    "outputId": "a6d9fa49-cd26-4689-ff0f-549e369672d9"
   },
   "outputs": [],
   "source": [
    "# Add multiple items to a set\n",
    "\n",
    "varset.update([\"I\",\"am\",\"fine\"])\n",
    "varset"
   ]
  },
  {
   "cell_type": "code",
   "execution_count": null,
   "metadata": {
    "colab": {
     "base_uri": "https://localhost:8080/"
    },
    "id": "cBnZL7HWogTY",
    "outputId": "93150e77-bf42-4567-d2f2-6de855675a5b"
   },
   "outputs": [],
   "source": [
    "# Removing item in the set.\n",
    "\"\"\"varset.remove(\"are\")\n",
    "varset\"\"\"\n",
    "# set does'nt support remove function."
   ]
  },
  {
   "cell_type": "code",
   "execution_count": null,
   "metadata": {
    "colab": {
     "base_uri": "https://localhost:8080/"
    },
    "id": "q6hDYyMhogTY",
    "outputId": "470b2810-b32a-4246-bfdc-1d3db2d0a884"
   },
   "outputs": [],
   "source": [
    "varset.discard(\"are\")\n",
    "varset"
   ]
  },
  {
   "cell_type": "markdown",
   "metadata": {
    "id": "5G1hzFrDogTY"
   },
   "source": [
    "# Dictionary\n",
    "A dictionary is a collection which is unordered, changeable and indexed.\n",
    "In Python dictionaries are written with curly brackets, and they have keys and values."
   ]
  },
  {
   "cell_type": "code",
   "execution_count": null,
   "metadata": {
    "colab": {
     "base_uri": "https://localhost:8080/"
    },
    "id": "LLHMlnzBogTZ",
    "outputId": "c49f9dac-d115-4fd1-d11a-e3c7024a527b"
   },
   "outputs": [],
   "source": [
    "dict1 = {\"key\": \"Locker\", \"fruit\":\"apple\", \"mango\": \"Chausa\"}\n",
    "dict1"
   ]
  },
  {
   "cell_type": "code",
   "execution_count": null,
   "metadata": {
    "colab": {
     "base_uri": "https://localhost:8080/"
    },
    "id": "eYpIGL8togTZ",
    "outputId": "25a27468-a5f4-44d4-c205-995f047209ed"
   },
   "outputs": [],
   "source": [
    "x = dict1[\"key\"]\n",
    "x"
   ]
  },
  {
   "cell_type": "code",
   "execution_count": null,
   "metadata": {
    "colab": {
     "base_uri": "https://localhost:8080/"
    },
    "id": "CWjGJsfcogTZ",
    "outputId": "fb79194f-939c-4f02-cdd3-b427342afda0"
   },
   "outputs": [],
   "source": [
    "x = dict1.get(\"key\")\n",
    "x"
   ]
  },
  {
   "cell_type": "code",
   "execution_count": null,
   "metadata": {
    "colab": {
     "base_uri": "https://localhost:8080/"
    },
    "id": "6v6FPO-cogTZ",
    "outputId": "bebacc1d-c237-4e21-f66f-5265a192c0e0"
   },
   "outputs": [],
   "source": [
    "#Another way of creating dictionaries.\n",
    "dict2 = dict(brand=\"Ford\", model=\"Mustang\", year=1964)\n",
    "dict2"
   ]
  },
  {
   "cell_type": "code",
   "execution_count": null,
   "metadata": {
    "id": "PCcdrv76ogTa"
   },
   "outputs": [],
   "source": [
    "# Assigning different value to the key.\n",
    "dict1[\"fruit\"] = \"Orange\""
   ]
  },
  {
   "cell_type": "code",
   "execution_count": null,
   "metadata": {
    "colab": {
     "base_uri": "https://localhost:8080/"
    },
    "id": "UoYba389ogTa",
    "outputId": "428cfee5-20a9-44be-a8b8-23c6aa7c15d1"
   },
   "outputs": [],
   "source": [
    "dict1"
   ]
  },
  {
   "cell_type": "code",
   "execution_count": null,
   "metadata": {
    "colab": {
     "base_uri": "https://localhost:8080/"
    },
    "id": "eDGswgqjogTa",
    "outputId": "72f41e26-b594-412e-b57f-a77da70d41a8"
   },
   "outputs": [],
   "source": [
    "# Adding item in the dictionary.\n",
    "dict1"
   ]
  },
  {
   "cell_type": "code",
   "execution_count": null,
   "metadata": {
    "id": "MIBFczYKogTa"
   },
   "outputs": [],
   "source": [
    "dict1[\"colour\"] = \"Red\""
   ]
  },
  {
   "cell_type": "code",
   "execution_count": null,
   "metadata": {
    "colab": {
     "base_uri": "https://localhost:8080/"
    },
    "id": "38iRoujpogTa",
    "outputId": "3ab189e1-5d22-404d-dbeb-e18d930fcb10"
   },
   "outputs": [],
   "source": [
    "dict1"
   ]
  },
  {
   "cell_type": "code",
   "execution_count": null,
   "metadata": {
    "colab": {
     "base_uri": "https://localhost:8080/"
    },
    "id": "I9f1vbUPogTa",
    "outputId": "32fa8427-0dc3-4265-eaaf-2d242510baf4"
   },
   "outputs": [],
   "source": [
    "# Removing item with the specific key name in the dictionary.\n",
    "dict1.pop(\"key\")"
   ]
  },
  {
   "cell_type": "code",
   "execution_count": null,
   "metadata": {
    "colab": {
     "base_uri": "https://localhost:8080/"
    },
    "id": "owCIUgxDogTb",
    "outputId": "1d0a89fc-6e75-433a-ad42-7bb7a6ba177e"
   },
   "outputs": [],
   "source": [
    "dict1\n",
    "# Another wayof removing item by del keyword."
   ]
  },
  {
   "cell_type": "markdown",
   "metadata": {
    "id": "RSqRzPx0ogTb"
   },
   "source": [
    "### Nested dictionary"
   ]
  },
  {
   "cell_type": "code",
   "execution_count": null,
   "metadata": {
    "colab": {
     "base_uri": "https://localhost:8080/"
    },
    "id": "IRy1LW-hogTb",
    "outputId": "5a0303e5-2d16-4bf1-b927-db9153388e6e"
   },
   "outputs": [],
   "source": [
    "Courses = {\n",
    "  \"course1\" : {\n",
    "    \"name\" : \"OS\",\n",
    "    \"year\" : 2019\n",
    "  },\n",
    "  \"course2\" : {\n",
    "    \"name\" : \"WE\",\n",
    "    \"year\" : 2019\n",
    "  },\n",
    "  \"course3\" : {\n",
    "    \"name\" : \"DBMS\",\n",
    "    \"year\" : 2019\n",
    "  }\n",
    "}\n",
    "Courses"
   ]
  },
  {
   "cell_type": "code",
   "execution_count": null,
   "metadata": {
    "colab": {
     "base_uri": "https://localhost:8080/"
    },
    "id": "_w_OtbdvogTb",
    "outputId": "522f6a5e-0e28-48d8-9dae-c612a2d065ee"
   },
   "outputs": [],
   "source": [
    "# Another way of nesting a dictionaries.\n",
    "course1 = {\n",
    "    \"name\" : \"OS\",\n",
    "    \"year\" : 2019\n",
    "  }\n",
    "course2 = {\n",
    "    \"name\" : \"WE\",\n",
    "    \"year\" : 2019\n",
    "  }\n",
    "course3 = {\n",
    "    \"name\" : \"DBMS\",\n",
    "    \"year\" : 2019\n",
    "  }\n",
    "Course = {\n",
    "    \"mycourse1\": course1,\n",
    "    \"mycourse2\": course2,\n",
    "}\n",
    "Course"
   ]
  },
  {
   "cell_type": "markdown",
   "metadata": {
    "id": "aI20-HRXogTc"
   },
   "source": [
    "# (Conditions)"
   ]
  },
  {
   "cell_type": "markdown",
   "metadata": {
    "id": "f4gYiHy1ogTc"
   },
   "source": [
    "### if else"
   ]
  },
  {
   "cell_type": "code",
   "execution_count": null,
   "metadata": {
    "colab": {
     "base_uri": "https://localhost:8080/"
    },
    "id": "nPaBjEcWogTc",
    "outputId": "72f4401a-d532-48f5-e4c2-f96a7a36d9e1"
   },
   "outputs": [],
   "source": [
    "a = 55\n",
    "b = 44\n",
    "if b < a:\n",
    "    print(\"a is greater than  b\")\n",
    "else:\n",
    "    print(\"b is greater than a\")"
   ]
  },
  {
   "cell_type": "markdown",
   "metadata": {
    "id": "9LBUZR_3ogTc"
   },
   "source": [
    "### Elif"
   ]
  },
  {
   "cell_type": "code",
   "execution_count": null,
   "metadata": {
    "colab": {
     "base_uri": "https://localhost:8080/"
    },
    "id": "lXu-hm8kogTc",
    "outputId": "0608269b-f9d3-407e-c549-177e355aed80"
   },
   "outputs": [],
   "source": [
    "a = 65\n",
    "b = 78\n",
    "if a > b:\n",
    "    print(\"a is greater than b \")\n",
    "elif b > a:\n",
    "    print(\"b is greater than a \")\n",
    "else:\n",
    "    print(\"Nothing to show u\")"
   ]
  },
  {
   "cell_type": "markdown",
   "metadata": {
    "id": "B4TIbP5_ogTc"
   },
   "source": [
    "### short cut if else"
   ]
  },
  {
   "cell_type": "code",
   "execution_count": null,
   "metadata": {
    "colab": {
     "base_uri": "https://localhost:8080/"
    },
    "id": "xhIPKZK7ogTd",
    "outputId": "7a1ffd68-c7d3-4c12-e27c-46e622fe3f9d"
   },
   "outputs": [],
   "source": [
    "a = 3\n",
    "b = 2\n",
    "print(\"a is greater than b \") if a > b else print(\"b is greater than a \")"
   ]
  },
  {
   "cell_type": "markdown",
   "metadata": {
    "id": "1_jeHfxAogTd"
   },
   "source": [
    "### short Three condition at an time"
   ]
  },
  {
   "cell_type": "code",
   "execution_count": null,
   "metadata": {
    "colab": {
     "base_uri": "https://localhost:8080/"
    },
    "id": "bwFRBSmsogTd",
    "outputId": "ba366056-3fc9-474d-9c4e-ffd5bc51c8c6"
   },
   "outputs": [],
   "source": [
    "a = 330\n",
    "b = 330\n",
    "#(first condition)  (---second condition---)  (third condition)       \n",
    "print(\"A\") if a > b else print(\"=\") if a == b else print(\"B\")"
   ]
  },
  {
   "cell_type": "markdown",
   "metadata": {
    "id": "PtUJgcRzogTd"
   },
   "source": [
    "### And"
   ]
  },
  {
   "cell_type": "code",
   "execution_count": null,
   "metadata": {
    "colab": {
     "base_uri": "https://localhost:8080/"
    },
    "id": "sWbI8hR8ogTd",
    "outputId": "9d73b994-0a3e-4e02-cb14-e29329b03dfc"
   },
   "outputs": [],
   "source": [
    "a = 1\n",
    "b = 2\n",
    "c = 3\n",
    "if c > b and b > a:\n",
    "    print(\"Condition satisfied\")\n",
    "else:\n",
    "    print(\"Not satisfied\")"
   ]
  },
  {
   "cell_type": "markdown",
   "metadata": {
    "id": "Ho2uSnSRogTe"
   },
   "source": [
    "### Or"
   ]
  },
  {
   "cell_type": "code",
   "execution_count": null,
   "metadata": {
    "colab": {
     "base_uri": "https://localhost:8080/"
    },
    "id": "kE7bIQcCogTe",
    "outputId": "79f510f3-a67c-474f-8a41-575a34cfbe09"
   },
   "outputs": [],
   "source": [
    "a = 1\n",
    "b = 2\n",
    "c = 3\n",
    "if c > b or b > a or c > a:\n",
    "    print(\"Condition satisfied\")\n",
    "else:\n",
    "    print(\"Not satisfied\")"
   ]
  },
  {
   "cell_type": "markdown",
   "metadata": {
    "id": "hMyWT2-IogTe"
   },
   "source": [
    "## Nested if-else"
   ]
  },
  {
   "cell_type": "code",
   "execution_count": null,
   "metadata": {
    "colab": {
     "base_uri": "https://localhost:8080/"
    },
    "id": "9AZRnhEuogTe",
    "outputId": "a2ffd8bf-d1ac-43da-81ec-0c6f614a4cc6"
   },
   "outputs": [],
   "source": [
    "a = 100\n",
    "if a > 40:\n",
    "    if a > 90:\n",
    "        print(a)\n",
    "else:\n",
    "    print(\"a is not valid\")\n"
   ]
  },
  {
   "cell_type": "markdown",
   "metadata": {
    "id": "yPdmOnX2ogTe"
   },
   "source": [
    "# while loop"
   ]
  },
  {
   "cell_type": "code",
   "execution_count": null,
   "metadata": {
    "colab": {
     "base_uri": "https://localhost:8080/"
    },
    "id": "ahas61W7ogTf",
    "outputId": "c1afb389-3201-4435-b1a8-3e5068fe896b"
   },
   "outputs": [],
   "source": [
    "# Generating number from 1-10 using while loop.\n",
    "i = 1\n",
    "while i < 11:\n",
    "    print(i)\n",
    "    i+= 1"
   ]
  },
  {
   "cell_type": "code",
   "execution_count": null,
   "metadata": {
    "colab": {
     "base_uri": "https://localhost:8080/"
    },
    "id": "4ers-mhSogTf",
    "outputId": "287a44dd-1cc2-4194-b431-c26ab21afb77"
   },
   "outputs": [],
   "source": [
    "# Using break staement in while loop.\n",
    "i = 1\n",
    "while i < 11:\n",
    "    i+= 1\n",
    "    if i == 5:\n",
    "        break\n",
    "    print(i)"
   ]
  },
  {
   "cell_type": "code",
   "execution_count": null,
   "metadata": {
    "colab": {
     "base_uri": "https://localhost:8080/"
    },
    "id": "yo75IZrqogTf",
    "outputId": "1f6e8c83-3fec-41ec-c11e-2c90822138e4"
   },
   "outputs": [],
   "source": [
    "# Using continue staement in while loop.\n",
    "i = 1\n",
    "while i < 11:\n",
    "    i+= 1\n",
    "    if i == 5:\n",
    "        continue\n",
    "    print(i)"
   ]
  },
  {
   "cell_type": "markdown",
   "metadata": {
    "id": "cgKd6JrGogTg"
   },
   "source": [
    "# For Loop"
   ]
  },
  {
   "cell_type": "code",
   "execution_count": null,
   "metadata": {
    "colab": {
     "base_uri": "https://localhost:8080/"
    },
    "id": "TvKk2RlYw0JB",
    "outputId": "54f2233c-70ce-4ec8-c3be-4ebfbc9f611e"
   },
   "outputs": [],
   "source": [
    "#working with basic loop\n",
    "\n",
    "for a in range(5):\n",
    "  #indent\n",
    "  print(a, \"Usama\")"
   ]
  },
  {
   "cell_type": "code",
   "execution_count": null,
   "metadata": {
    "colab": {
     "base_uri": "https://localhost:8080/"
    },
    "id": "LHC1SseHxpNR",
    "outputId": "b7e5f9c4-f323-45f2-b456-3b47180fec1e"
   },
   "outputs": [],
   "source": [
    "#printing single charaacter fromstrijg\n",
    "for char in \"pakistanzindabad\":\n",
    "  print(char.upper())"
   ]
  },
  {
   "cell_type": "code",
   "execution_count": null,
   "metadata": {
    "colab": {
     "base_uri": "https://localhost:8080/"
    },
    "id": "ByCRG12cyGwJ",
    "outputId": "9f32a3b6-5b77-402c-b80c-2046b32aba4d"
   },
   "outputs": [],
   "source": [
    "#printing single charaacter fromstrijg\n",
    "for char in \"pakistanzindabad\":\n",
    "  print(char.upper(), end=\"\")"
   ]
  },
  {
   "cell_type": "code",
   "execution_count": null,
   "metadata": {
    "colab": {
     "base_uri": "https://localhost:8080/"
    },
    "id": "zAQQqN4UyJc5",
    "outputId": "ab7b86e1-e24f-4167-cfa9-13ba1b702786"
   },
   "outputs": [],
   "source": [
    "# printing list from loop.\n",
    "for student in [\"usama\", \"rameez\", \"ali\", \"ather\"]:\n",
    "  print(f\"the name of the stuidnetg is {student}\")"
   ]
  },
  {
   "cell_type": "code",
   "execution_count": null,
   "metadata": {
    "colab": {
     "base_uri": "https://localhost:8080/"
    },
    "id": "CMqsuY-syp9Y",
    "outputId": "467afda4-cbdf-424b-9c3b-36277510eb9d"
   },
   "outputs": [],
   "source": [
    "# printing form specefic range\n",
    "for num in range(1,10):\n",
    "  print(num)"
   ]
  },
  {
   "cell_type": "code",
   "execution_count": null,
   "metadata": {
    "colab": {
     "base_uri": "https://localhost:8080/"
    },
    "id": "o5Kr-49Py1cw",
    "outputId": "5a6f76eb-f13f-4e9d-a00a-f8155f2325bd"
   },
   "outputs": [],
   "source": [
    "# printing number form specefic range with step\n",
    "for num in range(1,10,2):\n",
    "  print(num)"
   ]
  },
  {
   "cell_type": "code",
   "execution_count": null,
   "metadata": {
    "colab": {
     "base_uri": "https://localhost:8080/"
    },
    "id": "4u3ciAFAzE-g",
    "outputId": "31aef1d6-4e0a-4451-ace6-c7f335cf19ce"
   },
   "outputs": [],
   "source": [
    "# printing number form specefic range with step in reverse order\n",
    "for num in range(10,0,-1):\n",
    "  print(num)"
   ]
  },
  {
   "cell_type": "code",
   "execution_count": null,
   "metadata": {
    "id": "sFiR5OE8zlUn"
   },
   "outputs": [],
   "source": [
    "# printing nam eiht other string\n",
    "student_list  = [\"usama\", \"rameez\", \"ali\", \"ather\"]\n"
   ]
  },
  {
   "cell_type": "code",
   "execution_count": null,
   "metadata": {
    "colab": {
     "base_uri": "https://localhost:8080/"
    },
    "id": "3rXQzcwDzU2m",
    "outputId": "1fc34c3f-017d-4814-cb92-7600c95594d6"
   },
   "outputs": [],
   "source": [
    "for i in student_list:\n",
    "  print(i, \"pakistani\")"
   ]
  },
  {
   "cell_type": "code",
   "execution_count": null,
   "metadata": {
    "id": "8k1tERXH2cAu"
   },
   "outputs": [],
   "source": []
  },
  {
   "cell_type": "code",
   "execution_count": null,
   "metadata": {
    "id": "orzcDcJF09_m"
   },
   "outputs": [],
   "source": [
    "emptylist = []\n",
    "for i in student_list:\n",
    "  emptylist.append(f\"{i} pakistani\")"
   ]
  },
  {
   "cell_type": "code",
   "execution_count": null,
   "metadata": {
    "colab": {
     "base_uri": "https://localhost:8080/"
    },
    "id": "L8N6tPHU2EQt",
    "outputId": "bd60360f-9f43-4052-fd6d-209ea150a8b4"
   },
   "outputs": [],
   "source": [
    "print(emptylist)"
   ]
  },
  {
   "cell_type": "code",
   "execution_count": null,
   "metadata": {
    "colab": {
     "base_uri": "https://localhost:8080/"
    },
    "id": "oR0hiKOA3q-c",
    "outputId": "0ab9cd2c-33f7-4fae-ed30-aafe946c2918"
   },
   "outputs": [],
   "source": [
    "#changing string data\n",
    "for num in range(len(student_list)):\n",
    "  student_list[num] = student_list[num] + \" pakistani\"\n",
    "student_list"
   ]
  },
  {
   "cell_type": "code",
   "execution_count": null,
   "metadata": {
    "id": "nFCFEGw74knr"
   },
   "outputs": [],
   "source": []
  },
  {
   "cell_type": "code",
   "execution_count": null,
   "metadata": {
    "id": "2MuW1332xj6o"
   },
   "outputs": [],
   "source": [
    "# here  we have list,set, and dictionary\n",
    "#list3,varset,dict1"
   ]
  },
  {
   "cell_type": "code",
   "execution_count": null,
   "metadata": {
    "colab": {
     "base_uri": "https://localhost:8080/",
     "height": 180
    },
    "id": "xi9DbcQlogTg",
    "outputId": "d4e56ea7-8047-4b5d-d241-dc0b19c4b6f2"
   },
   "outputs": [],
   "source": [
    "     # set   ,list, dictionary \n",
    "print(varset ,list3,  dict1)"
   ]
  },
  {
   "cell_type": "code",
   "execution_count": null,
   "metadata": {
    "id": "wlbW6J4XogTg"
   },
   "outputs": [],
   "source": [
    "# Applying for loop to list.\n",
    "for i in list3:\n",
    "    print(i)"
   ]
  },
  {
   "cell_type": "code",
   "execution_count": null,
   "metadata": {
    "id": "r5a8N3ZQogTg"
   },
   "outputs": [],
   "source": [
    "# Applying for loop to set.\n",
    "for i in varset:\n",
    "    print(i)"
   ]
  },
  {
   "cell_type": "code",
   "execution_count": null,
   "metadata": {
    "id": "aOcmtTdLogTh"
   },
   "outputs": [],
   "source": [
    "# Applying for loop to dictionary(will print only keys).\n",
    "for i in dict1:\n",
    "    print(i)"
   ]
  },
  {
   "cell_type": "code",
   "execution_count": null,
   "metadata": {
    "colab": {
     "base_uri": "https://localhost:8080/",
     "height": 197
    },
    "id": "v8aL4IabogTh",
    "outputId": "c4da9f10-a624-4e47-c4f3-6032b13c4de4"
   },
   "outputs": [],
   "source": [
    "# For accessing values of key (using for loop).\n",
    "for i in dict1.values():\n",
    "    print(i)"
   ]
  },
  {
   "cell_type": "code",
   "execution_count": null,
   "metadata": {
    "colab": {
     "base_uri": "https://localhost:8080/",
     "height": 197
    },
    "id": "VbWYxwjiogTh",
    "outputId": "d40ca6f6-0f41-473a-b1c9-c53f484e7ab3"
   },
   "outputs": [],
   "source": [
    "# For accessing both keys and values of dictionary(using for loop).\n",
    "for k,v in dict1.items():\n",
    "    print(k,v)"
   ]
  },
  {
   "cell_type": "code",
   "execution_count": null,
   "metadata": {
    "colab": {
     "base_uri": "https://localhost:8080/",
     "height": 180
    },
    "id": "koCYm5qKogTh",
    "outputId": "37e37e9f-2e30-47c5-c80d-939a6e39123d"
   },
   "outputs": [],
   "source": [
    "\n",
    "varset"
   ]
  },
  {
   "cell_type": "code",
   "execution_count": null,
   "metadata": {
    "id": "j6S_BW7fogTi"
   },
   "outputs": [],
   "source": [
    "# using break statement in for loop.\n",
    "for i in varset:\n",
    "    \n",
    "    if i == \"how\":\n",
    "        break\n",
    "    print(i)"
   ]
  },
  {
   "cell_type": "code",
   "execution_count": null,
   "metadata": {
    "colab": {
     "base_uri": "https://localhost:8080/",
     "height": 231
    },
    "id": "3jzGAr4kogTi",
    "outputId": "5c5feb80-b84f-45bf-8762-990989ce1d26"
   },
   "outputs": [],
   "source": [
    "# Using continue statement in for loop.\n",
    "for i in varset:\n",
    "    if i == \"how\":\n",
    "        continue\n",
    "    print(i)\n",
    "# it prints all elements except \"how\"."
   ]
  },
  {
   "cell_type": "code",
   "execution_count": null,
   "metadata": {
    "colab": {
     "base_uri": "https://localhost:8080/"
    },
    "id": "MhLgtTrGxrL5",
    "outputId": "198a4686-8467-4309-f2dc-b932f0dd12c9"
   },
   "outputs": [],
   "source": [
    "#Write a program which will find all such numbers which are divisible by 7 but are not a multiple of 5,\n",
    "#between 2000 and 3200 (both included).\n",
    "#The numbers obtained should be printed in a comma-separated sequence on a single line.\n",
    "\n",
    "for num in range(2000, 3201):\n",
    "  if(num%7 == 0):\n",
    "    if(num%5 != 0):\n",
    "      print(num, end=',')\n"
   ]
  },
  {
   "cell_type": "markdown",
   "metadata": {
    "id": "urJorn4aogTi"
   },
   "source": [
    "### range() function in for loop."
   ]
  },
  {
   "cell_type": "code",
   "execution_count": null,
   "metadata": {
    "id": "tprWf6uSogTj"
   },
   "outputs": [],
   "source": [
    "for x in range(5):\n",
    "    print(x)"
   ]
  },
  {
   "cell_type": "code",
   "execution_count": null,
   "metadata": {
    "id": "6O6tgHvUogTj"
   },
   "outputs": [],
   "source": [
    "# By assigning starting number to the range function.\n",
    "for x in range(2,10):\n",
    "    print(x)"
   ]
  },
  {
   "cell_type": "code",
   "execution_count": null,
   "metadata": {
    "id": "uctMbvdMogTj"
   },
   "outputs": [],
   "source": [
    "# Incrementing in the sequence with 1.\n",
    "for x in range(2,10,2):\n",
    "    print(x)"
   ]
  },
  {
   "cell_type": "markdown",
   "metadata": {
    "id": "Y4yBcBPNogTj"
   },
   "source": [
    "### Using nested loop."
   ]
  },
  {
   "cell_type": "code",
   "execution_count": null,
   "metadata": {
    "id": "ov4nIpN0ogTj"
   },
   "outputs": [],
   "source": [
    "lis1 = ['a','b','c','d']\n",
    "lis2 = [1,2,3,4]\n",
    "for i in lis1:\n",
    "    for j in lis2:\n",
    "        print(i,j)"
   ]
  },
  {
   "cell_type": "markdown",
   "metadata": {
    "id": "MWkkoxiGogTk"
   },
   "source": [
    "# Function in python"
   ]
  },
  {
   "cell_type": "code",
   "execution_count": null,
   "metadata": {
    "colab": {
     "base_uri": "https://localhost:8080/"
    },
    "id": "7yz0NDhRogTk",
    "outputId": "b97306eb-65eb-4b36-ea02-d773588b66ab"
   },
   "outputs": [],
   "source": [
    "def function1():\n",
    "    print(\"This is my first function\")\n",
    "function1()"
   ]
  },
  {
   "cell_type": "code",
   "execution_count": null,
   "metadata": {
    "id": "12b3Uml_h7yl"
   },
   "outputs": [],
   "source": [
    "#function defininion\n",
    "def call():\n",
    "  name = input(\"Enter Your name: \")\n",
    "  print(f\"Welcome {name}\")"
   ]
  },
  {
   "cell_type": "code",
   "execution_count": null,
   "metadata": {
    "colab": {
     "base_uri": "https://localhost:8080/"
    },
    "id": "TmHqpPmMiWDr",
    "outputId": "a515c06f-ab05-4ebb-815b-d1c7ab5496a7"
   },
   "outputs": [],
   "source": [
    "call()"
   ]
  },
  {
   "cell_type": "code",
   "execution_count": null,
   "metadata": {
    "id": "KnIHXufkjNWc"
   },
   "outputs": [],
   "source": [
    "#function defininion\n",
    "def call():\n",
    "  name = input(\"Enter Your name: \")\n",
    "  gender = input(\"Enter gender:\").lower()\n",
    "  if(gender == 'male'):\n",
    "    print(f\"Welcome Mr. {name}\")\n",
    "  else:\n",
    "    print(f\"Welcome Ms. {name}\")"
   ]
  },
  {
   "cell_type": "code",
   "execution_count": null,
   "metadata": {
    "colab": {
     "base_uri": "https://localhost:8080/"
    },
    "id": "9_xMwAaXj7N8",
    "outputId": "6d54d38a-b5fe-4056-eca5-b6db83c83e56"
   },
   "outputs": [],
   "source": [
    "call()"
   ]
  },
  {
   "cell_type": "code",
   "execution_count": null,
   "metadata": {
    "id": "r2LR5coEkqFf"
   },
   "outputs": [],
   "source": [
    "#trick 01\n",
    "list1 = []\n",
    "def even_odd_func():\n",
    "  num1 = 0\n",
    "  flag = True\n",
    "  while(flag):\n",
    "    num = input(\"Enter number/ write 'q' to exit\")\n",
    "    list1.append(num)\n",
    "    if(num == 'q'):\n",
    "      if(int(list1[-2]) % 2 == 0):\n",
    "        print(\"your number is even\")\n",
    "      else :\n",
    "        print(\"your number is odd\")  \n",
    "      flag = False\n"
   ]
  },
  {
   "cell_type": "code",
   "execution_count": null,
   "metadata": {
    "colab": {
     "base_uri": "https://localhost:8080/"
    },
    "id": "SOjPhwFck8T4",
    "outputId": "ae4ae16e-f2c0-45c1-f310-6ba535aa360f"
   },
   "outputs": [],
   "source": [
    "even_odd_func()"
   ]
  },
  {
   "cell_type": "code",
   "execution_count": null,
   "metadata": {
    "id": "CYDrgO5fuN5W"
   },
   "outputs": [],
   "source": [
    "#trick 02\n",
    "def even_odd_func():\n",
    "  while(True):\n",
    "    num = input(\"Enter number/ write 'q' to exit\")\n",
    "    if(num != 'q'):\n",
    "      if(int(num) % 2 == 0):\n",
    "        print(\"your number is even\")\n",
    "      else :\n",
    "        print(\"your number is odd\")  \n",
    "    else:\n",
    "      break\n"
   ]
  },
  {
   "cell_type": "code",
   "execution_count": null,
   "metadata": {
    "colab": {
     "base_uri": "https://localhost:8080/"
    },
    "id": "3_yrVn-Iufsd",
    "outputId": "159d5963-be0f-4b16-d64c-486369667ad6"
   },
   "outputs": [],
   "source": [
    "even_odd_func()"
   ]
  },
  {
   "cell_type": "code",
   "execution_count": null,
   "metadata": {
    "id": "wRu8b_jMu08x"
   },
   "outputs": [],
   "source": []
  },
  {
   "cell_type": "code",
   "execution_count": null,
   "metadata": {
    "colab": {
     "base_uri": "https://localhost:8080/"
    },
    "id": "KdqcRHsXogTk",
    "outputId": "940a19e9-f2c1-46b4-fd7a-c3cda59ddbac"
   },
   "outputs": [],
   "source": [
    "# Parametric function.\n",
    "def function2(var):\n",
    "    print(var)\n",
    "function2(\"This is the second function\")\n",
    "function2(\"And it is a parametric function.\")"
   ]
  },
  {
   "cell_type": "code",
   "execution_count": null,
   "metadata": {
    "colab": {
     "base_uri": "https://localhost:8080/"
    },
    "id": "dV0texmOogTk",
    "outputId": "5997cd45-492a-4eb5-f3cd-b353fd4cf912"
   },
   "outputs": [],
   "source": [
    "# Taking multiple argument to the function.\n",
    "def function3(name_var, your_name):\n",
    "    print(name_var + \": \" + your_name)\n",
    "function3(\"Name\",\"Jack\")\n",
    "function3(\"Father Name\",\"Jonson\")"
   ]
  },
  {
   "cell_type": "markdown",
   "metadata": {
    "id": "FNB45QWGogTl"
   },
   "source": [
    "# Arbitrary Arguments, *args\n",
    "\n",
    "If you do not know how many arguments that will be passed into your function, add a * before the parameter name in the function definition.\n",
    "\n",
    "This way the function will receive a tuple of arguments, and can access the items accordingly:"
   ]
  },
  {
   "cell_type": "code",
   "execution_count": null,
   "metadata": {
    "colab": {
     "base_uri": "https://localhost:8080/"
    },
    "id": "iSaC08b9ogTl",
    "outputId": "65237266-cfc7-470f-efea-218be239f0f0"
   },
   "outputs": [],
   "source": [
    "def function4(*var):\n",
    "        print(var, end = '')\n",
    "function4(\"orange\", \"mango\")"
   ]
  },
  {
   "cell_type": "markdown",
   "metadata": {
    "id": "456-w5EpogTl"
   },
   "source": [
    "## Default parameter value."
   ]
  },
  {
   "cell_type": "code",
   "execution_count": null,
   "metadata": {
    "colab": {
     "base_uri": "https://localhost:8080/"
    },
    "id": "cVnC_roiogTl",
    "outputId": "283b696d-bece-4417-ee9b-777c3a256092"
   },
   "outputs": [],
   "source": [
    "def func(var = \"newyork\"):\n",
    "    print(\"You are in\",var)\n",
    "func()\n",
    "func(\"london\")\n",
    "func(\"paris\")"
   ]
  },
  {
   "cell_type": "markdown",
   "metadata": {
    "id": "xHTVtAuvogTl"
   },
   "source": [
    "## Passing a List as an Argument"
   ]
  },
  {
   "cell_type": "code",
   "execution_count": null,
   "metadata": {
    "colab": {
     "base_uri": "https://localhost:8080/"
    },
    "id": "NUeijXnqogTl",
    "outputId": "ec481bef-5ce0-4ad0-f836-5a8676038b97"
   },
   "outputs": [],
   "source": [
    "\n",
    "def my_function(food):\n",
    "    for x in food:\n",
    "        print(x)\n",
    "\n",
    "fruits = [\"apple\", \"banana\", \"cherry\"]\n",
    "\n",
    "my_function(fruits)"
   ]
  },
  {
   "cell_type": "markdown",
   "metadata": {
    "id": "A5wjEVfLogTm"
   },
   "source": [
    "## Using return keword to return value."
   ]
  },
  {
   "cell_type": "code",
   "execution_count": null,
   "metadata": {
    "colab": {
     "base_uri": "https://localhost:8080/"
    },
    "id": "sHr3geYgogTm",
    "outputId": "69f8ccc0-fade-4b16-8cd3-c87d09ab6bf3"
   },
   "outputs": [],
   "source": [
    "# Function that return the square of number.\n",
    "def retun(x):\n",
    "    return x*x\n",
    "var = 3\n",
    "print(\"The square of\",var,\"is\",retun(var))"
   ]
  },
  {
   "cell_type": "markdown",
   "metadata": {
    "id": "m9ITm0QJogTm"
   },
   "source": [
    "## Recursion function"
   ]
  },
  {
   "cell_type": "code",
   "execution_count": null,
   "metadata": {
    "colab": {
     "base_uri": "https://localhost:8080/"
    },
    "id": "01TiiSrZogTm",
    "outputId": "4d13438e-e7f7-4270-c34d-9f037fdf98ad"
   },
   "outputs": [],
   "source": [
    "def tri_recursion(k):\n",
    "    if(k>0):\n",
    "        result = k+tri_recursion(k-1)\n",
    "        print(result)\n",
    "    else:\n",
    "        result = 0\n",
    "    return result\n",
    "\n",
    "print(\"\\n\\nRecursion Example Results\")\n",
    "tri_recursion(6)"
   ]
  },
  {
   "cell_type": "markdown",
   "metadata": {
    "id": "BzyH1gdYogTm"
   },
   "source": [
    "# Classes & Objects"
   ]
  },
  {
   "cell_type": "code",
   "execution_count": null,
   "metadata": {
    "colab": {
     "base_uri": "https://localhost:8080/"
    },
    "id": "kWytAoFwogTm",
    "outputId": "f907ec2b-d9a7-4d0d-d79b-232008176895"
   },
   "outputs": [],
   "source": [
    "class first:\n",
    "    x = 5\n",
    "\n",
    "obj = first()\n",
    "print(obj.x)"
   ]
  },
  {
   "cell_type": "markdown",
   "metadata": {
    "id": "mu3IpCGrogTn"
   },
   "source": [
    "### Working with constructor of class and creating varaible"
   ]
  },
  {
   "cell_type": "code",
   "execution_count": null,
   "metadata": {
    "colab": {
     "base_uri": "https://localhost:8080/"
    },
    "id": "K2jLqddwogTn",
    "outputId": "0361e956-b434-4a2c-fe0a-c1e9265dfba7"
   },
   "outputs": [],
   "source": [
    "class fruit:\n",
    "    def __init__(self, fname, catagory):\n",
    "        self.fname = fname\n",
    "        self.catagory = catagory\n",
    "obj1 = fruit(\"Orange\", \"Citrus\")\n",
    "print(obj1.fname, \"is the\", obj1.catagory, \"catagory\")"
   ]
  },
  {
   "cell_type": "markdown",
   "metadata": {
    "id": "uqty68eVogTn"
   },
   "source": [
    "### Creating Method "
   ]
  },
  {
   "cell_type": "code",
   "execution_count": null,
   "metadata": {
    "colab": {
     "base_uri": "https://localhost:8080/"
    },
    "id": "RuvJqKpYogTn",
    "outputId": "eea67e8e-c76d-4978-f852-5fc5922f9d6e"
   },
   "outputs": [],
   "source": [
    "class fruit:\n",
    "    def __init__(self, fname, catagory):\n",
    "        self.fname = fname\n",
    "        self.catagory = catagory\n",
    "    def func1(self):\n",
    "        print(\"your fruit is\"+self.fname)\n",
    "        \n",
    "obj2 = fruit(\"Orange\", \"Citrus\")\n",
    "print(obj2.func1())"
   ]
  },
  {
   "cell_type": "markdown",
   "metadata": {
    "id": "OZFIyC5hogTn"
   },
   "source": [
    "#### The self Parameter\n",
    "The self parameter is a reference to the current instance of the class, and is used to access variables that belongs to the class.\n",
    "\n",
    "It does not have to be named self , you can call it whatever you like, but it has to be the first parameter of any function in the class"
   ]
  },
  {
   "cell_type": "markdown",
   "metadata": {
    "id": "WKD-m9BhogTo"
   },
   "source": [
    "# Inheritance in python"
   ]
  },
  {
   "cell_type": "code",
   "execution_count": null,
   "metadata": {
    "colab": {
     "base_uri": "https://localhost:8080/"
    },
    "id": "0ubIchvgogTo",
    "outputId": "b17d6957-d08f-44de-d4ad-c9b539db768f"
   },
   "outputs": [],
   "source": [
    "# Creating parent class\n",
    "\n",
    "class parent:\n",
    "    def __init__(self, fname, rollno):\n",
    "        self.firstname = fname;\n",
    "        self.rollNumber = rollno;\n",
    "    def printName(self):\n",
    "        print('My name is',self.firstname,'\\nand Roll number is: ',self.rollNumber);\n",
    "        \n",
    "        \n",
    "obj = parent('Usama', 2103102);\n",
    "obj.printName();\n",
    "\n",
    "        "
   ]
  },
  {
   "cell_type": "code",
   "execution_count": null,
   "metadata": {
    "colab": {
     "base_uri": "https://localhost:8080/"
    },
    "id": "6VM2KQ_IogTo",
    "outputId": "40f33ee9-665c-4a28-d255-6d5ecdcbcf9c"
   },
   "outputs": [],
   "source": [
    "#inheriting parent class to child class.\n",
    "class child(parent):\n",
    "    pass\n",
    "\n",
    "obj = child('Usama', 4802292); # Accesing parent class method.\n",
    "obj.printName();"
   ]
  },
  {
   "cell_type": "markdown",
   "metadata": {
    "id": "2RKFTc-_ogTo"
   },
   "source": [
    "# Working with RegEx(regular expression)"
   ]
  },
  {
   "cell_type": "code",
   "execution_count": null,
   "metadata": {
    "id": "QJkWxVjYogTp"
   },
   "outputs": [],
   "source": [
    "# RegEx can be used to check if a string contains the specified search pattern.\n",
    "\n",
    "import re"
   ]
  },
  {
   "cell_type": "markdown",
   "metadata": {
    "id": "BJ6pLM2-ogTp"
   },
   "source": [
    "## checking for string which start from \"the\" and end with \"ing\""
   ]
  },
  {
   "cell_type": "code",
   "execution_count": null,
   "metadata": {
    "colab": {
     "base_uri": "https://localhost:8080/"
    },
    "id": "SIlzb9JIogTp",
    "outputId": "9cd06e2b-9490-4c0d-abae-80a12cf59d61"
   },
   "outputs": [],
   "source": [
    "string = \"The pthon programming\";\n",
    "x = re.search(\"^The.*ing$\", string)\n",
    "if(x):\n",
    "    print(\"working\")\n",
    "else:\n",
    "    print(\"not working\")"
   ]
  },
  {
   "cell_type": "markdown",
   "metadata": {
    "id": "Ifnv_S8SogTp"
   },
   "source": [
    "# Find a charater or string in whole string and save the the character in a list"
   ]
  },
  {
   "cell_type": "code",
   "execution_count": null,
   "metadata": {
    "colab": {
     "base_uri": "https://localhost:8080/"
    },
    "id": "OT7p8MtKogTp",
    "outputId": "ed5441f8-6686-4abf-a677-c73c18236db2"
   },
   "outputs": [],
   "source": [
    "a = re.findall(\"o\", string)\n",
    "print(a)"
   ]
  },
  {
   "cell_type": "markdown",
   "metadata": {
    "id": "rYoxs7a2ogTq"
   },
   "source": [
    "# The finding number of spaces in an string."
   ]
  },
  {
   "cell_type": "code",
   "execution_count": null,
   "metadata": {
    "colab": {
     "base_uri": "https://localhost:8080/"
    },
    "id": "ri7tJOVAogTq",
    "outputId": "1a228cdc-99b1-4128-9980-375a06c53365"
   },
   "outputs": [],
   "source": [
    "s = re.search(\"\\s\",string)\n",
    "print(s.start())"
   ]
  },
  {
   "cell_type": "markdown",
   "metadata": {
    "id": "S9TA2UAdogTq"
   },
   "source": [
    "# Seperate string into words"
   ]
  },
  {
   "cell_type": "code",
   "execution_count": null,
   "metadata": {
    "colab": {
     "base_uri": "https://localhost:8080/"
    },
    "id": "chn9EsLbogTq",
    "outputId": "1b0a5f57-debf-4965-eaa0-b69d78f2d733"
   },
   "outputs": [],
   "source": [
    "w = re.split(\"\\s\", string)\n",
    "print(w)"
   ]
  },
  {
   "cell_type": "markdown",
   "metadata": {
    "id": "6Fx5sUbVogTq"
   },
   "source": [
    "# Replacing the character/text with the text of your choice"
   ]
  },
  {
   "cell_type": "code",
   "execution_count": null,
   "metadata": {
    "id": "sw7y7lFFNXkU"
   },
   "outputs": [],
   "source": []
  },
  {
   "cell_type": "code",
   "execution_count": null,
   "metadata": {
    "colab": {
     "base_uri": "https://localhost:8080/"
    },
    "id": "scqI-gCSogTq",
    "outputId": "693e7577-3ede-47c1-cdc9-e385aad3eb88"
   },
   "outputs": [],
   "source": [
    "r = re.sub(\"\\s\",\"----\", string)\n",
    "print(r)"
   ]
  },
  {
   "cell_type": "code",
   "execution_count": null,
   "metadata": {
    "id": "GPrfFRSAogTr"
   },
   "outputs": [],
   "source": []
  },
  {
   "cell_type": "code",
   "execution_count": null,
   "metadata": {
    "id": "GXZRiOVTNYyh"
   },
   "outputs": [],
   "source": []
  },
  {
   "cell_type": "markdown",
   "metadata": {
    "id": "_icuOHbsNdcH"
   },
   "source": [
    "# Dictionary comprihension\n"
   ]
  },
  {
   "cell_type": "code",
   "execution_count": null,
   "metadata": {
    "id": "jtwK6fWFNmiz"
   },
   "outputs": [],
   "source": [
    "oldPrice = {'buiryani': 150, 'tikka': 300, 'Fish': 400,'cold':200}"
   ]
  },
  {
   "cell_type": "code",
   "execution_count": null,
   "metadata": {
    "id": "9mkox0azOOD8"
   },
   "outputs": [],
   "source": [
    "new_price = {item: (price/160) for item,price in oldPrice.items()}"
   ]
  },
  {
   "cell_type": "code",
   "execution_count": null,
   "metadata": {
    "colab": {
     "base_uri": "https://localhost:8080/"
    },
    "id": "HyvuMxFeOwwR",
    "outputId": "abf36ae4-ecf6-46d8-bf63-20ae979320a4"
   },
   "outputs": [],
   "source": [
    "new_price"
   ]
  },
  {
   "cell_type": "code",
   "execution_count": null,
   "metadata": {
    "id": "p0OAJ_ExPN27"
   },
   "outputs": [],
   "source": [
    "new_price = {item: round(price/160,2) for item,price in oldPrice.items()}"
   ]
  },
  {
   "cell_type": "code",
   "execution_count": null,
   "metadata": {
    "colab": {
     "base_uri": "https://localhost:8080/"
    },
    "id": "Ap--FyeSPdgb",
    "outputId": "efefc57a-904e-4dbd-a46e-51ccf3b50865"
   },
   "outputs": [],
   "source": [
    "new_price"
   ]
  },
  {
   "cell_type": "code",
   "execution_count": null,
   "metadata": {
    "id": "2m6hCD6cPeIE"
   },
   "outputs": [],
   "source": [
    "#using math library\n",
    "import math"
   ]
  },
  {
   "cell_type": "code",
   "execution_count": null,
   "metadata": {
    "colab": {
     "base_uri": "https://localhost:8080/"
    },
    "id": "CwtHQd_yQIdN",
    "outputId": "f73b38f0-9845-4d12-bc14-b889b1ad27ed"
   },
   "outputs": [],
   "source": [
    "math.floor(12.66)"
   ]
  },
  {
   "cell_type": "code",
   "execution_count": null,
   "metadata": {
    "colab": {
     "base_uri": "https://localhost:8080/"
    },
    "id": "QxehGsmSQSIE",
    "outputId": "2fef20e4-999e-4274-9d9f-5351dbf893c4"
   },
   "outputs": [],
   "source": [
    "math.ceil(12.77)"
   ]
  },
  {
   "cell_type": "code",
   "execution_count": null,
   "metadata": {
    "id": "tAIPVOnMQlM8"
   },
   "outputs": [],
   "source": [
    "new_price = {item: math.ceil(price/160) for item,price in oldPrice.items()}"
   ]
  },
  {
   "cell_type": "code",
   "execution_count": null,
   "metadata": {
    "colab": {
     "base_uri": "https://localhost:8080/"
    },
    "id": "ZxA3K_vJRIkT",
    "outputId": "0d907951-40f7-43b4-a124-57d7f023b365"
   },
   "outputs": [],
   "source": [
    "new_price"
   ]
  },
  {
   "cell_type": "code",
   "execution_count": null,
   "metadata": {
    "id": "UOCyXnQARMBD"
   },
   "outputs": [],
   "source": [
    "new_price_in_dollar = {item: (price/160) for item,price in oldPrice.items()}"
   ]
  },
  {
   "cell_type": "code",
   "execution_count": null,
   "metadata": {
    "colab": {
     "base_uri": "https://localhost:8080/"
    },
    "id": "5EW_xiVtS7fY",
    "outputId": "b81bc4de-7f59-49bc-a3a5-1b60c350ec5e"
   },
   "outputs": [],
   "source": [
    "new_price_in_dollar"
   ]
  },
  {
   "cell_type": "code",
   "execution_count": null,
   "metadata": {
    "id": "PFRl1S_yZyVY"
   },
   "outputs": [],
   "source": [
    "updat_price = {item: (price/160) for item,price in oldPrice.items()}\n"
   ]
  },
  {
   "cell_type": "code",
   "execution_count": null,
   "metadata": {
    "colab": {
     "base_uri": "https://localhost:8080/"
    },
    "id": "cC7F6bvAT0W1",
    "outputId": "6dcf6444-bead-499a-f21b-2ddb649f34cf"
   },
   "outputs": [],
   "source": [
    "updated_price"
   ]
  },
  {
   "cell_type": "code",
   "execution_count": null,
   "metadata": {
    "id": "Yp6odTLtT-_V"
   },
   "outputs": [],
   "source": [
    "# Question: : Make a dictionary containing three major rivers and the country\n",
    "#each river runs through. One key-value pair might be 'nile': 'egypt'."
   ]
  },
  {
   "cell_type": "code",
   "execution_count": null,
   "metadata": {
    "id": "0xVC8137a3LH"
   },
   "outputs": [],
   "source": [
    "rivers = {'nile': 'egypt', 'indus': 'Pakistan', 'liao': 'china'}"
   ]
  },
  {
   "cell_type": "code",
   "execution_count": null,
   "metadata": {
    "colab": {
     "base_uri": "https://localhost:8080/"
    },
    "id": "7-FEiv0NbOIX",
    "outputId": "a1786981-5743-4d58-a216-45e254ebce08"
   },
   "outputs": [],
   "source": [
    "#Use a loop to print a sentence about each river, such as The Nile runs through Egypt.\n",
    "for key,val in rivers.items():\n",
    "   print(f\"The {key} runs through {val}\")"
   ]
  },
  {
   "cell_type": "code",
   "execution_count": null,
   "metadata": {
    "colab": {
     "base_uri": "https://localhost:8080/"
    },
    "id": "PuSLSEBfbcYe",
    "outputId": "e090dcf7-a12f-4084-a6c6-e32621d9c87d"
   },
   "outputs": [],
   "source": [
    "#Use a loop to print the name of each river included in the dictionary\n",
    "for key in rivers.keys():\n",
    "   print(f\"The name of river {key}\")\n"
   ]
  },
  {
   "cell_type": "code",
   "execution_count": null,
   "metadata": {
    "colab": {
     "base_uri": "https://localhost:8080/"
    },
    "id": "NUYdl7xpbmee",
    "outputId": "debe3e15-3115-419e-dd70-8ad9368c2951"
   },
   "outputs": [],
   "source": [
    "#Use a loop to print the name of each country included in the dictionary\n",
    "for val in rivers.values():\n",
    "   print(f\"The name of river {val}\")"
   ]
  },
  {
   "cell_type": "code",
   "execution_count": null,
   "metadata": {
    "id": "9xJ3L3Lkchcd"
   },
   "outputs": [],
   "source": []
  },
  {
   "cell_type": "markdown",
   "metadata": {
    "id": "qiBwuSkhdfpk"
   },
   "source": [
    "# List of list"
   ]
  },
  {
   "cell_type": "code",
   "execution_count": null,
   "metadata": {
    "id": "uuYhuxtmdiI3"
   },
   "outputs": [],
   "source": [
    "listoflist = [[0,1,2,3,],\n",
    "              [1,2,3],\n",
    "              ['a','b','c']]"
   ]
  },
  {
   "cell_type": "code",
   "execution_count": null,
   "metadata": {
    "colab": {
     "base_uri": "https://localhost:8080/",
     "height": 35
    },
    "id": "E1v8AoQzd3dG",
    "outputId": "1f7b7a67-c55d-47fc-ab3a-6ad1102ae59f"
   },
   "outputs": [],
   "source": [
    "listoflist[-1][-1]"
   ]
  },
  {
   "cell_type": "code",
   "execution_count": null,
   "metadata": {
    "id": "kUuP_yeIeD6J"
   },
   "outputs": [],
   "source": []
  },
  {
   "cell_type": "markdown",
   "metadata": {
    "id": "mCFupBDCfNWs"
   },
   "source": [
    "# List of Dictionary"
   ]
  },
  {
   "cell_type": "code",
   "execution_count": null,
   "metadata": {
    "colab": {
     "base_uri": "https://localhost:8080/"
    },
    "id": "7_l97PgNfQXm",
    "outputId": "a79d541f-aca3-478e-b91b-35e4bdb92c8c"
   },
   "outputs": [],
   "source": [
    "listofdic = [oldPrice, new_price, new_price_in_dollar]\n",
    "listofdic"
   ]
  },
  {
   "cell_type": "code",
   "execution_count": null,
   "metadata": {
    "colab": {
     "base_uri": "https://localhost:8080/"
    },
    "id": "Ti9t-S9rfg9S",
    "outputId": "eb07c846-aae7-447b-b3c0-820c97af53f7"
   },
   "outputs": [],
   "source": [
    "listofdic[0]['Fish']"
   ]
  },
  {
   "cell_type": "code",
   "execution_count": null,
   "metadata": {
    "id": "lgZpdJrift_n"
   },
   "outputs": [],
   "source": []
  },
  {
   "cell_type": "markdown",
   "metadata": {
    "id": "BzmUy2PGgjn0"
   },
   "source": [
    "# Dictionary of dictionary"
   ]
  },
  {
   "cell_type": "code",
   "execution_count": null,
   "metadata": {
    "id": "N8ZcjpAEgn8A"
   },
   "outputs": [],
   "source": [
    "dicofdic = {'saylani':\n",
    "            {'smit': ['web', 'ds', 'ccna', 'ai'],\n",
    "             'health': ['opd', 'ot']\n",
    "            },\n",
    "            'University': {\n",
    "                  'CS': ['1st', '2nd', '3rd', '4th'],\n",
    "                  'admin': ['fees', 'timetable', 'exam']\n",
    "            }\n",
    "            }"
   ]
  },
  {
   "cell_type": "code",
   "execution_count": null,
   "metadata": {
    "colab": {
     "base_uri": "https://localhost:8080/"
    },
    "id": "I7QTsyzih3mA",
    "outputId": "72559ae8-97ff-471f-e624-31d3bebe8af2"
   },
   "outputs": [],
   "source": [
    "'University' in dicofdic"
   ]
  },
  {
   "cell_type": "code",
   "execution_count": null,
   "metadata": {
    "colab": {
     "base_uri": "https://localhost:8080/"
    },
    "id": "Az7DVnFjioaS",
    "outputId": "7042651b-c3cd-42d9-ae62-a8828ee54fa7"
   },
   "outputs": [],
   "source": [
    "'smit' in dicofdic['saylani']"
   ]
  },
  {
   "cell_type": "code",
   "execution_count": null,
   "metadata": {
    "colab": {
     "base_uri": "https://localhost:8080/"
    },
    "id": "P08Tza_bjFeo",
    "outputId": "d43a8e18-9e67-4494-de32-37492ceb5789"
   },
   "outputs": [],
   "source": [
    "for pk, pv in dicofdic.items():\n",
    "  if pk == 'University':\n",
    "    for uk,uv in dicofdic[pk].items():\n",
    "      if uk == 'admin':\n",
    "        print('exam' in uv)"
   ]
  },
  {
   "cell_type": "code",
   "execution_count": null,
   "metadata": {
    "colab": {
     "base_uri": "https://localhost:8080/"
    },
    "id": "xJ8GiZOYlmIE",
    "outputId": "a2b9a3c3-bb97-44cf-d9bf-a239aaa023ba"
   },
   "outputs": [],
   "source": [
    "#Dictionary Question:\n",
    "#With a given integral number n, write a program to generate a dictionary that contains (i, i*i) such that is an integral number between 1 and n (both included). and then the program should print the dictionary.\n",
    "#Suppose the following input is supplied to the program:\n",
    "adict = {}\n",
    "n = int(input())\n",
    "for num in range(1,n+1):\n",
    "  adict[num] = num*num"
   ]
  },
  {
   "cell_type": "markdown",
   "metadata": {
    "id": "xilokJ3IgGSO"
   },
   "source": []
  },
  {
   "cell_type": "code",
   "execution_count": null,
   "metadata": {
    "colab": {
     "base_uri": "https://localhost:8080/"
    },
    "id": "DWp1ibCZgQac",
    "outputId": "cb237a15-e179-4f5d-9596-189672a35160"
   },
   "outputs": [],
   "source": [
    "adict"
   ]
  },
  {
   "cell_type": "code",
   "execution_count": null,
   "metadata": {
    "id": "p21fkjsY03Nl"
   },
   "outputs": [],
   "source": []
  },
  {
   "cell_type": "markdown",
   "metadata": {
    "id": "kxntRAwV-cKD"
   },
   "source": [
    "# Module"
   ]
  },
  {
   "cell_type": "code",
   "execution_count": 1,
   "metadata": {
    "id": "4daIVw98-ec_"
   },
   "outputs": [],
   "source": [
    "%run textutility.py"
   ]
  },
  {
   "cell_type": "code",
   "execution_count": 2,
   "metadata": {},
   "outputs": [],
   "source": [
    "import textutility as tu"
   ]
  },
  {
   "cell_type": "code",
   "execution_count": 3,
   "metadata": {},
   "outputs": [
    {
     "data": {
      "text/plain": [
       "'Hello world'"
      ]
     },
     "execution_count": 3,
     "metadata": {},
     "output_type": "execute_result"
    }
   ],
   "source": [
    "tu.remove_punctuation('Hello, world')"
   ]
  },
  {
   "cell_type": "code",
   "execution_count": 4,
   "metadata": {},
   "outputs": [
    {
     "name": "stdout",
     "output_type": "stream",
     "text": [
      "hello world\n"
     ]
    }
   ],
   "source": [
    "print(tu.remove_multiple_spaces('hello   world'))"
   ]
  },
  {
   "cell_type": "code",
   "execution_count": 5,
   "metadata": {},
   "outputs": [
    {
     "data": {
      "text/plain": [
       "'youstring'"
      ]
     },
     "execution_count": 5,
     "metadata": {},
     "output_type": "execute_result"
    }
   ],
   "source": [
    "tu.remove_number('1212yous1212tring1123')"
   ]
  },
  {
   "cell_type": "code",
   "execution_count": 6,
   "metadata": {},
   "outputs": [
    {
     "data": {
      "text/plain": [
       "'your sting'"
      ]
     },
     "execution_count": 6,
     "metadata": {},
     "output_type": "execute_result"
    }
   ],
   "source": [
    "tu.remove_repeating_charcter('yourr stringg')"
   ]
  },
  {
   "cell_type": "code",
   "execution_count": 7,
   "metadata": {},
   "outputs": [
    {
     "name": "stdout",
     "output_type": "stream",
     "text": [
      "\"and\" is repeated 1 time.\n",
      "\"brown\" is repeated 1 time.\n",
      "\"fox\" is repeated 1 time.\n",
      "\"quick\" is repeated 1 time.\n",
      "\"the\" is repeated 2 times.\n"
     ]
    }
   ],
   "source": [
    "tu.repeating_words('the quick brown and the fox')"
   ]
  },
  {
   "cell_type": "code",
   "execution_count": 8,
   "metadata": {},
   "outputs": [
    {
     "data": {
      "text/plain": [
       "'the comparing elements are:  t  t  c  b'"
      ]
     },
     "execution_count": 8,
     "metadata": {},
     "output_type": "execute_result"
    }
   ],
   "source": [
    "tu.compare_string_result('sbcd jicsds', 'sbttcd jibsds')"
   ]
  },
  {
   "cell_type": "code",
   "execution_count": 10,
   "metadata": {},
   "outputs": [
    {
     "data": {
      "text/plain": [
       "'please enter proper format'"
      ]
     },
     "execution_count": 10,
     "metadata": {},
     "output_type": "execute_result"
    }
   ],
   "source": [
    "tu.check_date_format('21-02-2011')"
   ]
  },
  {
   "cell_type": "code",
   "execution_count": 11,
   "metadata": {},
   "outputs": [
    {
     "data": {
      "text/plain": [
       "'21/02/2011'"
      ]
     },
     "execution_count": 11,
     "metadata": {},
     "output_type": "execute_result"
    }
   ],
   "source": [
    "tu.check_date_format('21/02/2011')"
   ]
  },
  {
   "cell_type": "markdown",
   "metadata": {
    "id": "UkakYMHVHhud"
   },
   "source": [
    "# Generators"
   ]
  },
  {
   "cell_type": "code",
   "execution_count": null,
   "metadata": {
    "id": "mBBiB99lHkqJ"
   },
   "outputs": [],
   "source": []
  },
  {
   "cell_type": "markdown",
   "metadata": {
    "id": "9I33fcKqVStJ"
   },
   "source": [
    "# files & Exceptions"
   ]
  },
  {
   "cell_type": "code",
   "execution_count": null,
   "metadata": {
    "id": "IyM0rjYEVWR_"
   },
   "outputs": [],
   "source": []
  },
  {
   "cell_type": "code",
   "execution_count": null,
   "metadata": {},
   "outputs": [],
   "source": []
  }
 ],
 "metadata": {
  "colab": {
   "include_colab_link": true,
   "name": "Starting with python Programming.ipynb",
   "provenance": []
  },
  "kernelspec": {
   "display_name": "Python 3",
   "language": "python",
   "name": "python3"
  },
  "language_info": {
   "codemirror_mode": {
    "name": "ipython",
    "version": 3
   },
   "file_extension": ".py",
   "mimetype": "text/x-python",
   "name": "python",
   "nbconvert_exporter": "python",
   "pygments_lexer": "ipython3",
   "version": "3.8.3"
  }
 },
 "nbformat": 4,
 "nbformat_minor": 1
}
