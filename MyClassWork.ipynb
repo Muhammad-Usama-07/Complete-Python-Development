{
  "nbformat": 4,
  "nbformat_minor": 0,
  "metadata": {
    "kernelspec": {
      "display_name": "Python 3",
      "language": "python",
      "name": "python3"
    },
    "language_info": {
      "codemirror_mode": {
        "name": "ipython",
        "version": 3
      },
      "file_extension": ".py",
      "mimetype": "text/x-python",
      "name": "python",
      "nbconvert_exporter": "python",
      "pygments_lexer": "ipython3",
      "version": "3.7.6"
    },
    "colab": {
      "name": "Python_Class1.ipynb",
      "provenance": [],
      "include_colab_link": true
    }
  },
  "cells": [
    {
      "cell_type": "markdown",
      "metadata": {
        "id": "view-in-github",
        "colab_type": "text"
      },
      "source": [
        "<a href=\"https://colab.research.google.com/github/Muhammad-Usama-07/Complete-Your-Python-Here/blob/master/MyClassWork.ipynb\" target=\"_parent\"><img src=\"https://colab.research.google.com/assets/colab-badge.svg\" alt=\"Open In Colab\"/></a>"
      ]
    },
    {
      "cell_type": "markdown",
      "metadata": {
        "id": "d6Kkx2moYJYi"
      },
      "source": [
        "# Introduction to python \n",
        "\n",
        "we will us <b>python</b> crash course book"
      ]
    },
    {
      "cell_type": "code",
      "metadata": {
        "id": "s78Djrw0YJYw"
      },
      "source": [
        "print(\"Helo\",\"Python\",\"Hru\",sep=\"=====\", end=\"\\t\")\n",
        "print(\"ONe more\")"
      ],
      "execution_count": null,
      "outputs": []
    },
    {
      "cell_type": "code",
      "metadata": {
        "id": "e19RiDwJYJYy"
      },
      "source": [
        "print(\"Welcome\")"
      ],
      "execution_count": null,
      "outputs": []
    },
    {
      "cell_type": "markdown",
      "metadata": {
        "id": "XZhRkgavYJYz"
      },
      "source": [
        "# Varaibles"
      ]
    },
    {
      "cell_type": "markdown",
      "metadata": {
        "id": "iJrq6MvUYJY0"
      },
      "source": [
        "Data types"
      ]
    },
    {
      "cell_type": "markdown",
      "metadata": {
        "id": "v8B-fS-KYJY1"
      },
      "source": [
        "int , flaot, string, boolean"
      ]
    },
    {
      "cell_type": "code",
      "metadata": {
        "id": "m5lURnxmYJY1"
      },
      "source": [
        "a = 10"
      ],
      "execution_count": null,
      "outputs": []
    },
    {
      "cell_type": "code",
      "metadata": {
        "id": "dmlCxhzBYJY2"
      },
      "source": [
        "print(type(a))"
      ],
      "execution_count": null,
      "outputs": []
    },
    {
      "cell_type": "code",
      "metadata": {
        "id": "7bKAJ4tAYJY3"
      },
      "source": [
        "id(a)"
      ],
      "execution_count": null,
      "outputs": []
    },
    {
      "cell_type": "code",
      "metadata": {
        "id": "qiirLaGTYJY3"
      },
      "source": [
        "b = 12.4\n",
        "type(b)"
      ],
      "execution_count": null,
      "outputs": []
    },
    {
      "cell_type": "code",
      "metadata": {
        "id": "Ov3W-nSoYJY4"
      },
      "source": [
        "c = True\n",
        "d = False "
      ],
      "execution_count": null,
      "outputs": []
    },
    {
      "cell_type": "code",
      "metadata": {
        "id": "SzN_g4GzYJY5"
      },
      "source": [
        "type(c)"
      ],
      "execution_count": null,
      "outputs": []
    },
    {
      "cell_type": "code",
      "metadata": {
        "id": "6zipwgBcYJY5"
      },
      "source": [
        "name = \"AI\"\n",
        "print(type(name))"
      ],
      "execution_count": null,
      "outputs": []
    },
    {
      "cell_type": "code",
      "metadata": {
        "id": "n-gU2XHYYJY6"
      },
      "source": [
        "name = 45"
      ],
      "execution_count": null,
      "outputs": []
    },
    {
      "cell_type": "code",
      "metadata": {
        "id": "rsktpR87YJY6"
      },
      "source": [
        "type(name)"
      ],
      "execution_count": null,
      "outputs": []
    },
    {
      "cell_type": "code",
      "metadata": {
        "id": "t_YQaM7SYJY7"
      },
      "source": [
        "val1  = 100"
      ],
      "execution_count": null,
      "outputs": []
    },
    {
      "cell_type": "code",
      "metadata": {
        "id": "yGVOLQLaYJY7"
      },
      "source": [
        "val2 = val1  # pass by reference "
      ],
      "execution_count": null,
      "outputs": []
    },
    {
      "cell_type": "code",
      "metadata": {
        "id": "BBvRzeQYYJY8"
      },
      "source": [
        "val2"
      ],
      "execution_count": null,
      "outputs": []
    },
    {
      "cell_type": "code",
      "metadata": {
        "id": "divBPmH2YJY8"
      },
      "source": [
        "val1 = 200"
      ],
      "execution_count": null,
      "outputs": []
    },
    {
      "cell_type": "code",
      "metadata": {
        "id": "4n_DuEjTYJY9"
      },
      "source": [
        "val2"
      ],
      "execution_count": null,
      "outputs": []
    },
    {
      "cell_type": "code",
      "metadata": {
        "id": "bDhPxJq9YJY9"
      },
      "source": [
        "id(val1)==id(val2)"
      ],
      "execution_count": null,
      "outputs": []
    },
    {
      "cell_type": "code",
      "metadata": {
        "id": "RWKCjmljYJY-"
      },
      "source": [
        "val3 = 200"
      ],
      "execution_count": null,
      "outputs": []
    },
    {
      "cell_type": "code",
      "metadata": {
        "id": "alKBfZguYJY-"
      },
      "source": [
        "id(val1)==id(val3)"
      ],
      "execution_count": null,
      "outputs": []
    },
    {
      "cell_type": "code",
      "metadata": {
        "id": "U-_PjPDYYJY_"
      },
      "source": [
        "name  = \"Pakistan\""
      ],
      "execution_count": null,
      "outputs": []
    },
    {
      "cell_type": "code",
      "metadata": {
        "id": "AYSJy5HzYJY_"
      },
      "source": [
        "name.count('a')"
      ],
      "execution_count": null,
      "outputs": []
    },
    {
      "cell_type": "code",
      "metadata": {
        "id": "fdenjkS4YJZA"
      },
      "source": [
        "name.find('n')"
      ],
      "execution_count": null,
      "outputs": []
    },
    {
      "cell_type": "code",
      "metadata": {
        "id": "U1u9d9oJYJZA"
      },
      "source": [
        "len(name)"
      ],
      "execution_count": null,
      "outputs": []
    },
    {
      "cell_type": "code",
      "metadata": {
        "id": "000MJeAQYJZB"
      },
      "source": [
        "name.translate()"
      ],
      "execution_count": null,
      "outputs": []
    },
    {
      "cell_type": "code",
      "metadata": {
        "id": "0YNkc8yhYJZB"
      },
      "source": [
        "name =  \"Pakistan\"\n",
        "year = 1947\n",
        "\n",
        "# i am Pakistan and i came into existance in 1947\n",
        "print(\"i am \" +name+ \" and i came into existance in \" +str(year))"
      ],
      "execution_count": null,
      "outputs": []
    },
    {
      "cell_type": "code",
      "metadata": {
        "id": "RS4InAL2YJZC"
      },
      "source": [
        "\"this is my friend's book\""
      ],
      "execution_count": null,
      "outputs": []
    },
    {
      "cell_type": "markdown",
      "metadata": {
        "id": "OwJ-pgzcYJZC"
      },
      "source": [
        "# String formatting"
      ]
    },
    {
      "cell_type": "code",
      "metadata": {
        "id": "axNRQxZ_YJZC"
      },
      "source": [
        "name  = input(\"Enter your name\")\n",
        "age  = input(\"Enter your age\")\n",
        "print(\"My name is {} and my age is {}\".format(name,age))"
      ],
      "execution_count": null,
      "outputs": []
    },
    {
      "cell_type": "code",
      "metadata": {
        "id": "mPYAOpDgYJZD"
      },
      "source": [
        "name  = input(\"Enter your name\").split(,)\n",
        "age  = input(\"Enter your age\")\n",
        "print(f\"My name is {name} and my age is {age}\")"
      ],
      "execution_count": null,
      "outputs": []
    },
    {
      "cell_type": "code",
      "metadata": {
        "id": "U4i6cFz4YJZD"
      },
      "source": [
        "name  = input(\"Enter your name\").split(',')"
      ],
      "execution_count": null,
      "outputs": []
    },
    {
      "cell_type": "code",
      "metadata": {
        "id": "lP-TF0fFYJZE"
      },
      "source": [
        "name[0]"
      ],
      "execution_count": null,
      "outputs": []
    },
    {
      "cell_type": "code",
      "metadata": {
        "id": "UXx1XlNrYJZE"
      },
      "source": [
        "# immutable , iterable\n",
        "name"
      ],
      "execution_count": null,
      "outputs": []
    },
    {
      "cell_type": "code",
      "metadata": {
        "id": "pDc9216FYJZF"
      },
      "source": [
        "name[0]='p'"
      ],
      "execution_count": null,
      "outputs": []
    },
    {
      "cell_type": "code",
      "metadata": {
        "id": "wQpxZ4OiYJZF"
      },
      "source": [
        "print(\"We are \\\"Students\\\" in AI course\")"
      ],
      "execution_count": null,
      "outputs": []
    },
    {
      "cell_type": "markdown",
      "metadata": {
        "id": "2zZea6CcYJZF"
      },
      "source": [
        "# Operators"
      ]
    },
    {
      "cell_type": "markdown",
      "metadata": {
        "id": "CEUAF3erYJZG"
      },
      "source": [
        "  operator: + - * / "
      ]
    },
    {
      "cell_type": "code",
      "metadata": {
        "id": "_11YVJPcYJZG"
      },
      "source": [
        "2  +  4"
      ],
      "execution_count": null,
      "outputs": []
    },
    {
      "cell_type": "code",
      "metadata": {
        "id": "yt57yCSGYJZH"
      },
      "source": [
        "2.4 + 8 "
      ],
      "execution_count": null,
      "outputs": []
    },
    {
      "cell_type": "code",
      "metadata": {
        "id": "3pL1E2gqYJZH"
      },
      "source": [
        "12 / 5 "
      ],
      "execution_count": null,
      "outputs": []
    },
    {
      "cell_type": "code",
      "metadata": {
        "id": "LpxjRegiYJZH"
      },
      "source": [
        "12 // 5"
      ],
      "execution_count": null,
      "outputs": []
    },
    {
      "cell_type": "markdown",
      "metadata": {
        "id": "aJq-P09MYJZI"
      },
      "source": [
        "Counter >>. increment decrement"
      ]
    },
    {
      "cell_type": "code",
      "metadata": {
        "id": "f7r7PsskYJZI"
      },
      "source": [
        "age  = 10"
      ],
      "execution_count": null,
      "outputs": []
    },
    {
      "cell_type": "code",
      "metadata": {
        "id": "qsHKLGI6YJZJ",
        "outputId": "1a757d97-1527-4217-f540-7a8343fcf949"
      },
      "source": [
        "age =age + 1\n",
        "age"
      ],
      "execution_count": null,
      "outputs": [
        {
          "output_type": "execute_result",
          "data": {
            "text/plain": [
              "16"
            ]
          },
          "metadata": {
            "tags": []
          },
          "execution_count": 7
        }
      ]
    },
    {
      "cell_type": "code",
      "metadata": {
        "id": "PLLjabkOYJZL",
        "outputId": "7136bcb5-bc2b-4402-c46b-eb982ed6713d"
      },
      "source": [
        "age +=1\n",
        "age"
      ],
      "execution_count": null,
      "outputs": [
        {
          "output_type": "execute_result",
          "data": {
            "text/plain": [
              "21"
            ]
          },
          "metadata": {
            "tags": []
          },
          "execution_count": 12
        }
      ]
    },
    {
      "cell_type": "code",
      "metadata": {
        "id": "5Y8lfgaEYJZM",
        "outputId": "58d756f5-f6b1-4c53-fc67-a5a8d4f15826"
      },
      "source": [
        "age -=1\n",
        "age"
      ],
      "execution_count": null,
      "outputs": [
        {
          "output_type": "execute_result",
          "data": {
            "text/plain": [
              "17"
            ]
          },
          "metadata": {
            "tags": []
          },
          "execution_count": 16
        }
      ]
    },
    {
      "cell_type": "code",
      "metadata": {
        "id": "Uq7fZh4_YJZM",
        "outputId": "4aaff818-84a7-4765-ef75-8333d96681e3"
      },
      "source": [
        "age *=2\n",
        "age"
      ],
      "execution_count": null,
      "outputs": [
        {
          "output_type": "execute_result",
          "data": {
            "text/plain": [
              "272"
            ]
          },
          "metadata": {
            "tags": []
          },
          "execution_count": 22
        }
      ]
    },
    {
      "cell_type": "code",
      "metadata": {
        "id": "bdm-wjgGYJZN",
        "outputId": "d3d5a821-7611-4bdb-8a79-3c40fbaab86b"
      },
      "source": [
        "age //=2\n",
        "age"
      ],
      "execution_count": null,
      "outputs": [
        {
          "output_type": "execute_result",
          "data": {
            "text/plain": [
              "4.0"
            ]
          },
          "metadata": {
            "tags": []
          },
          "execution_count": 28
        }
      ]
    },
    {
      "cell_type": "markdown",
      "metadata": {
        "id": "6QpRC1dcYJZO"
      },
      "source": [
        "Modulo Operator (%) returns remainder "
      ]
    },
    {
      "cell_type": "code",
      "metadata": {
        "id": "AXnR5v4DYJZO",
        "outputId": "6456fb10-4b9e-43b0-d839-77b2de9869e3"
      },
      "source": [
        "18%5"
      ],
      "execution_count": null,
      "outputs": [
        {
          "output_type": "execute_result",
          "data": {
            "text/plain": [
              "3"
            ]
          },
          "metadata": {
            "tags": []
          },
          "execution_count": 33
        }
      ]
    },
    {
      "cell_type": "markdown",
      "metadata": {
        "id": "DnsNLHgEYJZP"
      },
      "source": [
        "> , < >=, <=, ==, !=  return boolean values"
      ]
    },
    {
      "cell_type": "markdown",
      "metadata": {
        "id": "Ba3UNFHPYJZP"
      },
      "source": [
        "Logical operators : not , and , or "
      ]
    },
    {
      "cell_type": "markdown",
      "metadata": {
        "id": "Y0Cp_5NkYJZQ"
      },
      "source": [
        "# Python List "
      ]
    },
    {
      "cell_type": "code",
      "metadata": {
        "id": "cGlDDLzEYJZQ"
      },
      "source": [
        "a = []"
      ],
      "execution_count": null,
      "outputs": []
    },
    {
      "cell_type": "code",
      "metadata": {
        "id": "FIMkUepXYJZQ",
        "outputId": "08898f02-3495-4e2d-af3a-ae75a887209b"
      },
      "source": [
        "print(type(a))"
      ],
      "execution_count": null,
      "outputs": [
        {
          "output_type": "stream",
          "text": [
            "<class 'list'>\n"
          ],
          "name": "stdout"
        }
      ]
    },
    {
      "cell_type": "markdown",
      "metadata": {
        "id": "lzaH64KGYJZR"
      },
      "source": [
        "# indexing "
      ]
    },
    {
      "cell_type": "code",
      "metadata": {
        "id": "jIRYOio7YJZS"
      },
      "source": [
        "b =    [12, 23.4, False, \"Pakistan\",[12,34]]\n",
        "#index [ 0   1      2       3           4]  \n",
        "#-ve idex[-5 -4     -3     -2           -1 ]"
      ],
      "execution_count": null,
      "outputs": []
    },
    {
      "cell_type": "code",
      "metadata": {
        "id": "Maj3POFCYJZS",
        "outputId": "3d695a0f-eb43-4189-d5b7-36d5bb529100"
      },
      "source": [
        "b[2]"
      ],
      "execution_count": null,
      "outputs": [
        {
          "output_type": "execute_result",
          "data": {
            "text/plain": [
              "False"
            ]
          },
          "metadata": {
            "tags": []
          },
          "execution_count": 42
        }
      ]
    },
    {
      "cell_type": "code",
      "metadata": {
        "id": "t3sBr5TkYJZT",
        "outputId": "35bcb8cb-ad20-4a0f-fa41-e9a43402c484"
      },
      "source": [
        "b[-2]"
      ],
      "execution_count": null,
      "outputs": [
        {
          "output_type": "execute_result",
          "data": {
            "text/plain": [
              "'Pakistan'"
            ]
          },
          "metadata": {
            "tags": []
          },
          "execution_count": 44
        }
      ]
    },
    {
      "cell_type": "code",
      "metadata": {
        "id": "g6CzESNJYJZT",
        "outputId": "75731ca2-8b6a-4b0b-9cfb-d1c83b91a0c3"
      },
      "source": [
        "b[-1][1]"
      ],
      "execution_count": null,
      "outputs": [
        {
          "output_type": "execute_result",
          "data": {
            "text/plain": [
              "34"
            ]
          },
          "metadata": {
            "tags": []
          },
          "execution_count": 47
        }
      ]
    },
    {
      "cell_type": "code",
      "metadata": {
        "id": "aXmpxjrnYJZU",
        "outputId": "2918cd26-afff-41bc-98f7-d425e5621b3d"
      },
      "source": [
        "b[3][4]"
      ],
      "execution_count": null,
      "outputs": [
        {
          "output_type": "execute_result",
          "data": {
            "text/plain": [
              "'s'"
            ]
          },
          "metadata": {
            "tags": []
          },
          "execution_count": 48
        }
      ]
    },
    {
      "cell_type": "code",
      "metadata": {
        "id": "ngYPyfcWYJZU"
      },
      "source": [
        "a.append(\"marks\")"
      ],
      "execution_count": null,
      "outputs": []
    },
    {
      "cell_type": "code",
      "metadata": {
        "id": "eyss_LePYJZV",
        "outputId": "da8f947d-326e-40b0-d194-d5109d7a80d0"
      },
      "source": [
        "a"
      ],
      "execution_count": null,
      "outputs": [
        {
          "output_type": "execute_result",
          "data": {
            "text/plain": [
              "['marks']"
            ]
          },
          "metadata": {
            "tags": []
          },
          "execution_count": 50
        }
      ]
    },
    {
      "cell_type": "code",
      "metadata": {
        "id": "iSGc1bagYJZW"
      },
      "source": [
        "a.append(\"paper\")"
      ],
      "execution_count": null,
      "outputs": []
    },
    {
      "cell_type": "code",
      "metadata": {
        "id": "M75Bu4VUYJZW",
        "outputId": "e8815401-527b-4cbe-ad29-6b18ba7e70b8"
      },
      "source": [
        "a"
      ],
      "execution_count": null,
      "outputs": [
        {
          "output_type": "execute_result",
          "data": {
            "text/plain": [
              "['marks', 'paper', 'paper', 'marks']"
            ]
          },
          "metadata": {
            "tags": []
          },
          "execution_count": 55
        }
      ]
    },
    {
      "cell_type": "code",
      "metadata": {
        "id": "lWCCFnQ6YJZX",
        "outputId": "e7b24073-6f9a-4f64-a1fd-be7692f89672"
      },
      "source": [
        "a.insert(2,\"pencil\")\n",
        "a"
      ],
      "execution_count": null,
      "outputs": [
        {
          "output_type": "execute_result",
          "data": {
            "text/plain": [
              "['marks', 'paper', 'pencil', 'paper', 'marks']"
            ]
          },
          "metadata": {
            "tags": []
          },
          "execution_count": 56
        }
      ]
    },
    {
      "cell_type": "code",
      "metadata": {
        "id": "bQbqw3YLYJZX"
      },
      "source": [
        "c = a.copy()"
      ],
      "execution_count": null,
      "outputs": []
    },
    {
      "cell_type": "code",
      "metadata": {
        "id": "m9ZJsCOxYJZY",
        "outputId": "3fb49342-5ce8-46df-97d5-f611d3cd41b9"
      },
      "source": [
        "c"
      ],
      "execution_count": null,
      "outputs": [
        {
          "output_type": "execute_result",
          "data": {
            "text/plain": [
              "['marks', 'paper', 'pencil', 'paper', 'marks']"
            ]
          },
          "metadata": {
            "tags": []
          },
          "execution_count": 59
        }
      ]
    },
    {
      "cell_type": "code",
      "metadata": {
        "id": "zSbQfriVYJZY"
      },
      "source": [
        "a.append([\"a\", \"b\", 'c'])"
      ],
      "execution_count": null,
      "outputs": []
    },
    {
      "cell_type": "code",
      "metadata": {
        "id": "dsgA1YCkYJZZ",
        "outputId": "76144bd4-b99b-4bef-e630-d2d8694b0a2d"
      },
      "source": [
        "a"
      ],
      "execution_count": null,
      "outputs": [
        {
          "output_type": "execute_result",
          "data": {
            "text/plain": [
              "[]"
            ]
          },
          "metadata": {
            "tags": []
          },
          "execution_count": 94
        }
      ]
    },
    {
      "cell_type": "code",
      "metadata": {
        "id": "bgB1MOjWYJZZ"
      },
      "source": [
        "a.extend([\"a\", \"b\", 'c'])"
      ],
      "execution_count": null,
      "outputs": []
    },
    {
      "cell_type": "code",
      "metadata": {
        "id": "B5ok2M_wYJZa",
        "outputId": "94b0556c-aba8-45f1-bae3-4e7868711303"
      },
      "source": [
        "a"
      ],
      "execution_count": null,
      "outputs": [
        {
          "output_type": "execute_result",
          "data": {
            "text/plain": [
              "['marks', 'paper', 'pencil', 'paper', 'marks', ['a', 'b', 'c'], 'a', 'b', 'c']"
            ]
          },
          "metadata": {
            "tags": []
          },
          "execution_count": 63
        }
      ]
    },
    {
      "cell_type": "code",
      "metadata": {
        "id": "XbmgsBDtYJZa"
      },
      "source": [
        "a.extend(\"nasir\")"
      ],
      "execution_count": null,
      "outputs": []
    },
    {
      "cell_type": "code",
      "metadata": {
        "id": "RmCmqJC1YJZb",
        "outputId": "04c13bb2-1d77-414d-c052-8abd26738b8b"
      },
      "source": [
        "a"
      ],
      "execution_count": null,
      "outputs": [
        {
          "output_type": "execute_result",
          "data": {
            "text/plain": [
              "['marks',\n",
              " 'paper',\n",
              " 'pencil',\n",
              " 'paper',\n",
              " 'marks',\n",
              " ['a', 'b', 'c'],\n",
              " 'a',\n",
              " 'b',\n",
              " 'c',\n",
              " 'n',\n",
              " 'a',\n",
              " 's',\n",
              " 'i',\n",
              " 'r']"
            ]
          },
          "metadata": {
            "tags": []
          },
          "execution_count": 65
        }
      ]
    },
    {
      "cell_type": "code",
      "metadata": {
        "id": "ZHt8IP_EYJZb",
        "outputId": "5a1f8fee-b13b-4397-93a9-ac2de327aa6a"
      },
      "source": [
        "a.index('marks', 1)"
      ],
      "execution_count": null,
      "outputs": [
        {
          "output_type": "execute_result",
          "data": {
            "text/plain": [
              "4"
            ]
          },
          "metadata": {
            "tags": []
          },
          "execution_count": 70
        }
      ]
    },
    {
      "cell_type": "code",
      "metadata": {
        "id": "F7xoK2ygYJZc",
        "outputId": "aeef9fc9-c6d7-4c0d-9e32-59329cb5313f"
      },
      "source": [
        "del a[13] # by index\n",
        "a"
      ],
      "execution_count": null,
      "outputs": [
        {
          "output_type": "execute_result",
          "data": {
            "text/plain": [
              "['marks',\n",
              " 'paper',\n",
              " 'pencil',\n",
              " 'paper',\n",
              " 'marks',\n",
              " ['a', 'b', 'c'],\n",
              " 'a',\n",
              " 'b',\n",
              " 'c',\n",
              " 'n',\n",
              " 'a',\n",
              " 's',\n",
              " 'i']"
            ]
          },
          "metadata": {
            "tags": []
          },
          "execution_count": 71
        }
      ]
    },
    {
      "cell_type": "code",
      "metadata": {
        "id": "8ieTodzJYJZc",
        "outputId": "82beb83e-ad10-4a86-f176-73dd76a65a33"
      },
      "source": [
        "rem=a.remove(\"pencil\")\n",
        "print(rem)"
      ],
      "execution_count": null,
      "outputs": [
        {
          "output_type": "stream",
          "text": [
            "None\n"
          ],
          "name": "stdout"
        }
      ]
    },
    {
      "cell_type": "code",
      "metadata": {
        "id": "xzzI3X4KYJZc",
        "outputId": "f5668c0c-5d13-4134-85ce-3fe3965f53a3"
      },
      "source": [
        "a"
      ],
      "execution_count": null,
      "outputs": [
        {
          "output_type": "execute_result",
          "data": {
            "text/plain": [
              "['pencil', ['a', 'b', 'c'], 'a', 'b', 'c', 'n', 'a', 's', 'i']"
            ]
          },
          "metadata": {
            "tags": []
          },
          "execution_count": 78
        }
      ]
    },
    {
      "cell_type": "code",
      "metadata": {
        "id": "T3Ei0j-cYJZd"
      },
      "source": [
        "removedValue=[]"
      ],
      "execution_count": null,
      "outputs": []
    },
    {
      "cell_type": "code",
      "metadata": {
        "id": "dchVPDJWYJZd",
        "outputId": "ced4cc9e-8e7d-41f6-cfea-2450ef055033"
      },
      "source": [
        "\n",
        "removedValue.append(b.pop())"
      ],
      "execution_count": null,
      "outputs": [
        {
          "output_type": "error",
          "ename": "IndexError",
          "evalue": "pop from empty list",
          "traceback": [
            "\u001b[1;31m---------------------------------------------------------------------------\u001b[0m",
            "\u001b[1;31mIndexError\u001b[0m                                Traceback (most recent call last)",
            "\u001b[1;32m<ipython-input-100-5404686ed8ef>\u001b[0m in \u001b[0;36m<module>\u001b[1;34m\u001b[0m\n\u001b[1;32m----> 1\u001b[1;33m \u001b[0mremovedValue\u001b[0m\u001b[1;33m.\u001b[0m\u001b[0mappend\u001b[0m\u001b[1;33m(\u001b[0m\u001b[0mb\u001b[0m\u001b[1;33m.\u001b[0m\u001b[0mpop\u001b[0m\u001b[1;33m(\u001b[0m\u001b[1;33m)\u001b[0m\u001b[1;33m)\u001b[0m\u001b[1;33m\u001b[0m\u001b[1;33m\u001b[0m\u001b[0m\n\u001b[0m",
            "\u001b[1;31mIndexError\u001b[0m: pop from empty list"
          ]
        }
      ]
    },
    {
      "cell_type": "code",
      "metadata": {
        "id": "m7NmXkiOYJZd",
        "outputId": "323dd2c7-5119-4473-d31c-5d7c6c949dab"
      },
      "source": [
        "removedValue"
      ],
      "execution_count": null,
      "outputs": [
        {
          "output_type": "execute_result",
          "data": {
            "text/plain": [
              "[[12, 34], 'Pakistan', False, 23.4, 12]"
            ]
          },
          "metadata": {
            "tags": []
          },
          "execution_count": 101
        }
      ]
    },
    {
      "cell_type": "code",
      "metadata": {
        "id": "v53KiCTCYJZd",
        "outputId": "8ea7ac09-ba21-4bc2-fbd0-a2d99b9a69b5"
      },
      "source": [
        "removedValue.sort()"
      ],
      "execution_count": null,
      "outputs": [
        {
          "output_type": "error",
          "ename": "TypeError",
          "evalue": "'<' not supported between instances of 'str' and 'list'",
          "traceback": [
            "\u001b[1;31m---------------------------------------------------------------------------\u001b[0m",
            "\u001b[1;31mTypeError\u001b[0m                                 Traceback (most recent call last)",
            "\u001b[1;32m<ipython-input-104-44ca88b2fa63>\u001b[0m in \u001b[0;36m<module>\u001b[1;34m\u001b[0m\n\u001b[1;32m----> 1\u001b[1;33m \u001b[0mremovedValue\u001b[0m\u001b[1;33m.\u001b[0m\u001b[0msort\u001b[0m\u001b[1;33m(\u001b[0m\u001b[1;33m)\u001b[0m\u001b[1;33m\u001b[0m\u001b[1;33m\u001b[0m\u001b[0m\n\u001b[0m",
            "\u001b[1;31mTypeError\u001b[0m: '<' not supported between instances of 'str' and 'list'"
          ]
        }
      ]
    },
    {
      "cell_type": "code",
      "metadata": {
        "id": "WN4UsD2xYJZd"
      },
      "source": [
        "alist = [23,45,43,12,2,78,65,89]"
      ],
      "execution_count": null,
      "outputs": []
    },
    {
      "cell_type": "code",
      "metadata": {
        "id": "glwJv6arYJZe"
      },
      "source": [
        "sorted_in_ascending_order = sorted(alist)"
      ],
      "execution_count": null,
      "outputs": []
    },
    {
      "cell_type": "code",
      "metadata": {
        "id": "vMsDD8MQYJZe"
      },
      "source": [
        "sorted_in_descending_order  = sorted(alist,reverse=True)"
      ],
      "execution_count": null,
      "outputs": []
    },
    {
      "cell_type": "code",
      "metadata": {
        "id": "8pPCpjIrYJZe",
        "outputId": "f0dbbc51-1e98-4bf4-a40c-d6344efb3e70"
      },
      "source": [
        "sorted_in_ascending_order ,sorted_in_descending_order"
      ],
      "execution_count": null,
      "outputs": [
        {
          "output_type": "execute_result",
          "data": {
            "text/plain": [
              "([2, 12, 23, 43, 45, 65, 78, 89], [89, 78, 65, 45, 43, 23, 12, 2])"
            ]
          },
          "metadata": {
            "tags": []
          },
          "execution_count": 111
        }
      ]
    },
    {
      "cell_type": "markdown",
      "metadata": {
        "id": "J_oXztPpYJZe"
      },
      "source": [
        "# Slicing a list \n"
      ]
    },
    {
      "cell_type": "code",
      "metadata": {
        "id": "ShDOMoDVYJZe"
      },
      "source": [
        "mylist = [2,3,4,5,6,7,8,9]"
      ],
      "execution_count": null,
      "outputs": []
    },
    {
      "cell_type": "code",
      "metadata": {
        "id": "jAMXoCpeYJZe"
      },
      "source": [
        "sliced = mylist[2:5]"
      ],
      "execution_count": null,
      "outputs": []
    },
    {
      "cell_type": "code",
      "metadata": {
        "id": "YTe0GrI-YJZf"
      },
      "source": [
        "sliced[2]=66"
      ],
      "execution_count": null,
      "outputs": []
    },
    {
      "cell_type": "code",
      "metadata": {
        "id": "KEokvYpDYJZf",
        "outputId": "1d219b5b-2dbe-404c-eebf-cb00230db7b1"
      },
      "source": [
        "sliced"
      ],
      "execution_count": null,
      "outputs": [
        {
          "output_type": "execute_result",
          "data": {
            "text/plain": [
              "[4, 5, 66]"
            ]
          },
          "metadata": {
            "tags": []
          },
          "execution_count": 122
        }
      ]
    },
    {
      "cell_type": "code",
      "metadata": {
        "id": "reDslf10YJZf",
        "outputId": "c8659f7b-0e39-4078-ec6d-fddb26fa9385"
      },
      "source": [
        "mylist"
      ],
      "execution_count": null,
      "outputs": [
        {
          "output_type": "execute_result",
          "data": {
            "text/plain": [
              "[2, 3, 4, 5, 6, 7, 8, 9]"
            ]
          },
          "metadata": {
            "tags": []
          },
          "execution_count": 123
        }
      ]
    },
    {
      "cell_type": "code",
      "metadata": {
        "id": "l5XeQ5WdYJZf"
      },
      "source": [
        "newSlice = mylist[:]"
      ],
      "execution_count": null,
      "outputs": []
    },
    {
      "cell_type": "code",
      "metadata": {
        "id": "CQlmQDJpYJZf",
        "outputId": "402e4b11-30f0-4250-fdd6-31177020612f"
      },
      "source": [
        "aslice = mylist[:55]\n",
        "aslice"
      ],
      "execution_count": null,
      "outputs": [
        {
          "output_type": "execute_result",
          "data": {
            "text/plain": [
              "[2, 3, 4, 5, 6, 7, 8, 9]"
            ]
          },
          "metadata": {
            "tags": []
          },
          "execution_count": 127
        }
      ]
    },
    {
      "cell_type": "code",
      "metadata": {
        "id": "PT7djVOWYJZf",
        "outputId": "2995cf00-5cf1-445e-839e-cc6034fb240b"
      },
      "source": [
        "mylist[-4:]"
      ],
      "execution_count": null,
      "outputs": [
        {
          "output_type": "execute_result",
          "data": {
            "text/plain": [
              "[6, 7, 8, 9]"
            ]
          },
          "metadata": {
            "tags": []
          },
          "execution_count": 129
        }
      ]
    },
    {
      "cell_type": "code",
      "metadata": {
        "id": "PHwNHjhoYJZg"
      },
      "source": [
        "yourlist = [1,2,3,4,5,6,7,8,9,0]"
      ],
      "execution_count": null,
      "outputs": []
    },
    {
      "cell_type": "code",
      "metadata": {
        "id": "d323EMpAYJZg",
        "outputId": "b4701ae8-8d4d-4f76-989a-ea2c8d48fccc"
      },
      "source": [
        "yourlist[0:10:3]"
      ],
      "execution_count": null,
      "outputs": [
        {
          "output_type": "execute_result",
          "data": {
            "text/plain": [
              "[1, 4, 7, 0]"
            ]
          },
          "metadata": {
            "tags": []
          },
          "execution_count": 133
        }
      ]
    },
    {
      "cell_type": "code",
      "metadata": {
        "id": "MpDe6yZkYJZg",
        "outputId": "f7e4f523-b297-4903-d2b2-ea20b7d871b8"
      },
      "source": [
        "yourlist[-8:8]"
      ],
      "execution_count": null,
      "outputs": [
        {
          "output_type": "execute_result",
          "data": {
            "text/plain": [
              "[3, 4, 5, 6, 7, 8]"
            ]
          },
          "metadata": {
            "tags": []
          },
          "execution_count": 134
        }
      ]
    },
    {
      "cell_type": "code",
      "metadata": {
        "id": "7Z9C_YyfYJZg",
        "outputId": "96b7ff94-e06e-48e7-f0a8-dad629488169"
      },
      "source": [
        "yourlist[5:-9]"
      ],
      "execution_count": null,
      "outputs": [
        {
          "output_type": "execute_result",
          "data": {
            "text/plain": [
              "[]"
            ]
          },
          "metadata": {
            "tags": []
          },
          "execution_count": 135
        }
      ]
    },
    {
      "cell_type": "code",
      "metadata": {
        "id": "xDrVTLlCYJZg",
        "outputId": "f2942552-ab5c-4f37-f5bc-c5c72ca43928"
      },
      "source": [
        "yourlist[5:-9:-1]"
      ],
      "execution_count": null,
      "outputs": [
        {
          "output_type": "execute_result",
          "data": {
            "text/plain": [
              "[6, 5, 4, 3]"
            ]
          },
          "metadata": {
            "tags": []
          },
          "execution_count": 136
        }
      ]
    },
    {
      "cell_type": "code",
      "metadata": {
        "id": "QFYKWA2XYJZh",
        "outputId": "e131cb48-2088-49fe-882a-428267476d18"
      },
      "source": [
        "yourlist[::-1]"
      ],
      "execution_count": null,
      "outputs": [
        {
          "output_type": "execute_result",
          "data": {
            "text/plain": [
              "[0, 9, 8, 7, 6, 5, 4, 3, 2, 1]"
            ]
          },
          "metadata": {
            "tags": []
          },
          "execution_count": 137
        }
      ]
    },
    {
      "cell_type": "code",
      "metadata": {
        "id": "iXj9JmbHYJZh"
      },
      "source": [
        "list2d = [[[1,2,3,4,5],[6,7,8,0,0]]]"
      ],
      "execution_count": null,
      "outputs": []
    },
    {
      "cell_type": "code",
      "metadata": {
        "id": "X-HtkuPbYJZh",
        "outputId": "626cee92-d0b0-4ae9-c890-0707e41c397a"
      },
      "source": [
        "print(list2d)"
      ],
      "execution_count": null,
      "outputs": [
        {
          "output_type": "stream",
          "text": [
            "[[[1, 2, 3, 4, 5], [6, 7, 8, 0, 0]]]\n"
          ],
          "name": "stdout"
        }
      ]
    },
    {
      "cell_type": "code",
      "metadata": {
        "id": "PdPzzctpYJZh"
      },
      "source": [
        "a= [1,2,3, [1,2,3], [3,5,7]]"
      ],
      "execution_count": null,
      "outputs": []
    },
    {
      "cell_type": "code",
      "metadata": {
        "id": "tCLl1kmmYJZh",
        "outputId": "c0e0e4a7-8543-40fe-ee34-5b9aca8bfca7"
      },
      "source": [
        "a"
      ],
      "execution_count": null,
      "outputs": [
        {
          "output_type": "execute_result",
          "data": {
            "text/plain": [
              "[1, 2, 3, [1, 2, 3], [3, 5, 7]]"
            ]
          },
          "metadata": {
            "tags": []
          },
          "execution_count": 146
        }
      ]
    },
    {
      "cell_type": "code",
      "metadata": {
        "id": "wStG28SrYJZi"
      },
      "source": [
        ""
      ],
      "execution_count": null,
      "outputs": []
    }
  ]
}