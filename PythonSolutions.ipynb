{
 "cells": [
  {
   "cell_type": "markdown",
   "id": "95881b5f",
   "metadata": {},
   "source": [
    "# Get Mongodb data using Python "
   ]
  },
  {
   "cell_type": "code",
   "execution_count": null,
   "id": "9877ab26",
   "metadata": {},
   "outputs": [],
   "source": [
    "import pymongo\n",
    "from pymongo import MongoClient"
   ]
  },
  {
   "cell_type": "code",
   "execution_count": null,
   "id": "59ecfae0",
   "metadata": {},
   "outputs": [],
   "source": [
    "client = MongoClient(host=\"mongodb://localhost:17017/\", port=17017,username='username', password='password')\n",
    "db = client['client_name']\n",
    "col = db['Collections']"
   ]
  },
  {
   "cell_type": "code",
   "execution_count": null,
   "id": "f4d2ef3b",
   "metadata": {},
   "outputs": [],
   "source": []
  },
  {
   "cell_type": "code",
   "execution_count": null,
   "id": "e91f7d66",
   "metadata": {},
   "outputs": [],
   "source": []
  }
 ],
 "metadata": {
  "kernelspec": {
   "display_name": "Python 3 (ipykernel)",
   "language": "python",
   "name": "python3"
  },
  "language_info": {
   "codemirror_mode": {
    "name": "ipython",
    "version": 3
   },
   "file_extension": ".py",
   "mimetype": "text/x-python",
   "name": "python",
   "nbconvert_exporter": "python",
   "pygments_lexer": "ipython3",
   "version": "3.7.0"
  }
 },
 "nbformat": 4,
 "nbformat_minor": 5
}
