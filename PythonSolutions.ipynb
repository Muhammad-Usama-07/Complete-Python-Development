{
  "cells": [
    {
      "cell_type": "markdown",
      "id": "95881b5f",
      "metadata": {
        "id": "95881b5f"
      },
      "source": [
        "# Get Mongodb data using Python "
      ]
    },
    {
      "cell_type": "code",
      "execution_count": null,
      "id": "9877ab26",
      "metadata": {
        "id": "9877ab26"
      },
      "outputs": [],
      "source": [
        "import pymongo\n",
        "from pymongo import MongoClient"
      ]
    },
    {
      "cell_type": "code",
      "execution_count": null,
      "id": "59ecfae0",
      "metadata": {
        "id": "59ecfae0"
      },
      "outputs": [],
      "source": [
        "client = MongoClient(host=\"mongodb://localhost:17017/\", port=17017,username='username', password='password')\n",
        "db = client['client_name']\n",
        "col = db['Collections']"
      ]
    },
    {
      "cell_type": "markdown",
      "source": [
        "# Add column with multiple rows in empty dictionary"
      ],
      "metadata": {
        "id": "A5t2byzuHUOU"
      },
      "id": "A5t2byzuHUOU"
    },
    {
      "cell_type": "code",
      "execution_count": 1,
      "id": "f4d2ef3b",
      "metadata": {
        "colab": {
          "base_uri": "https://localhost:8080/"
        },
        "id": "f4d2ef3b",
        "outputId": "94251ff9-a75a-4b01-a58d-9a959698df73"
      },
      "outputs": [
        {
          "output_type": "execute_result",
          "data": {
            "text/plain": [
              "{'1': [0, 1, 2, 3, 4], '2': [0, 1, 2, 3, 4], '3': [0, 1, 2, 3, 4]}"
            ]
          },
          "metadata": {},
          "execution_count": 1
        }
      ],
      "source": [
        "a_dict = {}\n",
        "b = ['1', '2', '3']\n",
        "for j in b:\n",
        "    a_dict[j] = []\n",
        "    for i in range(0,5):\n",
        "        a_dict[j].append(i)\n",
        "a_dict\n"
      ]
    },
    {
      "cell_type": "markdown",
      "source": [
        "# Get duration of audio"
      ],
      "metadata": {
        "id": "QQO9Gr-tIHTH"
      },
      "id": "QQO9Gr-tIHTH"
    },
    {
      "cell_type": "code",
      "execution_count": 2,
      "id": "e91f7d66",
      "metadata": {
        "id": "e91f7d66"
      },
      "outputs": [],
      "source": [
        "import librosa\n",
        "librosa.get_duration(filename='my.wav')"
      ]
    },
    {
      "cell_type": "markdown",
      "source": [
        "# If library/package not working in jupter notebook after installation of that package in virtual enviroment "
      ],
      "metadata": {
        "id": "MsIes0zbK4ZR"
      },
      "id": "MsIes0zbK4ZR"
    },
    {
      "cell_type": "code",
      "source": [
        "import sys\n",
        "!{sys.executable} -m pip install Package_Name"
      ],
      "metadata": {
        "id": "U_fBzz7QILDl"
      },
      "id": "U_fBzz7QILDl",
      "execution_count": null,
      "outputs": []
    }
  ],
  "metadata": {
    "kernelspec": {
      "display_name": "Python 3 (ipykernel)",
      "language": "python",
      "name": "python3"
    },
    "language_info": {
      "codemirror_mode": {
        "name": "ipython",
        "version": 3
      },
      "file_extension": ".py",
      "mimetype": "text/x-python",
      "name": "python",
      "nbconvert_exporter": "python",
      "pygments_lexer": "ipython3",
      "version": "3.7.0"
    },
    "colab": {
      "provenance": []
    }
  },
  "nbformat": 4,
  "nbformat_minor": 5
}