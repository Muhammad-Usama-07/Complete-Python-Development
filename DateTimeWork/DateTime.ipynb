{
  "cells": [
    {
      "cell_type": "markdown",
      "metadata": {
        "id": "view-in-github",
        "colab_type": "text"
      },
      "source": [
        "<a href=\"https://colab.research.google.com/github/Muhammad-Usama-07/Complete-Python-Development/blob/master/DateTimeWork/DateTime.ipynb\" target=\"_parent\"><img src=\"https://colab.research.google.com/assets/colab-badge.svg\" alt=\"Open In Colab\"/></a>"
      ]
    },
    {
      "cell_type": "markdown",
      "source": [
        "# Subtract Dates"
      ],
      "metadata": {
        "id": "CoFwPbt5A2J2"
      },
      "id": "CoFwPbt5A2J2"
    },
    {
      "cell_type": "code",
      "execution_count": 5,
      "id": "ff8a364b",
      "metadata": {
        "id": "ff8a364b",
        "outputId": "1dddfe5e-f022-4c55-b604-d6ecee35a8dc",
        "colab": {
          "base_uri": "https://localhost:8080/"
        }
      },
      "outputs": [
        {
          "output_type": "stream",
          "name": "stdout",
          "text": [
            "-3652\n"
          ]
        }
      ],
      "source": [
        "from datetime import date\n",
        "\n",
        "start = date(2020, 1, 10)\n",
        "\n",
        "end = date(2010, 1, 10)\n",
        "\n",
        "# Subtract Days\n",
        "print((end - start).days)"
      ]
    },
    {
      "cell_type": "code",
      "source": [],
      "metadata": {
        "id": "enZmnxN9Cm-E"
      },
      "id": "enZmnxN9Cm-E",
      "execution_count": null,
      "outputs": []
    }
  ],
  "metadata": {
    "kernelspec": {
      "display_name": "Python 3 (ipykernel)",
      "language": "python",
      "name": "python3"
    },
    "language_info": {
      "codemirror_mode": {
        "name": "ipython",
        "version": 3
      },
      "file_extension": ".py",
      "mimetype": "text/x-python",
      "name": "python",
      "nbconvert_exporter": "python",
      "pygments_lexer": "ipython3",
      "version": "3.8.0"
    },
    "colab": {
      "provenance": [],
      "toc_visible": true,
      "include_colab_link": true
    }
  },
  "nbformat": 4,
  "nbformat_minor": 5
}