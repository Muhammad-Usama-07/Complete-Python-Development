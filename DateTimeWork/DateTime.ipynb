{
  "cells": [
    {
      "cell_type": "markdown",
      "metadata": {
        "id": "view-in-github",
        "colab_type": "text"
      },
      "source": [
        "<a href=\"https://colab.research.google.com/github/Muhammad-Usama-07/Complete-Python-Development/blob/master/DateTimeWork/DateTime.ipynb\" target=\"_parent\"><img src=\"https://colab.research.google.com/assets/colab-badge.svg\" alt=\"Open In Colab\"/></a>"
      ]
    },
    {
      "cell_type": "markdown",
      "source": [
        "# Subtract Dates"
      ],
      "metadata": {
        "id": "CoFwPbt5A2J2"
      },
      "id": "CoFwPbt5A2J2"
    },
    {
      "cell_type": "code",
      "execution_count": null,
      "id": "ff8a364b",
      "metadata": {
        "id": "ff8a364b",
        "outputId": "1dddfe5e-f022-4c55-b604-d6ecee35a8dc",
        "colab": {
          "base_uri": "https://localhost:8080/"
        }
      },
      "outputs": [
        {
          "output_type": "stream",
          "name": "stdout",
          "text": [
            "-3652\n"
          ]
        }
      ],
      "source": [
        "from datetime import date\n",
        "\n",
        "start = date(2020, 1, 10)\n",
        "\n",
        "end = date(2010, 1, 10)\n",
        "\n",
        "# Subtract Days\n",
        "print((end - start).days)"
      ]
    },
    {
      "cell_type": "markdown",
      "source": [
        "# First and Last Element of Datetime List"
      ],
      "metadata": {
        "id": "FZz9chODfUxN"
      },
      "id": "FZz9chODfUxN"
    },
    {
      "cell_type": "code",
      "source": [
        "import datetime\n",
        "date_list = [datetime.date(1988, 8, 4),\n",
        " datetime.date(1990, 10, 12),\n",
        " datetime.date(2003, 4, 20),\n",
        " datetime.date(1971, 9, 1),\n",
        " datetime.date(1988, 8, 23),\n",
        " datetime.date(1994, 8, 15),\n",
        " datetime.date(2002, 8, 4),\n",
        " datetime.date(1988, 5, 30),\n",
        " datetime.date(2003, 9, 13),\n",
        " datetime.date(2009, 8, 21),\n",
        " datetime.date(1978, 6, 22),\n",
        " datetime.date(1969, 6, 9),\n",
        " datetime.date(1976, 6, 11),\n",
        " datetime.date(1976, 8, 19),\n",
        " datetime.date(1966, 6, 9),\n",
        " datetime.date(1968, 7, 5),\n",
        " datetime.date(1987, 11, 4),\n",
        " datetime.date(1988, 8, 13),\n",
        " datetime.date(2007, 12, 13),\n",
        " datetime.date(1994, 11, 16),\n",
        " datetime.date(2003, 9, 6),\n",
        " datetime.date(1971, 8, 13),\n",
        " datetime.date(1981, 8, 17),\n",
        " datetime.date(1998, 9, 25),\n",
        " datetime.date(1968, 9, 26),\n",
        " datetime.date(1968, 6, 4),\n",
        " datetime.date(1998, 11, 5),\n",
        " datetime.date(2008, 8, 18),\n",
        " datetime.date(1987, 8, 14),\n",
        " datetime.date(1988, 11, 23),\n",
        " datetime.date(2010, 9, 29),\n",
        " datetime.date(1985, 7, 23),\n",
        " datetime.date(2017, 7, 31),\n",
        " datetime.date(1955, 8, 21),\n",
        " datetime.date(1986, 6, 26),\n",
        " datetime.date(1963, 10, 21),\n",
        " datetime.date(2011, 10, 28),\n",
        " datetime.date(2011, 11, 9),\n",
        " datetime.date(1997, 7, 19),\n",
        " datetime.date(2007, 6, 2),\n",
        " datetime.date(2002, 9, 14),\n",
        " datetime.date(1992, 9, 29),\n",
        " datetime.date(1971, 10, 13)]"
      ],
      "metadata": {
        "id": "enZmnxN9Cm-E"
      },
      "id": "enZmnxN9Cm-E",
      "execution_count": 5,
      "outputs": []
    },
    {
      "cell_type": "code",
      "source": [
        "print(date_list[0])\n",
        "print(date_list[-1])"
      ],
      "metadata": {
        "id": "JrP9y1oxe_Ev",
        "outputId": "832bf618-8d4e-4b7a-d611-9e6d1d094c69",
        "colab": {
          "base_uri": "https://localhost:8080/"
        }
      },
      "id": "JrP9y1oxe_Ev",
      "execution_count": 6,
      "outputs": [
        {
          "output_type": "stream",
          "name": "stdout",
          "text": [
            "1988-08-04\n",
            "1971-10-13\n"
          ]
        }
      ]
    },
    {
      "cell_type": "code",
      "source": [],
      "metadata": {
        "id": "s2Hnq6HRfdZ4"
      },
      "id": "s2Hnq6HRfdZ4",
      "execution_count": null,
      "outputs": []
    }
  ],
  "metadata": {
    "kernelspec": {
      "display_name": "Python 3 (ipykernel)",
      "language": "python",
      "name": "python3"
    },
    "language_info": {
      "codemirror_mode": {
        "name": "ipython",
        "version": 3
      },
      "file_extension": ".py",
      "mimetype": "text/x-python",
      "name": "python",
      "nbconvert_exporter": "python",
      "pygments_lexer": "ipython3",
      "version": "3.8.0"
    },
    "colab": {
      "provenance": [],
      "toc_visible": true,
      "include_colab_link": true
    }
  },
  "nbformat": 4,
  "nbformat_minor": 5
}