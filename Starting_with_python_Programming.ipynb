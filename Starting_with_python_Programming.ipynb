{
  "nbformat": 4,
  "nbformat_minor": 0,
  "metadata": {
    "kernelspec": {
      "display_name": "Python 3",
      "language": "python",
      "name": "python3"
    },
    "language_info": {
      "codemirror_mode": {
        "name": "ipython",
        "version": 3
      },
      "file_extension": ".py",
      "mimetype": "text/x-python",
      "name": "python",
      "nbconvert_exporter": "python",
      "pygments_lexer": "ipython3",
      "version": "3.7.3"
    },
    "colab": {
      "name": "Starting with python Programming.ipynb",
      "provenance": [],
      "include_colab_link": true
    }
  },
  "cells": [
    {
      "cell_type": "markdown",
      "metadata": {
        "id": "view-in-github",
        "colab_type": "text"
      },
      "source": [
        "<a href=\"https://colab.research.google.com/github/Muhammad-Usama-07/Complete-Your-Python-Here/blob/master/Starting_with_python_Programming.ipynb\" target=\"_parent\"><img src=\"https://colab.research.google.com/assets/colab-badge.svg\" alt=\"Open In Colab\"/></a>"
      ]
    },
    {
      "cell_type": "markdown",
      "metadata": {
        "id": "8VVvy6z_ogSs"
      },
      "source": [
        "# Print and its Functions"
      ]
    },
    {
      "cell_type": "code",
      "metadata": {
        "colab": {
          "base_uri": "https://localhost:8080/"
        },
        "id": "YtQSPzsCogS_",
        "outputId": "bdda9882-c487-4ab3-d25d-fa506857650f"
      },
      "source": [
        "print(\"Welcome python\")"
      ],
      "execution_count": null,
      "outputs": [
        {
          "output_type": "stream",
          "text": [
            "Welcome python\n"
          ],
          "name": "stdout"
        }
      ]
    },
    {
      "cell_type": "markdown",
      "metadata": {
        "id": "viJGiN14ogTD"
      },
      "source": [
        "# print with end"
      ]
    },
    {
      "cell_type": "code",
      "metadata": {
        "colab": {
          "base_uri": "https://localhost:8080/"
        },
        "id": "AeigIjoRogTD",
        "outputId": "1f1b15c2-8f61-4c2a-847d-bbe874e7d749"
      },
      "source": [
        "print(\"Hello\", end = \" -  \")\n",
        "print(\"world\")"
      ],
      "execution_count": null,
      "outputs": [
        {
          "output_type": "stream",
          "text": [
            "Hello -  world\n"
          ],
          "name": "stdout"
        }
      ]
    },
    {
      "cell_type": "code",
      "metadata": {
        "colab": {
          "base_uri": "https://localhost:8080/"
        },
        "id": "uPFX-Pv9ogTE",
        "outputId": "8aa43683-514c-4abe-ecb2-534de749e580"
      },
      "source": [
        "print(\"Hello\", end = \" ### \")\n",
        "print(\"world\")"
      ],
      "execution_count": null,
      "outputs": [
        {
          "output_type": "stream",
          "text": [
            "Hello ### world\n"
          ],
          "name": "stdout"
        }
      ]
    },
    {
      "cell_type": "code",
      "metadata": {
        "colab": {
          "base_uri": "https://localhost:8080/"
        },
        "id": "mO_8jEFGogTF",
        "outputId": "168e6a58-5922-400a-8d5c-3a45f94ea7b1"
      },
      "source": [
        "print(\"Hello\", end = \"\\n\")\n",
        "print(\"world\")"
      ],
      "execution_count": null,
      "outputs": [
        {
          "output_type": "stream",
          "text": [
            "Hello\n",
            "world\n"
          ],
          "name": "stdout"
        }
      ]
    },
    {
      "cell_type": "markdown",
      "metadata": {
        "id": "Em5OoJQjogTG"
      },
      "source": [
        "# print two string togather"
      ]
    },
    {
      "cell_type": "code",
      "metadata": {
        "colab": {
          "base_uri": "https://localhost:8080/"
        },
        "id": "KZMwyeAaogTH",
        "outputId": "376bb396-190b-45d0-cc89-b7b7a1fa6cfa"
      },
      "source": [
        "print('first String','Second String')"
      ],
      "execution_count": null,
      "outputs": [
        {
          "output_type": "stream",
          "text": [
            "first String Second String\n"
          ],
          "name": "stdout"
        }
      ]
    },
    {
      "cell_type": "code",
      "metadata": {
        "colab": {
          "base_uri": "https://localhost:8080/"
        },
        "id": "R131cnqBogTI",
        "outputId": "a0a3dc12-27ac-4a4a-f24d-dde4b385438b"
      },
      "source": [
        "print('first String'+'Second String')"
      ],
      "execution_count": null,
      "outputs": [
        {
          "output_type": "stream",
          "text": [
            "first StringSecond String\n"
          ],
          "name": "stdout"
        }
      ]
    },
    {
      "cell_type": "markdown",
      "metadata": {
        "id": "WQS7CCDPogTI"
      },
      "source": [
        "# print wtith sep"
      ]
    },
    {
      "cell_type": "code",
      "metadata": {
        "colab": {
          "base_uri": "https://localhost:8080/"
        },
        "id": "Fc6nTHJ5ogTJ",
        "outputId": "473ce7c9-f0ce-4cdc-f4d6-e4ea88405b56"
      },
      "source": [
        "print(\"hello\",\"word\",sep = '....')"
      ],
      "execution_count": null,
      "outputs": [
        {
          "output_type": "stream",
          "text": [
            "hello....word\n"
          ],
          "name": "stdout"
        }
      ]
    },
    {
      "cell_type": "markdown",
      "metadata": {
        "id": "Wdhr4G3lwm_9"
      },
      "source": [
        "# Variables"
      ]
    },
    {
      "cell_type": "code",
      "metadata": {
        "id": "eCy6WkxpogTK"
      },
      "source": [
        "# declearing a variable and passing by value\n",
        "var1 = \"Hello\""
      ],
      "execution_count": null,
      "outputs": []
    },
    {
      "cell_type": "code",
      "metadata": {
        "colab": {
          "base_uri": "https://localhost:8080/",
          "height": 35
        },
        "id": "_WC61wxsogTL",
        "outputId": "654459d7-cbfc-4047-f703-58fd52dd9b74"
      },
      "source": [
        "var1"
      ],
      "execution_count": null,
      "outputs": [
        {
          "output_type": "execute_result",
          "data": {
            "application/vnd.google.colaboratory.intrinsic+json": {
              "type": "string"
            },
            "text/plain": [
              "'Hello'"
            ]
          },
          "metadata": {
            "tags": []
          },
          "execution_count": 246
        }
      ]
    },
    {
      "cell_type": "code",
      "metadata": {
        "colab": {
          "base_uri": "https://localhost:8080/"
        },
        "id": "eX0_ExdKsEvO",
        "outputId": "c57db50b-438b-434d-d21f-f6473ddc103b"
      },
      "source": [
        "varr2 = var1 # passing by reference\r\n",
        "print(varr2)"
      ],
      "execution_count": null,
      "outputs": [
        {
          "output_type": "stream",
          "text": [
            "Hello\n"
          ],
          "name": "stdout"
        }
      ]
    },
    {
      "cell_type": "code",
      "metadata": {
        "colab": {
          "base_uri": "https://localhost:8080/"
        },
        "id": "8DJm8fXmogTM",
        "outputId": "2371629e-2868-47ef-bc5e-a9fad11be954"
      },
      "source": [
        "# Another way\n",
        "print(var1)"
      ],
      "execution_count": null,
      "outputs": [
        {
          "output_type": "stream",
          "text": [
            "Hello\n"
          ],
          "name": "stdout"
        }
      ]
    },
    {
      "cell_type": "code",
      "metadata": {
        "id": "8yYvXcsQogTN"
      },
      "source": [
        "# assigning integer value to the variable.\n",
        "var2 = 123"
      ],
      "execution_count": null,
      "outputs": []
    },
    {
      "cell_type": "code",
      "metadata": {
        "colab": {
          "base_uri": "https://localhost:8080/"
        },
        "id": "L-Aj8HTHogTN",
        "outputId": "b0898363-42a2-45b1-dbe8-ed97524231e3"
      },
      "source": [
        "var2"
      ],
      "execution_count": null,
      "outputs": [
        {
          "output_type": "execute_result",
          "data": {
            "text/plain": [
              "123"
            ]
          },
          "metadata": {
            "tags": []
          },
          "execution_count": 142
        }
      ]
    },
    {
      "cell_type": "code",
      "metadata": {
        "colab": {
          "base_uri": "https://localhost:8080/"
        },
        "id": "RhUBlDQOogTO",
        "outputId": "5629fb72-1304-4eb5-92ad-25471e81b2ef"
      },
      "source": [
        "#floating variable\n",
        "var3 = 1.234455454\n",
        "var3"
      ],
      "execution_count": null,
      "outputs": [
        {
          "output_type": "execute_result",
          "data": {
            "text/plain": [
              "1.234455454"
            ]
          },
          "metadata": {
            "tags": []
          },
          "execution_count": 143
        }
      ]
    },
    {
      "cell_type": "code",
      "metadata": {
        "colab": {
          "base_uri": "https://localhost:8080/"
        },
        "id": "ImhqwNbLogTP",
        "outputId": "d20d55cc-36f5-42cd-daad-35916ded3fff"
      },
      "source": [
        "# Boolean Variable\n",
        "var4 = True\n",
        "var5 = False\n",
        "print(var4,var5)"
      ],
      "execution_count": null,
      "outputs": [
        {
          "output_type": "stream",
          "text": [
            "True False\n"
          ],
          "name": "stdout"
        }
      ]
    },
    {
      "cell_type": "code",
      "metadata": {
        "colab": {
          "base_uri": "https://localhost:8080/",
          "height": 35
        },
        "id": "IU2DOnHLogTP",
        "outputId": "a39cf67b-8b91-492e-f7e6-64cc0e64dc44"
      },
      "source": [
        "# assigning String value to the variable.\n",
        "var6 = \"this is a string\"\n",
        "var6"
      ],
      "execution_count": null,
      "outputs": [
        {
          "output_type": "execute_result",
          "data": {
            "application/vnd.google.colaboratory.intrinsic+json": {
              "type": "string"
            },
            "text/plain": [
              "'this is a string'"
            ]
          },
          "metadata": {
            "tags": []
          },
          "execution_count": 240
        }
      ]
    },
    {
      "cell_type": "code",
      "metadata": {
        "colab": {
          "base_uri": "https://localhost:8080/"
        },
        "id": "KO3CWYD0rIbA",
        "outputId": "ab54be0f-13dc-43c7-d88d-4dea30fc7d81"
      },
      "source": [
        "id(var6)"
      ],
      "execution_count": null,
      "outputs": [
        {
          "output_type": "execute_result",
          "data": {
            "text/plain": [
              "139988913409744"
            ]
          },
          "metadata": {
            "tags": []
          },
          "execution_count": 241
        }
      ]
    },
    {
      "cell_type": "code",
      "metadata": {
        "colab": {
          "base_uri": "https://localhost:8080/",
          "height": 35
        },
        "id": "JHO0b0aSogTQ",
        "outputId": "a44c249a-6285-4ced-c1e5-001ba86fe435"
      },
      "source": [
        "# Concatinating two string with no single character space b/w them\n",
        "var7 = \"with second string\"\n",
        "var6+var7"
      ],
      "execution_count": null,
      "outputs": [
        {
          "output_type": "execute_result",
          "data": {
            "application/vnd.google.colaboratory.intrinsic+json": {
              "type": "string"
            },
            "text/plain": [
              "'this is a stringwith second string'"
            ]
          },
          "metadata": {
            "tags": []
          },
          "execution_count": 146
        }
      ]
    },
    {
      "cell_type": "code",
      "metadata": {
        "colab": {
          "base_uri": "https://localhost:8080/"
        },
        "id": "JhbBZI3-ogTQ",
        "outputId": "d06d95ac-55d5-4117-ef6f-7a18a226302e"
      },
      "source": [
        "'''When replacing with comma b/w them\n",
        "it will create single character space b/w the string'''\n",
        "print(var6,var7)"
      ],
      "execution_count": null,
      "outputs": [
        {
          "output_type": "stream",
          "text": [
            "this is a string with second string\n"
          ],
          "name": "stdout"
        }
      ]
    },
    {
      "cell_type": "code",
      "metadata": {
        "colab": {
          "base_uri": "https://localhost:8080/"
        },
        "id": "R0Xo1c1BogTQ",
        "outputId": "dff8d625-e873-4b21-ead3-b418ff19246f"
      },
      "source": [
        "# Finding type data types of variale.\n",
        "type(var1)\n"
      ],
      "execution_count": null,
      "outputs": [
        {
          "output_type": "execute_result",
          "data": {
            "text/plain": [
              "str"
            ]
          },
          "metadata": {
            "tags": []
          },
          "execution_count": 148
        }
      ]
    },
    {
      "cell_type": "code",
      "metadata": {
        "colab": {
          "base_uri": "https://localhost:8080/"
        },
        "id": "UVOSDKDtogTR",
        "outputId": "19e5479f-f4b0-4047-8d42-81f8d2f20231"
      },
      "source": [
        "type(var2)"
      ],
      "execution_count": null,
      "outputs": [
        {
          "output_type": "execute_result",
          "data": {
            "text/plain": [
              "int"
            ]
          },
          "metadata": {
            "tags": []
          },
          "execution_count": 149
        }
      ]
    },
    {
      "cell_type": "code",
      "metadata": {
        "colab": {
          "base_uri": "https://localhost:8080/"
        },
        "id": "6ThjfTn7ogTR",
        "outputId": "8a9a83b9-c362-4c50-cc05-86e1717bfe5a"
      },
      "source": [
        "type(var3)"
      ],
      "execution_count": null,
      "outputs": [
        {
          "output_type": "execute_result",
          "data": {
            "text/plain": [
              "float"
            ]
          },
          "metadata": {
            "tags": []
          },
          "execution_count": 150
        }
      ]
    },
    {
      "cell_type": "code",
      "metadata": {
        "colab": {
          "base_uri": "https://localhost:8080/"
        },
        "id": "IvNLCdjHogTR",
        "outputId": "5dea009f-b1b1-4baa-8946-4b20f97ceae0"
      },
      "source": [
        "type(var4)"
      ],
      "execution_count": null,
      "outputs": [
        {
          "output_type": "execute_result",
          "data": {
            "text/plain": [
              "bool"
            ]
          },
          "metadata": {
            "tags": []
          },
          "execution_count": 151
        }
      ]
    },
    {
      "cell_type": "code",
      "metadata": {
        "colab": {
          "base_uri": "https://localhost:8080/"
        },
        "id": "L828JxAEogTR",
        "outputId": "053d572a-8834-49d4-edb6-42d25e4851f5"
      },
      "source": [
        "type(var5)"
      ],
      "execution_count": null,
      "outputs": [
        {
          "output_type": "execute_result",
          "data": {
            "text/plain": [
              "bool"
            ]
          },
          "metadata": {
            "tags": []
          },
          "execution_count": 152
        }
      ]
    },
    {
      "cell_type": "code",
      "metadata": {
        "colab": {
          "base_uri": "https://localhost:8080/"
        },
        "id": "QtBNNa2bogTS",
        "outputId": "2c96d08b-6c3a-450d-dd9a-1bc2918f4f80"
      },
      "source": [
        "type(var6)"
      ],
      "execution_count": null,
      "outputs": [
        {
          "output_type": "execute_result",
          "data": {
            "text/plain": [
              "str"
            ]
          },
          "metadata": {
            "tags": []
          },
          "execution_count": 242
        }
      ]
    },
    {
      "cell_type": "code",
      "metadata": {
        "colab": {
          "base_uri": "https://localhost:8080/"
        },
        "id": "ctjT2k5irfFY",
        "outputId": "3fd150cc-e588-45df-bf35-3271bd0ca66c"
      },
      "source": [
        "#finding class of varriable type \r\n",
        "print(type(var6))"
      ],
      "execution_count": null,
      "outputs": [
        {
          "output_type": "stream",
          "text": [
            "<class 'str'>\n"
          ],
          "name": "stdout"
        }
      ]
    },
    {
      "cell_type": "code",
      "metadata": {
        "colab": {
          "base_uri": "https://localhost:8080/"
        },
        "id": "EcoVnv1Msf-X",
        "outputId": "2359892b-c4d9-4821-855a-8c019c12a10b"
      },
      "source": [
        "#checking variable equality\r\n",
        "id(var1)==id(varr2)"
      ],
      "execution_count": null,
      "outputs": [
        {
          "output_type": "execute_result",
          "data": {
            "text/plain": [
              "True"
            ]
          },
          "metadata": {
            "tags": []
          },
          "execution_count": 252
        }
      ]
    },
    {
      "cell_type": "code",
      "metadata": {
        "colab": {
          "base_uri": "https://localhost:8080/"
        },
        "id": "2l9p4nqJs9GV",
        "outputId": "c2fba602-5377-4011-ef49-75dd8857bf8c"
      },
      "source": [
        "# finding index number in the string\r\n",
        "varrr3 = \"Pakistan\"\r\n",
        "varrr3.find('s') "
      ],
      "execution_count": null,
      "outputs": [
        {
          "output_type": "execute_result",
          "data": {
            "text/plain": [
              "4"
            ]
          },
          "metadata": {
            "tags": []
          },
          "execution_count": 263
        }
      ]
    },
    {
      "cell_type": "code",
      "metadata": {
        "colab": {
          "base_uri": "https://localhost:8080/"
        },
        "id": "X-YRS6ONt42W",
        "outputId": "4e3d5fd2-ff24-4700-a53f-e6485599b54c"
      },
      "source": [
        "# finding lenght of variable\r\n",
        "len(varr3)"
      ],
      "execution_count": null,
      "outputs": [
        {
          "output_type": "execute_result",
          "data": {
            "text/plain": [
              "8"
            ]
          },
          "metadata": {
            "tags": []
          },
          "execution_count": 265
        }
      ]
    },
    {
      "cell_type": "code",
      "metadata": {
        "colab": {
          "base_uri": "https://localhost:8080/"
        },
        "id": "ry2wKfAnuJ1E",
        "outputId": "cb5c4a18-2900-420b-f06a-3d883d603c7f"
      },
      "source": [
        "# Concatinating two String\r\n",
        "name = \"pakistan\"\r\n",
        "dobyear = 1947\r\n",
        "\r\n",
        "print(\"my name is \"+name+\" and my birth year is \"+str(dobyear))"
      ],
      "execution_count": null,
      "outputs": [
        {
          "output_type": "stream",
          "text": [
            "my name is pakistan and my birth year is 1947\n"
          ],
          "name": "stdout"
        }
      ]
    },
    {
      "cell_type": "code",
      "metadata": {
        "id": "SAE9OZc8vS_l"
      },
      "source": [
        ""
      ],
      "execution_count": null,
      "outputs": []
    },
    {
      "cell_type": "markdown",
      "metadata": {
        "id": "vbXOZLSHogTS"
      },
      "source": [
        "# Arrays"
      ]
    },
    {
      "cell_type": "code",
      "metadata": {
        "colab": {
          "base_uri": "https://localhost:8080/"
        },
        "id": "ydatz4tBogTS",
        "outputId": "df5805a5-9aed-4342-afad-b280471464ea"
      },
      "source": [
        "dishes = [\"Biryani\", \"Qourma\", \"meetha\"]\n",
        "dishes\n",
        "\n",
        "# dishes is the array variable and inside the bracket is its elements."
      ],
      "execution_count": null,
      "outputs": [
        {
          "output_type": "execute_result",
          "data": {
            "text/plain": [
              "['Biryani', 'Qourma', 'meetha']"
            ]
          },
          "metadata": {
            "tags": []
          },
          "execution_count": 2
        }
      ]
    },
    {
      "cell_type": "code",
      "metadata": {
        "id": "sdzWNwq-ogTS"
      },
      "source": [
        "# Replacing a Value of element in an array.\n",
        "dishes[0] = \"Qabab\""
      ],
      "execution_count": null,
      "outputs": []
    },
    {
      "cell_type": "code",
      "metadata": {
        "colab": {
          "base_uri": "https://localhost:8080/",
          "height": 35
        },
        "id": "DHSueRBSogTS",
        "outputId": "a2f29b2b-9939-4e58-af67-7adce7de5c6e"
      },
      "source": [
        "# calling a single element. \n",
        "x = dishes[0]\n",
        "x"
      ],
      "execution_count": null,
      "outputs": [
        {
          "output_type": "execute_result",
          "data": {
            "application/vnd.google.colaboratory.intrinsic+json": {
              "type": "string"
            },
            "text/plain": [
              "'Qabab'"
            ]
          },
          "metadata": {
            "tags": []
          },
          "execution_count": 4
        }
      ]
    },
    {
      "cell_type": "code",
      "metadata": {
        "colab": {
          "base_uri": "https://localhost:8080/"
        },
        "id": "K8qpKRx0ogTT",
        "outputId": "f17255c2-33bd-4642-e0f6-d75bd9c62145"
      },
      "source": [
        "# Finding lenght of an array.\n",
        "len(dishes)"
      ],
      "execution_count": null,
      "outputs": [
        {
          "output_type": "execute_result",
          "data": {
            "text/plain": [
              "3"
            ]
          },
          "metadata": {
            "tags": []
          },
          "execution_count": 5
        }
      ]
    },
    {
      "cell_type": "code",
      "metadata": {
        "colab": {
          "base_uri": "https://localhost:8080/"
        },
        "id": "VUJ6VxylogTT",
        "outputId": "3414741f-36e0-493d-e4d9-eb8b66fdf4b4"
      },
      "source": [
        "# Adding a new element in an array list.\n",
        "dishes.append(\"kheer\")\n",
        "dishes"
      ],
      "execution_count": null,
      "outputs": [
        {
          "output_type": "execute_result",
          "data": {
            "text/plain": [
              "['Qabab', 'Qourma', 'meetha', 'kheer']"
            ]
          },
          "metadata": {
            "tags": []
          },
          "execution_count": 6
        }
      ]
    },
    {
      "cell_type": "code",
      "metadata": {
        "colab": {
          "base_uri": "https://localhost:8080/"
        },
        "id": "_GNA-yJCogTT",
        "outputId": "6f10c4a7-e0df-4cde-958e-7414a8a90b4a"
      },
      "source": [
        "# Deleting an element in an array by using index number.\n",
        "dishes.pop(2)\n",
        "dishes"
      ],
      "execution_count": null,
      "outputs": [
        {
          "output_type": "execute_result",
          "data": {
            "text/plain": [
              "['Qabab', 'Qourma', 'kheer']"
            ]
          },
          "metadata": {
            "tags": []
          },
          "execution_count": 7
        }
      ]
    },
    {
      "cell_type": "code",
      "metadata": {
        "colab": {
          "base_uri": "https://localhost:8080/"
        },
        "id": "ZTCB8xOFogTT",
        "outputId": "ad886b32-ef75-4f2a-8bfb-39a06356a46b"
      },
      "source": [
        "# Deleting an element in an array by using element name.\n",
        "dishes.remove(\"kheer\")\n",
        "dishes"
      ],
      "execution_count": null,
      "outputs": [
        {
          "output_type": "execute_result",
          "data": {
            "text/plain": [
              "['Qabab', 'Qourma']"
            ]
          },
          "metadata": {
            "tags": []
          },
          "execution_count": 8
        }
      ]
    },
    {
      "cell_type": "code",
      "metadata": {
        "colab": {
          "base_uri": "https://localhost:8080/"
        },
        "id": "hrtODQgsogTU",
        "outputId": "d64482d3-d3b6-45af-d4f3-dab80453924c"
      },
      "source": [
        "dishes"
      ],
      "execution_count": null,
      "outputs": [
        {
          "output_type": "execute_result",
          "data": {
            "text/plain": [
              "['Qabab', 'Qourma']"
            ]
          },
          "metadata": {
            "tags": []
          },
          "execution_count": 9
        }
      ]
    },
    {
      "cell_type": "code",
      "metadata": {
        "colab": {
          "base_uri": "https://localhost:8080/"
        },
        "id": "Qql9gsSgogTU",
        "outputId": "0fb16df1-9b7b-4413-95f2-42a794749ce4"
      },
      "source": [
        "# Making new list by copying element form the old list.\n",
        "x = dishes.copy()\n",
        "x"
      ],
      "execution_count": null,
      "outputs": [
        {
          "output_type": "execute_result",
          "data": {
            "text/plain": [
              "['Qabab', 'Qourma']"
            ]
          },
          "metadata": {
            "tags": []
          },
          "execution_count": 10
        }
      ]
    },
    {
      "cell_type": "code",
      "metadata": {
        "id": "twW9-Wa3ogTU"
      },
      "source": [
        "# Clear all element from of the list.\n",
        "x.clear()"
      ],
      "execution_count": null,
      "outputs": []
    },
    {
      "cell_type": "code",
      "metadata": {
        "colab": {
          "base_uri": "https://localhost:8080/"
        },
        "id": "Q0iaDB6jogTU",
        "outputId": "4e827217-13d9-4632-f4e1-ff6714c60491"
      },
      "source": [
        "x"
      ],
      "execution_count": null,
      "outputs": [
        {
          "output_type": "execute_result",
          "data": {
            "text/plain": [
              "[]"
            ]
          },
          "metadata": {
            "tags": []
          },
          "execution_count": 12
        }
      ]
    },
    {
      "cell_type": "code",
      "metadata": {
        "colab": {
          "base_uri": "https://localhost:8080/"
        },
        "id": "HQbjwo7BogTU",
        "outputId": "68c18e97-8522-48f5-d83d-983cefeb5ee9"
      },
      "source": [
        "int_list = (1,2,3,4)\n",
        "int_list"
      ],
      "execution_count": null,
      "outputs": [
        {
          "output_type": "execute_result",
          "data": {
            "text/plain": [
              "(1, 2, 3, 4)"
            ]
          },
          "metadata": {
            "tags": []
          },
          "execution_count": 13
        }
      ]
    },
    {
      "cell_type": "code",
      "metadata": {
        "id": "0dtmyOhGogTV"
      },
      "source": [
        "# Adding new list to the old list(by adding separate elemnets).\n",
        "dishes.extend(int_list)"
      ],
      "execution_count": null,
      "outputs": []
    },
    {
      "cell_type": "code",
      "metadata": {
        "colab": {
          "base_uri": "https://localhost:8080/"
        },
        "id": "8W0iw_iEogTV",
        "outputId": "4643589e-b3f3-4e6d-8cbb-158f23aae5d1"
      },
      "source": [
        "dishes"
      ],
      "execution_count": null,
      "outputs": [
        {
          "output_type": "execute_result",
          "data": {
            "text/plain": [
              "['Qabab', 'Qourma', 1, 2, 3, 4]"
            ]
          },
          "metadata": {
            "tags": []
          },
          "execution_count": 15
        }
      ]
    },
    {
      "cell_type": "code",
      "metadata": {
        "id": "FUP8FqUuogTV"
      },
      "source": [
        "# Adding a new element into the list with specific index.\n",
        "dishes.insert(1,\"Chicken biryani\")"
      ],
      "execution_count": null,
      "outputs": []
    },
    {
      "cell_type": "code",
      "metadata": {
        "colab": {
          "base_uri": "https://localhost:8080/"
        },
        "id": "livCSH_QogTV",
        "outputId": "4765bb17-f937-461d-8542-97407e27da21"
      },
      "source": [
        "dishes"
      ],
      "execution_count": null,
      "outputs": [
        {
          "output_type": "execute_result",
          "data": {
            "text/plain": [
              "['Qabab', 'Chicken biryani', 'Qourma', 1, 2, 3, 4]"
            ]
          },
          "metadata": {
            "tags": []
          },
          "execution_count": 17
        }
      ]
    },
    {
      "cell_type": "code",
      "metadata": {
        "id": "WGP5_tlwogTV"
      },
      "source": [
        "# Reversing a list\n",
        "dishes.reverse()"
      ],
      "execution_count": null,
      "outputs": []
    },
    {
      "cell_type": "code",
      "metadata": {
        "colab": {
          "base_uri": "https://localhost:8080/"
        },
        "id": "-TvtkPTbogTV",
        "outputId": "27b7acc1-459d-48ce-b1ff-a001cac726eb"
      },
      "source": [
        "dishes"
      ],
      "execution_count": null,
      "outputs": [
        {
          "output_type": "execute_result",
          "data": {
            "text/plain": [
              "[4, 3, 2, 1, 'Qourma', 'Chicken biryani', 'Qabab']"
            ]
          },
          "metadata": {
            "tags": []
          },
          "execution_count": 19
        }
      ]
    },
    {
      "cell_type": "code",
      "metadata": {
        "colab": {
          "base_uri": "https://localhost:8080/"
        },
        "id": "WiLV1hecogTW",
        "outputId": "aeb655b2-ac68-4986-f2ff-b1d3f69c4beb"
      },
      "source": [
        "# Another way of removing element.\n",
        "del dishes[0]\n",
        "dishes"
      ],
      "execution_count": null,
      "outputs": [
        {
          "output_type": "execute_result",
          "data": {
            "text/plain": [
              "[3, 2, 1, 'Qourma', 'Chicken biryani', 'Qabab']"
            ]
          },
          "metadata": {
            "tags": []
          },
          "execution_count": 20
        }
      ]
    },
    {
      "cell_type": "code",
      "metadata": {
        "colab": {
          "base_uri": "https://localhost:8080/"
        },
        "id": "LDJaCIOlogTW",
        "outputId": "685550c7-b8f0-49ea-89ad-2c8176b41de1"
      },
      "source": [
        "# first Way of joining two list.\n",
        "list2 = [1,2,3,4]\n",
        "list3 = list2 + dishes\n",
        "print(list3)"
      ],
      "execution_count": null,
      "outputs": [
        {
          "output_type": "stream",
          "text": [
            "[1, 2, 3, 4, 3, 2, 1, 'Qourma', 'Chicken biryani', 'Qabab']\n"
          ],
          "name": "stdout"
        }
      ]
    },
    {
      "cell_type": "code",
      "metadata": {
        "id": "JL51tXqEqp7R"
      },
      "source": [
        ""
      ],
      "execution_count": null,
      "outputs": []
    },
    {
      "cell_type": "markdown",
      "metadata": {
        "id": "mZgJtBufogTW"
      },
      "source": [
        "# Tuples"
      ]
    },
    {
      "cell_type": "markdown",
      "metadata": {
        "id": "ggM1BnaqogTW"
      },
      "source": [
        ""
      ]
    },
    {
      "cell_type": "code",
      "metadata": {
        "colab": {
          "base_uri": "https://localhost:8080/"
        },
        "id": "Cugmuw1togTW",
        "outputId": "bcc9b2fd-4c51-44a3-dfb5-5a91ccff36c8"
      },
      "source": [
        "tuple1 = (1,2,3)\n",
        "print(tuple1)"
      ],
      "execution_count": null,
      "outputs": [
        {
          "output_type": "stream",
          "text": [
            "(1, 2, 3)\n"
          ],
          "name": "stdout"
        }
      ]
    },
    {
      "cell_type": "code",
      "metadata": {
        "colab": {
          "base_uri": "https://localhost:8080/"
        },
        "id": "Fi8ihjPdogTX",
        "outputId": "f6e581f1-9a33-4990-e4af-b003f4939627"
      },
      "source": [
        "tuple2 = (\"A\",\"B\",\"C\")\n",
        "tuple2"
      ],
      "execution_count": null,
      "outputs": [
        {
          "output_type": "execute_result",
          "data": {
            "text/plain": [
              "('A', 'B', 'C')"
            ]
          },
          "metadata": {
            "tags": []
          },
          "execution_count": 24
        }
      ]
    },
    {
      "cell_type": "code",
      "metadata": {
        "colab": {
          "base_uri": "https://localhost:8080/"
        },
        "id": "9eVyP07vLgLj",
        "outputId": "0f7fe726-c28d-4d43-a080-fcd93c648ad9"
      },
      "source": [
        "type(tuple1)"
      ],
      "execution_count": null,
      "outputs": [
        {
          "output_type": "execute_result",
          "data": {
            "text/plain": [
              "tuple"
            ]
          },
          "metadata": {
            "tags": []
          },
          "execution_count": 26
        }
      ]
    },
    {
      "cell_type": "code",
      "metadata": {
        "colab": {
          "base_uri": "https://localhost:8080/"
        },
        "id": "2tvgJusaLr4b",
        "outputId": "07d93ef4-4d46-4e99-cc9b-8d0eefb49e19"
      },
      "source": [
        "# convert list to tuple\r\n",
        "list_to_tuple = list(tuple1)\r\n",
        "list_to_tuple "
      ],
      "execution_count": null,
      "outputs": [
        {
          "output_type": "execute_result",
          "data": {
            "text/plain": [
              "[1, 2, 3]"
            ]
          },
          "metadata": {
            "tags": []
          },
          "execution_count": 27
        }
      ]
    },
    {
      "cell_type": "markdown",
      "metadata": {
        "id": "kY8f4TqxogTX"
      },
      "source": [
        "## Set\n",
        "A set is a collection which is unordered and unindexed"
      ]
    },
    {
      "cell_type": "code",
      "metadata": {
        "colab": {
          "base_uri": "https://localhost:8080/"
        },
        "id": "Ar4GqFaaogTX",
        "outputId": "771310e9-d208-471c-ee86-f02a54e66236"
      },
      "source": [
        "varset = {\"how\", \"are\", \"you\"}\n",
        "print(varset)"
      ],
      "execution_count": null,
      "outputs": [
        {
          "output_type": "stream",
          "text": [
            "{'are', 'how', 'you'}\n"
          ],
          "name": "stdout"
        }
      ]
    },
    {
      "cell_type": "code",
      "metadata": {
        "colab": {
          "base_uri": "https://localhost:8080/"
        },
        "id": "hm9vBqYvogTX",
        "outputId": "373c89d3-d490-4c5b-d4b7-bc40181a5a06"
      },
      "source": [
        "# Checking condition.\n",
        "print(\"are\" in  varset)"
      ],
      "execution_count": null,
      "outputs": [
        {
          "output_type": "stream",
          "text": [
            "True\n"
          ],
          "name": "stdout"
        }
      ]
    },
    {
      "cell_type": "code",
      "metadata": {
        "id": "2aHJM6c2ogTX"
      },
      "source": [
        "# Adding an item in the set.\n",
        "\n",
        "varset.add(\"world\")"
      ],
      "execution_count": null,
      "outputs": []
    },
    {
      "cell_type": "code",
      "metadata": {
        "colab": {
          "base_uri": "https://localhost:8080/"
        },
        "id": "nL-JxjL3ogTY",
        "outputId": "fd16cc67-9100-4f9d-9442-b420ee2768a5"
      },
      "source": [
        "varset"
      ],
      "execution_count": null,
      "outputs": [
        {
          "output_type": "execute_result",
          "data": {
            "text/plain": [
              "{'are', 'how', 'world', 'you'}"
            ]
          },
          "metadata": {
            "tags": []
          },
          "execution_count": 179
        }
      ]
    },
    {
      "cell_type": "code",
      "metadata": {
        "colab": {
          "base_uri": "https://localhost:8080/"
        },
        "id": "LNYMiZL0ogTY",
        "outputId": "a6d9fa49-cd26-4689-ff0f-549e369672d9"
      },
      "source": [
        "# Add multiple items to a set\n",
        "\n",
        "varset.update([\"I\",\"am\",\"fine\"])\n",
        "varset"
      ],
      "execution_count": null,
      "outputs": [
        {
          "output_type": "execute_result",
          "data": {
            "text/plain": [
              "{'I', 'am', 'are', 'fine', 'how', 'world', 'you'}"
            ]
          },
          "metadata": {
            "tags": []
          },
          "execution_count": 180
        }
      ]
    },
    {
      "cell_type": "code",
      "metadata": {
        "colab": {
          "base_uri": "https://localhost:8080/"
        },
        "id": "cBnZL7HWogTY",
        "outputId": "93150e77-bf42-4567-d2f2-6de855675a5b"
      },
      "source": [
        "# Removing item in the set.\n",
        "\"\"\"varset.remove(\"are\")\n",
        "varset\"\"\"\n",
        "# set does'nt support remove function."
      ],
      "execution_count": null,
      "outputs": [
        {
          "output_type": "execute_result",
          "data": {
            "application/vnd.google.colaboratory.intrinsic+json": {
              "type": "string"
            },
            "text/plain": [
              "'varset.remove(\"are\")\\nvarset'"
            ]
          },
          "metadata": {
            "tags": []
          },
          "execution_count": 181
        }
      ]
    },
    {
      "cell_type": "code",
      "metadata": {
        "colab": {
          "base_uri": "https://localhost:8080/"
        },
        "id": "q6hDYyMhogTY",
        "outputId": "470b2810-b32a-4246-bfdc-1d3db2d0a884"
      },
      "source": [
        "varset.discard(\"are\")\n",
        "varset"
      ],
      "execution_count": null,
      "outputs": [
        {
          "output_type": "execute_result",
          "data": {
            "text/plain": [
              "{'I', 'am', 'fine', 'how', 'world', 'you'}"
            ]
          },
          "metadata": {
            "tags": []
          },
          "execution_count": 182
        }
      ]
    },
    {
      "cell_type": "markdown",
      "metadata": {
        "id": "5G1hzFrDogTY"
      },
      "source": [
        "# Dictionary\n",
        "A dictionary is a collection which is unordered, changeable and indexed.\n",
        "In Python dictionaries are written with curly brackets, and they have keys and values."
      ]
    },
    {
      "cell_type": "code",
      "metadata": {
        "colab": {
          "base_uri": "https://localhost:8080/"
        },
        "id": "LLHMlnzBogTZ",
        "outputId": "c49f9dac-d115-4fd1-d11a-e3c7024a527b"
      },
      "source": [
        "dict1 = {\"key\": \"Locker\", \"fruit\":\"apple\", \"mango\": \"Chausa\"}\n",
        "dict1"
      ],
      "execution_count": null,
      "outputs": [
        {
          "output_type": "execute_result",
          "data": {
            "text/plain": [
              "{'fruit': 'apple', 'key': 'Locker', 'mango': 'Chausa'}"
            ]
          },
          "metadata": {
            "tags": []
          },
          "execution_count": 183
        }
      ]
    },
    {
      "cell_type": "code",
      "metadata": {
        "colab": {
          "base_uri": "https://localhost:8080/"
        },
        "id": "eYpIGL8togTZ",
        "outputId": "25a27468-a5f4-44d4-c205-995f047209ed"
      },
      "source": [
        "x = dict1[\"key\"]\n",
        "x"
      ],
      "execution_count": null,
      "outputs": [
        {
          "output_type": "execute_result",
          "data": {
            "application/vnd.google.colaboratory.intrinsic+json": {
              "type": "string"
            },
            "text/plain": [
              "'Locker'"
            ]
          },
          "metadata": {
            "tags": []
          },
          "execution_count": 184
        }
      ]
    },
    {
      "cell_type": "code",
      "metadata": {
        "colab": {
          "base_uri": "https://localhost:8080/"
        },
        "id": "CWjGJsfcogTZ",
        "outputId": "fb79194f-939c-4f02-cdd3-b427342afda0"
      },
      "source": [
        "x = dict1.get(\"key\")\n",
        "x"
      ],
      "execution_count": null,
      "outputs": [
        {
          "output_type": "execute_result",
          "data": {
            "application/vnd.google.colaboratory.intrinsic+json": {
              "type": "string"
            },
            "text/plain": [
              "'Locker'"
            ]
          },
          "metadata": {
            "tags": []
          },
          "execution_count": 185
        }
      ]
    },
    {
      "cell_type": "code",
      "metadata": {
        "colab": {
          "base_uri": "https://localhost:8080/"
        },
        "id": "6v6FPO-cogTZ",
        "outputId": "bebacc1d-c237-4e21-f66f-5265a192c0e0"
      },
      "source": [
        "#Another way of creating dictionaries.\n",
        "dict2 = dict(brand=\"Ford\", model=\"Mustang\", year=1964)\n",
        "dict2"
      ],
      "execution_count": null,
      "outputs": [
        {
          "output_type": "execute_result",
          "data": {
            "text/plain": [
              "{'brand': 'Ford', 'model': 'Mustang', 'year': 1964}"
            ]
          },
          "metadata": {
            "tags": []
          },
          "execution_count": 186
        }
      ]
    },
    {
      "cell_type": "code",
      "metadata": {
        "id": "PCcdrv76ogTa"
      },
      "source": [
        "# Assigning different value to the key.\n",
        "dict1[\"fruit\"] = \"Orange\""
      ],
      "execution_count": null,
      "outputs": []
    },
    {
      "cell_type": "code",
      "metadata": {
        "colab": {
          "base_uri": "https://localhost:8080/"
        },
        "id": "UoYba389ogTa",
        "outputId": "428cfee5-20a9-44be-a8b8-23c6aa7c15d1"
      },
      "source": [
        "dict1"
      ],
      "execution_count": null,
      "outputs": [
        {
          "output_type": "execute_result",
          "data": {
            "text/plain": [
              "{'fruit': 'Orange', 'key': 'Locker', 'mango': 'Chausa'}"
            ]
          },
          "metadata": {
            "tags": []
          },
          "execution_count": 188
        }
      ]
    },
    {
      "cell_type": "code",
      "metadata": {
        "colab": {
          "base_uri": "https://localhost:8080/"
        },
        "id": "eDGswgqjogTa",
        "outputId": "72f41e26-b594-412e-b57f-a77da70d41a8"
      },
      "source": [
        "# Adding item in the dictionary.\n",
        "dict1"
      ],
      "execution_count": null,
      "outputs": [
        {
          "output_type": "execute_result",
          "data": {
            "text/plain": [
              "{'fruit': 'Orange', 'key': 'Locker', 'mango': 'Chausa'}"
            ]
          },
          "metadata": {
            "tags": []
          },
          "execution_count": 189
        }
      ]
    },
    {
      "cell_type": "code",
      "metadata": {
        "id": "MIBFczYKogTa"
      },
      "source": [
        "dict1[\"colour\"] = \"Red\""
      ],
      "execution_count": null,
      "outputs": []
    },
    {
      "cell_type": "code",
      "metadata": {
        "colab": {
          "base_uri": "https://localhost:8080/"
        },
        "id": "38iRoujpogTa",
        "outputId": "3ab189e1-5d22-404d-dbeb-e18d930fcb10"
      },
      "source": [
        "dict1"
      ],
      "execution_count": null,
      "outputs": [
        {
          "output_type": "execute_result",
          "data": {
            "text/plain": [
              "{'colour': 'Red', 'fruit': 'Orange', 'key': 'Locker', 'mango': 'Chausa'}"
            ]
          },
          "metadata": {
            "tags": []
          },
          "execution_count": 191
        }
      ]
    },
    {
      "cell_type": "code",
      "metadata": {
        "colab": {
          "base_uri": "https://localhost:8080/"
        },
        "id": "I9f1vbUPogTa",
        "outputId": "32fa8427-0dc3-4265-eaaf-2d242510baf4"
      },
      "source": [
        "# Removing item with the specific key name in the dictionary.\n",
        "dict1.pop(\"key\")"
      ],
      "execution_count": null,
      "outputs": [
        {
          "output_type": "execute_result",
          "data": {
            "application/vnd.google.colaboratory.intrinsic+json": {
              "type": "string"
            },
            "text/plain": [
              "'Locker'"
            ]
          },
          "metadata": {
            "tags": []
          },
          "execution_count": 192
        }
      ]
    },
    {
      "cell_type": "code",
      "metadata": {
        "colab": {
          "base_uri": "https://localhost:8080/"
        },
        "id": "owCIUgxDogTb",
        "outputId": "1d0a89fc-6e75-433a-ad42-7bb7a6ba177e"
      },
      "source": [
        "dict1\n",
        "# Another wayof removing item by del keyword."
      ],
      "execution_count": null,
      "outputs": [
        {
          "output_type": "execute_result",
          "data": {
            "text/plain": [
              "{'colour': 'Red', 'fruit': 'Orange', 'mango': 'Chausa'}"
            ]
          },
          "metadata": {
            "tags": []
          },
          "execution_count": 193
        }
      ]
    },
    {
      "cell_type": "markdown",
      "metadata": {
        "id": "RSqRzPx0ogTb"
      },
      "source": [
        "### Nested dictionary"
      ]
    },
    {
      "cell_type": "code",
      "metadata": {
        "colab": {
          "base_uri": "https://localhost:8080/"
        },
        "id": "IRy1LW-hogTb",
        "outputId": "5a0303e5-2d16-4bf1-b927-db9153388e6e"
      },
      "source": [
        "Courses = {\n",
        "  \"course1\" : {\n",
        "    \"name\" : \"OS\",\n",
        "    \"year\" : 2019\n",
        "  },\n",
        "  \"course2\" : {\n",
        "    \"name\" : \"WE\",\n",
        "    \"year\" : 2019\n",
        "  },\n",
        "  \"course3\" : {\n",
        "    \"name\" : \"DBMS\",\n",
        "    \"year\" : 2019\n",
        "  }\n",
        "}\n",
        "Courses"
      ],
      "execution_count": null,
      "outputs": [
        {
          "output_type": "execute_result",
          "data": {
            "text/plain": [
              "{'course1': {'name': 'OS', 'year': 2019},\n",
              " 'course2': {'name': 'WE', 'year': 2019},\n",
              " 'course3': {'name': 'DBMS', 'year': 2019}}"
            ]
          },
          "metadata": {
            "tags": []
          },
          "execution_count": 194
        }
      ]
    },
    {
      "cell_type": "code",
      "metadata": {
        "colab": {
          "base_uri": "https://localhost:8080/"
        },
        "id": "_w_OtbdvogTb",
        "outputId": "522f6a5e-0e28-48d8-9dae-c612a2d065ee"
      },
      "source": [
        "# Another way of nesting a dictionaries.\n",
        "course1 = {\n",
        "    \"name\" : \"OS\",\n",
        "    \"year\" : 2019\n",
        "  }\n",
        "course2 = {\n",
        "    \"name\" : \"WE\",\n",
        "    \"year\" : 2019\n",
        "  }\n",
        "course3 = {\n",
        "    \"name\" : \"DBMS\",\n",
        "    \"year\" : 2019\n",
        "  }\n",
        "Course = {\n",
        "    \"mycourse1\": course1,\n",
        "    \"mycourse2\": course2,\n",
        "}\n",
        "Course"
      ],
      "execution_count": null,
      "outputs": [
        {
          "output_type": "execute_result",
          "data": {
            "text/plain": [
              "{'mycourse1': {'name': 'OS', 'year': 2019},\n",
              " 'mycourse2': {'name': 'WE', 'year': 2019}}"
            ]
          },
          "metadata": {
            "tags": []
          },
          "execution_count": 195
        }
      ]
    },
    {
      "cell_type": "markdown",
      "metadata": {
        "id": "aI20-HRXogTc"
      },
      "source": [
        "# (Conditions)"
      ]
    },
    {
      "cell_type": "markdown",
      "metadata": {
        "id": "f4gYiHy1ogTc"
      },
      "source": [
        "### if else"
      ]
    },
    {
      "cell_type": "code",
      "metadata": {
        "colab": {
          "base_uri": "https://localhost:8080/"
        },
        "id": "nPaBjEcWogTc",
        "outputId": "72f4401a-d532-48f5-e4c2-f96a7a36d9e1"
      },
      "source": [
        "a = 55\n",
        "b = 44\n",
        "if b < a:\n",
        "    print(\"a is greater than  b\")\n",
        "else:\n",
        "    print(\"b is greater than a\")"
      ],
      "execution_count": null,
      "outputs": [
        {
          "output_type": "stream",
          "text": [
            "a is greater than  b\n"
          ],
          "name": "stdout"
        }
      ]
    },
    {
      "cell_type": "markdown",
      "metadata": {
        "id": "9LBUZR_3ogTc"
      },
      "source": [
        "### Elif"
      ]
    },
    {
      "cell_type": "code",
      "metadata": {
        "colab": {
          "base_uri": "https://localhost:8080/"
        },
        "id": "lXu-hm8kogTc",
        "outputId": "0608269b-f9d3-407e-c549-177e355aed80"
      },
      "source": [
        "a = 65\n",
        "b = 78\n",
        "if a > b:\n",
        "    print(\"a is greater than b \")\n",
        "elif b > a:\n",
        "    print(\"b is greater than a \")\n",
        "else:\n",
        "    print(\"Nothing to show u\")"
      ],
      "execution_count": null,
      "outputs": [
        {
          "output_type": "stream",
          "text": [
            "b is greater than a \n"
          ],
          "name": "stdout"
        }
      ]
    },
    {
      "cell_type": "markdown",
      "metadata": {
        "id": "B4TIbP5_ogTc"
      },
      "source": [
        "### short cut if else"
      ]
    },
    {
      "cell_type": "code",
      "metadata": {
        "colab": {
          "base_uri": "https://localhost:8080/"
        },
        "id": "xhIPKZK7ogTd",
        "outputId": "7a1ffd68-c7d3-4c12-e27c-46e622fe3f9d"
      },
      "source": [
        "a = 3\n",
        "b = 2\n",
        "print(\"a is greater than b \") if a > b else print(\"b is greater than a \")"
      ],
      "execution_count": null,
      "outputs": [
        {
          "output_type": "stream",
          "text": [
            "a is greater than b \n"
          ],
          "name": "stdout"
        }
      ]
    },
    {
      "cell_type": "markdown",
      "metadata": {
        "id": "1_jeHfxAogTd"
      },
      "source": [
        "### short Three condition at an time"
      ]
    },
    {
      "cell_type": "code",
      "metadata": {
        "colab": {
          "base_uri": "https://localhost:8080/"
        },
        "id": "bwFRBSmsogTd",
        "outputId": "ba366056-3fc9-474d-9c4e-ffd5bc51c8c6"
      },
      "source": [
        "a = 330\n",
        "b = 330\n",
        "#(first condition)  (---second condition---)  (third condition)       \n",
        "print(\"A\") if a > b else print(\"=\") if a == b else print(\"B\")"
      ],
      "execution_count": null,
      "outputs": [
        {
          "output_type": "stream",
          "text": [
            "=\n"
          ],
          "name": "stdout"
        }
      ]
    },
    {
      "cell_type": "markdown",
      "metadata": {
        "id": "PtUJgcRzogTd"
      },
      "source": [
        "### And"
      ]
    },
    {
      "cell_type": "code",
      "metadata": {
        "colab": {
          "base_uri": "https://localhost:8080/"
        },
        "id": "sWbI8hR8ogTd",
        "outputId": "9d73b994-0a3e-4e02-cb14-e29329b03dfc"
      },
      "source": [
        "a = 1\n",
        "b = 2\n",
        "c = 3\n",
        "if c > b and b > a:\n",
        "    print(\"Condition satisfied\")\n",
        "else:\n",
        "    print(\"Not satisfied\")"
      ],
      "execution_count": null,
      "outputs": [
        {
          "output_type": "stream",
          "text": [
            "Condition satisfied\n"
          ],
          "name": "stdout"
        }
      ]
    },
    {
      "cell_type": "markdown",
      "metadata": {
        "id": "Ho2uSnSRogTe"
      },
      "source": [
        "### Or"
      ]
    },
    {
      "cell_type": "code",
      "metadata": {
        "colab": {
          "base_uri": "https://localhost:8080/"
        },
        "id": "kE7bIQcCogTe",
        "outputId": "79f510f3-a67c-474f-8a41-575a34cfbe09"
      },
      "source": [
        "a = 1\n",
        "b = 2\n",
        "c = 3\n",
        "if c > b or b > a or c > a:\n",
        "    print(\"Condition satisfied\")\n",
        "else:\n",
        "    print(\"Not satisfied\")"
      ],
      "execution_count": null,
      "outputs": [
        {
          "output_type": "stream",
          "text": [
            "Condition satisfied\n"
          ],
          "name": "stdout"
        }
      ]
    },
    {
      "cell_type": "markdown",
      "metadata": {
        "id": "hMyWT2-IogTe"
      },
      "source": [
        "## Nested if-else"
      ]
    },
    {
      "cell_type": "code",
      "metadata": {
        "colab": {
          "base_uri": "https://localhost:8080/"
        },
        "id": "9AZRnhEuogTe",
        "outputId": "a2ffd8bf-d1ac-43da-81ec-0c6f614a4cc6"
      },
      "source": [
        "a = 100\n",
        "if a > 40:\n",
        "    if a > 90:\n",
        "        print(a)\n",
        "else:\n",
        "    print(\"a is not valid\")\n"
      ],
      "execution_count": null,
      "outputs": [
        {
          "output_type": "stream",
          "text": [
            "100\n"
          ],
          "name": "stdout"
        }
      ]
    },
    {
      "cell_type": "markdown",
      "metadata": {
        "id": "yPdmOnX2ogTe"
      },
      "source": [
        "# while loop"
      ]
    },
    {
      "cell_type": "code",
      "metadata": {
        "colab": {
          "base_uri": "https://localhost:8080/"
        },
        "id": "ahas61W7ogTf",
        "outputId": "c1afb389-3201-4435-b1a8-3e5068fe896b"
      },
      "source": [
        "# Generating number from 1-10 using while loop.\n",
        "i = 1\n",
        "while i < 11:\n",
        "    print(i)\n",
        "    i+= 1"
      ],
      "execution_count": null,
      "outputs": [
        {
          "output_type": "stream",
          "text": [
            "1\n",
            "2\n",
            "3\n",
            "4\n",
            "5\n",
            "6\n",
            "7\n",
            "8\n",
            "9\n",
            "10\n"
          ],
          "name": "stdout"
        }
      ]
    },
    {
      "cell_type": "code",
      "metadata": {
        "colab": {
          "base_uri": "https://localhost:8080/"
        },
        "id": "4ers-mhSogTf",
        "outputId": "287a44dd-1cc2-4194-b431-c26ab21afb77"
      },
      "source": [
        "# Using break staement in while loop.\n",
        "i = 1\n",
        "while i < 11:\n",
        "    i+= 1\n",
        "    if i == 5:\n",
        "        break\n",
        "    print(i)"
      ],
      "execution_count": null,
      "outputs": [
        {
          "output_type": "stream",
          "text": [
            "2\n",
            "3\n",
            "4\n"
          ],
          "name": "stdout"
        }
      ]
    },
    {
      "cell_type": "code",
      "metadata": {
        "colab": {
          "base_uri": "https://localhost:8080/"
        },
        "id": "yo75IZrqogTf",
        "outputId": "1f6e8c83-3fec-41ec-c11e-2c90822138e4"
      },
      "source": [
        "# Using continue staement in while loop.\n",
        "i = 1\n",
        "while i < 11:\n",
        "    i+= 1\n",
        "    if i == 5:\n",
        "        continue\n",
        "    print(i)"
      ],
      "execution_count": null,
      "outputs": [
        {
          "output_type": "stream",
          "text": [
            "2\n",
            "3\n",
            "4\n",
            "6\n",
            "7\n",
            "8\n",
            "9\n",
            "10\n",
            "11\n"
          ],
          "name": "stdout"
        }
      ]
    },
    {
      "cell_type": "markdown",
      "metadata": {
        "id": "cgKd6JrGogTg"
      },
      "source": [
        "# For Loop"
      ]
    },
    {
      "cell_type": "code",
      "metadata": {
        "colab": {
          "base_uri": "https://localhost:8080/"
        },
        "id": "TvKk2RlYw0JB",
        "outputId": "54f2233c-70ce-4ec8-c3be-4ebfbc9f611e"
      },
      "source": [
        "#working with basic loop\r\n",
        "\r\n",
        "for a in range(5):\r\n",
        "  #indent\r\n",
        "  print(a, \"Usama\")"
      ],
      "execution_count": null,
      "outputs": [
        {
          "output_type": "stream",
          "text": [
            "0 Usama\n",
            "1 Usama\n",
            "2 Usama\n",
            "3 Usama\n",
            "4 Usama\n"
          ],
          "name": "stdout"
        }
      ]
    },
    {
      "cell_type": "code",
      "metadata": {
        "colab": {
          "base_uri": "https://localhost:8080/"
        },
        "id": "LHC1SseHxpNR",
        "outputId": "b7e5f9c4-f323-45f2-b456-3b47180fec1e"
      },
      "source": [
        "#printing single charaacter fromstrijg\r\n",
        "for char in \"pakistanzindabad\":\r\n",
        "  print(char.upper())"
      ],
      "execution_count": null,
      "outputs": [
        {
          "output_type": "stream",
          "text": [
            "P\n",
            "A\n",
            "K\n",
            "I\n",
            "S\n",
            "T\n",
            "A\n",
            "N\n",
            "Z\n",
            "I\n",
            "N\n",
            "D\n",
            "A\n",
            "B\n",
            "A\n",
            "D\n"
          ],
          "name": "stdout"
        }
      ]
    },
    {
      "cell_type": "code",
      "metadata": {
        "colab": {
          "base_uri": "https://localhost:8080/"
        },
        "id": "ByCRG12cyGwJ",
        "outputId": "9f32a3b6-5b77-402c-b80c-2046b32aba4d"
      },
      "source": [
        "#printing single charaacter fromstrijg\r\n",
        "for char in \"pakistanzindabad\":\r\n",
        "  print(char.upper(), end=\"\")"
      ],
      "execution_count": null,
      "outputs": [
        {
          "output_type": "stream",
          "text": [
            "PAKISTANZINDABAD"
          ],
          "name": "stdout"
        }
      ]
    },
    {
      "cell_type": "code",
      "metadata": {
        "colab": {
          "base_uri": "https://localhost:8080/"
        },
        "id": "zAQQqN4UyJc5",
        "outputId": "ab7b86e1-e24f-4167-cfa9-13ba1b702786"
      },
      "source": [
        "# printing list from loop.\r\n",
        "for student in [\"usama\", \"rameez\", \"ali\", \"ather\"]:\r\n",
        "  print(f\"the name of the stuidnetg is {student}\")"
      ],
      "execution_count": null,
      "outputs": [
        {
          "output_type": "stream",
          "text": [
            "the name of the stuidnetg is usama\n",
            "the name of the stuidnetg is rameez\n",
            "the name of the stuidnetg is ali\n",
            "the name of the stuidnetg is ather\n"
          ],
          "name": "stdout"
        }
      ]
    },
    {
      "cell_type": "code",
      "metadata": {
        "colab": {
          "base_uri": "https://localhost:8080/"
        },
        "id": "CMqsuY-syp9Y",
        "outputId": "467afda4-cbdf-424b-9c3b-36277510eb9d"
      },
      "source": [
        "# printing form specefic range\r\n",
        "for num in range(1,10):\r\n",
        "  print(num)"
      ],
      "execution_count": null,
      "outputs": [
        {
          "output_type": "stream",
          "text": [
            "1\n",
            "2\n",
            "3\n",
            "4\n",
            "5\n",
            "6\n",
            "7\n",
            "8\n",
            "9\n"
          ],
          "name": "stdout"
        }
      ]
    },
    {
      "cell_type": "code",
      "metadata": {
        "colab": {
          "base_uri": "https://localhost:8080/"
        },
        "id": "o5Kr-49Py1cw",
        "outputId": "5a6f76eb-f13f-4e9d-a00a-f8155f2325bd"
      },
      "source": [
        "# printing number form specefic range with step\r\n",
        "for num in range(1,10,2):\r\n",
        "  print(num)"
      ],
      "execution_count": null,
      "outputs": [
        {
          "output_type": "stream",
          "text": [
            "1\n",
            "3\n",
            "5\n",
            "7\n",
            "9\n"
          ],
          "name": "stdout"
        }
      ]
    },
    {
      "cell_type": "code",
      "metadata": {
        "colab": {
          "base_uri": "https://localhost:8080/"
        },
        "id": "4u3ciAFAzE-g",
        "outputId": "31aef1d6-4e0a-4451-ace6-c7f335cf19ce"
      },
      "source": [
        "# printing number form specefic range with step in reverse order\r\n",
        "for num in range(10,0,-1):\r\n",
        "  print(num)"
      ],
      "execution_count": null,
      "outputs": [
        {
          "output_type": "stream",
          "text": [
            "10\n",
            "9\n",
            "8\n",
            "7\n",
            "6\n",
            "5\n",
            "4\n",
            "3\n",
            "2\n",
            "1\n"
          ],
          "name": "stdout"
        }
      ]
    },
    {
      "cell_type": "code",
      "metadata": {
        "id": "sFiR5OE8zlUn"
      },
      "source": [
        "# printing nam eiht other string\r\n",
        "student_list  = [\"usama\", \"rameez\", \"ali\", \"ather\"]\r\n"
      ],
      "execution_count": null,
      "outputs": []
    },
    {
      "cell_type": "code",
      "metadata": {
        "colab": {
          "base_uri": "https://localhost:8080/"
        },
        "id": "3rXQzcwDzU2m",
        "outputId": "1fc34c3f-017d-4814-cb92-7600c95594d6"
      },
      "source": [
        "for i in student_list:\r\n",
        "  print(i, \"pakistani\")"
      ],
      "execution_count": null,
      "outputs": [
        {
          "output_type": "stream",
          "text": [
            "usama pakistani\n",
            "rameez pakistani\n",
            "ali pakistani\n",
            "ather pakistani\n"
          ],
          "name": "stdout"
        }
      ]
    },
    {
      "cell_type": "code",
      "metadata": {
        "id": "8k1tERXH2cAu"
      },
      "source": [
        ""
      ],
      "execution_count": null,
      "outputs": []
    },
    {
      "cell_type": "code",
      "metadata": {
        "id": "orzcDcJF09_m"
      },
      "source": [
        "emptylist = []\r\n",
        "for i in student_list:\r\n",
        "  emptylist.append(f\"{i} pakistani\")"
      ],
      "execution_count": null,
      "outputs": []
    },
    {
      "cell_type": "code",
      "metadata": {
        "colab": {
          "base_uri": "https://localhost:8080/"
        },
        "id": "L8N6tPHU2EQt",
        "outputId": "bd60360f-9f43-4052-fd6d-209ea150a8b4"
      },
      "source": [
        "print(emptylist)"
      ],
      "execution_count": null,
      "outputs": [
        {
          "output_type": "stream",
          "text": [
            "['usama pakistani', 'rameez pakistani', 'ali pakistani', 'ather pakistani']\n"
          ],
          "name": "stdout"
        }
      ]
    },
    {
      "cell_type": "code",
      "metadata": {
        "colab": {
          "base_uri": "https://localhost:8080/"
        },
        "id": "oR0hiKOA3q-c",
        "outputId": "0ab9cd2c-33f7-4fae-ed30-aafe946c2918"
      },
      "source": [
        "#changing string data\r\n",
        "for num in range(len(student_list)):\r\n",
        "  student_list[num] = student_list[num] + \" pakistani\"\r\n",
        "student_list"
      ],
      "execution_count": null,
      "outputs": [
        {
          "output_type": "execute_result",
          "data": {
            "text/plain": [
              "['usama pakistani', 'rameez pakistani', 'ali pakistani', 'ather pakistani']"
            ]
          },
          "metadata": {
            "tags": []
          },
          "execution_count": 66
        }
      ]
    },
    {
      "cell_type": "code",
      "metadata": {
        "id": "nFCFEGw74knr"
      },
      "source": [
        ""
      ],
      "execution_count": null,
      "outputs": []
    },
    {
      "cell_type": "code",
      "metadata": {
        "id": "2MuW1332xj6o"
      },
      "source": [
        "# here  we have list,set, and dictionary\r\n",
        "#list3,varset,dict1"
      ],
      "execution_count": null,
      "outputs": []
    },
    {
      "cell_type": "code",
      "metadata": {
        "colab": {
          "base_uri": "https://localhost:8080/",
          "height": 180
        },
        "id": "xi9DbcQlogTg",
        "outputId": "d4e56ea7-8047-4b5d-d241-dc0b19c4b6f2"
      },
      "source": [
        "     # set   ,list, dictionary \n",
        "print(varset ,list3,  dict1)"
      ],
      "execution_count": null,
      "outputs": [
        {
          "output_type": "error",
          "ename": "NameError",
          "evalue": "ignored",
          "traceback": [
            "\u001b[0;31m---------------------------------------------------------------------------\u001b[0m",
            "\u001b[0;31mNameError\u001b[0m                                 Traceback (most recent call last)",
            "\u001b[0;32m<ipython-input-71-36a97b7020d8>\u001b[0m in \u001b[0;36m<module>\u001b[0;34m()\u001b[0m\n\u001b[1;32m      1\u001b[0m \u001b[0;31m# set   ,list, dictionary\u001b[0m\u001b[0;34m\u001b[0m\u001b[0;34m\u001b[0m\u001b[0;34m\u001b[0m\u001b[0m\n\u001b[0;32m----> 2\u001b[0;31m \u001b[0mprint\u001b[0m\u001b[0;34m(\u001b[0m\u001b[0mvarset\u001b[0m \u001b[0;34m,\u001b[0m\u001b[0mlist3\u001b[0m\u001b[0;34m,\u001b[0m  \u001b[0mdict1\u001b[0m\u001b[0;34m)\u001b[0m\u001b[0;34m\u001b[0m\u001b[0;34m\u001b[0m\u001b[0m\n\u001b[0m",
            "\u001b[0;31mNameError\u001b[0m: name 'varset' is not defined"
          ]
        }
      ]
    },
    {
      "cell_type": "code",
      "metadata": {
        "id": "wlbW6J4XogTg"
      },
      "source": [
        "# Applying for loop to list.\n",
        "for i in list3:\n",
        "    print(i)"
      ],
      "execution_count": null,
      "outputs": []
    },
    {
      "cell_type": "code",
      "metadata": {
        "id": "r5a8N3ZQogTg"
      },
      "source": [
        "# Applying for loop to set.\n",
        "for i in varset:\n",
        "    print(i)"
      ],
      "execution_count": null,
      "outputs": []
    },
    {
      "cell_type": "code",
      "metadata": {
        "id": "aOcmtTdLogTh"
      },
      "source": [
        "# Applying for loop to dictionary(will print only keys).\n",
        "for i in dict1:\n",
        "    print(i)"
      ],
      "execution_count": null,
      "outputs": []
    },
    {
      "cell_type": "code",
      "metadata": {
        "colab": {
          "base_uri": "https://localhost:8080/",
          "height": 197
        },
        "id": "v8aL4IabogTh",
        "outputId": "c4da9f10-a624-4e47-c4f3-6032b13c4de4"
      },
      "source": [
        "# For accessing values of key (using for loop).\n",
        "for i in dict1.values():\n",
        "    print(i)"
      ],
      "execution_count": null,
      "outputs": [
        {
          "output_type": "error",
          "ename": "NameError",
          "evalue": "ignored",
          "traceback": [
            "\u001b[0;31m---------------------------------------------------------------------------\u001b[0m",
            "\u001b[0;31mNameError\u001b[0m                                 Traceback (most recent call last)",
            "\u001b[0;32m<ipython-input-72-a4d920a08970>\u001b[0m in \u001b[0;36m<module>\u001b[0;34m()\u001b[0m\n\u001b[1;32m      1\u001b[0m \u001b[0;31m# For accessing values of key (using for loop).\u001b[0m\u001b[0;34m\u001b[0m\u001b[0;34m\u001b[0m\u001b[0;34m\u001b[0m\u001b[0m\n\u001b[0;32m----> 2\u001b[0;31m \u001b[0;32mfor\u001b[0m \u001b[0mi\u001b[0m \u001b[0;32min\u001b[0m \u001b[0mdict1\u001b[0m\u001b[0;34m.\u001b[0m\u001b[0mvalues\u001b[0m\u001b[0;34m(\u001b[0m\u001b[0;34m)\u001b[0m\u001b[0;34m:\u001b[0m\u001b[0;34m\u001b[0m\u001b[0;34m\u001b[0m\u001b[0m\n\u001b[0m\u001b[1;32m      3\u001b[0m     \u001b[0mprint\u001b[0m\u001b[0;34m(\u001b[0m\u001b[0mi\u001b[0m\u001b[0;34m)\u001b[0m\u001b[0;34m\u001b[0m\u001b[0;34m\u001b[0m\u001b[0m\n",
            "\u001b[0;31mNameError\u001b[0m: name 'dict1' is not defined"
          ]
        }
      ]
    },
    {
      "cell_type": "code",
      "metadata": {
        "colab": {
          "base_uri": "https://localhost:8080/",
          "height": 197
        },
        "id": "VbWYxwjiogTh",
        "outputId": "d40ca6f6-0f41-473a-b1c9-c53f484e7ab3"
      },
      "source": [
        "# For accessing both keys and values of dictionary(using for loop).\n",
        "for k,v in dict1.items():\n",
        "    print(k,v)"
      ],
      "execution_count": null,
      "outputs": [
        {
          "output_type": "error",
          "ename": "NameError",
          "evalue": "ignored",
          "traceback": [
            "\u001b[0;31m---------------------------------------------------------------------------\u001b[0m",
            "\u001b[0;31mNameError\u001b[0m                                 Traceback (most recent call last)",
            "\u001b[0;32m<ipython-input-73-f3bba7777480>\u001b[0m in \u001b[0;36m<module>\u001b[0;34m()\u001b[0m\n\u001b[1;32m      1\u001b[0m \u001b[0;31m# For accessing both keys and values of dictionary(using for loop).\u001b[0m\u001b[0;34m\u001b[0m\u001b[0;34m\u001b[0m\u001b[0;34m\u001b[0m\u001b[0m\n\u001b[0;32m----> 2\u001b[0;31m \u001b[0;32mfor\u001b[0m \u001b[0mk\u001b[0m\u001b[0;34m,\u001b[0m\u001b[0mv\u001b[0m \u001b[0;32min\u001b[0m \u001b[0mdict1\u001b[0m\u001b[0;34m.\u001b[0m\u001b[0mitems\u001b[0m\u001b[0;34m(\u001b[0m\u001b[0;34m)\u001b[0m\u001b[0;34m:\u001b[0m\u001b[0;34m\u001b[0m\u001b[0;34m\u001b[0m\u001b[0m\n\u001b[0m\u001b[1;32m      3\u001b[0m     \u001b[0mprint\u001b[0m\u001b[0;34m(\u001b[0m\u001b[0mk\u001b[0m\u001b[0;34m,\u001b[0m\u001b[0mv\u001b[0m\u001b[0;34m)\u001b[0m\u001b[0;34m\u001b[0m\u001b[0;34m\u001b[0m\u001b[0m\n",
            "\u001b[0;31mNameError\u001b[0m: name 'dict1' is not defined"
          ]
        }
      ]
    },
    {
      "cell_type": "code",
      "metadata": {
        "colab": {
          "base_uri": "https://localhost:8080/",
          "height": 180
        },
        "id": "koCYm5qKogTh",
        "outputId": "37e37e9f-2e30-47c5-c80d-939a6e39123d"
      },
      "source": [
        "\n",
        "varset"
      ],
      "execution_count": null,
      "outputs": [
        {
          "output_type": "error",
          "ename": "NameError",
          "evalue": "ignored",
          "traceback": [
            "\u001b[0;31m---------------------------------------------------------------------------\u001b[0m",
            "\u001b[0;31mNameError\u001b[0m                                 Traceback (most recent call last)",
            "\u001b[0;32m<ipython-input-74-d8cc94085c89>\u001b[0m in \u001b[0;36m<module>\u001b[0;34m()\u001b[0m\n\u001b[1;32m      1\u001b[0m \u001b[0;34m\u001b[0m\u001b[0m\n\u001b[0;32m----> 2\u001b[0;31m \u001b[0mvarset\u001b[0m\u001b[0;34m\u001b[0m\u001b[0;34m\u001b[0m\u001b[0m\n\u001b[0m",
            "\u001b[0;31mNameError\u001b[0m: name 'varset' is not defined"
          ]
        }
      ]
    },
    {
      "cell_type": "code",
      "metadata": {
        "id": "j6S_BW7fogTi"
      },
      "source": [
        "# using break statement in for loop.\n",
        "for i in varset:\n",
        "    \n",
        "    if i == \"how\":\n",
        "        break\n",
        "    print(i)"
      ],
      "execution_count": null,
      "outputs": []
    },
    {
      "cell_type": "code",
      "metadata": {
        "colab": {
          "base_uri": "https://localhost:8080/",
          "height": 231
        },
        "id": "3jzGAr4kogTi",
        "outputId": "5c5feb80-b84f-45bf-8762-990989ce1d26"
      },
      "source": [
        "# Using continue statement in for loop.\n",
        "for i in varset:\n",
        "    if i == \"how\":\n",
        "        continue\n",
        "    print(i)\n",
        "# it prints all elements except \"how\"."
      ],
      "execution_count": null,
      "outputs": [
        {
          "output_type": "error",
          "ename": "NameError",
          "evalue": "ignored",
          "traceback": [
            "\u001b[0;31m---------------------------------------------------------------------------\u001b[0m",
            "\u001b[0;31mNameError\u001b[0m                                 Traceback (most recent call last)",
            "\u001b[0;32m<ipython-input-68-80228987bfe4>\u001b[0m in \u001b[0;36m<module>\u001b[0;34m()\u001b[0m\n\u001b[1;32m      1\u001b[0m \u001b[0;31m# Using continue statement in for loop.\u001b[0m\u001b[0;34m\u001b[0m\u001b[0;34m\u001b[0m\u001b[0;34m\u001b[0m\u001b[0m\n\u001b[0;32m----> 2\u001b[0;31m \u001b[0;32mfor\u001b[0m \u001b[0mi\u001b[0m \u001b[0;32min\u001b[0m \u001b[0mvarset\u001b[0m\u001b[0;34m:\u001b[0m\u001b[0;34m\u001b[0m\u001b[0;34m\u001b[0m\u001b[0m\n\u001b[0m\u001b[1;32m      3\u001b[0m     \u001b[0;32mif\u001b[0m \u001b[0mi\u001b[0m \u001b[0;34m==\u001b[0m \u001b[0;34m\"how\"\u001b[0m\u001b[0;34m:\u001b[0m\u001b[0;34m\u001b[0m\u001b[0;34m\u001b[0m\u001b[0m\n\u001b[1;32m      4\u001b[0m         \u001b[0;32mcontinue\u001b[0m\u001b[0;34m\u001b[0m\u001b[0;34m\u001b[0m\u001b[0m\n\u001b[1;32m      5\u001b[0m     \u001b[0mprint\u001b[0m\u001b[0;34m(\u001b[0m\u001b[0mi\u001b[0m\u001b[0;34m)\u001b[0m\u001b[0;34m\u001b[0m\u001b[0;34m\u001b[0m\u001b[0m\n",
            "\u001b[0;31mNameError\u001b[0m: name 'varset' is not defined"
          ]
        }
      ]
    },
    {
      "cell_type": "code",
      "metadata": {
        "colab": {
          "base_uri": "https://localhost:8080/"
        },
        "id": "MhLgtTrGxrL5",
        "outputId": "198a4686-8467-4309-f2dc-b932f0dd12c9"
      },
      "source": [
        "#Write a program which will find all such numbers which are divisible by 7 but are not a multiple of 5,\r\n",
        "#between 2000 and 3200 (both included).\r\n",
        "#The numbers obtained should be printed in a comma-separated sequence on a single line.\r\n",
        "\r\n",
        "for num in range(2000, 3201):\r\n",
        "  if(num%7 == 0):\r\n",
        "    if(num%5 != 0):\r\n",
        "      print(num, end=',')\r\n"
      ],
      "execution_count": null,
      "outputs": [
        {
          "output_type": "stream",
          "text": [
            "2002,2009,2016,2023,2037,2044,2051,2058,2072,2079,2086,2093,2107,2114,2121,2128,2142,2149,2156,2163,2177,2184,2191,2198,2212,2219,2226,2233,2247,2254,2261,2268,2282,2289,2296,2303,2317,2324,2331,2338,2352,2359,2366,2373,2387,2394,2401,2408,2422,2429,2436,2443,2457,2464,2471,2478,2492,2499,2506,2513,2527,2534,2541,2548,2562,2569,2576,2583,2597,2604,2611,2618,2632,2639,2646,2653,2667,2674,2681,2688,2702,2709,2716,2723,2737,2744,2751,2758,2772,2779,2786,2793,2807,2814,2821,2828,2842,2849,2856,2863,2877,2884,2891,2898,2912,2919,2926,2933,2947,2954,2961,2968,2982,2989,2996,3003,3017,3024,3031,3038,3052,3059,3066,3073,3087,3094,3101,3108,3122,3129,3136,3143,3157,3164,3171,3178,3192,3199,"
          ],
          "name": "stdout"
        }
      ]
    },
    {
      "cell_type": "markdown",
      "metadata": {
        "id": "urJorn4aogTi"
      },
      "source": [
        "### range() function in for loop."
      ]
    },
    {
      "cell_type": "code",
      "metadata": {
        "id": "tprWf6uSogTj"
      },
      "source": [
        "for x in range(5):\n",
        "    print(x)"
      ],
      "execution_count": null,
      "outputs": []
    },
    {
      "cell_type": "code",
      "metadata": {
        "id": "6O6tgHvUogTj"
      },
      "source": [
        "# By assigning starting number to the range function.\n",
        "for x in range(2,10):\n",
        "    print(x)"
      ],
      "execution_count": null,
      "outputs": []
    },
    {
      "cell_type": "code",
      "metadata": {
        "id": "uctMbvdMogTj"
      },
      "source": [
        "# Incrementing in the sequence with 1.\n",
        "for x in range(2,10,2):\n",
        "    print(x)"
      ],
      "execution_count": null,
      "outputs": []
    },
    {
      "cell_type": "markdown",
      "metadata": {
        "id": "Y4yBcBPNogTj"
      },
      "source": [
        "### Using nested loop."
      ]
    },
    {
      "cell_type": "code",
      "metadata": {
        "id": "ov4nIpN0ogTj"
      },
      "source": [
        "lis1 = ['a','b','c','d']\n",
        "lis2 = [1,2,3,4]\n",
        "for i in lis1:\n",
        "    for j in lis2:\n",
        "        print(i,j)"
      ],
      "execution_count": null,
      "outputs": []
    },
    {
      "cell_type": "markdown",
      "metadata": {
        "id": "MWkkoxiGogTk"
      },
      "source": [
        "# Function in python"
      ]
    },
    {
      "cell_type": "code",
      "metadata": {
        "colab": {
          "base_uri": "https://localhost:8080/"
        },
        "id": "7yz0NDhRogTk",
        "outputId": "b97306eb-65eb-4b36-ea02-d773588b66ab"
      },
      "source": [
        "def function1():\n",
        "    print(\"This is my first function\")\n",
        "function1()"
      ],
      "execution_count": null,
      "outputs": [
        {
          "output_type": "stream",
          "text": [
            "This is my first function\n"
          ],
          "name": "stdout"
        }
      ]
    },
    {
      "cell_type": "code",
      "metadata": {
        "id": "12b3Uml_h7yl"
      },
      "source": [
        "#function defininion\r\n",
        "def call():\r\n",
        "  name = input(\"Enter Your name: \")\r\n",
        "  print(f\"Welcome {name}\")"
      ],
      "execution_count": null,
      "outputs": []
    },
    {
      "cell_type": "code",
      "metadata": {
        "colab": {
          "base_uri": "https://localhost:8080/"
        },
        "id": "TmHqpPmMiWDr",
        "outputId": "a515c06f-ab05-4ebb-815b-d1c7ab5496a7"
      },
      "source": [
        "call()"
      ],
      "execution_count": null,
      "outputs": [
        {
          "output_type": "stream",
          "text": [
            "Enter Your name: usama\n",
            "Welcome usama\n"
          ],
          "name": "stdout"
        }
      ]
    },
    {
      "cell_type": "code",
      "metadata": {
        "id": "KnIHXufkjNWc"
      },
      "source": [
        "#function defininion\r\n",
        "def call():\r\n",
        "  name = input(\"Enter Your name: \")\r\n",
        "  gender = input(\"Enter gender:\").lower()\r\n",
        "  if(gender == 'male'):\r\n",
        "    print(f\"Welcome Mr. {name}\")\r\n",
        "  else:\r\n",
        "    print(f\"Welcome Ms. {name}\")"
      ],
      "execution_count": null,
      "outputs": []
    },
    {
      "cell_type": "code",
      "metadata": {
        "colab": {
          "base_uri": "https://localhost:8080/"
        },
        "id": "9_xMwAaXj7N8",
        "outputId": "6d54d38a-b5fe-4056-eca5-b6db83c83e56"
      },
      "source": [
        "call()"
      ],
      "execution_count": null,
      "outputs": [
        {
          "output_type": "stream",
          "text": [
            "Enter Your name: usama\n",
            "Enter gender:male\n",
            "Welcome Mr. usama\n"
          ],
          "name": "stdout"
        }
      ]
    },
    {
      "cell_type": "code",
      "metadata": {
        "id": "r2LR5coEkqFf"
      },
      "source": [
        "#trick 01\r\n",
        "list1 = []\r\n",
        "def even_odd_func():\r\n",
        "  num1 = 0\r\n",
        "  flag = True\r\n",
        "  while(flag):\r\n",
        "    num = input(\"Enter number/ write 'q' to exit\")\r\n",
        "    list1.append(num)\r\n",
        "    if(num == 'q'):\r\n",
        "      if(int(list1[-2]) % 2 == 0):\r\n",
        "        print(\"your number is even\")\r\n",
        "      else :\r\n",
        "        print(\"your number is odd\")  \r\n",
        "      flag = False\r\n"
      ],
      "execution_count": null,
      "outputs": []
    },
    {
      "cell_type": "code",
      "metadata": {
        "colab": {
          "base_uri": "https://localhost:8080/"
        },
        "id": "SOjPhwFck8T4",
        "outputId": "ae4ae16e-f2c0-45c1-f310-6ba535aa360f"
      },
      "source": [
        "even_odd_func()"
      ],
      "execution_count": null,
      "outputs": [
        {
          "output_type": "stream",
          "text": [
            "Enter number/ write 'q' to exit1\n",
            "Enter number/ write 'q' to exitq\n",
            "your number is odd\n"
          ],
          "name": "stdout"
        }
      ]
    },
    {
      "cell_type": "code",
      "metadata": {
        "id": "CYDrgO5fuN5W"
      },
      "source": [
        "#trick 02\r\n",
        "def even_odd_func():\r\n",
        "  while(True):\r\n",
        "    num = input(\"Enter number/ write 'q' to exit\")\r\n",
        "    if(num != 'q'):\r\n",
        "      if(int(num) % 2 == 0):\r\n",
        "        print(\"your number is even\")\r\n",
        "      else :\r\n",
        "        print(\"your number is odd\")  \r\n",
        "    else:\r\n",
        "      break\r\n"
      ],
      "execution_count": null,
      "outputs": []
    },
    {
      "cell_type": "code",
      "metadata": {
        "colab": {
          "base_uri": "https://localhost:8080/"
        },
        "id": "3_yrVn-Iufsd",
        "outputId": "159d5963-be0f-4b16-d64c-486369667ad6"
      },
      "source": [
        "even_odd_func()"
      ],
      "execution_count": null,
      "outputs": [
        {
          "output_type": "stream",
          "text": [
            "Enter number/ write 'q' to exit2\n",
            "your number is even\n",
            "Enter number/ write 'q' to exitq\n"
          ],
          "name": "stdout"
        }
      ]
    },
    {
      "cell_type": "code",
      "metadata": {
        "id": "wRu8b_jMu08x"
      },
      "source": [
        ""
      ],
      "execution_count": null,
      "outputs": []
    },
    {
      "cell_type": "code",
      "metadata": {
        "colab": {
          "base_uri": "https://localhost:8080/"
        },
        "id": "KdqcRHsXogTk",
        "outputId": "940a19e9-f2c1-46b4-fd7a-c3cda59ddbac"
      },
      "source": [
        "# Parametric function.\n",
        "def function2(var):\n",
        "    print(var)\n",
        "function2(\"This is the second function\")\n",
        "function2(\"And it is a parametric function.\")"
      ],
      "execution_count": null,
      "outputs": [
        {
          "output_type": "stream",
          "text": [
            "This is the second function\n",
            "And it is a parametric function.\n"
          ],
          "name": "stdout"
        }
      ]
    },
    {
      "cell_type": "code",
      "metadata": {
        "colab": {
          "base_uri": "https://localhost:8080/"
        },
        "id": "dV0texmOogTk",
        "outputId": "c7561cc2-68b5-487e-9178-1c0960748a45"
      },
      "source": [
        "# Taking multiple argument to the function.\n",
        "def function3(name_var, your_name):\n",
        "    print(name_var + \": \" + your_name)\n",
        "function3(\"Name\",\"Jack\")\n",
        "function3(\"Father Name\",\"Jonson\")"
      ],
      "execution_count": 14,
      "outputs": [
        {
          "output_type": "stream",
          "text": [
            "Name: Jack\n",
            "Father Name: Jonson\n"
          ],
          "name": "stdout"
        }
      ]
    },
    {
      "cell_type": "code",
      "metadata": {
        "id": "StFsMa41J95N"
      },
      "source": [
        "# Positional argument with keyword argumetn\r\n",
        "def abc(x,y,z):\r\n",
        "  print(x,y,z)"
      ],
      "execution_count": 19,
      "outputs": []
    },
    {
      "cell_type": "code",
      "metadata": {
        "colab": {
          "base_uri": "https://localhost:8080/"
        },
        "id": "IkVI3A3FKD27",
        "outputId": "3c7ccb5a-1bef-4507-e816-a4a9d883afa9"
      },
      "source": [
        "abc(77, y =12, z= 23 )"
      ],
      "execution_count": 21,
      "outputs": [
        {
          "output_type": "stream",
          "text": [
            "77 12 23\n"
          ],
          "name": "stdout"
        }
      ]
    },
    {
      "cell_type": "code",
      "metadata": {
        "id": "Q5mCKPygKxtr"
      },
      "source": [
        ""
      ],
      "execution_count": null,
      "outputs": []
    },
    {
      "cell_type": "markdown",
      "metadata": {
        "id": "FNB45QWGogTl"
      },
      "source": [
        "# Arbitrary Arguments, *args\n",
        "\n",
        "If you do not know how many arguments that will be passed into your function, add a * before the parameter name in the function definition.\n",
        "\n",
        "This way the function will receive a tuple of arguments, and can access the items accordingly:"
      ]
    },
    {
      "cell_type": "code",
      "metadata": {
        "colab": {
          "base_uri": "https://localhost:8080/"
        },
        "id": "iSaC08b9ogTl",
        "outputId": "65237266-cfc7-470f-efea-218be239f0f0"
      },
      "source": [
        "def function4(*var):\n",
        "        print(var, end = '')\n",
        "function4(\"orange\", \"mango\")"
      ],
      "execution_count": null,
      "outputs": [
        {
          "output_type": "stream",
          "text": [
            "('orange', 'mango')"
          ],
          "name": "stdout"
        }
      ]
    },
    {
      "cell_type": "markdown",
      "metadata": {
        "id": "456-w5EpogTl"
      },
      "source": [
        "## Default parameter value."
      ]
    },
    {
      "cell_type": "code",
      "metadata": {
        "colab": {
          "base_uri": "https://localhost:8080/"
        },
        "id": "cVnC_roiogTl",
        "outputId": "71d0a193-c279-44c9-9462-96f81bcc4126"
      },
      "source": [
        "def func(var = \"newyork\"):\n",
        "    print(\"You are in\",var)\n",
        "func()\n",
        "func(\"london\")\n",
        "func(\"paris\")"
      ],
      "execution_count": 22,
      "outputs": [
        {
          "output_type": "stream",
          "text": [
            "You are in newyork\n",
            "You are in london\n",
            "You are in paris\n"
          ],
          "name": "stdout"
        }
      ]
    },
    {
      "cell_type": "code",
      "metadata": {
        "id": "T_yifPtiLh6E"
      },
      "source": [
        "def abc(x,y,z =0):\r\n",
        "  print(x,y,z)"
      ],
      "execution_count": 23,
      "outputs": []
    },
    {
      "cell_type": "code",
      "metadata": {
        "colab": {
          "base_uri": "https://localhost:8080/"
        },
        "id": "YceP4ToVLnz7",
        "outputId": "978f95fb-d8ad-4db8-f3bf-c80a1bce14bb"
      },
      "source": [
        "abc(x = 1, y=3)"
      ],
      "execution_count": 25,
      "outputs": [
        {
          "output_type": "stream",
          "text": [
            "1 3 0\n"
          ],
          "name": "stdout"
        }
      ]
    },
    {
      "cell_type": "code",
      "metadata": {
        "id": "lswWy3JyLqsC"
      },
      "source": [
        "#8-3. T-Shirt: Write a function called make_shirt() that accepts a size and the\r\n",
        "#text of a message that should be printed on the shirt. The function should print\r\n",
        "#a sentence summarizing the size of the shirt and the message printed on it.\r\n",
        "#Call the function once using positional arguments to make a shirt. Call the\r\n",
        "#function a second time using keyword arguments."
      ],
      "execution_count": 27,
      "outputs": []
    },
    {
      "cell_type": "code",
      "metadata": {
        "id": "o8NFvgaFNUGx"
      },
      "source": [
        "def make_shirt(shirt_size, shirt_message): \r\n",
        "  print('the size of the shirt is: ', shirt_size,\"\\n\") \r\n",
        "  print('the message on the shirt is: ', shirt_message,\"\\n\")"
      ],
      "execution_count": 29,
      "outputs": []
    },
    {
      "cell_type": "code",
      "metadata": {
        "colab": {
          "base_uri": "https://localhost:8080/"
        },
        "id": "wQuW084VNtCh",
        "outputId": "ed4e2055-5b91-4d77-97e4-b0863e91bce7"
      },
      "source": [
        "make_shirt(34, 'your message')"
      ],
      "execution_count": 31,
      "outputs": [
        {
          "output_type": "stream",
          "text": [
            "the size of the shirt is:  34 \n",
            "\n",
            "the message on the shirt is:  your message \n",
            "\n"
          ],
          "name": "stdout"
        }
      ]
    },
    {
      "cell_type": "code",
      "metadata": {
        "colab": {
          "base_uri": "https://localhost:8080/"
        },
        "id": "OhCHWPWmN9bH",
        "outputId": "10e56c6b-715e-4445-8b93-8c4878c5e6f3"
      },
      "source": [
        "make_shirt(shirt_size = 44, shirt_message = 'your message')"
      ],
      "execution_count": 33,
      "outputs": [
        {
          "output_type": "stream",
          "text": [
            "the size of the shirt is:  44 \n",
            "\n",
            "the message on the shirt is:  your message \n",
            "\n"
          ],
          "name": "stdout"
        }
      ]
    },
    {
      "cell_type": "code",
      "metadata": {
        "id": "rLHBxVfNO-jh",
        "outputId": "444492dd-38ec-49a6-acc3-11a39fa76693",
        "colab": {
          "base_uri": "https://localhost:8080/"
        }
      },
      "source": [
        "def build_person(first_name, last_name):\r\n",
        "  \"\"\"Return a dictionary of information about a person.\"\"\"\r\n",
        "  person = {'first': first_name, 'last': last_name}\r\n",
        "  return person\r\n",
        "musician = build_person('jimi', 'hendrix')\r\n",
        "print(musician)"
      ],
      "execution_count": 35,
      "outputs": [
        {
          "output_type": "stream",
          "text": [
            "{'first': 'jimi', 'last': 'hendrix'}\n"
          ],
          "name": "stdout"
        }
      ]
    },
    {
      "cell_type": "markdown",
      "metadata": {
        "id": "xHTVtAuvogTl"
      },
      "source": [
        "## Passing a List as an Argument"
      ]
    },
    {
      "cell_type": "code",
      "metadata": {
        "colab": {
          "base_uri": "https://localhost:8080/"
        },
        "id": "NUeijXnqogTl",
        "outputId": "ec481bef-5ce0-4ad0-f836-5a8676038b97"
      },
      "source": [
        "\n",
        "def my_function(food):\n",
        "    for x in food:\n",
        "        print(x)\n",
        "\n",
        "fruits = [\"apple\", \"banana\", \"cherry\"]\n",
        "\n",
        "my_function(fruits)"
      ],
      "execution_count": null,
      "outputs": [
        {
          "output_type": "stream",
          "text": [
            "apple\n",
            "banana\n",
            "cherry\n"
          ],
          "name": "stdout"
        }
      ]
    },
    {
      "cell_type": "code",
      "metadata": {
        "id": "FVEB8QcXOQAk"
      },
      "source": [
        ""
      ],
      "execution_count": null,
      "outputs": []
    },
    {
      "cell_type": "markdown",
      "metadata": {
        "id": "A5wjEVfLogTm"
      },
      "source": [
        "## Using return keword to return value."
      ]
    },
    {
      "cell_type": "code",
      "metadata": {
        "colab": {
          "base_uri": "https://localhost:8080/"
        },
        "id": "sHr3geYgogTm",
        "outputId": "69f8ccc0-fade-4b16-8cd3-c87d09ab6bf3"
      },
      "source": [
        "# Function that return the square of number.\n",
        "def retun(x):\n",
        "    return x*x\n",
        "var = 3\n",
        "print(\"The square of\",var,\"is\",retun(var))"
      ],
      "execution_count": null,
      "outputs": [
        {
          "output_type": "stream",
          "text": [
            "The square of 3 is 9\n"
          ],
          "name": "stdout"
        }
      ]
    },
    {
      "cell_type": "markdown",
      "metadata": {
        "id": "m9ITm0QJogTm"
      },
      "source": [
        "## Recursion function"
      ]
    },
    {
      "cell_type": "code",
      "metadata": {
        "colab": {
          "base_uri": "https://localhost:8080/"
        },
        "id": "01TiiSrZogTm",
        "outputId": "4d13438e-e7f7-4270-c34d-9f037fdf98ad"
      },
      "source": [
        "def tri_recursion(k):\n",
        "    if(k>0):\n",
        "        result = k+tri_recursion(k-1)\n",
        "        print(result)\n",
        "    else:\n",
        "        result = 0\n",
        "    return result\n",
        "\n",
        "print(\"\\n\\nRecursion Example Results\")\n",
        "tri_recursion(6)"
      ],
      "execution_count": null,
      "outputs": [
        {
          "output_type": "stream",
          "text": [
            "\n",
            "\n",
            "Recursion Example Results\n",
            "1\n",
            "3\n",
            "6\n",
            "10\n",
            "15\n",
            "21\n"
          ],
          "name": "stdout"
        },
        {
          "output_type": "execute_result",
          "data": {
            "text/plain": [
              "21"
            ]
          },
          "metadata": {
            "tags": []
          },
          "execution_count": 227
        }
      ]
    },
    {
      "cell_type": "markdown",
      "metadata": {
        "id": "BzyH1gdYogTm"
      },
      "source": [
        "# Classes & Objects"
      ]
    },
    {
      "cell_type": "code",
      "metadata": {
        "colab": {
          "base_uri": "https://localhost:8080/"
        },
        "id": "kWytAoFwogTm",
        "outputId": "f907ec2b-d9a7-4d0d-d79b-232008176895"
      },
      "source": [
        "class first:\n",
        "    x = 5\n",
        "\n",
        "obj = first()\n",
        "print(obj.x)"
      ],
      "execution_count": null,
      "outputs": [
        {
          "output_type": "stream",
          "text": [
            "5\n"
          ],
          "name": "stdout"
        }
      ]
    },
    {
      "cell_type": "markdown",
      "metadata": {
        "id": "mu3IpCGrogTn"
      },
      "source": [
        "### Working with constructor of class and creating varaible"
      ]
    },
    {
      "cell_type": "code",
      "metadata": {
        "colab": {
          "base_uri": "https://localhost:8080/"
        },
        "id": "K2jLqddwogTn",
        "outputId": "0361e956-b434-4a2c-fe0a-c1e9265dfba7"
      },
      "source": [
        "class fruit:\n",
        "    def __init__(self, fname, catagory):\n",
        "        self.fname = fname\n",
        "        self.catagory = catagory\n",
        "obj1 = fruit(\"Orange\", \"Citrus\")\n",
        "print(obj1.fname, \"is the\", obj1.catagory, \"catagory\")"
      ],
      "execution_count": null,
      "outputs": [
        {
          "output_type": "stream",
          "text": [
            "Orange is the Citrus catagory\n"
          ],
          "name": "stdout"
        }
      ]
    },
    {
      "cell_type": "markdown",
      "metadata": {
        "id": "uqty68eVogTn"
      },
      "source": [
        "### Creating Method "
      ]
    },
    {
      "cell_type": "code",
      "metadata": {
        "colab": {
          "base_uri": "https://localhost:8080/"
        },
        "id": "RuvJqKpYogTn",
        "outputId": "eea67e8e-c76d-4978-f852-5fc5922f9d6e"
      },
      "source": [
        "class fruit:\n",
        "    def __init__(self, fname, catagory):\n",
        "        self.fname = fname\n",
        "        self.catagory = catagory\n",
        "    def func1(self):\n",
        "        print(\"your fruit is\"+self.fname)\n",
        "        \n",
        "obj2 = fruit(\"Orange\", \"Citrus\")\n",
        "print(obj2.func1())"
      ],
      "execution_count": null,
      "outputs": [
        {
          "output_type": "stream",
          "text": [
            "your fruit isOrange\n",
            "None\n"
          ],
          "name": "stdout"
        }
      ]
    },
    {
      "cell_type": "markdown",
      "metadata": {
        "id": "OZFIyC5hogTn"
      },
      "source": [
        "#### The self Parameter\n",
        "The self parameter is a reference to the current instance of the class, and is used to access variables that belongs to the class.\n",
        "\n",
        "It does not have to be named self , you can call it whatever you like, but it has to be the first parameter of any function in the class"
      ]
    },
    {
      "cell_type": "markdown",
      "metadata": {
        "id": "WKD-m9BhogTo"
      },
      "source": [
        "# Inheritance in python"
      ]
    },
    {
      "cell_type": "code",
      "metadata": {
        "colab": {
          "base_uri": "https://localhost:8080/"
        },
        "id": "0ubIchvgogTo",
        "outputId": "b17d6957-d08f-44de-d4ad-c9b539db768f"
      },
      "source": [
        "# Creating parent class\n",
        "\n",
        "class parent:\n",
        "    def __init__(self, fname, rollno):\n",
        "        self.firstname = fname;\n",
        "        self.rollNumber = rollno;\n",
        "    def printName(self):\n",
        "        print('My name is',self.firstname,'\\nand Roll number is: ',self.rollNumber);\n",
        "        \n",
        "        \n",
        "obj = parent('Usama', 2103102);\n",
        "obj.printName();\n",
        "\n",
        "        "
      ],
      "execution_count": null,
      "outputs": [
        {
          "output_type": "stream",
          "text": [
            "My name is Usama \n",
            "and Roll number is:  2103102\n"
          ],
          "name": "stdout"
        }
      ]
    },
    {
      "cell_type": "code",
      "metadata": {
        "colab": {
          "base_uri": "https://localhost:8080/"
        },
        "id": "6VM2KQ_IogTo",
        "outputId": "40f33ee9-665c-4a28-d255-6d5ecdcbcf9c"
      },
      "source": [
        "#inheriting parent class to child class.\n",
        "class child(parent):\n",
        "    pass\n",
        "\n",
        "obj = child('Usama', 4802292); # Accesing parent class method.\n",
        "obj.printName();"
      ],
      "execution_count": null,
      "outputs": [
        {
          "output_type": "stream",
          "text": [
            "My name is Usama \n",
            "and Roll number is:  4802292\n"
          ],
          "name": "stdout"
        }
      ]
    },
    {
      "cell_type": "markdown",
      "metadata": {
        "id": "2RKFTc-_ogTo"
      },
      "source": [
        "# Working with RegEx(regular expression)"
      ]
    },
    {
      "cell_type": "code",
      "metadata": {
        "id": "QJkWxVjYogTp"
      },
      "source": [
        "# RegEx can be used to check if a string contains the specified search pattern.\n",
        "\n",
        "import re"
      ],
      "execution_count": null,
      "outputs": []
    },
    {
      "cell_type": "markdown",
      "metadata": {
        "id": "BJ6pLM2-ogTp"
      },
      "source": [
        "## checking for string which start from \"the\" and end with \"ing\""
      ]
    },
    {
      "cell_type": "code",
      "metadata": {
        "colab": {
          "base_uri": "https://localhost:8080/"
        },
        "id": "SIlzb9JIogTp",
        "outputId": "9cd06e2b-9490-4c0d-abae-80a12cf59d61"
      },
      "source": [
        "string = \"The pthon programming\";\n",
        "x = re.search(\"^The.*ing$\", string)\n",
        "if(x):\n",
        "    print(\"working\")\n",
        "else:\n",
        "    print(\"not working\")"
      ],
      "execution_count": null,
      "outputs": [
        {
          "output_type": "stream",
          "text": [
            "working\n"
          ],
          "name": "stdout"
        }
      ]
    },
    {
      "cell_type": "markdown",
      "metadata": {
        "id": "Ifnv_S8SogTp"
      },
      "source": [
        "# Find a charater or string in whole string and save the the character in a list"
      ]
    },
    {
      "cell_type": "code",
      "metadata": {
        "colab": {
          "base_uri": "https://localhost:8080/"
        },
        "id": "OT7p8MtKogTp",
        "outputId": "ed5441f8-6686-4abf-a677-c73c18236db2"
      },
      "source": [
        "a = re.findall(\"o\", string)\n",
        "print(a)"
      ],
      "execution_count": null,
      "outputs": [
        {
          "output_type": "stream",
          "text": [
            "['o', 'o']\n"
          ],
          "name": "stdout"
        }
      ]
    },
    {
      "cell_type": "markdown",
      "metadata": {
        "id": "rYoxs7a2ogTq"
      },
      "source": [
        "# The finding number of spaces in an string."
      ]
    },
    {
      "cell_type": "code",
      "metadata": {
        "colab": {
          "base_uri": "https://localhost:8080/"
        },
        "id": "ri7tJOVAogTq",
        "outputId": "1a228cdc-99b1-4128-9980-375a06c53365"
      },
      "source": [
        "s = re.search(\"\\s\",string)\n",
        "print(s.start())"
      ],
      "execution_count": null,
      "outputs": [
        {
          "output_type": "stream",
          "text": [
            "3\n"
          ],
          "name": "stdout"
        }
      ]
    },
    {
      "cell_type": "markdown",
      "metadata": {
        "id": "S9TA2UAdogTq"
      },
      "source": [
        "# Seperate string into words"
      ]
    },
    {
      "cell_type": "code",
      "metadata": {
        "colab": {
          "base_uri": "https://localhost:8080/"
        },
        "id": "chn9EsLbogTq",
        "outputId": "1b0a5f57-debf-4965-eaa0-b69d78f2d733"
      },
      "source": [
        "w = re.split(\"\\s\", string)\n",
        "print(w)"
      ],
      "execution_count": null,
      "outputs": [
        {
          "output_type": "stream",
          "text": [
            "['The', 'pthon', 'programming']\n"
          ],
          "name": "stdout"
        }
      ]
    },
    {
      "cell_type": "markdown",
      "metadata": {
        "id": "6Fx5sUbVogTq"
      },
      "source": [
        "# Replacing the character/text with the text of your choice"
      ]
    },
    {
      "cell_type": "code",
      "metadata": {
        "id": "sw7y7lFFNXkU"
      },
      "source": [
        ""
      ],
      "execution_count": null,
      "outputs": []
    },
    {
      "cell_type": "code",
      "metadata": {
        "colab": {
          "base_uri": "https://localhost:8080/"
        },
        "id": "scqI-gCSogTq",
        "outputId": "693e7577-3ede-47c1-cdc9-e385aad3eb88"
      },
      "source": [
        "r = re.sub(\"\\s\",\"----\", string)\n",
        "print(r)"
      ],
      "execution_count": null,
      "outputs": [
        {
          "output_type": "stream",
          "text": [
            "The----pthon----programming\n"
          ],
          "name": "stdout"
        }
      ]
    },
    {
      "cell_type": "code",
      "metadata": {
        "id": "GPrfFRSAogTr"
      },
      "source": [
        ""
      ],
      "execution_count": null,
      "outputs": []
    },
    {
      "cell_type": "code",
      "metadata": {
        "id": "GXZRiOVTNYyh"
      },
      "source": [
        ""
      ],
      "execution_count": null,
      "outputs": []
    },
    {
      "cell_type": "markdown",
      "metadata": {
        "id": "_icuOHbsNdcH"
      },
      "source": [
        "# Dictionary comprihension\r\n"
      ]
    },
    {
      "cell_type": "code",
      "metadata": {
        "id": "jtwK6fWFNmiz"
      },
      "source": [
        "oldPrice = {'buiryani': 150, 'tikka': 300, 'Fish': 400,'cold':200}"
      ],
      "execution_count": null,
      "outputs": []
    },
    {
      "cell_type": "code",
      "metadata": {
        "id": "9mkox0azOOD8"
      },
      "source": [
        "new_price = {item: (price/160) for item,price in oldPrice.items()}"
      ],
      "execution_count": null,
      "outputs": []
    },
    {
      "cell_type": "code",
      "metadata": {
        "colab": {
          "base_uri": "https://localhost:8080/"
        },
        "id": "HyvuMxFeOwwR",
        "outputId": "abf36ae4-ecf6-46d8-bf63-20ae979320a4"
      },
      "source": [
        "new_price"
      ],
      "execution_count": null,
      "outputs": [
        {
          "output_type": "execute_result",
          "data": {
            "text/plain": [
              "{'Fish': 2.5, 'buiryani': 0.9375, 'cold': 1.25, 'tikka': 1.875}"
            ]
          },
          "metadata": {
            "tags": []
          },
          "execution_count": 32
        }
      ]
    },
    {
      "cell_type": "code",
      "metadata": {
        "id": "p0OAJ_ExPN27"
      },
      "source": [
        "new_price = {item: round(price/160,2) for item,price in oldPrice.items()}"
      ],
      "execution_count": null,
      "outputs": []
    },
    {
      "cell_type": "code",
      "metadata": {
        "colab": {
          "base_uri": "https://localhost:8080/"
        },
        "id": "Ap--FyeSPdgb",
        "outputId": "efefc57a-904e-4dbd-a46e-51ccf3b50865"
      },
      "source": [
        "new_price"
      ],
      "execution_count": null,
      "outputs": [
        {
          "output_type": "execute_result",
          "data": {
            "text/plain": [
              "{'Fish': 2.5, 'buiryani': 0.94, 'cold': 1.25, 'tikka': 1.88}"
            ]
          },
          "metadata": {
            "tags": []
          },
          "execution_count": 37
        }
      ]
    },
    {
      "cell_type": "code",
      "metadata": {
        "id": "2m6hCD6cPeIE"
      },
      "source": [
        "#using math library\r\n",
        "import math"
      ],
      "execution_count": null,
      "outputs": []
    },
    {
      "cell_type": "code",
      "metadata": {
        "colab": {
          "base_uri": "https://localhost:8080/"
        },
        "id": "CwtHQd_yQIdN",
        "outputId": "f73b38f0-9845-4d12-bc14-b889b1ad27ed"
      },
      "source": [
        "math.floor(12.66)"
      ],
      "execution_count": null,
      "outputs": [
        {
          "output_type": "execute_result",
          "data": {
            "text/plain": [
              "12"
            ]
          },
          "metadata": {
            "tags": []
          },
          "execution_count": 39
        }
      ]
    },
    {
      "cell_type": "code",
      "metadata": {
        "colab": {
          "base_uri": "https://localhost:8080/"
        },
        "id": "QxehGsmSQSIE",
        "outputId": "2fef20e4-999e-4274-9d9f-5351dbf893c4"
      },
      "source": [
        "math.ceil(12.77)"
      ],
      "execution_count": null,
      "outputs": [
        {
          "output_type": "execute_result",
          "data": {
            "text/plain": [
              "13"
            ]
          },
          "metadata": {
            "tags": []
          },
          "execution_count": 41
        }
      ]
    },
    {
      "cell_type": "code",
      "metadata": {
        "id": "tAIPVOnMQlM8"
      },
      "source": [
        "new_price = {item: math.ceil(price/160) for item,price in oldPrice.items()}"
      ],
      "execution_count": null,
      "outputs": []
    },
    {
      "cell_type": "code",
      "metadata": {
        "colab": {
          "base_uri": "https://localhost:8080/"
        },
        "id": "ZxA3K_vJRIkT",
        "outputId": "0d907951-40f7-43b4-a124-57d7f023b365"
      },
      "source": [
        "new_price"
      ],
      "execution_count": null,
      "outputs": [
        {
          "output_type": "execute_result",
          "data": {
            "text/plain": [
              "{'Fish': 3, 'buiryani': 1, 'cold': 2, 'tikka': 2}"
            ]
          },
          "metadata": {
            "tags": []
          },
          "execution_count": 46
        }
      ]
    },
    {
      "cell_type": "code",
      "metadata": {
        "id": "UOCyXnQARMBD"
      },
      "source": [
        "new_price_in_dollar = {item: (price/160) for item,price in oldPrice.items()}"
      ],
      "execution_count": null,
      "outputs": []
    },
    {
      "cell_type": "code",
      "metadata": {
        "colab": {
          "base_uri": "https://localhost:8080/"
        },
        "id": "5EW_xiVtS7fY",
        "outputId": "b81bc4de-7f59-49bc-a3a5-1b60c350ec5e"
      },
      "source": [
        "new_price_in_dollar"
      ],
      "execution_count": null,
      "outputs": [
        {
          "output_type": "execute_result",
          "data": {
            "text/plain": [
              "{'Fish': 2.5, 'buiryani': 0.9375, 'cold': 1.25, 'tikka': 1.875}"
            ]
          },
          "metadata": {
            "tags": []
          },
          "execution_count": 55
        }
      ]
    },
    {
      "cell_type": "code",
      "metadata": {
        "id": "PFRl1S_yZyVY"
      },
      "source": [
        "updat_price = {item: (price/160) for item,price in oldPrice.items()}\r\n"
      ],
      "execution_count": null,
      "outputs": []
    },
    {
      "cell_type": "code",
      "metadata": {
        "colab": {
          "base_uri": "https://localhost:8080/"
        },
        "id": "cC7F6bvAT0W1",
        "outputId": "6dcf6444-bead-499a-f21b-2ddb649f34cf"
      },
      "source": [
        "updated_price"
      ],
      "execution_count": null,
      "outputs": [
        {
          "output_type": "execute_result",
          "data": {
            "text/plain": [
              "{'buiryani': 1.9375}"
            ]
          },
          "metadata": {
            "tags": []
          },
          "execution_count": 54
        }
      ]
    },
    {
      "cell_type": "code",
      "metadata": {
        "id": "Yp6odTLtT-_V"
      },
      "source": [
        "# Question: : Make a dictionary containing three major rivers and the country\r\n",
        "#each river runs through. One key-value pair might be 'nile': 'egypt'."
      ],
      "execution_count": null,
      "outputs": []
    },
    {
      "cell_type": "code",
      "metadata": {
        "id": "0xVC8137a3LH"
      },
      "source": [
        "rivers = {'nile': 'egypt', 'indus': 'Pakistan', 'liao': 'china'}"
      ],
      "execution_count": null,
      "outputs": []
    },
    {
      "cell_type": "code",
      "metadata": {
        "colab": {
          "base_uri": "https://localhost:8080/"
        },
        "id": "7-FEiv0NbOIX",
        "outputId": "a1786981-5743-4d58-a216-45e254ebce08"
      },
      "source": [
        "#Use a loop to print a sentence about each river, such as The Nile runs through Egypt.\r\n",
        "for key,val in rivers.items():\r\n",
        "   print(f\"The {key} runs through {val}\")"
      ],
      "execution_count": null,
      "outputs": [
        {
          "output_type": "stream",
          "text": [
            "The nile runs through egypt\n",
            "The indus runs through Pakistan\n",
            "The liao runs through china\n"
          ],
          "name": "stdout"
        }
      ]
    },
    {
      "cell_type": "code",
      "metadata": {
        "colab": {
          "base_uri": "https://localhost:8080/"
        },
        "id": "PuSLSEBfbcYe",
        "outputId": "e090dcf7-a12f-4084-a6c6-e32621d9c87d"
      },
      "source": [
        "#Use a loop to print the name of each river included in the dictionary\r\n",
        "for key in rivers.keys():\r\n",
        "   print(f\"The name of river {key}\")\r\n"
      ],
      "execution_count": null,
      "outputs": [
        {
          "output_type": "stream",
          "text": [
            "The name of river nile\n",
            "The name of river indus\n",
            "The name of river liao\n"
          ],
          "name": "stdout"
        }
      ]
    },
    {
      "cell_type": "code",
      "metadata": {
        "colab": {
          "base_uri": "https://localhost:8080/"
        },
        "id": "NUYdl7xpbmee",
        "outputId": "debe3e15-3115-419e-dd70-8ad9368c2951"
      },
      "source": [
        "#Use a loop to print the name of each country included in the dictionary\r\n",
        "for val in rivers.values():\r\n",
        "   print(f\"The name of river {val}\")"
      ],
      "execution_count": null,
      "outputs": [
        {
          "output_type": "stream",
          "text": [
            "The name of river egypt\n",
            "The name of river Pakistan\n",
            "The name of river china\n"
          ],
          "name": "stdout"
        }
      ]
    },
    {
      "cell_type": "code",
      "metadata": {
        "id": "9xJ3L3Lkchcd"
      },
      "source": [
        ""
      ],
      "execution_count": null,
      "outputs": []
    },
    {
      "cell_type": "markdown",
      "metadata": {
        "id": "qiBwuSkhdfpk"
      },
      "source": [
        "# List of list"
      ]
    },
    {
      "cell_type": "code",
      "metadata": {
        "id": "uuYhuxtmdiI3"
      },
      "source": [
        "listoflist = [[0,1,2,3,],\r\n",
        "              [1,2,3],\r\n",
        "              ['a','b','c']]"
      ],
      "execution_count": null,
      "outputs": []
    },
    {
      "cell_type": "code",
      "metadata": {
        "colab": {
          "base_uri": "https://localhost:8080/",
          "height": 35
        },
        "id": "E1v8AoQzd3dG",
        "outputId": "1f7b7a67-c55d-47fc-ab3a-6ad1102ae59f"
      },
      "source": [
        "listoflist[-1][-1]"
      ],
      "execution_count": null,
      "outputs": [
        {
          "output_type": "execute_result",
          "data": {
            "application/vnd.google.colaboratory.intrinsic+json": {
              "type": "string"
            },
            "text/plain": [
              "'c'"
            ]
          },
          "metadata": {
            "tags": []
          },
          "execution_count": 68
        }
      ]
    },
    {
      "cell_type": "code",
      "metadata": {
        "id": "kUuP_yeIeD6J"
      },
      "source": [
        ""
      ],
      "execution_count": null,
      "outputs": []
    },
    {
      "cell_type": "markdown",
      "metadata": {
        "id": "mCFupBDCfNWs"
      },
      "source": [
        "# List of Dictionary"
      ]
    },
    {
      "cell_type": "code",
      "metadata": {
        "colab": {
          "base_uri": "https://localhost:8080/"
        },
        "id": "7_l97PgNfQXm",
        "outputId": "a79d541f-aca3-478e-b91b-35e4bdb92c8c"
      },
      "source": [
        "listofdic = [oldPrice, new_price, new_price_in_dollar]\r\n",
        "listofdic"
      ],
      "execution_count": null,
      "outputs": [
        {
          "output_type": "execute_result",
          "data": {
            "text/plain": [
              "[{'Fish': 400, 'buiryani': 150, 'cold': 200, 'tikka': 300},\n",
              " {'Fish': 2.5, 'buiryani': 0.9375, 'cold': 1.25, 'tikka': 1.875},\n",
              " {'Fish': 2.5, 'buiryani': 0.9375, 'cold': 1.25, 'tikka': 1.875}]"
            ]
          },
          "metadata": {
            "tags": []
          },
          "execution_count": 72
        }
      ]
    },
    {
      "cell_type": "code",
      "metadata": {
        "colab": {
          "base_uri": "https://localhost:8080/"
        },
        "id": "Ti9t-S9rfg9S",
        "outputId": "eb07c846-aae7-447b-b3c0-820c97af53f7"
      },
      "source": [
        "listofdic[0]['Fish']"
      ],
      "execution_count": null,
      "outputs": [
        {
          "output_type": "execute_result",
          "data": {
            "text/plain": [
              "400"
            ]
          },
          "metadata": {
            "tags": []
          },
          "execution_count": 71
        }
      ]
    },
    {
      "cell_type": "code",
      "metadata": {
        "id": "lgZpdJrift_n"
      },
      "source": [
        ""
      ],
      "execution_count": null,
      "outputs": []
    },
    {
      "cell_type": "markdown",
      "metadata": {
        "id": "BzmUy2PGgjn0"
      },
      "source": [
        "# Dictionary of dictionary"
      ]
    },
    {
      "cell_type": "code",
      "metadata": {
        "id": "N8ZcjpAEgn8A"
      },
      "source": [
        "dicofdic = {'saylani':\r\n",
        "            {'smit': ['web', 'ds', 'ccna', 'ai'],\r\n",
        "             'health': ['opd', 'ot']\r\n",
        "            },\r\n",
        "            'University': {\r\n",
        "                  'CS': ['1st', '2nd', '3rd', '4th'],\r\n",
        "                  'admin': ['fees', 'timetable', 'exam']\r\n",
        "            }\r\n",
        "            }"
      ],
      "execution_count": null,
      "outputs": []
    },
    {
      "cell_type": "code",
      "metadata": {
        "colab": {
          "base_uri": "https://localhost:8080/"
        },
        "id": "I7QTsyzih3mA",
        "outputId": "72559ae8-97ff-471f-e624-31d3bebe8af2"
      },
      "source": [
        "'University' in dicofdic"
      ],
      "execution_count": null,
      "outputs": [
        {
          "output_type": "execute_result",
          "data": {
            "text/plain": [
              "True"
            ]
          },
          "metadata": {
            "tags": []
          },
          "execution_count": 76
        }
      ]
    },
    {
      "cell_type": "code",
      "metadata": {
        "colab": {
          "base_uri": "https://localhost:8080/"
        },
        "id": "Az7DVnFjioaS",
        "outputId": "7042651b-c3cd-42d9-ae62-a8828ee54fa7"
      },
      "source": [
        "'smit' in dicofdic['saylani']"
      ],
      "execution_count": null,
      "outputs": [
        {
          "output_type": "execute_result",
          "data": {
            "text/plain": [
              "True"
            ]
          },
          "metadata": {
            "tags": []
          },
          "execution_count": 77
        }
      ]
    },
    {
      "cell_type": "code",
      "metadata": {
        "colab": {
          "base_uri": "https://localhost:8080/"
        },
        "id": "P08Tza_bjFeo",
        "outputId": "d43a8e18-9e67-4494-de32-37492ceb5789"
      },
      "source": [
        "for pk, pv in dicofdic.items():\r\n",
        "  if pk == 'University':\r\n",
        "    for uk,uv in dicofdic[pk].items():\r\n",
        "      if uk == 'admin':\r\n",
        "        print('exam' in uv)"
      ],
      "execution_count": null,
      "outputs": [
        {
          "output_type": "stream",
          "text": [
            "True\n"
          ],
          "name": "stdout"
        }
      ]
    },
    {
      "cell_type": "code",
      "metadata": {
        "id": "xJ8GiZOYlmIE"
      },
      "source": [
        ""
      ],
      "execution_count": null,
      "outputs": []
    },
    {
      "cell_type": "markdown",
      "metadata": {
        "id": "xilokJ3IgGSO"
      },
      "source": [
        ""
      ]
    },
    {
      "cell_type": "code",
      "metadata": {
        "id": "DWp1ibCZgQac"
      },
      "source": [
        "def "
      ],
      "execution_count": null,
      "outputs": []
    }
  ]
}