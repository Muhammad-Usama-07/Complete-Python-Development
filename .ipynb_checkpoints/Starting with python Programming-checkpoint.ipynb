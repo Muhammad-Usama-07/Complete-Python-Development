{
  "cells": [
    {
      "cell_type": "markdown",
      "metadata": {
        "id": "view-in-github",
        "colab_type": "text"
      },
      "source": [
        "<a href=\"https://colab.research.google.com/github/Muhammad-Usama-07/Complete-Python-Development/blob/master/.ipynb_checkpoints/Starting%20with%20python%20Programming-checkpoint.ipynb\" target=\"_parent\"><img src=\"https://colab.research.google.com/assets/colab-badge.svg\" alt=\"Open In Colab\"/></a>"
      ]
    },
    {
      "cell_type": "markdown",
      "metadata": {
        "id": "8VVvy6z_ogSs"
      },
      "source": [
        "# Print and its Functions"
      ]
    },
    {
      "cell_type": "code",
      "execution_count": null,
      "metadata": {
        "id": "YtQSPzsCogS_"
      },
      "outputs": [],
      "source": [
        "print(\"Welcome python\")"
      ]
    },
    {
      "cell_type": "markdown",
      "metadata": {
        "id": "viJGiN14ogTD"
      },
      "source": [
        "# print with end"
      ]
    },
    {
      "cell_type": "code",
      "execution_count": null,
      "metadata": {
        "id": "AeigIjoRogTD"
      },
      "outputs": [],
      "source": [
        "print(\"Hello\", end = \" -  \")\n",
        "print(\"world\")"
      ]
    },
    {
      "cell_type": "code",
      "execution_count": null,
      "metadata": {
        "id": "uPFX-Pv9ogTE"
      },
      "outputs": [],
      "source": [
        "print(\"Hello\", end = \" ### \")\n",
        "print(\"world\")"
      ]
    },
    {
      "cell_type": "code",
      "execution_count": null,
      "metadata": {
        "id": "mO_8jEFGogTF"
      },
      "outputs": [],
      "source": [
        "print(\"Hello\", end = \"\\n\")\n",
        "print(\"world\")"
      ]
    },
    {
      "cell_type": "markdown",
      "metadata": {
        "id": "Em5OoJQjogTG"
      },
      "source": [
        "# print two string togather"
      ]
    },
    {
      "cell_type": "code",
      "execution_count": null,
      "metadata": {
        "id": "KZMwyeAaogTH"
      },
      "outputs": [],
      "source": [
        "print('first String','Second String')"
      ]
    },
    {
      "cell_type": "code",
      "execution_count": null,
      "metadata": {
        "id": "R131cnqBogTI"
      },
      "outputs": [],
      "source": [
        "print('first String'+'Second String')"
      ]
    },
    {
      "cell_type": "markdown",
      "metadata": {
        "id": "WQS7CCDPogTI"
      },
      "source": [
        "# print wtith sep"
      ]
    },
    {
      "cell_type": "code",
      "execution_count": null,
      "metadata": {
        "id": "Fc6nTHJ5ogTJ"
      },
      "outputs": [],
      "source": [
        "print(\"hello\",\"word\",sep = '....')"
      ]
    },
    {
      "cell_type": "markdown",
      "metadata": {
        "id": "Wdhr4G3lwm_9"
      },
      "source": [
        "# Variables"
      ]
    },
    {
      "cell_type": "code",
      "execution_count": null,
      "metadata": {
        "id": "eCy6WkxpogTK"
      },
      "outputs": [],
      "source": [
        "# declearing a variable and passing by value\n",
        "var1 = \"Hello\""
      ]
    },
    {
      "cell_type": "code",
      "execution_count": null,
      "metadata": {
        "id": "_WC61wxsogTL"
      },
      "outputs": [],
      "source": [
        "var1"
      ]
    },
    {
      "cell_type": "code",
      "execution_count": null,
      "metadata": {
        "id": "eX0_ExdKsEvO"
      },
      "outputs": [],
      "source": [
        "varr2 = var1 # passing by reference\n",
        "print(varr2)"
      ]
    },
    {
      "cell_type": "code",
      "execution_count": null,
      "metadata": {
        "id": "8DJm8fXmogTM"
      },
      "outputs": [],
      "source": [
        "# Another way\n",
        "print(var1)"
      ]
    },
    {
      "cell_type": "code",
      "execution_count": null,
      "metadata": {
        "id": "8yYvXcsQogTN"
      },
      "outputs": [],
      "source": [
        "# assigning integer value to the variable.\n",
        "var2 = 123"
      ]
    },
    {
      "cell_type": "code",
      "execution_count": null,
      "metadata": {
        "id": "L-Aj8HTHogTN"
      },
      "outputs": [],
      "source": [
        "var2"
      ]
    },
    {
      "cell_type": "code",
      "execution_count": null,
      "metadata": {
        "id": "RhUBlDQOogTO"
      },
      "outputs": [],
      "source": [
        "#floating variable\n",
        "var3 = 1.234455454\n",
        "var3"
      ]
    },
    {
      "cell_type": "code",
      "execution_count": null,
      "metadata": {
        "id": "ImhqwNbLogTP"
      },
      "outputs": [],
      "source": [
        "# Boolean Variable\n",
        "var4 = True\n",
        "var5 = False\n",
        "print(var4,var5)"
      ]
    },
    {
      "cell_type": "code",
      "execution_count": null,
      "metadata": {
        "id": "IU2DOnHLogTP"
      },
      "outputs": [],
      "source": [
        "# assigning String value to the variable.\n",
        "var6 = \"this is a string\"\n",
        "var6"
      ]
    },
    {
      "cell_type": "code",
      "execution_count": null,
      "metadata": {
        "id": "KO3CWYD0rIbA"
      },
      "outputs": [],
      "source": [
        "id(var6)"
      ]
    },
    {
      "cell_type": "code",
      "execution_count": null,
      "metadata": {
        "id": "JHO0b0aSogTQ"
      },
      "outputs": [],
      "source": [
        "# Concatinating two string with no single character space b/w them\n",
        "var7 = \"with second string\"\n",
        "var6+var7"
      ]
    },
    {
      "cell_type": "code",
      "execution_count": null,
      "metadata": {
        "id": "JhbBZI3-ogTQ"
      },
      "outputs": [],
      "source": [
        "'''When replacing with comma b/w them\n",
        "it will create single character space b/w the string'''\n",
        "print(var6,var7)"
      ]
    },
    {
      "cell_type": "code",
      "execution_count": null,
      "metadata": {
        "id": "R0Xo1c1BogTQ"
      },
      "outputs": [],
      "source": [
        "# Finding type data types of variale.\n",
        "type(var1)\n"
      ]
    },
    {
      "cell_type": "code",
      "execution_count": null,
      "metadata": {
        "id": "UVOSDKDtogTR"
      },
      "outputs": [],
      "source": [
        "type(var2)"
      ]
    },
    {
      "cell_type": "code",
      "execution_count": null,
      "metadata": {
        "id": "6ThjfTn7ogTR"
      },
      "outputs": [],
      "source": [
        "type(var3)"
      ]
    },
    {
      "cell_type": "code",
      "execution_count": null,
      "metadata": {
        "id": "IvNLCdjHogTR"
      },
      "outputs": [],
      "source": [
        "type(var4)"
      ]
    },
    {
      "cell_type": "code",
      "execution_count": null,
      "metadata": {
        "id": "L828JxAEogTR"
      },
      "outputs": [],
      "source": [
        "type(var5)"
      ]
    },
    {
      "cell_type": "code",
      "execution_count": null,
      "metadata": {
        "id": "QtBNNa2bogTS"
      },
      "outputs": [],
      "source": [
        "type(var6)"
      ]
    },
    {
      "cell_type": "code",
      "execution_count": null,
      "metadata": {
        "id": "ctjT2k5irfFY"
      },
      "outputs": [],
      "source": [
        "#finding class of varriable type \n",
        "print(type(var6))"
      ]
    },
    {
      "cell_type": "code",
      "execution_count": null,
      "metadata": {
        "id": "EcoVnv1Msf-X"
      },
      "outputs": [],
      "source": [
        "#checking variable equality\n",
        "id(var1)==id(varr2)"
      ]
    },
    {
      "cell_type": "code",
      "execution_count": null,
      "metadata": {
        "id": "2l9p4nqJs9GV"
      },
      "outputs": [],
      "source": [
        "# finding index number in the string\n",
        "varrr3 = \"Pakistan\"\n",
        "varrr3.find('s') "
      ]
    },
    {
      "cell_type": "code",
      "execution_count": null,
      "metadata": {
        "id": "X-YRS6ONt42W"
      },
      "outputs": [],
      "source": [
        "# finding lenght of variable\n",
        "len(varr3)"
      ]
    },
    {
      "cell_type": "code",
      "execution_count": null,
      "metadata": {
        "id": "ry2wKfAnuJ1E"
      },
      "outputs": [],
      "source": [
        "# Concatinating two String\n",
        "name = \"pakistan\"\n",
        "dobyear = 1947\n",
        "\n",
        "print(\"my name is \"+name+\" and my birth year is \"+str(dobyear))"
      ]
    },
    {
      "cell_type": "code",
      "execution_count": null,
      "metadata": {
        "id": "SAE9OZc8vS_l"
      },
      "outputs": [],
      "source": [
        ""
      ]
    },
    {
      "cell_type": "markdown",
      "metadata": {
        "id": "vbXOZLSHogTS"
      },
      "source": [
        "# Arrays"
      ]
    },
    {
      "cell_type": "code",
      "execution_count": null,
      "metadata": {
        "id": "ydatz4tBogTS"
      },
      "outputs": [],
      "source": [
        "dishes = [\"Biryani\", \"Qourma\", \"meetha\"]\n",
        "dishes\n",
        "\n",
        "# dishes is the array variable and inside the bracket is its elements."
      ]
    },
    {
      "cell_type": "code",
      "execution_count": null,
      "metadata": {
        "id": "sdzWNwq-ogTS"
      },
      "outputs": [],
      "source": [
        "# Replacing a Value of element in an array.\n",
        "dishes[0] = \"Qabab\""
      ]
    },
    {
      "cell_type": "code",
      "execution_count": null,
      "metadata": {
        "id": "DHSueRBSogTS"
      },
      "outputs": [],
      "source": [
        "# calling a single element. \n",
        "x = dishes[0]\n",
        "x"
      ]
    },
    {
      "cell_type": "code",
      "execution_count": null,
      "metadata": {
        "id": "K8qpKRx0ogTT"
      },
      "outputs": [],
      "source": [
        "# Finding lenght of an array.\n",
        "len(dishes)"
      ]
    },
    {
      "cell_type": "code",
      "execution_count": null,
      "metadata": {
        "id": "VUJ6VxylogTT"
      },
      "outputs": [],
      "source": [
        "# Adding a new element in an array list.\n",
        "dishes.append(\"kheer\")\n",
        "dishes"
      ]
    },
    {
      "cell_type": "code",
      "execution_count": null,
      "metadata": {
        "id": "_GNA-yJCogTT"
      },
      "outputs": [],
      "source": [
        "# Deleting an element in an array by using index number.\n",
        "dishes.pop(2)\n",
        "dishes"
      ]
    },
    {
      "cell_type": "code",
      "execution_count": null,
      "metadata": {
        "id": "ZTCB8xOFogTT"
      },
      "outputs": [],
      "source": [
        "# Deleting an element in an array by using element name.\n",
        "dishes.remove(\"kheer\")\n",
        "dishes"
      ]
    },
    {
      "cell_type": "code",
      "execution_count": null,
      "metadata": {
        "id": "hrtODQgsogTU"
      },
      "outputs": [],
      "source": [
        "dishes"
      ]
    },
    {
      "cell_type": "code",
      "execution_count": null,
      "metadata": {
        "id": "Qql9gsSgogTU"
      },
      "outputs": [],
      "source": [
        "# Making new list by copying element form the old list.\n",
        "x = dishes.copy()\n",
        "x"
      ]
    },
    {
      "cell_type": "code",
      "execution_count": null,
      "metadata": {
        "id": "twW9-Wa3ogTU"
      },
      "outputs": [],
      "source": [
        "# Clear all element from of the list.\n",
        "x.clear()"
      ]
    },
    {
      "cell_type": "code",
      "execution_count": null,
      "metadata": {
        "id": "Q0iaDB6jogTU"
      },
      "outputs": [],
      "source": [
        "x"
      ]
    },
    {
      "cell_type": "code",
      "execution_count": null,
      "metadata": {
        "id": "HQbjwo7BogTU"
      },
      "outputs": [],
      "source": [
        "int_list = (1,2,3,4)\n",
        "int_list"
      ]
    },
    {
      "cell_type": "code",
      "execution_count": null,
      "metadata": {
        "id": "0dtmyOhGogTV"
      },
      "outputs": [],
      "source": [
        "# Adding new list to the old list(by adding separate elemnets).\n",
        "dishes.extend(int_list)"
      ]
    },
    {
      "cell_type": "code",
      "execution_count": null,
      "metadata": {
        "id": "8W0iw_iEogTV"
      },
      "outputs": [],
      "source": [
        "dishes"
      ]
    },
    {
      "cell_type": "code",
      "execution_count": null,
      "metadata": {
        "id": "FUP8FqUuogTV"
      },
      "outputs": [],
      "source": [
        "# Adding a new element into the list with specific index.\n",
        "dishes.insert(1,\"Chicken biryani\")"
      ]
    },
    {
      "cell_type": "code",
      "execution_count": null,
      "metadata": {
        "id": "livCSH_QogTV"
      },
      "outputs": [],
      "source": [
        "dishes"
      ]
    },
    {
      "cell_type": "code",
      "execution_count": null,
      "metadata": {
        "id": "WGP5_tlwogTV"
      },
      "outputs": [],
      "source": [
        "# Reversing a list\n",
        "dishes.reverse()"
      ]
    },
    {
      "cell_type": "code",
      "execution_count": null,
      "metadata": {
        "id": "-TvtkPTbogTV"
      },
      "outputs": [],
      "source": [
        "dishes"
      ]
    },
    {
      "cell_type": "code",
      "execution_count": null,
      "metadata": {
        "id": "WiLV1hecogTW"
      },
      "outputs": [],
      "source": [
        "# Another way of removing element.\n",
        "del dishes[0]\n",
        "dishes"
      ]
    },
    {
      "cell_type": "code",
      "execution_count": null,
      "metadata": {
        "id": "LDJaCIOlogTW"
      },
      "outputs": [],
      "source": [
        "# first Way of joining two list.\n",
        "list2 = [1,2,3,4]\n",
        "list3 = list2 + dishes\n",
        "print(list3)"
      ]
    },
    {
      "cell_type": "code",
      "execution_count": null,
      "metadata": {
        "id": "JL51tXqEqp7R"
      },
      "outputs": [],
      "source": [
        ""
      ]
    },
    {
      "cell_type": "markdown",
      "metadata": {
        "id": "mZgJtBufogTW"
      },
      "source": [
        "# Tuples"
      ]
    },
    {
      "cell_type": "markdown",
      "metadata": {
        "id": "ggM1BnaqogTW"
      },
      "source": [
        ""
      ]
    },
    {
      "cell_type": "code",
      "execution_count": null,
      "metadata": {
        "id": "Cugmuw1togTW"
      },
      "outputs": [],
      "source": [
        "tuple1 = (1,2,3)\n",
        "print(tuple1)"
      ]
    },
    {
      "cell_type": "code",
      "execution_count": null,
      "metadata": {
        "id": "Fi8ihjPdogTX"
      },
      "outputs": [],
      "source": [
        "tuple2 = (\"A\",\"B\",\"C\")\n",
        "tuple2"
      ]
    },
    {
      "cell_type": "code",
      "execution_count": null,
      "metadata": {
        "id": "9eVyP07vLgLj"
      },
      "outputs": [],
      "source": [
        "type(tuple1)"
      ]
    },
    {
      "cell_type": "code",
      "execution_count": null,
      "metadata": {
        "id": "2tvgJusaLr4b"
      },
      "outputs": [],
      "source": [
        "# convert list to tuple\n",
        "list_to_tuple = list(tuple1)\n",
        "list_to_tuple "
      ]
    },
    {
      "cell_type": "markdown",
      "metadata": {
        "id": "kY8f4TqxogTX"
      },
      "source": [
        "## Set\n",
        "A set is a collection which is unordered and unindexed"
      ]
    },
    {
      "cell_type": "code",
      "execution_count": null,
      "metadata": {
        "id": "Ar4GqFaaogTX"
      },
      "outputs": [],
      "source": [
        "varset = {\"how\", \"are\", \"you\"}\n",
        "print(varset)"
      ]
    },
    {
      "cell_type": "code",
      "execution_count": null,
      "metadata": {
        "id": "hm9vBqYvogTX"
      },
      "outputs": [],
      "source": [
        "# Checking condition.\n",
        "print(\"are\" in  varset)"
      ]
    },
    {
      "cell_type": "code",
      "execution_count": null,
      "metadata": {
        "id": "2aHJM6c2ogTX"
      },
      "outputs": [],
      "source": [
        "# Adding an item in the set.\n",
        "\n",
        "varset.add(\"world\")"
      ]
    },
    {
      "cell_type": "code",
      "execution_count": null,
      "metadata": {
        "id": "nL-JxjL3ogTY"
      },
      "outputs": [],
      "source": [
        "varset"
      ]
    },
    {
      "cell_type": "code",
      "execution_count": null,
      "metadata": {
        "id": "LNYMiZL0ogTY"
      },
      "outputs": [],
      "source": [
        "# Add multiple items to a set\n",
        "\n",
        "varset.update([\"I\",\"am\",\"fine\"])\n",
        "varset"
      ]
    },
    {
      "cell_type": "code",
      "execution_count": null,
      "metadata": {
        "id": "cBnZL7HWogTY"
      },
      "outputs": [],
      "source": [
        "# Removing item in the set.\n",
        "\"\"\"varset.remove(\"are\")\n",
        "varset\"\"\"\n",
        "# set does'nt support remove function."
      ]
    },
    {
      "cell_type": "code",
      "execution_count": null,
      "metadata": {
        "id": "q6hDYyMhogTY"
      },
      "outputs": [],
      "source": [
        "varset.discard(\"are\")\n",
        "varset"
      ]
    },
    {
      "cell_type": "markdown",
      "metadata": {
        "id": "5G1hzFrDogTY"
      },
      "source": [
        "# Dictionary\n",
        "A dictionary is a collection which is unordered, changeable and indexed.\n",
        "In Python dictionaries are written with curly brackets, and they have keys and values."
      ]
    },
    {
      "cell_type": "code",
      "execution_count": null,
      "metadata": {
        "id": "LLHMlnzBogTZ"
      },
      "outputs": [],
      "source": [
        "dict1 = {\"key\": \"Locker\", \"fruit\":\"apple\", \"mango\": \"Chausa\"}\n",
        "dict1"
      ]
    },
    {
      "cell_type": "code",
      "execution_count": null,
      "metadata": {
        "id": "eYpIGL8togTZ"
      },
      "outputs": [],
      "source": [
        "x = dict1[\"key\"]\n",
        "x"
      ]
    },
    {
      "cell_type": "code",
      "execution_count": null,
      "metadata": {
        "id": "CWjGJsfcogTZ"
      },
      "outputs": [],
      "source": [
        "x = dict1.get(\"key\")\n",
        "x"
      ]
    },
    {
      "cell_type": "code",
      "execution_count": null,
      "metadata": {
        "id": "6v6FPO-cogTZ"
      },
      "outputs": [],
      "source": [
        "#Another way of creating dictionaries.\n",
        "dict2 = dict(brand=\"Ford\", model=\"Mustang\", year=1964)\n",
        "dict2"
      ]
    },
    {
      "cell_type": "code",
      "execution_count": null,
      "metadata": {
        "id": "PCcdrv76ogTa"
      },
      "outputs": [],
      "source": [
        "# Assigning different value to the key.\n",
        "dict1[\"fruit\"] = \"Orange\""
      ]
    },
    {
      "cell_type": "code",
      "execution_count": null,
      "metadata": {
        "id": "UoYba389ogTa"
      },
      "outputs": [],
      "source": [
        "dict1"
      ]
    },
    {
      "cell_type": "code",
      "execution_count": null,
      "metadata": {
        "id": "eDGswgqjogTa"
      },
      "outputs": [],
      "source": [
        "# Adding item in the dictionary.\n",
        "dict1"
      ]
    },
    {
      "cell_type": "code",
      "execution_count": null,
      "metadata": {
        "id": "MIBFczYKogTa"
      },
      "outputs": [],
      "source": [
        "dict1[\"colour\"] = \"Red\""
      ]
    },
    {
      "cell_type": "code",
      "execution_count": null,
      "metadata": {
        "id": "38iRoujpogTa"
      },
      "outputs": [],
      "source": [
        "dict1"
      ]
    },
    {
      "cell_type": "code",
      "execution_count": null,
      "metadata": {
        "id": "I9f1vbUPogTa"
      },
      "outputs": [],
      "source": [
        "# Removing item with the specific key name in the dictionary.\n",
        "dict1.pop(\"key\")"
      ]
    },
    {
      "cell_type": "code",
      "execution_count": null,
      "metadata": {
        "id": "owCIUgxDogTb"
      },
      "outputs": [],
      "source": [
        "dict1\n",
        "# Another wayof removing item by del keyword."
      ]
    },
    {
      "cell_type": "markdown",
      "metadata": {
        "id": "RSqRzPx0ogTb"
      },
      "source": [
        "### Nested dictionary"
      ]
    },
    {
      "cell_type": "code",
      "execution_count": null,
      "metadata": {
        "id": "IRy1LW-hogTb"
      },
      "outputs": [],
      "source": [
        "Courses = {\n",
        "  \"course1\" : {\n",
        "    \"name\" : \"OS\",\n",
        "    \"year\" : 2019\n",
        "  },\n",
        "  \"course2\" : {\n",
        "    \"name\" : \"WE\",\n",
        "    \"year\" : 2019\n",
        "  },\n",
        "  \"course3\" : {\n",
        "    \"name\" : \"DBMS\",\n",
        "    \"year\" : 2019\n",
        "  }\n",
        "}\n",
        "Courses"
      ]
    },
    {
      "cell_type": "code",
      "execution_count": null,
      "metadata": {
        "id": "_w_OtbdvogTb"
      },
      "outputs": [],
      "source": [
        "# Another way of nesting a dictionaries.\n",
        "course1 = {\n",
        "    \"name\" : \"OS\",\n",
        "    \"year\" : 2019\n",
        "  }\n",
        "course2 = {\n",
        "    \"name\" : \"WE\",\n",
        "    \"year\" : 2019\n",
        "  }\n",
        "course3 = {\n",
        "    \"name\" : \"DBMS\",\n",
        "    \"year\" : 2019\n",
        "  }\n",
        "Course = {\n",
        "    \"mycourse1\": course1,\n",
        "    \"mycourse2\": course2,\n",
        "}\n",
        "Course"
      ]
    },
    {
      "cell_type": "markdown",
      "metadata": {
        "id": "aI20-HRXogTc"
      },
      "source": [
        "# (Conditions)"
      ]
    },
    {
      "cell_type": "markdown",
      "metadata": {
        "id": "f4gYiHy1ogTc"
      },
      "source": [
        "### if else"
      ]
    },
    {
      "cell_type": "code",
      "execution_count": null,
      "metadata": {
        "id": "nPaBjEcWogTc"
      },
      "outputs": [],
      "source": [
        "a = 55\n",
        "b = 44\n",
        "if b < a:\n",
        "    print(\"a is greater than  b\")\n",
        "else:\n",
        "    print(\"b is greater than a\")"
      ]
    },
    {
      "cell_type": "markdown",
      "metadata": {
        "id": "9LBUZR_3ogTc"
      },
      "source": [
        "### Elif"
      ]
    },
    {
      "cell_type": "code",
      "execution_count": null,
      "metadata": {
        "id": "lXu-hm8kogTc"
      },
      "outputs": [],
      "source": [
        "a = 65\n",
        "b = 78\n",
        "if a > b:\n",
        "    print(\"a is greater than b \")\n",
        "elif b > a:\n",
        "    print(\"b is greater than a \")\n",
        "else:\n",
        "    print(\"Nothing to show u\")"
      ]
    },
    {
      "cell_type": "markdown",
      "metadata": {
        "id": "B4TIbP5_ogTc"
      },
      "source": [
        "### short cut if else"
      ]
    },
    {
      "cell_type": "code",
      "execution_count": null,
      "metadata": {
        "id": "xhIPKZK7ogTd"
      },
      "outputs": [],
      "source": [
        "a = 3\n",
        "b = 2\n",
        "print(\"a is greater than b \") if a > b else print(\"b is greater than a \")"
      ]
    },
    {
      "cell_type": "markdown",
      "metadata": {
        "id": "1_jeHfxAogTd"
      },
      "source": [
        "### short Three condition at an time"
      ]
    },
    {
      "cell_type": "code",
      "execution_count": null,
      "metadata": {
        "id": "bwFRBSmsogTd"
      },
      "outputs": [],
      "source": [
        "a = 330\n",
        "b = 330\n",
        "#(first condition)  (---second condition---)  (third condition)       \n",
        "print(\"A\") if a > b else print(\"=\") if a == b else print(\"B\")"
      ]
    },
    {
      "cell_type": "markdown",
      "metadata": {
        "id": "PtUJgcRzogTd"
      },
      "source": [
        "### And"
      ]
    },
    {
      "cell_type": "code",
      "execution_count": null,
      "metadata": {
        "id": "sWbI8hR8ogTd"
      },
      "outputs": [],
      "source": [
        "a = 1\n",
        "b = 2\n",
        "c = 3\n",
        "if c > b and b > a:\n",
        "    print(\"Condition satisfied\")\n",
        "else:\n",
        "    print(\"Not satisfied\")"
      ]
    },
    {
      "cell_type": "markdown",
      "metadata": {
        "id": "Ho2uSnSRogTe"
      },
      "source": [
        "### Or"
      ]
    },
    {
      "cell_type": "code",
      "execution_count": null,
      "metadata": {
        "id": "kE7bIQcCogTe"
      },
      "outputs": [],
      "source": [
        "a = 1\n",
        "b = 2\n",
        "c = 3\n",
        "if c > b or b > a or c > a:\n",
        "    print(\"Condition satisfied\")\n",
        "else:\n",
        "    print(\"Not satisfied\")"
      ]
    },
    {
      "cell_type": "markdown",
      "metadata": {
        "id": "hMyWT2-IogTe"
      },
      "source": [
        "## Nested if-else"
      ]
    },
    {
      "cell_type": "code",
      "execution_count": null,
      "metadata": {
        "id": "9AZRnhEuogTe"
      },
      "outputs": [],
      "source": [
        "a = 100\n",
        "if a > 40:\n",
        "    if a > 90:\n",
        "        print(a)\n",
        "else:\n",
        "    print(\"a is not valid\")\n"
      ]
    },
    {
      "cell_type": "markdown",
      "metadata": {
        "id": "yPdmOnX2ogTe"
      },
      "source": [
        "# while loop"
      ]
    },
    {
      "cell_type": "code",
      "execution_count": null,
      "metadata": {
        "id": "ahas61W7ogTf"
      },
      "outputs": [],
      "source": [
        "# Generating number from 1-10 using while loop.\n",
        "i = 1\n",
        "while i < 11:\n",
        "    print(i)\n",
        "    i+= 1"
      ]
    },
    {
      "cell_type": "code",
      "execution_count": null,
      "metadata": {
        "id": "4ers-mhSogTf"
      },
      "outputs": [],
      "source": [
        "# Using break staement in while loop.\n",
        "i = 1\n",
        "while i < 11:\n",
        "    i+= 1\n",
        "    if i == 5:\n",
        "        break\n",
        "    print(i)"
      ]
    },
    {
      "cell_type": "code",
      "execution_count": null,
      "metadata": {
        "id": "yo75IZrqogTf"
      },
      "outputs": [],
      "source": [
        "# Using continue staement in while loop.\n",
        "i = 1\n",
        "while i < 11:\n",
        "    i+= 1\n",
        "    if i == 5:\n",
        "        continue\n",
        "    print(i)"
      ]
    },
    {
      "cell_type": "markdown",
      "metadata": {
        "id": "cgKd6JrGogTg"
      },
      "source": [
        "# For Loop"
      ]
    },
    {
      "cell_type": "code",
      "execution_count": null,
      "metadata": {
        "id": "TvKk2RlYw0JB"
      },
      "outputs": [],
      "source": [
        "#working with basic loop\n",
        "\n",
        "for a in range(5):\n",
        "  #indent\n",
        "  print(a, \"Usama\")"
      ]
    },
    {
      "cell_type": "code",
      "execution_count": null,
      "metadata": {
        "id": "LHC1SseHxpNR"
      },
      "outputs": [],
      "source": [
        "#printing single charaacter fromstrijg\n",
        "for char in \"pakistanzindabad\":\n",
        "  print(char.upper())"
      ]
    },
    {
      "cell_type": "code",
      "execution_count": null,
      "metadata": {
        "id": "ByCRG12cyGwJ"
      },
      "outputs": [],
      "source": [
        "#printing single charaacter fromstrijg\n",
        "for char in \"pakistanzindabad\":\n",
        "  print(char.upper(), end=\"\")"
      ]
    },
    {
      "cell_type": "code",
      "execution_count": null,
      "metadata": {
        "id": "zAQQqN4UyJc5"
      },
      "outputs": [],
      "source": [
        "# printing list from loop.\n",
        "for student in [\"usama\", \"rameez\", \"ali\", \"ather\"]:\n",
        "  print(f\"the name of the stuidnetg is {student}\")"
      ]
    },
    {
      "cell_type": "code",
      "execution_count": null,
      "metadata": {
        "id": "CMqsuY-syp9Y"
      },
      "outputs": [],
      "source": [
        "# printing form specefic range\n",
        "for num in range(1,10):\n",
        "  print(num)"
      ]
    },
    {
      "cell_type": "code",
      "execution_count": null,
      "metadata": {
        "id": "o5Kr-49Py1cw"
      },
      "outputs": [],
      "source": [
        "# printing number form specefic range with step\n",
        "for num in range(1,10,2):\n",
        "  print(num)"
      ]
    },
    {
      "cell_type": "code",
      "execution_count": null,
      "metadata": {
        "id": "4u3ciAFAzE-g"
      },
      "outputs": [],
      "source": [
        "# printing number form specefic range with step in reverse order\n",
        "for num in range(10,0,-1):\n",
        "  print(num)"
      ]
    },
    {
      "cell_type": "code",
      "execution_count": null,
      "metadata": {
        "id": "sFiR5OE8zlUn"
      },
      "outputs": [],
      "source": [
        "# printing nam eiht other string\n",
        "student_list  = [\"usama\", \"rameez\", \"ali\", \"ather\"]\n"
      ]
    },
    {
      "cell_type": "code",
      "execution_count": null,
      "metadata": {
        "id": "3rXQzcwDzU2m"
      },
      "outputs": [],
      "source": [
        "for i in student_list:\n",
        "  print(i, \"pakistani\")"
      ]
    },
    {
      "cell_type": "code",
      "execution_count": null,
      "metadata": {
        "id": "8k1tERXH2cAu"
      },
      "outputs": [],
      "source": [
        ""
      ]
    },
    {
      "cell_type": "code",
      "execution_count": null,
      "metadata": {
        "id": "orzcDcJF09_m"
      },
      "outputs": [],
      "source": [
        "emptylist = []\n",
        "for i in student_list:\n",
        "  emptylist.append(f\"{i} pakistani\")"
      ]
    },
    {
      "cell_type": "code",
      "execution_count": null,
      "metadata": {
        "id": "L8N6tPHU2EQt"
      },
      "outputs": [],
      "source": [
        "print(emptylist)"
      ]
    },
    {
      "cell_type": "code",
      "execution_count": null,
      "metadata": {
        "id": "oR0hiKOA3q-c"
      },
      "outputs": [],
      "source": [
        "#changing string data\n",
        "for num in range(len(student_list)):\n",
        "  student_list[num] = student_list[num] + \" pakistani\"\n",
        "student_list"
      ]
    },
    {
      "cell_type": "code",
      "execution_count": null,
      "metadata": {
        "id": "nFCFEGw74knr"
      },
      "outputs": [],
      "source": [
        ""
      ]
    },
    {
      "cell_type": "code",
      "execution_count": null,
      "metadata": {
        "id": "2MuW1332xj6o"
      },
      "outputs": [],
      "source": [
        "# here  we have list,set, and dictionary\n",
        "#list3,varset,dict1"
      ]
    },
    {
      "cell_type": "code",
      "execution_count": null,
      "metadata": {
        "id": "xi9DbcQlogTg"
      },
      "outputs": [],
      "source": [
        "     # set   ,list, dictionary \n",
        "print(varset ,list3,  dict1)"
      ]
    },
    {
      "cell_type": "code",
      "execution_count": null,
      "metadata": {
        "id": "wlbW6J4XogTg"
      },
      "outputs": [],
      "source": [
        "# Applying for loop to list.\n",
        "for i in list3:\n",
        "    print(i)"
      ]
    },
    {
      "cell_type": "code",
      "execution_count": null,
      "metadata": {
        "id": "r5a8N3ZQogTg"
      },
      "outputs": [],
      "source": [
        "# Applying for loop to set.\n",
        "for i in varset:\n",
        "    print(i)"
      ]
    },
    {
      "cell_type": "code",
      "execution_count": null,
      "metadata": {
        "id": "aOcmtTdLogTh"
      },
      "outputs": [],
      "source": [
        "# Applying for loop to dictionary(will print only keys).\n",
        "for i in dict1:\n",
        "    print(i)"
      ]
    },
    {
      "cell_type": "code",
      "execution_count": null,
      "metadata": {
        "id": "v8aL4IabogTh"
      },
      "outputs": [],
      "source": [
        "# For accessing values of key (using for loop).\n",
        "for i in dict1.values():\n",
        "    print(i)"
      ]
    },
    {
      "cell_type": "code",
      "execution_count": null,
      "metadata": {
        "id": "VbWYxwjiogTh"
      },
      "outputs": [],
      "source": [
        "# For accessing both keys and values of dictionary(using for loop).\n",
        "for k,v in dict1.items():\n",
        "    print(k,v)"
      ]
    },
    {
      "cell_type": "code",
      "execution_count": null,
      "metadata": {
        "id": "koCYm5qKogTh"
      },
      "outputs": [],
      "source": [
        "\n",
        "varset"
      ]
    },
    {
      "cell_type": "code",
      "execution_count": null,
      "metadata": {
        "id": "j6S_BW7fogTi"
      },
      "outputs": [],
      "source": [
        "# using break statement in for loop.\n",
        "for i in varset:\n",
        "    \n",
        "    if i == \"how\":\n",
        "        break\n",
        "    print(i)"
      ]
    },
    {
      "cell_type": "code",
      "execution_count": null,
      "metadata": {
        "id": "3jzGAr4kogTi"
      },
      "outputs": [],
      "source": [
        "# Using continue statement in for loop.\n",
        "for i in varset:\n",
        "    if i == \"how\":\n",
        "        continue\n",
        "    print(i)\n",
        "# it prints all elements except \"how\"."
      ]
    },
    {
      "cell_type": "code",
      "execution_count": null,
      "metadata": {
        "id": "MhLgtTrGxrL5"
      },
      "outputs": [],
      "source": [
        "#Write a program which will find all such numbers which are divisible by 7 but are not a multiple of 5,\n",
        "#between 2000 and 3200 (both included).\n",
        "#The numbers obtained should be printed in a comma-separated sequence on a single line.\n",
        "\n",
        "for num in range(2000, 3201):\n",
        "  if(num%7 == 0):\n",
        "    if(num%5 != 0):\n",
        "      print(num, end=',')\n"
      ]
    },
    {
      "cell_type": "markdown",
      "metadata": {
        "id": "urJorn4aogTi"
      },
      "source": [
        "### range() function in for loop."
      ]
    },
    {
      "cell_type": "code",
      "execution_count": null,
      "metadata": {
        "id": "tprWf6uSogTj"
      },
      "outputs": [],
      "source": [
        "for x in range(5):\n",
        "    print(x)"
      ]
    },
    {
      "cell_type": "code",
      "execution_count": null,
      "metadata": {
        "id": "6O6tgHvUogTj"
      },
      "outputs": [],
      "source": [
        "# By assigning starting number to the range function.\n",
        "for x in range(2,10):\n",
        "    print(x)"
      ]
    },
    {
      "cell_type": "code",
      "execution_count": null,
      "metadata": {
        "id": "uctMbvdMogTj"
      },
      "outputs": [],
      "source": [
        "# Incrementing in the sequence with 1.\n",
        "for x in range(2,10,2):\n",
        "    print(x)"
      ]
    },
    {
      "cell_type": "markdown",
      "metadata": {
        "id": "Y4yBcBPNogTj"
      },
      "source": [
        "### Using nested loop."
      ]
    },
    {
      "cell_type": "code",
      "execution_count": null,
      "metadata": {
        "id": "ov4nIpN0ogTj"
      },
      "outputs": [],
      "source": [
        "lis1 = ['a','b','c','d']\n",
        "lis2 = [1,2,3,4]\n",
        "for i in lis1:\n",
        "    for j in lis2:\n",
        "        print(i,j)"
      ]
    },
    {
      "cell_type": "markdown",
      "metadata": {
        "id": "MWkkoxiGogTk"
      },
      "source": [
        "# Function in python"
      ]
    },
    {
      "cell_type": "code",
      "execution_count": null,
      "metadata": {
        "id": "7yz0NDhRogTk"
      },
      "outputs": [],
      "source": [
        "def function1():\n",
        "    print(\"This is my first function\")\n",
        "function1()"
      ]
    },
    {
      "cell_type": "code",
      "execution_count": null,
      "metadata": {
        "id": "12b3Uml_h7yl"
      },
      "outputs": [],
      "source": [
        "#function defininion\n",
        "def call():\n",
        "  name = input(\"Enter Your name: \")\n",
        "  print(f\"Welcome {name}\")"
      ]
    },
    {
      "cell_type": "code",
      "execution_count": null,
      "metadata": {
        "id": "TmHqpPmMiWDr"
      },
      "outputs": [],
      "source": [
        "call()"
      ]
    },
    {
      "cell_type": "code",
      "execution_count": null,
      "metadata": {
        "id": "KnIHXufkjNWc"
      },
      "outputs": [],
      "source": [
        "#function defininion\n",
        "def call():\n",
        "  name = input(\"Enter Your name: \")\n",
        "  gender = input(\"Enter gender:\").lower()\n",
        "  if(gender == 'male'):\n",
        "    print(f\"Welcome Mr. {name}\")\n",
        "  else:\n",
        "    print(f\"Welcome Ms. {name}\")"
      ]
    },
    {
      "cell_type": "code",
      "execution_count": null,
      "metadata": {
        "id": "9_xMwAaXj7N8"
      },
      "outputs": [],
      "source": [
        "call()"
      ]
    },
    {
      "cell_type": "code",
      "execution_count": null,
      "metadata": {
        "id": "r2LR5coEkqFf"
      },
      "outputs": [],
      "source": [
        "#trick 01\n",
        "list1 = []\n",
        "def even_odd_func():\n",
        "  num1 = 0\n",
        "  flag = True\n",
        "  while(flag):\n",
        "    num = input(\"Enter number/ write 'q' to exit\")\n",
        "    list1.append(num)\n",
        "    if(num == 'q'):\n",
        "      if(int(list1[-2]) % 2 == 0):\n",
        "        print(\"your number is even\")\n",
        "      else :\n",
        "        print(\"your number is odd\")  \n",
        "      flag = False\n"
      ]
    },
    {
      "cell_type": "code",
      "execution_count": null,
      "metadata": {
        "id": "SOjPhwFck8T4"
      },
      "outputs": [],
      "source": [
        "even_odd_func()"
      ]
    },
    {
      "cell_type": "code",
      "execution_count": null,
      "metadata": {
        "id": "CYDrgO5fuN5W"
      },
      "outputs": [],
      "source": [
        "#trick 02\n",
        "def even_odd_func():\n",
        "  while(True):\n",
        "    num = input(\"Enter number/ write 'q' to exit\")\n",
        "    if(num != 'q'):\n",
        "      if(int(num) % 2 == 0):\n",
        "        print(\"your number is even\")\n",
        "      else :\n",
        "        print(\"your number is odd\")  \n",
        "    else:\n",
        "      break\n"
      ]
    },
    {
      "cell_type": "code",
      "execution_count": null,
      "metadata": {
        "id": "3_yrVn-Iufsd"
      },
      "outputs": [],
      "source": [
        "even_odd_func()"
      ]
    },
    {
      "cell_type": "code",
      "execution_count": null,
      "metadata": {
        "id": "wRu8b_jMu08x"
      },
      "outputs": [],
      "source": [
        ""
      ]
    },
    {
      "cell_type": "code",
      "execution_count": null,
      "metadata": {
        "id": "KdqcRHsXogTk"
      },
      "outputs": [],
      "source": [
        "# Parametric function.\n",
        "def function2(var):\n",
        "    print(var)\n",
        "function2(\"This is the second function\")\n",
        "function2(\"And it is a parametric function.\")"
      ]
    },
    {
      "cell_type": "code",
      "execution_count": null,
      "metadata": {
        "id": "dV0texmOogTk"
      },
      "outputs": [],
      "source": [
        "# Taking multiple argument to the function.\n",
        "def function3(name_var, your_name):\n",
        "    print(name_var + \": \" + your_name)\n",
        "function3(\"Name\",\"Jack\")\n",
        "function3(\"Father Name\",\"Jonson\")"
      ]
    },
    {
      "cell_type": "markdown",
      "metadata": {
        "id": "FNB45QWGogTl"
      },
      "source": [
        "# Arbitrary Arguments, *args\n",
        "\n",
        "If you do not know how many arguments that will be passed into your function, add a * before the parameter name in the function definition.\n",
        "\n",
        "This way the function will receive a tuple of arguments, and can access the items accordingly:"
      ]
    },
    {
      "cell_type": "code",
      "execution_count": null,
      "metadata": {
        "id": "iSaC08b9ogTl"
      },
      "outputs": [],
      "source": [
        "def function4(*var):\n",
        "        print(var, end = '')\n",
        "function4(\"orange\", \"mango\")"
      ]
    },
    {
      "cell_type": "markdown",
      "metadata": {
        "id": "456-w5EpogTl"
      },
      "source": [
        "## Default parameter value."
      ]
    },
    {
      "cell_type": "code",
      "execution_count": null,
      "metadata": {
        "id": "cVnC_roiogTl"
      },
      "outputs": [],
      "source": [
        "def func(var = \"newyork\"):\n",
        "    print(\"You are in\",var)\n",
        "func()\n",
        "func(\"london\")\n",
        "func(\"paris\")"
      ]
    },
    {
      "cell_type": "markdown",
      "metadata": {
        "id": "xHTVtAuvogTl"
      },
      "source": [
        "## Passing a List as an Argument"
      ]
    },
    {
      "cell_type": "code",
      "execution_count": null,
      "metadata": {
        "id": "NUeijXnqogTl"
      },
      "outputs": [],
      "source": [
        "\n",
        "def my_function(food):\n",
        "    for x in food:\n",
        "        print(x)\n",
        "\n",
        "fruits = [\"apple\", \"banana\", \"cherry\"]\n",
        "\n",
        "my_function(fruits)"
      ]
    },
    {
      "cell_type": "markdown",
      "metadata": {
        "id": "A5wjEVfLogTm"
      },
      "source": [
        "## Using return keword to return value."
      ]
    },
    {
      "cell_type": "code",
      "execution_count": null,
      "metadata": {
        "id": "sHr3geYgogTm"
      },
      "outputs": [],
      "source": [
        "# Function that return the square of number.\n",
        "def retun(x):\n",
        "    return x*x\n",
        "var = 3\n",
        "print(\"The square of\",var,\"is\",retun(var))"
      ]
    },
    {
      "cell_type": "markdown",
      "metadata": {
        "id": "m9ITm0QJogTm"
      },
      "source": [
        "## Recursion function"
      ]
    },
    {
      "cell_type": "code",
      "execution_count": null,
      "metadata": {
        "id": "01TiiSrZogTm"
      },
      "outputs": [],
      "source": [
        "def tri_recursion(k):\n",
        "    if(k>0):\n",
        "        result = k+tri_recursion(k-1)\n",
        "        print(result)\n",
        "    else:\n",
        "        result = 0\n",
        "    return result\n",
        "\n",
        "print(\"\\n\\nRecursion Example Results\")\n",
        "tri_recursion(6)"
      ]
    },
    {
      "cell_type": "markdown",
      "metadata": {
        "id": "BzyH1gdYogTm"
      },
      "source": [
        "# Classes & Objects"
      ]
    },
    {
      "cell_type": "code",
      "execution_count": null,
      "metadata": {
        "id": "kWytAoFwogTm"
      },
      "outputs": [],
      "source": [
        "class first:\n",
        "    x = 5\n",
        "\n",
        "obj = first()\n",
        "print(obj.x)"
      ]
    },
    {
      "cell_type": "markdown",
      "metadata": {
        "id": "mu3IpCGrogTn"
      },
      "source": [
        "### Working with constructor of class and creating varaible"
      ]
    },
    {
      "cell_type": "code",
      "execution_count": null,
      "metadata": {
        "id": "K2jLqddwogTn"
      },
      "outputs": [],
      "source": [
        "class fruit:\n",
        "    def __init__(self, fname, catagory):\n",
        "        self.fname = fname\n",
        "        self.catagory = catagory\n",
        "obj1 = fruit(\"Orange\", \"Citrus\")\n",
        "print(obj1.fname, \"is the\", obj1.catagory, \"catagory\")"
      ]
    },
    {
      "cell_type": "markdown",
      "metadata": {
        "id": "uqty68eVogTn"
      },
      "source": [
        "### Creating Method "
      ]
    },
    {
      "cell_type": "code",
      "execution_count": null,
      "metadata": {
        "id": "RuvJqKpYogTn"
      },
      "outputs": [],
      "source": [
        "class fruit:\n",
        "    def __init__(self, fname, catagory):\n",
        "        self.fname = fname\n",
        "        self.catagory = catagory\n",
        "    def func1(self):\n",
        "        print(\"your fruit is\"+self.fname)\n",
        "        \n",
        "obj2 = fruit(\"Orange\", \"Citrus\")\n",
        "print(obj2.func1())"
      ]
    },
    {
      "cell_type": "markdown",
      "metadata": {
        "id": "OZFIyC5hogTn"
      },
      "source": [
        "#### The self Parameter\n",
        "The self parameter is a reference to the current instance of the class, and is used to access variables that belongs to the class.\n",
        "\n",
        "It does not have to be named self , you can call it whatever you like, but it has to be the first parameter of any function in the class"
      ]
    },
    {
      "cell_type": "markdown",
      "metadata": {
        "id": "WKD-m9BhogTo"
      },
      "source": [
        "# Inheritance in python"
      ]
    },
    {
      "cell_type": "code",
      "execution_count": null,
      "metadata": {
        "id": "0ubIchvgogTo"
      },
      "outputs": [],
      "source": [
        "# Creating parent class\n",
        "\n",
        "class parent:\n",
        "    def __init__(self, fname, rollno):\n",
        "        self.firstname = fname;\n",
        "        self.rollNumber = rollno;\n",
        "    def printName(self):\n",
        "        print('My name is',self.firstname,'\\nand Roll number is: ',self.rollNumber);\n",
        "        \n",
        "        \n",
        "obj = parent('Usama', 2103102);\n",
        "obj.printName();\n",
        "\n",
        "        "
      ]
    },
    {
      "cell_type": "code",
      "execution_count": null,
      "metadata": {
        "id": "6VM2KQ_IogTo"
      },
      "outputs": [],
      "source": [
        "#inheriting parent class to child class.\n",
        "class child(parent):\n",
        "    pass\n",
        "\n",
        "obj = child('Usama', 4802292); # Accesing parent class method.\n",
        "obj.printName();"
      ]
    },
    {
      "cell_type": "markdown",
      "metadata": {
        "id": "2RKFTc-_ogTo"
      },
      "source": [
        "# Working with RegEx(regular expression)"
      ]
    },
    {
      "cell_type": "code",
      "execution_count": null,
      "metadata": {
        "id": "QJkWxVjYogTp"
      },
      "outputs": [],
      "source": [
        "# RegEx can be used to check if a string contains the specified search pattern.\n",
        "\n",
        "import re"
      ]
    },
    {
      "cell_type": "markdown",
      "metadata": {
        "id": "BJ6pLM2-ogTp"
      },
      "source": [
        "## checking for string which start from \"the\" and end with \"ing\""
      ]
    },
    {
      "cell_type": "code",
      "execution_count": null,
      "metadata": {
        "id": "SIlzb9JIogTp"
      },
      "outputs": [],
      "source": [
        "string = \"The pthon programming\";\n",
        "x = re.search(\"^The.*ing$\", string)\n",
        "if(x):\n",
        "    print(\"working\")\n",
        "else:\n",
        "    print(\"not working\")"
      ]
    },
    {
      "cell_type": "markdown",
      "metadata": {
        "id": "Ifnv_S8SogTp"
      },
      "source": [
        "# Find a charater or string in whole string and save the the character in a list"
      ]
    },
    {
      "cell_type": "code",
      "execution_count": null,
      "metadata": {
        "id": "OT7p8MtKogTp"
      },
      "outputs": [],
      "source": [
        "a = re.findall(\"o\", string)\n",
        "print(a)"
      ]
    },
    {
      "cell_type": "markdown",
      "metadata": {
        "id": "rYoxs7a2ogTq"
      },
      "source": [
        "# The finding number of spaces in an string."
      ]
    },
    {
      "cell_type": "code",
      "execution_count": null,
      "metadata": {
        "id": "ri7tJOVAogTq"
      },
      "outputs": [],
      "source": [
        "s = re.search(\"\\s\",string)\n",
        "print(s.start())"
      ]
    },
    {
      "cell_type": "markdown",
      "metadata": {
        "id": "S9TA2UAdogTq"
      },
      "source": [
        "# Seperate string into words"
      ]
    },
    {
      "cell_type": "code",
      "execution_count": null,
      "metadata": {
        "id": "chn9EsLbogTq"
      },
      "outputs": [],
      "source": [
        "w = re.split(\"\\s\", string)\n",
        "print(w)"
      ]
    },
    {
      "cell_type": "markdown",
      "metadata": {
        "id": "6Fx5sUbVogTq"
      },
      "source": [
        "# Replacing the character/text with the text of your choice"
      ]
    },
    {
      "cell_type": "code",
      "execution_count": null,
      "metadata": {
        "id": "sw7y7lFFNXkU"
      },
      "outputs": [],
      "source": [
        ""
      ]
    },
    {
      "cell_type": "code",
      "execution_count": null,
      "metadata": {
        "id": "scqI-gCSogTq"
      },
      "outputs": [],
      "source": [
        "r = re.sub(\"\\s\",\"----\", string)\n",
        "print(r)"
      ]
    },
    {
      "cell_type": "code",
      "execution_count": null,
      "metadata": {
        "id": "GPrfFRSAogTr"
      },
      "outputs": [],
      "source": [
        ""
      ]
    },
    {
      "cell_type": "code",
      "execution_count": null,
      "metadata": {
        "id": "GXZRiOVTNYyh"
      },
      "outputs": [],
      "source": [
        ""
      ]
    },
    {
      "cell_type": "markdown",
      "metadata": {
        "id": "_icuOHbsNdcH"
      },
      "source": [
        "# Dictionary comprihension\n"
      ]
    },
    {
      "cell_type": "code",
      "execution_count": null,
      "metadata": {
        "id": "jtwK6fWFNmiz"
      },
      "outputs": [],
      "source": [
        "oldPrice = {'buiryani': 150, 'tikka': 300, 'Fish': 400,'cold':200}"
      ]
    },
    {
      "cell_type": "code",
      "execution_count": null,
      "metadata": {
        "id": "9mkox0azOOD8"
      },
      "outputs": [],
      "source": [
        "new_price = {item: (price/160) for item,price in oldPrice.items()}"
      ]
    },
    {
      "cell_type": "code",
      "execution_count": null,
      "metadata": {
        "id": "HyvuMxFeOwwR"
      },
      "outputs": [],
      "source": [
        "new_price"
      ]
    },
    {
      "cell_type": "code",
      "execution_count": null,
      "metadata": {
        "id": "p0OAJ_ExPN27"
      },
      "outputs": [],
      "source": [
        "new_price = {item: round(price/160,2) for item,price in oldPrice.items()}"
      ]
    },
    {
      "cell_type": "code",
      "execution_count": null,
      "metadata": {
        "id": "Ap--FyeSPdgb"
      },
      "outputs": [],
      "source": [
        "new_price"
      ]
    },
    {
      "cell_type": "code",
      "execution_count": null,
      "metadata": {
        "id": "2m6hCD6cPeIE"
      },
      "outputs": [],
      "source": [
        "#using math library\n",
        "import math"
      ]
    },
    {
      "cell_type": "code",
      "execution_count": null,
      "metadata": {
        "id": "CwtHQd_yQIdN"
      },
      "outputs": [],
      "source": [
        "math.floor(12.66)"
      ]
    },
    {
      "cell_type": "code",
      "execution_count": null,
      "metadata": {
        "id": "QxehGsmSQSIE"
      },
      "outputs": [],
      "source": [
        "math.ceil(12.77)"
      ]
    },
    {
      "cell_type": "code",
      "execution_count": null,
      "metadata": {
        "id": "tAIPVOnMQlM8"
      },
      "outputs": [],
      "source": [
        "new_price = {item: math.ceil(price/160) for item,price in oldPrice.items()}"
      ]
    },
    {
      "cell_type": "code",
      "execution_count": null,
      "metadata": {
        "id": "ZxA3K_vJRIkT"
      },
      "outputs": [],
      "source": [
        "new_price"
      ]
    },
    {
      "cell_type": "code",
      "execution_count": null,
      "metadata": {
        "id": "UOCyXnQARMBD"
      },
      "outputs": [],
      "source": [
        "new_price_in_dollar = {item: (price/160) for item,price in oldPrice.items()}"
      ]
    },
    {
      "cell_type": "code",
      "execution_count": null,
      "metadata": {
        "id": "5EW_xiVtS7fY"
      },
      "outputs": [],
      "source": [
        "new_price_in_dollar"
      ]
    },
    {
      "cell_type": "code",
      "execution_count": null,
      "metadata": {
        "id": "PFRl1S_yZyVY"
      },
      "outputs": [],
      "source": [
        "updat_price = {item: (price/160) for item,price in oldPrice.items()}\n"
      ]
    },
    {
      "cell_type": "code",
      "execution_count": null,
      "metadata": {
        "id": "cC7F6bvAT0W1"
      },
      "outputs": [],
      "source": [
        "updated_price"
      ]
    },
    {
      "cell_type": "code",
      "execution_count": null,
      "metadata": {
        "id": "Yp6odTLtT-_V"
      },
      "outputs": [],
      "source": [
        "# Question: : Make a dictionary containing three major rivers and the country\n",
        "#each river runs through. One key-value pair might be 'nile': 'egypt'."
      ]
    },
    {
      "cell_type": "code",
      "execution_count": null,
      "metadata": {
        "id": "0xVC8137a3LH"
      },
      "outputs": [],
      "source": [
        "rivers = {'nile': 'egypt', 'indus': 'Pakistan', 'liao': 'china'}"
      ]
    },
    {
      "cell_type": "code",
      "execution_count": null,
      "metadata": {
        "id": "7-FEiv0NbOIX"
      },
      "outputs": [],
      "source": [
        "#Use a loop to print a sentence about each river, such as The Nile runs through Egypt.\n",
        "for key,val in rivers.items():\n",
        "   print(f\"The {key} runs through {val}\")"
      ]
    },
    {
      "cell_type": "code",
      "execution_count": null,
      "metadata": {
        "id": "PuSLSEBfbcYe"
      },
      "outputs": [],
      "source": [
        "#Use a loop to print the name of each river included in the dictionary\n",
        "for key in rivers.keys():\n",
        "   print(f\"The name of river {key}\")\n"
      ]
    },
    {
      "cell_type": "code",
      "execution_count": null,
      "metadata": {
        "id": "NUYdl7xpbmee"
      },
      "outputs": [],
      "source": [
        "#Use a loop to print the name of each country included in the dictionary\n",
        "for val in rivers.values():\n",
        "   print(f\"The name of river {val}\")"
      ]
    },
    {
      "cell_type": "code",
      "execution_count": null,
      "metadata": {
        "id": "9xJ3L3Lkchcd"
      },
      "outputs": [],
      "source": [
        ""
      ]
    },
    {
      "cell_type": "markdown",
      "metadata": {
        "id": "qiBwuSkhdfpk"
      },
      "source": [
        "# List of list"
      ]
    },
    {
      "cell_type": "code",
      "execution_count": null,
      "metadata": {
        "id": "uuYhuxtmdiI3"
      },
      "outputs": [],
      "source": [
        "listoflist = [[0,1,2,3,],\n",
        "              [1,2,3],\n",
        "              ['a','b','c']]"
      ]
    },
    {
      "cell_type": "code",
      "execution_count": null,
      "metadata": {
        "id": "E1v8AoQzd3dG"
      },
      "outputs": [],
      "source": [
        "listoflist[-1][-1]"
      ]
    },
    {
      "cell_type": "code",
      "execution_count": null,
      "metadata": {
        "id": "kUuP_yeIeD6J"
      },
      "outputs": [],
      "source": [
        ""
      ]
    },
    {
      "cell_type": "markdown",
      "metadata": {
        "id": "mCFupBDCfNWs"
      },
      "source": [
        "# List of Dictionary"
      ]
    },
    {
      "cell_type": "code",
      "execution_count": null,
      "metadata": {
        "id": "7_l97PgNfQXm"
      },
      "outputs": [],
      "source": [
        "listofdic = [oldPrice, new_price, new_price_in_dollar]\n",
        "listofdic"
      ]
    },
    {
      "cell_type": "code",
      "execution_count": null,
      "metadata": {
        "id": "Ti9t-S9rfg9S"
      },
      "outputs": [],
      "source": [
        "listofdic[0]['Fish']"
      ]
    },
    {
      "cell_type": "code",
      "execution_count": null,
      "metadata": {
        "id": "lgZpdJrift_n"
      },
      "outputs": [],
      "source": [
        ""
      ]
    },
    {
      "cell_type": "markdown",
      "metadata": {
        "id": "BzmUy2PGgjn0"
      },
      "source": [
        "# Dictionary of dictionary"
      ]
    },
    {
      "cell_type": "code",
      "execution_count": null,
      "metadata": {
        "id": "N8ZcjpAEgn8A"
      },
      "outputs": [],
      "source": [
        "dicofdic = {'saylani':\n",
        "            {'smit': ['web', 'ds', 'ccna', 'ai'],\n",
        "             'health': ['opd', 'ot']\n",
        "            },\n",
        "            'University': {\n",
        "                  'CS': ['1st', '2nd', '3rd', '4th'],\n",
        "                  'admin': ['fees', 'timetable', 'exam']\n",
        "            }\n",
        "            }"
      ]
    },
    {
      "cell_type": "code",
      "execution_count": null,
      "metadata": {
        "id": "I7QTsyzih3mA"
      },
      "outputs": [],
      "source": [
        "'University' in dicofdic"
      ]
    },
    {
      "cell_type": "code",
      "execution_count": null,
      "metadata": {
        "id": "Az7DVnFjioaS"
      },
      "outputs": [],
      "source": [
        "'smit' in dicofdic['saylani']"
      ]
    },
    {
      "cell_type": "code",
      "execution_count": null,
      "metadata": {
        "id": "P08Tza_bjFeo"
      },
      "outputs": [],
      "source": [
        "for pk, pv in dicofdic.items():\n",
        "  if pk == 'University':\n",
        "    for uk,uv in dicofdic[pk].items():\n",
        "      if uk == 'admin':\n",
        "        print('exam' in uv)"
      ]
    },
    {
      "cell_type": "code",
      "execution_count": null,
      "metadata": {
        "id": "xJ8GiZOYlmIE"
      },
      "outputs": [],
      "source": [
        "#Dictionary Question:\n",
        "#With a given integral number n, write a program to generate a dictionary that contains (i, i*i) such that is an integral number between 1 and n (both included). and then the program should print the dictionary.\n",
        "#Suppose the following input is supplied to the program:\n",
        "adict = {}\n",
        "n = int(input())\n",
        "for num in range(1,n+1):\n",
        "  adict[num] = num*num"
      ]
    },
    {
      "cell_type": "markdown",
      "metadata": {
        "id": "xilokJ3IgGSO"
      },
      "source": [
        ""
      ]
    },
    {
      "cell_type": "code",
      "execution_count": null,
      "metadata": {
        "id": "DWp1ibCZgQac"
      },
      "outputs": [],
      "source": [
        "adict"
      ]
    },
    {
      "cell_type": "code",
      "execution_count": null,
      "metadata": {
        "id": "p21fkjsY03Nl"
      },
      "outputs": [],
      "source": [
        ""
      ]
    },
    {
      "cell_type": "markdown",
      "metadata": {
        "id": "kxntRAwV-cKD"
      },
      "source": [
        "# Module"
      ]
    },
    {
      "cell_type": "code",
      "execution_count": null,
      "metadata": {
        "id": "4daIVw98-ec_"
      },
      "outputs": [],
      "source": [
        "%run textutility.py"
      ]
    },
    {
      "cell_type": "code",
      "execution_count": null,
      "metadata": {
        "id": "tdbQUAsX2m3U"
      },
      "outputs": [],
      "source": [
        "import textutility as tu"
      ]
    },
    {
      "cell_type": "code",
      "execution_count": null,
      "metadata": {
        "id": "nTgnW-qZ2m3U"
      },
      "outputs": [],
      "source": [
        "tu.remove_punctuation()"
      ]
    },
    {
      "cell_type": "code",
      "execution_count": null,
      "metadata": {
        "id": "o-F7xcYA2m3V"
      },
      "outputs": [],
      "source": [
        ""
      ]
    },
    {
      "cell_type": "markdown",
      "metadata": {
        "id": "UkakYMHVHhud"
      },
      "source": [
        "# Generators"
      ]
    },
    {
      "cell_type": "code",
      "execution_count": null,
      "metadata": {
        "id": "mBBiB99lHkqJ"
      },
      "outputs": [],
      "source": [
        ""
      ]
    },
    {
      "cell_type": "markdown",
      "metadata": {
        "id": "9I33fcKqVStJ"
      },
      "source": [
        "# files & Exceptions"
      ]
    },
    {
      "cell_type": "code",
      "execution_count": null,
      "metadata": {
        "id": "IyM0rjYEVWR_"
      },
      "outputs": [],
      "source": [
        ""
      ]
    },
    {
      "cell_type": "markdown",
      "source": [
        "# List all the files of the directory "
      ],
      "metadata": {
        "id": "aJiruHfY2tLJ"
      }
    },
    {
      "cell_type": "code",
      "source": [
        "import os\n",
        "os.listdir('/content/sample_data')"
      ],
      "metadata": {
        "id": "wwmtPMP829bQ",
        "outputId": "d7906534-21d3-43d8-e19f-189fb0e4e438",
        "colab": {
          "base_uri": "https://localhost:8080/"
        }
      },
      "execution_count": 2,
      "outputs": [
        {
          "output_type": "execute_result",
          "data": {
            "text/plain": [
              "['anscombe.json',\n",
              " 'README.md',\n",
              " 'mnist_train_small.csv',\n",
              " 'california_housing_test.csv',\n",
              " 'california_housing_train.csv',\n",
              " 'mnist_test.csv']"
            ]
          },
          "metadata": {},
          "execution_count": 2
        }
      ]
    },
    {
      "cell_type": "code",
      "source": [
        ""
      ],
      "metadata": {
        "id": "ZwGdD5Ie3BQa"
      },
      "execution_count": null,
      "outputs": []
    }
  ],
  "metadata": {
    "colab": {
      "name": "Starting with python Programming.ipynb",
      "provenance": [],
      "include_colab_link": true
    },
    "kernelspec": {
      "display_name": "Python 3",
      "language": "python",
      "name": "python3"
    },
    "language_info": {
      "codemirror_mode": {
        "name": "ipython",
        "version": 3
      },
      "file_extension": ".py",
      "mimetype": "text/x-python",
      "name": "python",
      "nbconvert_exporter": "python",
      "pygments_lexer": "ipython3",
      "version": "3.8.3"
    }
  },
  "nbformat": 4,
  "nbformat_minor": 0
}