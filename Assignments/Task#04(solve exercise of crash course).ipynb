{
  "nbformat": 4,
  "nbformat_minor": 0,
  "metadata": {
    "kernelspec": {
      "display_name": "Python 3",
      "language": "python",
      "name": "python3"
    },
    "language_info": {
      "codemirror_mode": {
        "name": "ipython",
        "version": 3
      },
      "file_extension": ".py",
      "mimetype": "text/x-python",
      "name": "python",
      "nbconvert_exporter": "python",
      "pygments_lexer": "ipython3",
      "version": "3.8.3"
    },
    "colab": {
      "name": "Task#04(solve exercise of crash course).ipynb",
      "provenance": []
    }
  },
  "cells": [
    {
      "cell_type": "markdown",
      "metadata": {
        "id": "cFolH63h7Km9"
      },
      "source": [
        "# Start solving from Chapter 02"
      ]
    },
    {
      "cell_type": "markdown",
      "metadata": {
        "id": "MEy5-hFc7Km-"
      },
      "source": [
        "2-1. Simple Message: Store a message in a variable, and then print that\n",
        "message"
      ]
    },
    {
      "cell_type": "code",
      "metadata": {
        "id": "5uzFh92C7Km_",
        "outputId": "671aa2c2-32a4-470a-be63-10d75068e3f9"
      },
      "source": [
        "my_message = 'i am solving all exercise'\n",
        "print(my_message)"
      ],
      "execution_count": null,
      "outputs": [
        {
          "output_type": "stream",
          "text": [
            "i am solving all exercise\n"
          ],
          "name": "stdout"
        }
      ]
    },
    {
      "cell_type": "markdown",
      "metadata": {
        "id": "Hr7UGrn37KnA"
      },
      "source": [
        "2-2. Simple Messages: Store a message in a variable, and print that message.\n",
        "Then change the value of your variable to a new message, and print the new\n",
        "message."
      ]
    },
    {
      "cell_type": "code",
      "metadata": {
        "id": "kccSWAlz7KnA",
        "outputId": "b02927c1-c71d-461c-b2d9-1f0a2c9edff8"
      },
      "source": [
        "my_message = 'i am solving all exercise'\n",
        "print(my_message)\n",
        "my_message = 'Done with 2.l and 2.2'\n",
        "print(my_message)"
      ],
      "execution_count": null,
      "outputs": [
        {
          "output_type": "stream",
          "text": [
            "i am solving all exercise\n",
            "Done with 2.l and 2.2\n"
          ],
          "name": "stdout"
        }
      ]
    },
    {
      "cell_type": "markdown",
      "metadata": {
        "id": "QzL5U5z97KnA"
      },
      "source": [
        "2-3. Personal Message: Store a person’s name in a variable, and print a message to that person. Your message should be simple, such as, “Hello Eric,\n",
        "would you like to learn some Python today?”"
      ]
    },
    {
      "cell_type": "code",
      "metadata": {
        "id": "nY-foV8E7KnB",
        "outputId": "f9ce2914-4856-428d-fe9e-d19c3d5e3838"
      },
      "source": [
        "Message_to_person = 'hello python how are u?'\n",
        "print(Message_to_person)"
      ],
      "execution_count": null,
      "outputs": [
        {
          "output_type": "stream",
          "text": [
            "hello python how are u?\n"
          ],
          "name": "stdout"
        }
      ]
    },
    {
      "cell_type": "markdown",
      "metadata": {
        "id": "Z7oPSQEN7KnB"
      },
      "source": [
        "2-4. Name Cases: Store a person’s name in a variable, and then print that person’s name in lowercase, uppercase, and titlecase."
      ]
    },
    {
      "cell_type": "code",
      "metadata": {
        "id": "-pmIvy5T7KnB",
        "outputId": "7731339b-165c-4bfe-a655-2df0e9e57272"
      },
      "source": [
        "person_name = 'python'\n",
        "print(person_name.lower())\n",
        "print(person_name.upper())\n",
        "print(person_name.title())"
      ],
      "execution_count": null,
      "outputs": [
        {
          "output_type": "stream",
          "text": [
            "python\n",
            "PYTHON\n",
            "Python\n"
          ],
          "name": "stdout"
        }
      ]
    },
    {
      "cell_type": "markdown",
      "metadata": {
        "id": "Lh5bntoC7KnC"
      },
      "source": [
        "2-5. Famous Quote: Find a quote from a famous person you admire. Print the\n",
        "quote and the name of its author. Your output should look something like the\n",
        "following, including the quotation marks:\n",
        "Albert Einstein once said, “A person who never made a\n",
        "mistake never tried anything new.”"
      ]
    },
    {
      "cell_type": "code",
      "metadata": {
        "id": "D8XsKtGe7KnC",
        "outputId": "2dc0682d-5da7-4439-d6e4-2f3262a94d5d"
      },
      "source": [
        "print('Ertugul once said, \"The seed which is not willing to let its shell rot, can not bear fruits\"')"
      ],
      "execution_count": null,
      "outputs": [
        {
          "output_type": "stream",
          "text": [
            "Ertugul once said, \"The seed which is not willing to let its shell rot, can not bear fruits\"\n"
          ],
          "name": "stdout"
        }
      ]
    },
    {
      "cell_type": "markdown",
      "metadata": {
        "id": "LlpHtMp37KnC"
      },
      "source": [
        "2-6. Famous Quote 2: Repeat Exercise 2-5, but this time store the famous person’s name in a variable called famous_person. Then compose your message\n",
        "and store it in a new variable called message. Print your message."
      ]
    },
    {
      "cell_type": "code",
      "metadata": {
        "id": "s5QZbbEU7KnD",
        "outputId": "01102bec-0cf5-4acf-9ea2-10e298a1f701"
      },
      "source": [
        "author_name = 'Ertugul'\n",
        "qoute = 'The seed which is not willing to let its shell rot, can not bear fruits'\n",
        "print(f'{author_name} once said, \"{qoute}\"')"
      ],
      "execution_count": null,
      "outputs": [
        {
          "output_type": "stream",
          "text": [
            "Ertugul once said, \"The seed which is not willing to let its shell rot, can not bear fruits\"\n"
          ],
          "name": "stdout"
        }
      ]
    },
    {
      "cell_type": "markdown",
      "metadata": {
        "id": "Z5ZdtTC27KnD"
      },
      "source": [
        "2-7. Stripping Names: Store a person’s name, and include some whitespace\n",
        "characters at the beginning and end of the name. Make sure you use each\n",
        "character combination, \"\\t\" and \"\\n\", at least once.\n",
        "Print the name once, so the whitespace around the name is displayed.\n",
        "Then print the name using each of the three stripping functions, lstrip(),\n",
        "rstrip(), and strip()"
      ]
    },
    {
      "cell_type": "code",
      "metadata": {
        "id": "Wa6ns6mJ7KnD",
        "outputId": "bc894222-01f3-4744-b737-90ecb1ce9334"
      },
      "source": [
        "person_name = '  python  '\n",
        "print(person_name.lstrip())\n",
        "print(person_name.rstrip())\n",
        "print(person_name.strip())"
      ],
      "execution_count": null,
      "outputs": [
        {
          "output_type": "stream",
          "text": [
            "python  \n",
            "  python\n",
            "python\n"
          ],
          "name": "stdout"
        }
      ]
    },
    {
      "cell_type": "markdown",
      "metadata": {
        "id": "lyY15dod7KnE"
      },
      "source": [
        "2-8. Number Eight: Write addition, subtraction, multiplication, and division\n",
        "operations that each result in the number 8. Be sure to enclose your operations\n",
        "in print statements to see the results. You should create four lines that look\n",
        "like this:\n",
        "print(5 + 3)\n",
        "Your output should simply be four lines with the number 8 appearing once\n",
        "on each line."
      ]
    },
    {
      "cell_type": "code",
      "metadata": {
        "id": "sNH0yNY-7KnE",
        "outputId": "22ac0964-9732-40d1-c210-75da13881a23"
      },
      "source": [
        "print(5+3)\n",
        "print(10-2)\n",
        "print(2*4)\n",
        "print(16//2)"
      ],
      "execution_count": null,
      "outputs": [
        {
          "output_type": "stream",
          "text": [
            "8\n",
            "8\n",
            "8\n",
            "8\n"
          ],
          "name": "stdout"
        }
      ]
    },
    {
      "cell_type": "markdown",
      "metadata": {
        "id": "vV2v4PAM7KnE"
      },
      "source": [
        "2-9. Favorite Number: Store your favorite number in a variable. Then, using\n",
        "that variable, create a message that reveals your favorite number. Print that\n",
        "message."
      ]
    },
    {
      "cell_type": "markdown",
      "metadata": {
        "id": "7-XsilMc7KnE"
      },
      "source": [
        "fav_num = 5\n",
        "print(f'My favorite number is {fav_num}')"
      ]
    },
    {
      "cell_type": "markdown",
      "metadata": {
        "id": "KqRxwlz-7KnE"
      },
      "source": [
        "2-10. Adding Comments: Choose two of the programs you’ve written, and\n",
        "add at least one comment to each. If you don’t have anything specific to write\n",
        "because your programs are too simple at this point, just add your name and\n",
        "the current date at the top of each program file. Then write one sentence\n",
        "describing what the program does."
      ]
    },
    {
      "cell_type": "code",
      "metadata": {
        "id": "doYUzGJQ7KnF",
        "outputId": "c900e194-2bb2-418e-95e4-9ea9bcd38d7c"
      },
      "source": [
        "#Python\n",
        "#Date: 05-02-2021\n",
        "#A program that prints the favorite number.\n",
        "fav_num = 5\n",
        "print(f'My favorite number is {fav_num}')"
      ],
      "execution_count": null,
      "outputs": [
        {
          "output_type": "stream",
          "text": [
            "My favorite number is 5\n"
          ],
          "name": "stdout"
        }
      ]
    },
    {
      "cell_type": "markdown",
      "metadata": {
        "id": "FurIDfvz7KnF"
      },
      "source": [
        "2-11. Zen of Python: Enter import this into a Python terminal session and skim\n",
        "through the additional principles."
      ]
    },
    {
      "cell_type": "code",
      "metadata": {
        "id": "_aKXwrTQ7KnF",
        "outputId": "9bbdc40d-0fd3-42fb-94ec-8378c5180f64"
      },
      "source": [
        "import this\n",
        "this"
      ],
      "execution_count": null,
      "outputs": [
        {
          "output_type": "stream",
          "text": [
            "The Zen of Python, by Tim Peters\n",
            "\n",
            "Beautiful is better than ugly.\n",
            "Explicit is better than implicit.\n",
            "Simple is better than complex.\n",
            "Complex is better than complicated.\n",
            "Flat is better than nested.\n",
            "Sparse is better than dense.\n",
            "Readability counts.\n",
            "Special cases aren't special enough to break the rules.\n",
            "Although practicality beats purity.\n",
            "Errors should never pass silently.\n",
            "Unless explicitly silenced.\n",
            "In the face of ambiguity, refuse the temptation to guess.\n",
            "There should be one-- and preferably only one --obvious way to do it.\n",
            "Although that way may not be obvious at first unless you're Dutch.\n",
            "Now is better than never.\n",
            "Although never is often better than *right* now.\n",
            "If the implementation is hard to explain, it's a bad idea.\n",
            "If the implementation is easy to explain, it may be a good idea.\n",
            "Namespaces are one honking great idea -- let's do more of those!\n"
          ],
          "name": "stdout"
        },
        {
          "output_type": "execute_result",
          "data": {
            "text/plain": [
              "<module 'this' from 'C:\\\\Users\\\\OneApple\\\\anaconda3\\\\lib\\\\this.py'>"
            ]
          },
          "metadata": {
            "tags": []
          },
          "execution_count": 61
        }
      ]
    },
    {
      "cell_type": "markdown",
      "metadata": {
        "id": "65kZjZg57KnF"
      },
      "source": [
        "# Start Solving Chapter 03"
      ]
    },
    {
      "cell_type": "markdown",
      "metadata": {
        "id": "qShLBRZt7KnG"
      },
      "source": [
        "3-1. Names: Store the names of a few of your friends in a list called names. Print\n",
        "each person’s name by accessing each element in the list, one at a time."
      ]
    },
    {
      "cell_type": "code",
      "metadata": {
        "id": "ed4Ju27O7KnG",
        "outputId": "233e3ce4-6dac-4f54-89cf-924d3fd8fed9"
      },
      "source": [
        "names = ['Rameez', 'Suneel', 'Sami']\n",
        "for i in names:\n",
        "    print(i)"
      ],
      "execution_count": null,
      "outputs": [
        {
          "output_type": "stream",
          "text": [
            "Rameez\n",
            "Suneel\n",
            "Sami\n"
          ],
          "name": "stdout"
        }
      ]
    },
    {
      "cell_type": "markdown",
      "metadata": {
        "id": "uo3-OlmL7KnG"
      },
      "source": [
        "3-2. Greetings: Start with the list you used in Exercise 3-1, but instead of just\n",
        "printing each person’s name, print a message to them. The text of each message should be the same, but each message should be personalized with the\n",
        "person’s name."
      ]
    },
    {
      "cell_type": "code",
      "metadata": {
        "id": "EetHLL9Z7KnG",
        "outputId": "b2465ac2-3be6-4892-c5cd-c88378f87495"
      },
      "source": [
        "names = ['Rameez', 'Suneel', 'Sami']\n",
        "for i in names:\n",
        "    print('Welcome '+i)"
      ],
      "execution_count": null,
      "outputs": [
        {
          "output_type": "stream",
          "text": [
            "Welcome Rameez\n",
            "Welcome Suneel\n",
            "Welcome Sami\n"
          ],
          "name": "stdout"
        }
      ]
    },
    {
      "cell_type": "markdown",
      "metadata": {
        "id": "1sM9uAnU7KnG"
      },
      "source": [
        "3-3. Your Own List: Think of your favorite mode of transportation, such as a\n",
        "motorcycle or a car, and make a list that stores several examples. Use your list\n",
        "to print a series of statements about these items, such as “I would like to own a\n",
        "Honda motorcycle.”"
      ]
    },
    {
      "cell_type": "code",
      "metadata": {
        "id": "H6nyg8CT7KnH",
        "outputId": "0aad03df-1a81-4ddc-fddf-7a17cafdfc5c"
      },
      "source": [
        "li = ['bicycle', 'motorcycle', 'car']\n",
        "li2 = ['i had a', 'i am running', 'i want a']\n",
        "for i in range(len(li)):\n",
        "    print(li2[i] + ' ' + li[i])"
      ],
      "execution_count": null,
      "outputs": [
        {
          "output_type": "stream",
          "text": [
            "i had a bicycle\n",
            "i am running motorcycle\n",
            "i want a car\n"
          ],
          "name": "stdout"
        }
      ]
    },
    {
      "cell_type": "markdown",
      "metadata": {
        "id": "9zaLM6wM7KnH"
      },
      "source": [
        "3-4. Guest List: If you could invite anyone, living or deceased, to dinner, who\n",
        "would you invite? Make a list that includes at least three people you’d like to\n",
        "invite to dinner. Then use your list to print a message to each person, inviting\n",
        "them to dinner."
      ]
    },
    {
      "cell_type": "code",
      "metadata": {
        "id": "AUIMB4vD7KnH",
        "outputId": "9b7d66f9-c77a-412a-eea8-f2f748270c5a"
      },
      "source": [
        "invite_person = ['Rameez', 'sami', 'nasir']\n",
        "li2 = ['i wanna invite you at hotel', 'i wanna meet you at dinner', 'i wanna arrange a dinner for you']\n",
        "for i in range(len(invite_person)):\n",
        "    print(invite_person[i] + ', ' + li2[i])"
      ],
      "execution_count": null,
      "outputs": [
        {
          "output_type": "stream",
          "text": [
            "Rameez, i wanna invite you at hotel\n",
            "sami, i wanna meet you at dinner\n",
            "nasir, i wanna arrange a dinner for you\n"
          ],
          "name": "stdout"
        }
      ]
    },
    {
      "cell_type": "markdown",
      "metadata": {
        "id": "v2JXh9hQ7KnH"
      },
      "source": [
        "3-5. Changing Guest List: You just heard that one of your guests can’t make the\n",
        "dinner, so you need to send out a new set of invitations. You’ll have to think of\n",
        "someone else to invite.\n",
        "•\t Start with your program from Exercise 3-4. Add a print statement at the\n",
        "end of your program stating the name of the guest who can’t make it.\n",
        "•\t Modify your list, replacing the name of the guest who can’t make it with\n",
        "the name of the new person you are inviting.\n",
        "•\t Print a second set of invitation messages, one for each person who is still\n",
        "in your list."
      ]
    },
    {
      "cell_type": "code",
      "metadata": {
        "id": "FejAwva17KnI",
        "outputId": "4a6fce86-ac3c-4d6b-efc5-d208f66db7c4"
      },
      "source": [
        "invite_person = ['Rameez', 'suneel', 'nasir']\n",
        "li2 = ['i wanna invite you at hotel', 'i wanna meet you at dinner', 'i wanna arrange a dinner for you']\n",
        "for i in range(len(invite_person)):\n",
        "    print(invite_person[i] + ', ' + li2[i])\n",
        "print('and sami is bussy, and he is not coming now')"
      ],
      "execution_count": null,
      "outputs": [
        {
          "output_type": "stream",
          "text": [
            "Rameez, i wanna invite you at hotel\n",
            "suneel, i wanna meet you at dinner\n",
            "nasir, i wanna arrange a dinner for you\n",
            "and sami is bussy, and he is not coming now\n"
          ],
          "name": "stdout"
        }
      ]
    },
    {
      "cell_type": "markdown",
      "metadata": {
        "id": "7vJlu0DA7KnI"
      },
      "source": [
        "3-6. More Guests: You just found a bigger dinner table, so now more space is\n",
        "available. Think of three more guests to invite to dinner.\n",
        "•\t Start with your program from Exercise 3-4 or Exercise 3-5. Add a print\n",
        "statement to the end of your program informing people that you found a\n",
        "bigger dinner table.\n",
        "•\t Use insert() to add one new guest to the beginning of your list.\n",
        "•\t Use insert() to add one new guest to the middle of your list.\n",
        "•\t Use append() to add one new guest to the end of your list.\n",
        "•\t Print a new set of invitation messages, one for each person in your list."
      ]
    },
    {
      "cell_type": "code",
      "metadata": {
        "id": "UKcKsSqf7KnI",
        "outputId": "0e0028a2-36fb-4644-b33a-337ccace7b7e"
      },
      "source": [
        "invite_person = ['Rameez', 'suneel', 'nasir']\n",
        "li2 =  'i wanna meet you at dinner'\n",
        "invite_person.insert(0, 'Usman')\n",
        "invite_person.insert(int(len(invite_person)/2), 'Bilal')\n",
        "invite_person.append('Abid')\n",
        "for i in range(len(invite_person)):\n",
        "    print(invite_person[i] + ', ' + li2)\n",
        "print('now i found a bigger dinner table, so you are all invited')"
      ],
      "execution_count": null,
      "outputs": [
        {
          "output_type": "stream",
          "text": [
            "Usman, i wanna meet you at dinner\n",
            "Rameez, i wanna meet you at dinner\n",
            "Bilal, i wanna meet you at dinner\n",
            "suneel, i wanna meet you at dinner\n",
            "nasir, i wanna meet you at dinner\n",
            "Abid, i wanna meet you at dinner\n",
            "now i found a bigger dinner table, so you are all invited\n"
          ],
          "name": "stdout"
        }
      ]
    },
    {
      "cell_type": "markdown",
      "metadata": {
        "id": "QUTxYCCu7KnJ"
      },
      "source": [
        "3-7. Shrinking Guest List: You just found out that your new dinner table won’t\n",
        "arrive in time for the dinner, and you have space for only two guests.\n",
        "•\t Start with your program from Exercise 3-6. Add a new line that prints a\n",
        "message saying that you can invite only two people for dinner.\n",
        "•\t Use pop() to remove guests from your list one at a time until only two\n",
        "names remain in your list. Each time you pop a name from your list, print\n",
        "a message to that person letting them know you’re sorry you can’t invite\n",
        "them to dinner.\n",
        "•\t Print a message to each of the two people still on your list, letting them\n",
        "know they’re still invited.\n",
        "•\t Use del to remove the last two names from your list, so you have an empty\n",
        "list. Print your list to make sure you actually have an empty list at the end\n",
        "of your program."
      ]
    },
    {
      "cell_type": "code",
      "metadata": {
        "id": "3IHBBDUJ7KnJ",
        "outputId": "d2e1f2eb-f683-4f4d-fd8a-40f36639455b"
      },
      "source": [
        "print('i have left only two people space ')\n",
        "guests = ['Rameez', 'suneel', 'nasir']\n",
        "guests.insert(0, 'Usman')\n",
        "guests.insert(int(len(invite_person)/2), 'Bilal')\n",
        "guests.append('Abid')\n",
        "print(guests)\n"
      ],
      "execution_count": null,
      "outputs": [
        {
          "output_type": "stream",
          "text": [
            "i have left only two people space \n",
            "['Usman', 'Rameez', 'suneel', 'Bilal', 'nasir', 'Abid']\n"
          ],
          "name": "stdout"
        }
      ]
    },
    {
      "cell_type": "code",
      "metadata": {
        "id": "vL_tQOxe7KnJ",
        "outputId": "88205b46-fed5-4822-ed7f-578ee72026e1"
      },
      "source": [
        "name = guests.pop()\n",
        "print(\"Sorry, \" + name.title() + \" there's no room at the table.\")\n",
        "\n",
        "name = guests.pop()\n",
        "print(\"Sorry, \" + name.title() + \" there's no room at the table.\")\n",
        "\n",
        "name = guests.pop()\n",
        "print(\"Sorry, \" + name.title() + \" there's no room at the table.\")\n",
        "\n",
        "name = guests.pop()\n",
        "print(\"Sorry, \" + name.title() + \" there's no room at the table.\")\n",
        "\n",
        "# There should be two people left. Let's invite them.\n",
        "name = guests[0].title()\n",
        "print(name + \", please come to dinner.\")\n",
        "\n",
        "name = guests[1].title()\n",
        "print(name + \", please come to dinner.\")\n",
        "\n",
        "# Empty out the list.\n",
        "del(guests[0])\n",
        "del(guests[0])\n",
        "\n",
        "# Prove the list is empty.\n",
        "print(guests)\n"
      ],
      "execution_count": null,
      "outputs": [
        {
          "output_type": "stream",
          "text": [
            "Sorry, Abid there's no room at the table.\n",
            "Sorry, Nasir there's no room at the table.\n",
            "Sorry, Bilal there's no room at the table.\n",
            "Sorry, Suneel there's no room at the table.\n",
            "Usman, please come to dinner.\n",
            "Rameez, please come to dinner.\n",
            "[]\n"
          ],
          "name": "stdout"
        }
      ]
    },
    {
      "cell_type": "markdown",
      "metadata": {
        "id": "13nG8OMc7KnK"
      },
      "source": [
        "3-8. Seeing the World: Think of at least five places in the world you’d like to\n",
        "visit.\n",
        "•\t Store the locations in a list. Make sure the list is not in alphabetical order.\n",
        "•\t Print your list in its original order. Don’t worry about printing the list neatly,\n",
        "just print it as a raw Python list.\n",
        "•\t Use sorted() to print your list in alphabetical order without modifying the\n",
        "actual list.\n",
        "•\t Show that your list is still in its original order by printing it.\n",
        "•\t Use sorted() to print your list in reverse alphabetical order without changing the order of the original list.\n",
        "•\t Show that your list is still in its original order by printing it again.\n",
        "•\t Use reverse() to change the order of your list. Print the list to show that its\n",
        "order has changed.\n",
        "•\t Use reverse() to change the order of your list again. Print the list to show\n",
        "it’s back to its original order.\n",
        "•\t Use sort() to change your list so it’s stored in alphabetical order. Print the\n",
        "list to show that its order has been changed.\n",
        "•\t Use sort() to change your list so it’s stored in reverse alphabetical order.\n",
        "Print the list to show that its order has changed."
      ]
    },
    {
      "cell_type": "code",
      "metadata": {
        "id": "R3EiUWpx7KnK",
        "outputId": "7c545778-d9b5-4b13-ff03-88de70d0cc17"
      },
      "source": [
        "locations = ['himalaya', 'andes', 'tierra del fuego', 'labrador', 'guam']\n",
        "\n",
        "print(\"Original order:\")\n",
        "print(locations)\n",
        "\n",
        "print(\"\\nAlphabetical:\")\n",
        "print(sorted(locations))\n",
        "\n",
        "print(\"\\nOriginal order:\")\n",
        "print(locations)\n",
        "\n",
        "print(\"\\nReverse alphabetical:\")\n",
        "print(sorted(locations, reverse=True))\n",
        "\n",
        "print(\"\\nOriginal order:\")\n",
        "print(locations)\n",
        "\n",
        "print(\"\\nReversed:\")\n",
        "locations.reverse()\n",
        "print(locations)\n",
        "\n",
        "print(\"\\nOriginal order:\")\n",
        "locations.reverse()\n",
        "print(locations)\n",
        "\n",
        "print(\"\\nAlphabetical\")\n",
        "locations.sort()\n",
        "print(locations)\n",
        "\n",
        "print(\"\\nReverse alphabetical\")\n",
        "locations.sort(reverse=True)\n",
        "print(locations)"
      ],
      "execution_count": null,
      "outputs": [
        {
          "output_type": "stream",
          "text": [
            "Original order:\n",
            "['himalaya', 'andes', 'tierra del fuego', 'labrador', 'guam']\n",
            "\n",
            "Alphabetical:\n",
            "['andes', 'guam', 'himalaya', 'labrador', 'tierra del fuego']\n",
            "\n",
            "Original order:\n",
            "['himalaya', 'andes', 'tierra del fuego', 'labrador', 'guam']\n",
            "\n",
            "Reverse alphabetical:\n",
            "['tierra del fuego', 'labrador', 'himalaya', 'guam', 'andes']\n",
            "\n",
            "Original order:\n",
            "['himalaya', 'andes', 'tierra del fuego', 'labrador', 'guam']\n",
            "\n",
            "Reversed:\n",
            "['guam', 'labrador', 'tierra del fuego', 'andes', 'himalaya']\n",
            "\n",
            "Original order:\n",
            "['himalaya', 'andes', 'tierra del fuego', 'labrador', 'guam']\n",
            "\n",
            "Alphabetical\n",
            "['andes', 'guam', 'himalaya', 'labrador', 'tierra del fuego']\n",
            "\n",
            "Reverse alphabetical\n",
            "['tierra del fuego', 'labrador', 'himalaya', 'guam', 'andes']\n"
          ],
          "name": "stdout"
        }
      ]
    },
    {
      "cell_type": "markdown",
      "metadata": {
        "id": "MP1SJorJ7KnK"
      },
      "source": [
        "3-9. Dinner Guests: Working with one of the programs from Exercises 3-4\n",
        "through 3-7 (page 46), use len() to print a message indicating the number\n",
        "of people you are inviting to dinner."
      ]
    },
    {
      "cell_type": "code",
      "metadata": {
        "id": "F8UzdsGj7KnL",
        "outputId": "6a12f255-ee1b-4956-bda8-df57b6164d74"
      },
      "source": [
        "print('the number of prople invited are: ',len(invite_person))"
      ],
      "execution_count": null,
      "outputs": [
        {
          "output_type": "stream",
          "text": [
            "the number of prople invited are:  6\n"
          ],
          "name": "stdout"
        }
      ]
    },
    {
      "cell_type": "markdown",
      "metadata": {
        "id": "aaFWRqdH7KnL"
      },
      "source": [
        "3-10. Every Function: Think of something you could store in a list. For example,\n",
        "you could make a list of mountains, rivers, countries, cities, languages, or anything else you’d like. Write a program that creates a list containing these items\n",
        "and then uses each function introduced in this chapter at least once."
      ]
    },
    {
      "cell_type": "code",
      "metadata": {
        "id": "HdxQ6TAv7KnL",
        "outputId": "2df9e4a4-0222-48ea-d6f9-6b06cc7822ff"
      },
      "source": [
        "something = ['pyhton', 'Django', 'Flask']\n",
        "print(sorted(something))"
      ],
      "execution_count": null,
      "outputs": [
        {
          "output_type": "stream",
          "text": [
            "['Django', 'Flask', 'pyhton']\n"
          ],
          "name": "stdout"
        }
      ]
    },
    {
      "cell_type": "markdown",
      "metadata": {
        "id": "L262WJB07KnL"
      },
      "source": [
        "# Start Solving Chapter 04"
      ]
    },
    {
      "cell_type": "markdown",
      "metadata": {
        "id": "5Ix5ZDIo7KnM"
      },
      "source": [
        "4-1. Pizzas: Think of at least three kinds of your favorite pizza. Store these\n",
        "pizza names in a list, and then use a for loop to print the name of each pizza.\n",
        "•\t Modify your for loop to print a sentence using the name of the pizza\n",
        "instead of printing just the name of the pizza. For each pizza you should\n",
        "have one line of output containing a simple statement like I like pepperoni\n",
        "pizza.\n",
        "•\t Add a line at the end of your program, outside the for loop, that states\n",
        "how much you like pizza. The output should consist of three or more lines\n",
        "about the kinds of pizza you like and then an additional sentence, such as\n",
        "I really love pizza!"
      ]
    },
    {
      "cell_type": "code",
      "metadata": {
        "id": "YW0iCAqb7KnM",
        "outputId": "d78c0958-dec6-439a-cb6f-5704a5249594"
      },
      "source": [
        "pizza_list = ['chineez', 'chicken', 'cheez']\n",
        "for i in pizza_list:\n",
        "    print('i like ' + i + ' Pizza')"
      ],
      "execution_count": null,
      "outputs": [
        {
          "output_type": "stream",
          "text": [
            "i like chineez Pizza\n",
            "i like chicken Pizza\n",
            "i like cheez Pizza\n"
          ],
          "name": "stdout"
        }
      ]
    },
    {
      "cell_type": "markdown",
      "metadata": {
        "id": "qsRjvMkN7KnM"
      },
      "source": [
        "4-2. Animals: Think of at least three different animals that have a common characteristic. Store the names of these animals in a list, and then use a for loop to\n",
        "print out the name of each animal.\n",
        "•\t Modify your program to print a statement about each animal, such as\n",
        "A dog would make a great pet.\n",
        "•\t Add a line at the end of your program stating what these animals have in\n",
        "common. You could print a sentence such as Any of these animals would\n",
        "make a great pet!"
      ]
    },
    {
      "cell_type": "code",
      "metadata": {
        "id": "FN3Ipc9_7KnM",
        "outputId": "5be00710-604c-4fad-fbee-26c95a848990"
      },
      "source": [
        "animal_names = ['cat', 'dog', 'birds']\n",
        "for i in animal_names:\n",
        "    print(f'A {i} would make a great pet')\n",
        "print('these animal would make a great pet')"
      ],
      "execution_count": null,
      "outputs": [
        {
          "output_type": "stream",
          "text": [
            "A cat would make a great pet\n",
            "A dog would make a great pet\n",
            "A birds would make a great pet\n",
            "these animal would make a great pet\n"
          ],
          "name": "stdout"
        }
      ]
    },
    {
      "cell_type": "markdown",
      "metadata": {
        "id": "JCMrwAvU7KnM"
      },
      "source": [
        "4-3. Counting to Twenty: Use a for loop to print the numbers from 1 to 20,\n",
        "inclusive."
      ]
    },
    {
      "cell_type": "code",
      "metadata": {
        "id": "-j4cDHUR7KnN",
        "outputId": "ef9bc74d-f84c-4419-c8c2-a2240076652b"
      },
      "source": [
        "counter = [i for i in range(1,21)]\n",
        "print(counter)"
      ],
      "execution_count": null,
      "outputs": [
        {
          "output_type": "stream",
          "text": [
            "[1, 2, 3, 4, 5, 6, 7, 8, 9, 10, 11, 12, 13, 14, 15, 16, 17, 18, 19, 20]\n"
          ],
          "name": "stdout"
        }
      ]
    },
    {
      "cell_type": "markdown",
      "metadata": {
        "id": "y2M5-W3v7KnN"
      },
      "source": [
        "4-5. Summing a Million: Make a list of the numbers from one to one million,\n",
        "and then use min() and max() to make sure your list actually starts at one and\n",
        "ends at one million. Also, use the sum() function to see how quickly Python can\n",
        "add a million numbers"
      ]
    },
    {
      "cell_type": "code",
      "metadata": {
        "id": "BADkF6Gw7KnN",
        "outputId": "3cbdba86-1307-4c30-a408-a62eff44fa23"
      },
      "source": [
        "max_in_million = [i for i in range(1, 1000000)]\n",
        "print(f'the minimum number in million is: {min(max_in_million)}')\n",
        "print(f'the maximum number in million is: {max(max_in_million)}')\n",
        "print(f'the sum of all numbers in million is: {sum(max_in_million)}')"
      ],
      "execution_count": null,
      "outputs": [
        {
          "output_type": "stream",
          "text": [
            "the minimum number in million is: 1\n",
            "the maximum number in million is: 999999\n",
            "the sum of all numbers in million is: 499999500000\n"
          ],
          "name": "stdout"
        }
      ]
    },
    {
      "cell_type": "markdown",
      "metadata": {
        "id": "OFphNfNM7KnN"
      },
      "source": [
        "4-6. Odd Numbers: Use the third argument of the range() function to make a list\n",
        "of the odd numbers from 1 to 20. Use a for loop to print each number"
      ]
    },
    {
      "cell_type": "code",
      "metadata": {
        "id": "w_F4oFak7KnN",
        "outputId": "43697e44-4225-4f47-af1d-5bd810dda8b0"
      },
      "source": [
        "odd_numbers = [i for i in range(1,20,2)]\n",
        "print(f'odd numbers are: {odd_numbers}')"
      ],
      "execution_count": null,
      "outputs": [
        {
          "output_type": "stream",
          "text": [
            "odd numbers are: [1, 3, 5, 7, 9, 11, 13, 15, 17, 19]\n"
          ],
          "name": "stdout"
        }
      ]
    },
    {
      "cell_type": "markdown",
      "metadata": {
        "id": "iwpR7NrV7KnN"
      },
      "source": [
        "4-7. Threes: Make a list of the multiples of 3 from 3 to 30. Use a for loop to\n",
        "print the numbers in your list."
      ]
    },
    {
      "cell_type": "code",
      "metadata": {
        "id": "QCjUWd8e7KnO",
        "outputId": "04546bbc-2e48-4f99-99bf-bbe53479febb"
      },
      "source": [
        "multiple_of_three = [i for i in range(3,31, 3)]\n",
        "print(f'multiple of three are: {multiple_of_three}')"
      ],
      "execution_count": null,
      "outputs": [
        {
          "output_type": "stream",
          "text": [
            "multiple of three are: [3, 6, 9, 12, 15, 18, 21, 24, 27, 30]\n"
          ],
          "name": "stdout"
        }
      ]
    },
    {
      "cell_type": "markdown",
      "metadata": {
        "id": "4MNPHQVW7KnO"
      },
      "source": [
        "4-8. Cubes: A number raised to the third power is called a cube. For example,\n",
        "the cube of 2 is written as 2**3 in Python. Make a list of the first 10 cubes (that\n",
        "is, the cube of each integer from 1 through 10), and use a for loop to print out\n",
        "the value of each cube."
      ]
    },
    {
      "cell_type": "code",
      "metadata": {
        "id": "hH-h1Nel7KnO",
        "outputId": "e19e9e3d-a63e-4f8f-d7bb-a3b5065f599b"
      },
      "source": [
        "cubes = [i**3 for i in range(1,11)]\n",
        "print(cubes)"
      ],
      "execution_count": null,
      "outputs": [
        {
          "output_type": "stream",
          "text": [
            "[1, 8, 27, 64, 125, 216, 343, 512, 729, 1000]\n"
          ],
          "name": "stdout"
        }
      ]
    },
    {
      "cell_type": "markdown",
      "metadata": {
        "id": "GtqQmSir7KnO"
      },
      "source": [
        "4-9. Cube Comprehension: Use a list comprehension to generate a list of the\n",
        "first 10 cubes."
      ]
    },
    {
      "cell_type": "code",
      "metadata": {
        "id": "QeBXyf467KnO",
        "outputId": "15503e95-9d3a-401c-f2bf-a047e4a7123e"
      },
      "source": [
        "cubes = [i**3 for i in range(1,11)]\n",
        "print(cubes)"
      ],
      "execution_count": null,
      "outputs": [
        {
          "output_type": "stream",
          "text": [
            "[1, 8, 27, 64, 125, 216, 343, 512, 729, 1000]\n"
          ],
          "name": "stdout"
        }
      ]
    },
    {
      "cell_type": "markdown",
      "metadata": {
        "id": "4O_G2sZo7KnP"
      },
      "source": [
        "4-10. Slices: Using one of the programs you wrote in this chapter, add several\n",
        "lines to the end of the program that do the following:\n",
        "•\t Print the message, The first three items in the list are:. Then use a slice to\n",
        "print the first three items from that program’s list.\n",
        "•\t Print the message, Three items from the middle of the list are:. Use a slice\n",
        "to print three items from the middle of the list.\n",
        "•\t Print the message, The last three items in the list are:. Use a slice to print\n",
        "the last three items in the list."
      ]
    },
    {
      "cell_type": "code",
      "metadata": {
        "id": "JPfc3NTR7KnP",
        "outputId": "d54e46bd-1f6e-4ac6-e1b7-a420014b80df"
      },
      "source": [
        "print('the first three items in the list are:', cubes[:3])\n",
        "print('the middle three items in the list are:', cubes[4:6])\n",
        "print('the middle three items in the list are:', cubes[-3:])"
      ],
      "execution_count": null,
      "outputs": [
        {
          "output_type": "stream",
          "text": [
            "the first three items in the list are: [1, 8, 27]\n",
            "the middle three items in the list are: [125, 216]\n",
            "the middle three items in the list are: [512, 729, 1000]\n"
          ],
          "name": "stdout"
        }
      ]
    },
    {
      "cell_type": "markdown",
      "metadata": {
        "id": "6ydQMxfQ7KnP"
      },
      "source": [
        "4-11. My Pizzas, Your Pizzas: Start with your program from Exercise 4-1\n",
        "(page 60). Make a copy of the list of pizzas, and call it friend_pizzas.\n",
        "Then, do the following:\n",
        "•\t Add a new pizza to the original list.\n",
        "•\t Add a different pizza to the list friend_pizzas.\n",
        "•\t Prove that you have two separate lists. Print the message, My favorite\n",
        "pizzas are:, and then use a for loop to print the first list. Print the message,\n",
        "My friend’s favorite pizzas are:, and then use a for loop to print the second list. Make sure each new pizza is stored in the appropriate list"
      ]
    },
    {
      "cell_type": "code",
      "metadata": {
        "id": "6mqgDMlb7KnP",
        "outputId": "3775a799-edcd-46bb-a828-cafda003e984"
      },
      "source": [
        "friend_pizzas = pizza_list[:]\n",
        "pizza_list.append('machroni')\n",
        "friend_pizzas.append('Jalfirazi')\n",
        "for i in pizza_list:\n",
        "    print('My favorite pizzas are: ' + i)\n",
        "for j in friend_pizzas:\n",
        "    print('My friend favorite pizzas are: ' + j)"
      ],
      "execution_count": null,
      "outputs": [
        {
          "output_type": "stream",
          "text": [
            "My favorite pizzas are: chineez\n",
            "My favorite pizzas are: chicken\n",
            "My favorite pizzas are: cheez\n",
            "My favorite pizzas are: machroni\n",
            "My favorite pizzas are: machroni\n",
            "My friend favorite pizzas are: chineez\n",
            "My friend favorite pizzas are: chicken\n",
            "My friend favorite pizzas are: cheez\n",
            "My friend favorite pizzas are: machroni\n",
            "My friend favorite pizzas are: Jalfirazi\n"
          ],
          "name": "stdout"
        }
      ]
    },
    {
      "cell_type": "markdown",
      "metadata": {
        "id": "VUXVTOCX7KnP"
      },
      "source": [
        "4-13. Buffet: A buffet-style restaurant offers only five basic foods. Think of five\n",
        "simple foods, and store them in a tuple.\n",
        "•\t Use a for loop to print each food the restaurant offers.\n",
        "•\t Try to modify one of the items, and make sure that Python rejects the\n",
        "change.\n",
        "•\t The restaurant changes its menu, replacing two of the items with different\n",
        "foods. Add a block of code that rewrites the tuple, and then use a for\n",
        "loop to print each of the items on the revised menu."
      ]
    },
    {
      "cell_type": "markdown",
      "metadata": {
        "id": "ljGVOdFC7KnP"
      },
      "source": [
        "# Start Solving Chapter 05"
      ]
    },
    {
      "cell_type": "markdown",
      "metadata": {
        "id": "--SPii1j7KnQ"
      },
      "source": [
        "5-1. Conditional Tests: Write a series of conditional tests. Print a statement\n",
        "describing each test and your prediction for the results of each test. Your code\n",
        "should look something like this:\n",
        "car = 'subaru'\n",
        "print(\"Is car == 'subaru'? I predict True.\")\n",
        "print(car == 'subaru')\n",
        "print(\"\\nIs car == 'audi'? I predict False.\")\n",
        "print(car == 'audi')\n",
        "•\t Look closely at your results, and make sure you understand why each line\n",
        "evaluates to True or False.\n",
        "•\t Create at least 10 tests. Have at least 5 tests evaluate to True and another\n",
        "5 tests evaluate to False."
      ]
    },
    {
      "cell_type": "code",
      "metadata": {
        "id": "01H0gRy67KnQ",
        "outputId": "ba9fc43d-a00d-4931-c006-0cea7d971fbd"
      },
      "source": [
        "buffet_rest = ('Qourma', 'Biryani', 'Kheer', 'IceCream', 'cold Drink')\n",
        "for i in buffet_rest:\n",
        "    print(i)\n",
        "buffet_rest[1] = 'Tikka'"
      ],
      "execution_count": null,
      "outputs": [
        {
          "output_type": "stream",
          "text": [
            "Qourma\n",
            "Biryani\n",
            "Kheer\n",
            "IceCream\n",
            "cold Drink\n"
          ],
          "name": "stdout"
        },
        {
          "output_type": "error",
          "ename": "TypeError",
          "evalue": "'tuple' object does not support item assignment",
          "traceback": [
            "\u001b[1;31m---------------------------------------------------------------------------\u001b[0m",
            "\u001b[1;31mTypeError\u001b[0m                                 Traceback (most recent call last)",
            "\u001b[1;32m<ipython-input-21-4daa7b413a2d>\u001b[0m in \u001b[0;36m<module>\u001b[1;34m\u001b[0m\n\u001b[0;32m      2\u001b[0m \u001b[1;32mfor\u001b[0m \u001b[0mi\u001b[0m \u001b[1;32min\u001b[0m \u001b[0mbuffet_rest\u001b[0m\u001b[1;33m:\u001b[0m\u001b[1;33m\u001b[0m\u001b[1;33m\u001b[0m\u001b[0m\n\u001b[0;32m      3\u001b[0m     \u001b[0mprint\u001b[0m\u001b[1;33m(\u001b[0m\u001b[0mi\u001b[0m\u001b[1;33m)\u001b[0m\u001b[1;33m\u001b[0m\u001b[1;33m\u001b[0m\u001b[0m\n\u001b[1;32m----> 4\u001b[1;33m \u001b[0mbuffet_rest\u001b[0m\u001b[1;33m[\u001b[0m\u001b[1;36m1\u001b[0m\u001b[1;33m]\u001b[0m \u001b[1;33m=\u001b[0m \u001b[1;34m'Tikka'\u001b[0m\u001b[1;33m\u001b[0m\u001b[1;33m\u001b[0m\u001b[0m\n\u001b[0m",
            "\u001b[1;31mTypeError\u001b[0m: 'tuple' object does not support item assignment"
          ]
        }
      ]
    },
    {
      "cell_type": "code",
      "metadata": {
        "id": "0ZGNu-Di7KnQ",
        "outputId": "ee5155b2-7f0b-41c7-824f-a2b2c5a6df59"
      },
      "source": [
        "#Checking for Food\n",
        "food = 'Pizza'\n",
        "print(\"Is food == 'Pizza'? I predict True.\")\n",
        "print(food == 'Pizza')\n",
        "print(\"\\nIs food == 'Pizza'? I predict False.\")\n",
        "print(food == 'Burger')\n",
        "\n",
        "#Checking for mobile Phone\n",
        "mobile_phone = 'iphone'\n",
        "print(\"\\nIs mobile phone == 'iphone'? I predict True.\")\n",
        "print(mobile_phone == 'iphone')\n",
        "print(\"\\nIs mobile phone == 'iphone'? I predict False.\")\n",
        "print(mobile_phone == 'Vivo')\n",
        "\n",
        "#Checking for car\n",
        "car = 'subaru'\n",
        "print(\"\\nIs car == 'subaru'? I predict True.\")\n",
        "print(car == 'subaru')\n",
        "print(\"\\nIs car == 'audi'? I predict False.\")\n",
        "print(car == 'audi')\n",
        "\n",
        "#Checking for cloth\n",
        "cloth = 'addidas'\n",
        "print(\"\\nIs cloth == 'addidas'? I predict True.\")\n",
        "print(cloth == 'addidas')\n",
        "print(\"\\nIs cloth == 'addidas'? I predict False.\")\n",
        "print(cloth == 'nike')\n",
        "\n",
        "#Checking for shoes\n",
        "shoes = 'bata'\n",
        "print(\"\\nIs shoes == 'bata'? I predict True.\")\n",
        "print(shoes == 'bata')\n",
        "print(\"\\nIs shoes == 'bata'? I predict False.\")\n",
        "print(shoes == 'service')"
      ],
      "execution_count": null,
      "outputs": [
        {
          "output_type": "stream",
          "text": [
            "Is food == 'Pizza'? I predict True.\n",
            "True\n",
            "\n",
            "Is food == 'Pizza'? I predict False.\n",
            "False\n",
            "\n",
            "Is mobile phone == 'iphone'? I predict True.\n",
            "True\n",
            "\n",
            "Is mobile phone == 'iphone'? I predict False.\n",
            "False\n",
            "\n",
            "Is car == 'subaru'? I predict True.\n",
            "True\n",
            "\n",
            "Is car == 'audi'? I predict False.\n",
            "False\n",
            "\n",
            "Is cloth == 'addidas'? I predict True.\n",
            "True\n",
            "\n",
            "Is cloth == 'addidas'? I predict False.\n",
            "False\n",
            "\n",
            "Is shoes == 'bata'? I predict True.\n",
            "True\n",
            "\n",
            "Is shoes == 'bata'? I predict False.\n",
            "False\n"
          ],
          "name": "stdout"
        }
      ]
    },
    {
      "cell_type": "markdown",
      "metadata": {
        "id": "dgnwPQdb7KnQ"
      },
      "source": [
        "5-3. Alien Colors #1: Imagine an alien was just shot down in a game. Create a\n",
        "variable called alien_color and assign it a value of 'green', 'yellow', or 'red'.\n",
        "•\t Write an if statement to test whether the alien’s color is green. If it is, print\n",
        "a message that the player just earned 5 points.\n",
        "•\t Write one version of this program that passes the if test and another that\n",
        "fails. (The version that fails will have no output.)\n"
      ]
    },
    {
      "cell_type": "code",
      "metadata": {
        "id": "qq-0I5_17KnQ",
        "outputId": "7b4bec1c-7955-4f89-b449-5cc411aa00e6"
      },
      "source": [
        "alian_color = 'green'\n",
        "if alian_color == 'green':\n",
        "    print('player earn 5 points')"
      ],
      "execution_count": null,
      "outputs": [
        {
          "output_type": "stream",
          "text": [
            "player earn 5 points\n"
          ],
          "name": "stdout"
        }
      ]
    },
    {
      "cell_type": "code",
      "metadata": {
        "id": "hnERsBG57KnQ"
      },
      "source": [
        "alian_color = 'green'\n",
        "if alian_color == '':\n",
        "    print('player earn 5 points')"
      ],
      "execution_count": null,
      "outputs": []
    },
    {
      "cell_type": "markdown",
      "metadata": {
        "id": "gxnIGHR17KnR"
      },
      "source": [
        "5-4. Alien Colors #2: Choose a color for an alien as you did in Exercise 5-3, and\n",
        "write an if-else chain.\n",
        "•\t If the alien’s color is green, print a statement that the player just earned\n",
        "5 points for shooting the alien.\n",
        "•\t If the alien’s color isn’t green, print a statement that the player just earned\n",
        "10 points.\n",
        "•\t Write one version of this program that runs the if block and another that\n",
        "runs the else block."
      ]
    },
    {
      "cell_type": "code",
      "metadata": {
        "id": "UKB_R0vX7KnR",
        "outputId": "ef4915ca-9401-4fee-b2de-b6815a6bf82d"
      },
      "source": [
        "alian_color = 'green'\n",
        "if alian_color == 'green':\n",
        "    print('player earn 5 points for shooting the alian.')\n",
        "if alian_color!= 'green':\n",
        "    print('player just earn 10 points.')"
      ],
      "execution_count": null,
      "outputs": [
        {
          "output_type": "stream",
          "text": [
            "player earn 5 points for shooting the alian.\n"
          ],
          "name": "stdout"
        }
      ]
    },
    {
      "cell_type": "code",
      "metadata": {
        "id": "PhspMu-u7KnR",
        "outputId": "538fccb2-2613-4793-ee10-65372a132bc7"
      },
      "source": [
        "alian_color = 'yellow'\n",
        "if alian_color == 'green':\n",
        "    print('player earn 5 points for shooting the alian.')\n",
        "\n",
        "else:\n",
        "    print('player earn 0 points')"
      ],
      "execution_count": null,
      "outputs": [
        {
          "output_type": "stream",
          "text": [
            "player earn 0 points\n"
          ],
          "name": "stdout"
        }
      ]
    },
    {
      "cell_type": "markdown",
      "metadata": {
        "id": "m6-nZCvi7KnR"
      },
      "source": [
        "5-7. Favorite Fruit: Make a list of your favorite fruits, and then write a series of\n",
        "independent if statements that check for certain fruits in your list.\n",
        "•\t Make a list of your three favorite fruits and call it favorite_fruits.\n",
        "•\t Write five if statements. Each should check whether a certain kind of fruit\n",
        "is in your list. If the fruit is in your list, the if block should print a statement,\n",
        "such as You really like bananas!"
      ]
    },
    {
      "cell_type": "code",
      "metadata": {
        "id": "edYpo8_K7KnR",
        "outputId": "11c21341-c110-40de-e901-d2ed2a8a1c21"
      },
      "source": [
        "favorite_fruits = ['Mango', 'Orange', 'Banana']\n",
        "if 'Mango' in favorite_fruits:\n",
        "    print('You like Mangos')\n",
        "if 'Orange' in favorite_fruits:\n",
        "    print('You like Oranges')\n",
        "if 'Banana' in favorite_fruits:\n",
        "    print('You like Bananas')\n",
        "if 'Apple' in favorite_fruits:\n",
        "    print('You like Mangos')\n",
        "if 'Grape' in favorite_fruits:\n",
        "    print('You like Mangos')\n"
      ],
      "execution_count": null,
      "outputs": [
        {
          "output_type": "stream",
          "text": [
            "You like Mangos\n",
            "You like Oranges\n",
            "You like Bananas\n"
          ],
          "name": "stdout"
        }
      ]
    },
    {
      "cell_type": "markdown",
      "metadata": {
        "id": "qSl8g-uD7KnS"
      },
      "source": [
        "5-8. Hello Admin: Make a list of five or more usernames, including the name\n",
        "'admin'. Imagine you are writing code that will print a greeting to each user\n",
        "after they log in to a website. Loop through the list, and print a greeting to\n",
        "each user:\n",
        "•\t If the username is 'admin', print a special greeting, such as Hello admin,\n",
        "would you like to see a status report?\n",
        "•\t Otherwise, print a generic greeting, such as Hello Eric, thank you for logging in again."
      ]
    },
    {
      "cell_type": "code",
      "metadata": {
        "id": "3mG7WWV77KnS",
        "outputId": "08e54ccc-6ac5-4400-f8c4-06976ba63b42"
      },
      "source": [
        "username = ['usama', 'rameez', 'sami', 'suneel', 'admin']\n",
        "for i in username:\n",
        "    if i == 'admin':\n",
        "        print(f'Hello {i}, would you like to see a status report?')\n",
        "    else:\n",
        "        print(f'Hello {i}, thank you for logging in again')"
      ],
      "execution_count": null,
      "outputs": [
        {
          "output_type": "stream",
          "text": [
            "Hello usama, thank you for logging in again\n",
            "Hello rameez, thank you for logging in again\n",
            "Hello sami, thank you for logging in again\n",
            "Hello suneel, thank you for logging in again\n",
            "Hello admin, would you like to see a status report?\n"
          ],
          "name": "stdout"
        }
      ]
    },
    {
      "cell_type": "markdown",
      "metadata": {
        "id": "V_3K1j6f7KnS"
      },
      "source": [
        "5-9. No Users: Add an if test to hello_admin.py to make sure the list of users is\n",
        "not empty.\n",
        "•\t If the list is empty, print the message We need to find some users!\n",
        "•\t Remove all of the usernames from your list, and make sure the correct\n",
        "message is printed."
      ]
    },
    {
      "cell_type": "code",
      "metadata": {
        "id": "fDyRPS3n7KnS"
      },
      "source": [
        "username = ['usama', 'rameez', 'sami', 'suneel', 'admin']\n",
        "for i in username:\n",
        "    if username == '':\n",
        "        print('we need to find some users!')"
      ],
      "execution_count": null,
      "outputs": []
    },
    {
      "cell_type": "code",
      "metadata": {
        "id": "S_eWMN-V7KnS",
        "outputId": "58dceab3-af06-49b8-8bde-ebaad8e706b8"
      },
      "source": [
        "username = ['usama', 'rameez', 'sami', 'suneel', 'admin']\n",
        "username.clear()\n",
        "print(username)"
      ],
      "execution_count": null,
      "outputs": [
        {
          "output_type": "stream",
          "text": [
            "[]\n"
          ],
          "name": "stdout"
        }
      ]
    },
    {
      "cell_type": "markdown",
      "metadata": {
        "id": "KintJKoC7KnT"
      },
      "source": [
        "5-10. Checking Usernames: Do the following to create a program that simulates\n",
        "how websites ensure that everyone has a unique username.\n",
        "•\t Make a list of five or more usernames called current_users.\n",
        "•\t Make another list of five usernames called new_users. Make sure one or\n",
        "two of the new usernames are also in the current_users list.\n",
        "•\t Loop through the new_users list to see if each new username has already\n",
        "been used. If it has, print a message that the person will need to enter a\n",
        "new username. If a username has not been used, print a message saying\n",
        "that the username is available.\n",
        "•\t Make sure your comparison is case insensitive. If 'John' has been used,\n",
        "'JOHN' should not be accepted."
      ]
    },
    {
      "cell_type": "code",
      "metadata": {
        "id": "pccr1QjF7KnT",
        "outputId": "09ff298b-7a05-40bc-f8d9-b2f69c2ff683"
      },
      "source": [
        "current_users = ['usama', 'rameez', 'sami', 'suneel', 'zeerak']\n",
        "new_users = ['ather', 'bilal', 'ahmed', 'suneel', 'zeerak']\n",
        "for i in range(len(new_users)):\n",
        "    if new_users[i] == current_users[i]:\n",
        "        print(f'please enter a new username: {new_users[i]} is not accepted')\n",
        "    else:\n",
        "        print('username available')"
      ],
      "execution_count": null,
      "outputs": [
        {
          "output_type": "stream",
          "text": [
            "username available\n",
            "username available\n",
            "username available\n",
            "please enter a new username: suneel is not accepted\n",
            "please enter a new username: zeerak is not accepted\n"
          ],
          "name": "stdout"
        }
      ]
    },
    {
      "cell_type": "markdown",
      "metadata": {
        "id": "XYoCnnRN7KnT"
      },
      "source": [
        "5-11. Ordinal Numbers: Ordinal numbers indicate their position in a list, such\n",
        "as 1st or 2nd. Most ordinal numbers end in th, except 1, 2, and 3.\n",
        "•\t Store the numbers 1 through 9 in a list.\n",
        "•\t Loop through the list.\n",
        "•\t Use an if-elif-else chain inside the loop to print the proper ordinal ending for each number. Your output should read \"1st 2nd 3rd 4th 5th 6th\n",
        "7th 8th 9th\", and each result should be on a separate line."
      ]
    },
    {
      "cell_type": "code",
      "metadata": {
        "id": "ryRvWowP7KnT",
        "outputId": "3ff10742-6a19-4546-a6df-b5b089e545bc"
      },
      "source": [
        "numbers = list(range(1,10))\n",
        "\n",
        "for number in numbers:\n",
        "    if number == 1:\n",
        "        print(\"1st\")\n",
        "    elif number == 2:\n",
        "        print(\"2nd\")\n",
        "    elif number == 3:\n",
        "        print(\"3rd\")\n",
        "    else:\n",
        "        print(str(number) + \"th\")"
      ],
      "execution_count": null,
      "outputs": [
        {
          "output_type": "stream",
          "text": [
            "1st\n",
            "2nd\n",
            "3rd\n",
            "4th\n",
            "5th\n",
            "6th\n",
            "7th\n",
            "8th\n",
            "9th\n"
          ],
          "name": "stdout"
        }
      ]
    },
    {
      "cell_type": "markdown",
      "metadata": {
        "id": "BKPDAgLX7KnU"
      },
      "source": [
        "# Start Solving Chapter 06"
      ]
    },
    {
      "cell_type": "markdown",
      "metadata": {
        "id": "3dFLW1fj7KnU"
      },
      "source": [
        "6-1. Person: Use a dictionary to store information about a person you know.\n",
        "Store their first name, last name, age, and the city in which they live. You\n",
        "should have keys such as first_name, last_name, age, and city. Print each\n",
        "piece of information stored in your dictionary."
      ]
    },
    {
      "cell_type": "code",
      "metadata": {
        "id": "CwW0VEKc7KnU",
        "outputId": "19a3dc98-d601-49ad-ce4a-f7da3eef44ab"
      },
      "source": [
        "person_info = {'first_name': 'Rameez', 'last_name': 'Jalbani', 'age': 21,'city': 'Karachi'}\n",
        "for k,v in person_info.items():\n",
        "    print(v)"
      ],
      "execution_count": null,
      "outputs": [
        {
          "output_type": "stream",
          "text": [
            "Rameez\n",
            "Jalbani\n",
            "21\n",
            "Karachi\n"
          ],
          "name": "stdout"
        }
      ]
    },
    {
      "cell_type": "markdown",
      "metadata": {
        "id": "Y-s8eNQ57KnU"
      },
      "source": [
        "6-2. Favorite Numbers: Use a dictionary to store people’s favorite numbers.\n",
        "Think of five names, and use them as keys in your dictionary. Think of a favorite\n",
        "number for each person, and store each as a value in your dictionary. Print\n",
        "each person’s name and their favorite number. For even more fun, poll a few\n",
        "friends and get some actual data for your program."
      ]
    },
    {
      "cell_type": "code",
      "metadata": {
        "id": "wka6naU-7KnU",
        "outputId": "06a14301-74b7-47d3-fd64-4f7769cdc850"
      },
      "source": [
        "favorite_number = {'rameez': 15, 'suneel': 11, 'ather': 55, 'raheel': 47, 'basit': 8 }\n",
        "for k,v in favorite_number.items():\n",
        "    print(k , 'favorite number is' , v)"
      ],
      "execution_count": null,
      "outputs": [
        {
          "output_type": "stream",
          "text": [
            "rameez favorite number is 15\n",
            "suneel favorite number is 11\n",
            "ather favorite number is 55\n",
            "raheel favorite number is 47\n",
            "basit favorite number is 8\n"
          ],
          "name": "stdout"
        }
      ]
    },
    {
      "cell_type": "markdown",
      "metadata": {
        "id": "he_AR5917KnV"
      },
      "source": [
        "6-5. Rivers: Make a dictionary containing three major rivers and the country\n",
        "each river runs through. One key-value pair might be 'nile': 'egypt'.\n",
        "•\t Use a loop to print a sentence about each river, such as The Nile runs\n",
        "through Egypt.\n",
        "•\t Use a loop to print the name of each river included in the dictionary.\n",
        "•\t Use a loop to print the name of each country included in the dictionary."
      ]
    },
    {
      "cell_type": "code",
      "metadata": {
        "id": "eUPnKJrH7KnV",
        "outputId": "9f396094-ed21-4074-eeb6-de36a1c0b646"
      },
      "source": [
        "rivers = {'pakistan':'indus', 'china': 'Yangtze', 'Turkey':'Tigris'}\n",
        "for k,v in rivers.items():\n",
        "    print(f'{k} runs through {v}.')\n"
      ],
      "execution_count": null,
      "outputs": [
        {
          "output_type": "stream",
          "text": [
            "pakistan runs through indus.\n",
            "china runs through Yangtze.\n",
            "Turkey runs through Tigris.\n"
          ],
          "name": "stdout"
        }
      ]
    },
    {
      "cell_type": "markdown",
      "metadata": {
        "id": "33a3pqaK7KnV"
      },
      "source": [
        "6-7. People: Start with the program you wrote for Exercise 6-1 (page 102).\n",
        "Make two new dictionaries representing different people, and store all three\n",
        "dictionaries in a list called people. Loop through your list of people. As you\n",
        "loop through the list, print everything you know about each person"
      ]
    },
    {
      "cell_type": "code",
      "metadata": {
        "id": "htE2Ss4s7KnV",
        "outputId": "63039b8e-bcf0-4a97-ba23-b8fa4e5dd531"
      },
      "source": [
        "person_info1 = {'first_name': 'Rameez', 'last_name': 'Jalbani', 'age': 21,'city': 'Karachi'}\n",
        "person_info2 = {'first_name': 'Suneel', 'last_name': 'Kumar', 'age': 19,'city': 'Karachi'}\n",
        "person_info3 = {'first_name': 'Usman', 'last_name': 'Khan', 'age': 20,'city': 'Karachi'}\n",
        "people = [person_info1, person_info2, person_info3]\n",
        "for i in range(len(people)):\n",
        "    for j in people[i].values():\n",
        "        print(j, end=' ')\n",
        "    print()\n",
        "               "
      ],
      "execution_count": null,
      "outputs": [
        {
          "output_type": "stream",
          "text": [
            "Rameez Jalbani 21 Karachi \n",
            "Suneel Kumar 19 Karachi \n",
            "Usman Khan 20 Karachi \n"
          ],
          "name": "stdout"
        }
      ]
    },
    {
      "cell_type": "markdown",
      "metadata": {
        "id": "zVktYgu67KnV"
      },
      "source": [
        "6-11. Cities: Make a dictionary called cities. Use the names of three cities as\n",
        "keys in your dictionary. Create a dictionary of information about each city and\n",
        "include the country that the city is in, its approximate population, and one fact\n",
        "about that city. The keys for each city’s dictionary should be something like\n",
        "country, population, and fact. Print the name of each city and all of the information you have stored about it."
      ]
    },
    {
      "cell_type": "code",
      "metadata": {
        "id": "lpYUx8Z77KnW",
        "outputId": "97b18397-16d2-4f2d-ec97-01d8f58874b5"
      },
      "source": [
        "cities = {\n",
        "    'Karachi': {\n",
        "        'country': 'Pakistan',\n",
        "        'population': 14.91000000,\n",
        "        'nearby mountains': 'Khasa hills',\n",
        "        },\n",
        "    'Lahore': {\n",
        "        'country': 'Pakistan',\n",
        "        'population': 11.13000000,\n",
        "        'nearby mountains': 'Shimia Hill',\n",
        "        },\n",
        "    'Islamabad': {\n",
        "        'country': 'Pakistan',\n",
        "        'population': 1.015000000,\n",
        "        'nearby mountains': 'Margala Hill',\n",
        "        }\n",
        "    }\n",
        "\n",
        "for city, city_info in cities.items():\n",
        "    country = city_info['country'].title()\n",
        "    population = city_info['population']\n",
        "    mountains = city_info['nearby mountains'].title()\n",
        "\n",
        "    print(\"\\n\" + city.title() + \" is in \" + country + \".\")\n",
        "    print(\"  It has a population of about \" + str(population) + \".\")\n",
        "    print(\"  The \" + mountains + \" mountains are nearby.\")"
      ],
      "execution_count": null,
      "outputs": [
        {
          "output_type": "stream",
          "text": [
            "\n",
            "Karachi is in Pakistan.\n",
            "  It has a population of about 14.91.\n",
            "  The Khasa Hills mountains are nearby.\n",
            "\n",
            "Lahore is in Pakistan.\n",
            "  It has a population of about 11.13.\n",
            "  The Shimia Hill mountains are nearby.\n",
            "\n",
            "Islamabad is in Pakistan.\n",
            "  It has a population of about 1.015.\n",
            "  The Margala Hill mountains are nearby.\n"
          ],
          "name": "stdout"
        }
      ]
    },
    {
      "cell_type": "markdown",
      "metadata": {
        "id": "V6wZFMAx7KnW"
      },
      "source": [
        "# Start Solving Chapter 07 "
      ]
    },
    {
      "cell_type": "markdown",
      "metadata": {
        "id": "JDri6vzE7KnW"
      },
      "source": [
        "7-1. Rental Car: Write a program that asks the user what kind of rental car they\n",
        "would like. Print a message about that car, such as “Let me see if I can find you\n",
        "a Subaru.”"
      ]
    },
    {
      "cell_type": "code",
      "metadata": {
        "id": "wOEwFKz37KnW",
        "outputId": "2d86a1ee-0b6d-43e9-8145-aab4f88729e6"
      },
      "source": [
        "user_input = input('what kind of rental car you would like?')\n",
        "print(f'Let me see if I can find you a {user_input}')"
      ],
      "execution_count": null,
      "outputs": [
        {
          "output_type": "stream",
          "text": [
            "what kind of rental car you would like?suzuki\n",
            "Let me see if I can find you a suzuki\n"
          ],
          "name": "stdout"
        }
      ]
    },
    {
      "cell_type": "markdown",
      "metadata": {
        "id": "TbXbZhew7KnW"
      },
      "source": [
        "7-2. Restaurant Seating: Write a program that asks the user how many people\n",
        "are in their dinner group. If the answer is more than eight, print a message saying they’ll have to wait for a table. Otherwise, report that their table is ready."
      ]
    },
    {
      "cell_type": "code",
      "metadata": {
        "id": "NpXkThZW7KnX",
        "outputId": "b03c6b6d-9842-4af3-c677-b4ab1152655c"
      },
      "source": [
        "dinner_table = int(input('how many people are in your dinner group'))\n",
        "if dinner_table > 8:\n",
        "    print('you’ll have to wait for a table')\n",
        "else:\n",
        "    print('table is ready')"
      ],
      "execution_count": null,
      "outputs": [
        {
          "output_type": "stream",
          "text": [
            "how many people are in your dinner group5\n",
            "table is ready\n"
          ],
          "name": "stdout"
        }
      ]
    },
    {
      "cell_type": "markdown",
      "metadata": {
        "id": "PLT6ceuI7KnX"
      },
      "source": [
        "7-3. Multiples of Ten: Ask the user for a number, and then report whether the\n",
        "number is a multiple of 10 or not."
      ]
    },
    {
      "cell_type": "code",
      "metadata": {
        "id": "sut1leSB7KnX",
        "outputId": "70870193-2298-4181-da1d-32bcdfd48c72"
      },
      "source": [
        "ten_multiple = int(input('Enter a number: '))\n",
        "if ten_multiple%10 == 0:\n",
        "    print(f'{ten_multiple} is muliple of 10')\n",
        "else:\n",
        "    print(f'{ten_multiple} is not muliple of 10')"
      ],
      "execution_count": null,
      "outputs": [
        {
          "output_type": "stream",
          "text": [
            "Enter a number: 5\n",
            "5 is not muliple of 10\n"
          ],
          "name": "stdout"
        }
      ]
    },
    {
      "cell_type": "markdown",
      "metadata": {
        "id": "oVZh2YOo7KnX"
      },
      "source": [
        "7-4. Pizza Toppings: Write a loop that prompts the user to enter a series of\n",
        "pizza toppings until they enter a 'quit' value. As they enter each topping,\n",
        "print a message saying you’ll add that topping to their pizza."
      ]
    },
    {
      "cell_type": "code",
      "metadata": {
        "id": "mFUOgwhL7KnX",
        "outputId": "82cad2ad-a871-4550-9493-ab8e722522e3"
      },
      "source": [
        "flag = True\n",
        "while(flag):\n",
        "    toping_input = input('Enter Topping name or write quit to exit: ')\n",
        "    print('you’ll add that topping to their pizza.')\n",
        "    if toping_input == 'quit':\n",
        "        flag = False\n"
      ],
      "execution_count": null,
      "outputs": [
        {
          "output_type": "stream",
          "text": [
            "Enter Topping name or write quit to exit: abs\n",
            "you’ll add that topping to their pizza.\n",
            "Enter Topping name or write quit to exit: aasd\n",
            "you’ll add that topping to their pizza.\n",
            "Enter Topping name or write quit to exit: quit\n",
            "you’ll add that topping to their pizza.\n"
          ],
          "name": "stdout"
        }
      ]
    },
    {
      "cell_type": "markdown",
      "metadata": {
        "id": "oWKkBJeP7KnX"
      },
      "source": [
        "7-8. Deli: Make a list called sandwich_orders and fill it with the names of various sandwiches. Then make an empty list called finished_sandwiches. Loop\n",
        "through the list of sandwich orders and print a message for each order, such\n",
        "as I made your tuna sandwich. As each sandwich is made, move it to the list\n",
        "of finished sandwiches. After all the sandwiches have been made, print a\n",
        "message listing each sandwich that was made"
      ]
    },
    {
      "cell_type": "code",
      "metadata": {
        "id": "Ops0Nd2O7KnY",
        "outputId": "6555550b-834f-4388-cb2f-0fc135ffa5f7"
      },
      "source": [
        "sandwich_orders = ['cheez', 'chicken', 'egg']\n",
        "finished_sandwiches =[]\n",
        "for i in sandwich_orders:\n",
        "    print(f'i made your {i} sandwich')\n",
        "    finished_sandwiches.append(i)"
      ],
      "execution_count": null,
      "outputs": [
        {
          "output_type": "stream",
          "text": [
            "i made your cheez sandwich\n",
            "i made your chicken sandwich\n",
            "i made your egg sandwich\n"
          ],
          "name": "stdout"
        }
      ]
    },
    {
      "cell_type": "markdown",
      "metadata": {
        "id": "rt4e4Hr87KnY"
      },
      "source": [
        "7-9. No Pastrami: Using the list sandwich_orders from Exercise 7-8, make sure\n",
        "the sandwich 'pastrami' appears in the list at least three times. Add code\n",
        "near the beginning of your program to print a message saying the deli has\n",
        "run out of pastrami, and then use a while loop to remove all occurrences of\n",
        "'pastrami' from sandwich_orders. Make sure no pastrami sandwiches end up\n",
        "in finished_sandwiches."
      ]
    },
    {
      "cell_type": "code",
      "metadata": {
        "id": "MkSsgM6I7KnY"
      },
      "source": [
        "# appending pastrami in sandwich_orders list\n",
        "sandwich_orders.append('pastrami')"
      ],
      "execution_count": null,
      "outputs": []
    },
    {
      "cell_type": "code",
      "metadata": {
        "id": "b0dWYiIv7KnY",
        "outputId": "cc9814c9-a192-4c26-8329-54d771fb5347"
      },
      "source": [
        "# checking sandwich list\n",
        "print(sandwich_orders)"
      ],
      "execution_count": null,
      "outputs": [
        {
          "output_type": "stream",
          "text": [
            "['cheez', 'chicken', 'egg', 'pastrami', 'pastrami', 'pastrami']\n"
          ],
          "name": "stdout"
        }
      ]
    },
    {
      "cell_type": "code",
      "metadata": {
        "id": "_L9nhiLz7KnY",
        "outputId": "2fa710f7-6534-4fa6-b5e5-140c2222a012"
      },
      "source": [
        "# now coding for program 7.9\n",
        "print('the deli has run out of pastrami')\n",
        "while sandwich_orders:\n",
        "    current_sandwich = sandwich_orders.pop()\n",
        "    print(\"I'm working on your \" + current_sandwich + \" sandwich.\")\n",
        "    finished_sandwiches.append(current_sandwich)\n",
        "\n",
        "print(sandwich_orders)"
      ],
      "execution_count": null,
      "outputs": [
        {
          "output_type": "stream",
          "text": [
            "the deli has run out of pastrami\n",
            "[]\n"
          ],
          "name": "stdout"
        }
      ]
    },
    {
      "cell_type": "markdown",
      "metadata": {
        "id": "U3tFA1la7KnY"
      },
      "source": [
        "# Start Solving chapter 08"
      ]
    },
    {
      "cell_type": "markdown",
      "metadata": {
        "id": "dTmImhoe7KnZ"
      },
      "source": [
        "8-2. Favorite Book: Write a function called favorite_book() that accepts one\n",
        "parameter, title. The function should print a message, such as One of my\n",
        "favorite books is Alice in Wonderland. Call the function, making sure to\n",
        "include a book title as an argument in the function call."
      ]
    },
    {
      "cell_type": "code",
      "metadata": {
        "id": "tENXy6B47KnZ",
        "outputId": "1d585a55-d4b8-4e70-84bf-779c36f9139a"
      },
      "source": [
        "def favorite_book(title):\n",
        "    print(f'one of my favorite book is {title}')\n",
        "favorite_book('Alice in Wonderland')"
      ],
      "execution_count": null,
      "outputs": [
        {
          "output_type": "stream",
          "text": [
            "one of my favorite book is Alice in Wonderland\n"
          ],
          "name": "stdout"
        }
      ]
    },
    {
      "cell_type": "markdown",
      "metadata": {
        "id": "UJDcXOhD7KnZ"
      },
      "source": [
        "8-3. T-Shirt: Write a function called make_shirt() that accepts a size and the\n",
        "text of a message that should be printed on the shirt. The function should print\n",
        "a sentence summarizing the size of the shirt and the message printed on it.\n",
        "Call the function once using positional arguments to make a shirt. Call the\n",
        "function a second time using keyword arguments."
      ]
    },
    {
      "cell_type": "code",
      "metadata": {
        "id": "0Pu_Dopw7KnZ",
        "outputId": "7a2bcbb8-aa4c-407b-feaa-690499e94819"
      },
      "source": [
        "# using function argument\n",
        "def make_shirt(size, text_message = 'hello world'):\n",
        "    print(f'size of shirt is {size}')\n",
        "    print(f'message of shirt is {text_message}')\n",
        "make_shirt(23, 'Hello world')"
      ],
      "execution_count": null,
      "outputs": [
        {
          "output_type": "stream",
          "text": [
            "size of shirt is 23\n",
            "message of shirt is Hello world\n"
          ],
          "name": "stdout"
        }
      ]
    },
    {
      "cell_type": "code",
      "metadata": {
        "id": "6Y64T61_7KnZ",
        "outputId": "f1a16dc4-d4cc-493f-fdb3-867b46d9921b"
      },
      "source": [
        "# using keyword argument\n",
        "def make_shirt(size, text_message = 'hello world'):\n",
        "    print(f'size of shirt is {size}')\n",
        "    print(f'message of shirt is {text_message}')\n",
        "make_shirt(34, text_message = 'Hello world')"
      ],
      "execution_count": null,
      "outputs": [
        {
          "output_type": "stream",
          "text": [
            "size of shirt is 34\n",
            "message of shirt is Hello world\n"
          ],
          "name": "stdout"
        }
      ]
    },
    {
      "cell_type": "markdown",
      "metadata": {
        "id": "q981yxTB7KnZ"
      },
      "source": [
        "8-5. Cities: Write a function called describe_city() that accepts the name of\n",
        "a city and its country. The function should print a simple sentence, such as\n",
        "Reykjavik is in Iceland. Give the parameter for the country a default value.\n",
        "Call your function for three different cities, at least one of which is not in the\n",
        "default country"
      ]
    },
    {
      "cell_type": "code",
      "metadata": {
        "id": "vx9H9uM37Kna",
        "outputId": "ca0729d2-c059-49cc-d89f-20531e1f496a"
      },
      "source": [
        "def describe_city(city_name = 'Reykjavik'):\n",
        "    print(f'{city_name} is and iceland')\n",
        "describe_city('karachi')\n",
        "describe_city('islamabad')\n",
        "describe_city('Lahore')\n"
      ],
      "execution_count": null,
      "outputs": [
        {
          "output_type": "stream",
          "text": [
            "karachi is and iceland\n",
            "islamabad is and iceland\n",
            "Lahore is and iceland\n"
          ],
          "name": "stdout"
        }
      ]
    },
    {
      "cell_type": "markdown",
      "metadata": {
        "id": "mJHot7ov7Kna"
      },
      "source": [
        "8-6. City Names: Write a function called city_country() that takes in the name\n",
        "of a city and its country. The function should return a string formatted like this:\n",
        "\"Santiago, Chile\"\n",
        "Call your function with at least three city-country pairs, and print the value\n",
        "that’s returned."
      ]
    },
    {
      "cell_type": "code",
      "metadata": {
        "id": "4Zzn2_0J7Kna",
        "outputId": "357bb6aa-fbf4-48d0-c34f-e78215d41b6a"
      },
      "source": [
        "def city_country(city_name, city_country):\n",
        "    return city_name + ', ' + city_country\n",
        "city_country('Karachi', 'Pakistan')\n",
        "city_country('lahore', 'Pakistan')\n",
        "city_country('islamabad', 'Pakistan')"
      ],
      "execution_count": null,
      "outputs": [
        {
          "output_type": "execute_result",
          "data": {
            "text/plain": [
              "'islamabad, Pakistan'"
            ]
          },
          "metadata": {
            "tags": []
          },
          "execution_count": 42
        }
      ]
    },
    {
      "cell_type": "markdown",
      "metadata": {
        "id": "uiCytq7c7Kna"
      },
      "source": [
        "8-7. Album: Write a function called make_album() that builds a dictionary\n",
        "describing a music album. The function should take in an artist name and an\n",
        "album title, and it should return a dictionary containing these two pieces of\n",
        "information. Use the function to make three dictionaries representing different\n",
        "albums. Print each return value to show that the dictionaries are storing the\n",
        "album information correctly.\n",
        "Add an optional parameter to make_album() that allows you to store the\n",
        "number of tracks on an album. If the calling line includes a value for the number of tracks, add that value to the album’s dictionary. Make at least one new\n",
        "function call that includes the number of tracks on an album."
      ]
    },
    {
      "cell_type": "code",
      "metadata": {
        "id": "r736M33b7Kna",
        "outputId": "8d33045c-f2f8-49a0-d043-0483b22ee5df"
      },
      "source": [
        "def make_album(artist_name, album_title):\n",
        "    album = {}\n",
        "    album[artist_name] = album_title\n",
        "    return album\n",
        "dic1 = make_album('K.m', 'Hello Wolrd')\n",
        "print(dic1)\n",
        "dic2 = make_album('V.m', 'Hello Wolrd2')\n",
        "print(dic2)\n",
        "dic3 = make_album('T.m', 'Hellooo Wolrd')\n",
        "print(dic3)"
      ],
      "execution_count": null,
      "outputs": [
        {
          "output_type": "stream",
          "text": [
            "{'K.m': 'Hello Wolrd'}\n",
            "{'V.m': 'Hello Wolrd2'}\n",
            "{'T.m': 'Hellooo Wolrd'}\n"
          ],
          "name": "stdout"
        }
      ]
    },
    {
      "cell_type": "markdown",
      "metadata": {
        "id": "thhLrwNv7Knb"
      },
      "source": [
        "8-9. Magicians: Make a list of magician’s names. Pass the list to a function\n",
        "called show_magicians(), which prints the name of each magician in the list."
      ]
    },
    {
      "cell_type": "code",
      "metadata": {
        "id": "v8vnvRX07Knb",
        "outputId": "4fb8b2cb-ee4f-4cc9-e4e7-afb576585fb1"
      },
      "source": [
        "magician_names = ['Harry Potter', 'Albus Dumbuldore', 'Hermioni Gringle']\n",
        "def show_magicians(magician_names):\n",
        "    for i in magician_names:\n",
        "        return magician_names\n",
        "show_magicians(magician_names)"
      ],
      "execution_count": null,
      "outputs": [
        {
          "output_type": "execute_result",
          "data": {
            "text/plain": [
              "['Harry Potter', 'Albus Dumbuldore', 'Hermioni Gringle']"
            ]
          },
          "metadata": {
            "tags": []
          },
          "execution_count": 52
        }
      ]
    },
    {
      "cell_type": "markdown",
      "metadata": {
        "id": "7TolGTYj7Knb"
      },
      "source": [
        "8-10. Great Magicians: Start with a copy of your program from Exercise 8-9.\n",
        "Write a function called make_great() that modifies the list of magicians by adding the phrase the Great to each magician’s name. Call show_magicians() to\n",
        "see that the list has actually been modified."
      ]
    },
    {
      "cell_type": "code",
      "metadata": {
        "id": "-75U0Xs67Knb",
        "outputId": "cb4ebcc0-be97-4a23-c9a3-f83e95042e79"
      },
      "source": [
        "def make_great(magician_names):\n",
        "    great_magician_names = []\n",
        "    for i in magician_names:\n",
        "        var = 'the great '+ i \n",
        "        great_magician_names.append(var)\n",
        "    return great_magician_names\n",
        "make_great(magician_names)"
      ],
      "execution_count": null,
      "outputs": [
        {
          "output_type": "execute_result",
          "data": {
            "text/plain": [
              "['the great Harry Potter',\n",
              " 'the great Albus Dumbuldore',\n",
              " 'the great Hermioni Gringle']"
            ]
          },
          "metadata": {
            "tags": []
          },
          "execution_count": 56
        }
      ]
    },
    {
      "cell_type": "markdown",
      "metadata": {
        "id": "PEtKJzzF7Knb"
      },
      "source": [
        "8-12. Sandwiches: Write a function that accepts a list of items a person wants\n",
        "on a sandwich. The function should have one parameter that collects as many\n",
        "items as the function call provides, and it should print a summary of the sandwich that is being ordered. Call the function three times, using a different number of arguments each time"
      ]
    },
    {
      "cell_type": "code",
      "metadata": {
        "id": "Sx1hlTMd7Knb",
        "outputId": "c8a843e1-7201-4e3f-ecce-8f1058bdc780"
      },
      "source": [
        "def make_sandwich(*items):\n",
        "    print(\"\\nI'll make you a great sandwich:\")\n",
        "    for item in items:\n",
        "        print(\"  ...adding \" + item + \" to your sandwich.\")\n",
        "    print(\"Your sandwich is ready!\")\n",
        "\n",
        "make_sandwich('roast beef', 'cheddar cheese', 'lettuce', 'honey dijon')\n",
        "make_sandwich('turkey', 'apple slices', 'honey mustard')\n",
        "make_sandwich('peanut butter', 'strawberry jam')\n"
      ],
      "execution_count": null,
      "outputs": [
        {
          "output_type": "stream",
          "text": [
            "\n",
            "I'll make you a great sandwich:\n",
            "  ...adding roast beef to your sandwich.\n",
            "  ...adding cheddar cheese to your sandwich.\n",
            "  ...adding lettuce to your sandwich.\n",
            "  ...adding honey dijon to your sandwich.\n",
            "Your sandwich is ready!\n",
            "\n",
            "I'll make you a great sandwich:\n",
            "  ...adding turkey to your sandwich.\n",
            "  ...adding apple slices to your sandwich.\n",
            "  ...adding honey mustard to your sandwich.\n",
            "Your sandwich is ready!\n",
            "\n",
            "I'll make you a great sandwich:\n",
            "  ...adding peanut butter to your sandwich.\n",
            "  ...adding strawberry jam to your sandwich.\n",
            "Your sandwich is ready!\n"
          ],
          "name": "stdout"
        }
      ]
    },
    {
      "cell_type": "markdown",
      "metadata": {
        "id": "2mzwaote7Knc"
      },
      "source": [
        "8-14. Cars: Write a function that stores information about a car in a dictionary. The function should always receive a manufacturer and a model name. It\n",
        "should then accept an arbitrary number of keyword arguments. Call the function with the required information and two other name-value pairs, such as a\n",
        "color or an optional feature. Your function should work for a call like this one:\n",
        "car = make_car('subaru', 'outback', color='blue', tow_package=True)\n",
        "Print the dictionary that’s returned to make sure all the information was\n",
        "stored correctly."
      ]
    },
    {
      "cell_type": "code",
      "metadata": {
        "id": "kAq1WUSf7Knc",
        "outputId": "b2b57c92-7c6d-4826-bad5-716b2f54f737"
      },
      "source": [
        "def make_car(manufacturer, model, **options):\n",
        "    car_dict = {\n",
        "        'manufacturer': manufacturer.title(),\n",
        "        'model': model.title(),\n",
        "        }\n",
        "    for option, value in options.items():\n",
        "        car_dict[option] = value\n",
        "\n",
        "    return car_dict\n",
        "\n",
        "my_outback = make_car('Honda', 'cd70', color='Black', tow_package=True)\n",
        "print(my_outback)\n",
        "\n",
        "my_accord = make_car('honda', 'accord', year=1991, color='white',\n",
        "        headlights='popup')\n",
        "print(my_accord)"
      ],
      "execution_count": null,
      "outputs": [
        {
          "output_type": "stream",
          "text": [
            "{'manufacturer': 'Honda', 'model': 'Cd70', 'color': 'Black', 'tow_package': True}\n",
            "{'manufacturer': 'Honda', 'model': 'Accord', 'year': 1991, 'color': 'white', 'headlights': 'popup'}\n"
          ],
          "name": "stdout"
        }
      ]
    },
    {
      "cell_type": "code",
      "metadata": {
        "id": "a5B83-oe7Knc"
      },
      "source": [
        ""
      ],
      "execution_count": null,
      "outputs": []
    },
    {
      "cell_type": "markdown",
      "metadata": {
        "id": "X4Sa4fWd7OBm"
      },
      "source": [
        "# Start Solving Chapter 09"
      ]
    },
    {
      "cell_type": "markdown",
      "metadata": {
        "id": "H0NVG3cl7aNR"
      },
      "source": [
        "9-1. Restaurant: Make a class called Restaurant. The __init__() method for\r\n",
        "Restaurant should store two attributes: a restaurant_name and a cuisine_type.\r\n",
        "Make a method called describe_restaurant() that prints these two pieces of\r\n",
        "information, and a method called open_restaurant() that prints a message indicating that the restaurant is open.\r\n",
        "Make an instance called restaurant from your class. Print the two attributes individually, and then call both methods.\r\n",
        "\r\n",
        "9-2. Three Restaurants: Start with your class from Exercise 9-1. Create three\r\n",
        "different instances from the class, and call describe_restaurant() for each\r\n",
        "instance.\r\n",
        "\r\n",
        "9-4. Number Served: Start with your program from Exercise 9-1 (page 166).\r\n",
        "Add an attribute called number_served with a default value of 0. Create an\r\n",
        "instance called restaurant from this class. Print the number of customers the\r\n",
        "restaurant has served, and then change this value and print it again.\r\n",
        "Add a method called set_number_served() that lets you set the number\r\n",
        "of customers that have been served. Call this method with a new number and\r\n",
        "print the value again.\r\n",
        "Add a method called increment_number_served() that lets you increment\r\n",
        "the number of customers who’ve been served. Call this method with any number you like that could represent how many customers were served in, say, a\r\n",
        "day of business."
      ]
    },
    {
      "cell_type": "code",
      "metadata": {
        "id": "Oi1mahuX7dU7"
      },
      "source": [
        "class Restaurant():\r\n",
        "  def __init__(self, restaurant_name, cuisine_type):\r\n",
        "    self.restaurant_name =restaurant_name\r\n",
        "    self.cuisine_type =cuisine_type\r\n",
        "    self.number_serverd = 0\r\n",
        "  def describe_restaurant(self):\r\n",
        "    print(f'The retaurant name is {self.restaurant_name} and cuisine type is {self.cuisine_type}')  \r\n",
        "  def open_restaurant(self):\r\n",
        "    print('Restaurant is open')\r\n",
        "  def set_number_served(self, num):\r\n",
        "    self.number_serverd = num\r\n",
        "  def increment_number_served(self, newNum):\r\n",
        "    self.number_serverd += newNum"
      ],
      "execution_count": null,
      "outputs": []
    },
    {
      "cell_type": "code",
      "metadata": {
        "id": "2s05XhQ08HXr"
      },
      "source": [
        "restaurant = Restaurant('Javed nihari', 'Nihari')"
      ],
      "execution_count": 16,
      "outputs": []
    },
    {
      "cell_type": "code",
      "metadata": {
        "colab": {
          "base_uri": "https://localhost:8080/"
        },
        "id": "_F4K9UIMFiWz",
        "outputId": "baa2a2da-c7dd-47d1-98c5-0f08205e8f7d"
      },
      "source": [
        "restaurant.number_serverd = 10\r\n",
        "restaurant.number_serverd"
      ],
      "execution_count": 17,
      "outputs": [
        {
          "output_type": "execute_result",
          "data": {
            "text/plain": [
              "10"
            ]
          },
          "metadata": {
            "tags": []
          },
          "execution_count": 17
        }
      ]
    },
    {
      "cell_type": "code",
      "metadata": {
        "id": "wKY_MLyMFjBh"
      },
      "source": [
        "restaurant.set_number_served(50)"
      ],
      "execution_count": 19,
      "outputs": []
    },
    {
      "cell_type": "code",
      "metadata": {
        "colab": {
          "base_uri": "https://localhost:8080/"
        },
        "id": "Q192lYNnFlZp",
        "outputId": "89860ce8-6e80-4e5f-b896-3feaae720c6b"
      },
      "source": [
        "restaurant.increment_number_served(20)\r\n",
        "restaurant.number_serverd"
      ],
      "execution_count": 21,
      "outputs": [
        {
          "output_type": "execute_result",
          "data": {
            "text/plain": [
              "70"
            ]
          },
          "metadata": {
            "tags": []
          },
          "execution_count": 21
        }
      ]
    },
    {
      "cell_type": "code",
      "metadata": {
        "id": "25GstEE6FwlI"
      },
      "source": [
        ""
      ],
      "execution_count": null,
      "outputs": []
    },
    {
      "cell_type": "code",
      "metadata": {
        "id": "qmuhvRde8H4j",
        "colab": {
          "base_uri": "https://localhost:8080/"
        },
        "outputId": "b9e87e3c-3c42-44d5-8ce6-1664212f6ba4"
      },
      "source": [
        "restaurant.number_serverd"
      ],
      "execution_count": 20,
      "outputs": [
        {
          "output_type": "execute_result",
          "data": {
            "text/plain": [
              "50"
            ]
          },
          "metadata": {
            "tags": []
          },
          "execution_count": 20
        }
      ]
    },
    {
      "cell_type": "code",
      "metadata": {
        "id": "VZmnP34r8O9z",
        "colab": {
          "base_uri": "https://localhost:8080/"
        },
        "outputId": "4b77add1-11c2-42c2-ee93-87edd18c18cb"
      },
      "source": [
        "restaurant.open_restaurant()"
      ],
      "execution_count": null,
      "outputs": [
        {
          "output_type": "stream",
          "text": [
            "Restaurant is open\n"
          ],
          "name": "stdout"
        }
      ]
    },
    {
      "cell_type": "code",
      "metadata": {
        "id": "OtoW8rlD8zAT",
        "colab": {
          "base_uri": "https://localhost:8080/"
        },
        "outputId": "7422df60-1e3a-4d75-a5aa-2b5c2617511c"
      },
      "source": [
        "restaurant.describe_restaurant()"
      ],
      "execution_count": null,
      "outputs": [
        {
          "output_type": "stream",
          "text": [
            "The retaurant name is Javed nihari and cuisine type is Nihari\n"
          ],
          "name": "stdout"
        }
      ]
    },
    {
      "cell_type": "code",
      "metadata": {
        "id": "DquakESY82jL"
      },
      "source": [
        "restaurant1 = Restaurant('Toodo', 'Biryani')"
      ],
      "execution_count": null,
      "outputs": []
    },
    {
      "cell_type": "code",
      "metadata": {
        "id": "we-DcHs686uz"
      },
      "source": [
        "restaurant2 = Restaurant('Thirsty', 'Juice')"
      ],
      "execution_count": null,
      "outputs": []
    },
    {
      "cell_type": "code",
      "metadata": {
        "id": "ByefNb7o882U"
      },
      "source": [
        "restaurant3 = Restaurant('Gulab Pan', 'Pan')"
      ],
      "execution_count": null,
      "outputs": []
    },
    {
      "cell_type": "code",
      "metadata": {
        "id": "-e3w-ZDM9Ihb",
        "colab": {
          "base_uri": "https://localhost:8080/"
        },
        "outputId": "35701618-a1f4-4798-b396-66d4ddd86a38"
      },
      "source": [
        "restaurant1.describe_restaurant()\r\n",
        "restaurant2.describe_restaurant()\r\n",
        "restaurant3.describe_restaurant()"
      ],
      "execution_count": null,
      "outputs": [
        {
          "output_type": "stream",
          "text": [
            "The retaurant name is Toodo and cuisine type is Biryani\n",
            "The retaurant name is Thirsty and cuisine type is Juice\n",
            "The retaurant name is Gulab Pan and cuisine type is Pan\n"
          ],
          "name": "stdout"
        }
      ]
    },
    {
      "cell_type": "markdown",
      "metadata": {
        "id": "GOPpJg7pEcyY"
      },
      "source": [
        "9-3. Users: Make a class called User. Create two attributes called first_name\r\n",
        "and last_name, and then create several other attributes that are typically stored\r\n",
        "in a user profile. Make a method called describe_user() that prints a summary\r\n",
        "of the user’s information. Make another method called greet_user() that prints\r\n",
        "a personalized greeting to the user.\r\n",
        "Create several instances representing different users, and call both methods\r\n",
        "for each user.\r\n",
        "\r\n",
        "9-5. Login Attempts: Add an attribute called login_attempts to your User\r\n",
        "class from Exercise 9-3 (page 166). Write a method called increment_\r\n",
        "login_attempts() that increments the value of login_attempts by 1. Write\r\n",
        "another method called reset_login_attempts() that resets the value of login_\r\n",
        "attempts to 0.\r\n",
        "Make an instance of the User class and call increment_login_attempts()\r\n",
        "several times. Print the value of login_attempts to make sure it was incremented\r\n",
        "properly, and then call reset_login_attempts(). Print login_attempts again to\r\n",
        "make sure it was reset to 0."
      ]
    },
    {
      "cell_type": "code",
      "metadata": {
        "id": "J34ATs0BEdS9"
      },
      "source": [
        "class User():\r\n",
        "  def __init__(self, first_name, lastt_name, depart):\r\n",
        "    self.first_name =first_name\r\n",
        "    self.lastt_name =lastt_name\r\n",
        "    self.depart = depart\r\n",
        "    self.login_attempts = 0\r\n",
        "  def describe_user(self):\r\n",
        "    print(f'The User infroamtion:\\nname: {self.first_name}\\nlast name:  {self.lastt_name}\\ndepartment: {self.depart}')  \r\n",
        "  def greet_user(self):\r\n",
        "    print(f'Welcome to {self.first_name} in our {self.depart} department')\r\n",
        "  def increment_login_attempts(self):\r\n",
        "    self.login_attempts +=1 \r\n",
        "  def reset_login_attempts(self):\r\n",
        "    self.login_attempts = 0"
      ],
      "execution_count": 13,
      "outputs": []
    },
    {
      "cell_type": "code",
      "metadata": {
        "id": "dd9GACL2Equx"
      },
      "source": [
        "user1 = User('Usama', 'Rajput', 'IT')\r\n",
        "user2 = User('Suneel', 'Kumar', 'IT')"
      ],
      "execution_count": 14,
      "outputs": []
    },
    {
      "cell_type": "code",
      "metadata": {
        "colab": {
          "base_uri": "https://localhost:8080/"
        },
        "id": "_A_Eb72UEs35",
        "outputId": "dab3559c-6ade-4142-a23f-81160e14d7da"
      },
      "source": [
        "user1.describe_user()\r\n",
        "user2.describe_user()\r\n",
        "user1.greet_user()\r\n",
        "user2.greet_user()"
      ],
      "execution_count": 15,
      "outputs": [
        {
          "output_type": "stream",
          "text": [
            "The User infroamtion:\n",
            "name: Usama\n",
            "last name:  Rajput\n",
            "department: IT\n",
            "The User infroamtion:\n",
            "name: Suneel\n",
            "last name:  Kumar\n",
            "department: IT\n",
            "Welcome to Usama in our IT department\n",
            "Welcome to Suneel in our IT department\n"
          ],
          "name": "stdout"
        }
      ]
    },
    {
      "cell_type": "code",
      "metadata": {
        "colab": {
          "base_uri": "https://localhost:8080/"
        },
        "id": "LCpz4hltE7bR",
        "outputId": "5273b45a-40a5-4e04-b6ad-844b0b3859b4"
      },
      "source": [
        "user1.increment_login_attempts()\r\n",
        "user1.login_attempts"
      ],
      "execution_count": 22,
      "outputs": [
        {
          "output_type": "execute_result",
          "data": {
            "text/plain": [
              "1"
            ]
          },
          "metadata": {
            "tags": []
          },
          "execution_count": 22
        }
      ]
    },
    {
      "cell_type": "code",
      "metadata": {
        "id": "nveItIfcGLFo",
        "outputId": "b5ad2020-5dd0-44d4-a140-eafd22dfffb3",
        "colab": {
          "base_uri": "https://localhost:8080/"
        }
      },
      "source": [
        "user1.increment_login_attempts()\r\n",
        "user1.login_attempts"
      ],
      "execution_count": 23,
      "outputs": [
        {
          "output_type": "execute_result",
          "data": {
            "text/plain": [
              "2"
            ]
          },
          "metadata": {
            "tags": []
          },
          "execution_count": 23
        }
      ]
    },
    {
      "cell_type": "code",
      "metadata": {
        "id": "aQluz3jWGLWg",
        "outputId": "ff0b1411-c059-4fe1-a8db-580f0680fee8",
        "colab": {
          "base_uri": "https://localhost:8080/"
        }
      },
      "source": [
        "user1.increment_login_attempts()\r\n",
        "user1.login_attempts"
      ],
      "execution_count": 24,
      "outputs": [
        {
          "output_type": "execute_result",
          "data": {
            "text/plain": [
              "3"
            ]
          },
          "metadata": {
            "tags": []
          },
          "execution_count": 24
        }
      ]
    },
    {
      "cell_type": "code",
      "metadata": {
        "id": "VRl8UgcBGLkX",
        "outputId": "de429773-66d2-41d2-889b-ba097ec0a079",
        "colab": {
          "base_uri": "https://localhost:8080/"
        }
      },
      "source": [
        "user1.increment_login_attempts()\r\n",
        "user1.login_attempts"
      ],
      "execution_count": 25,
      "outputs": [
        {
          "output_type": "execute_result",
          "data": {
            "text/plain": [
              "4"
            ]
          },
          "metadata": {
            "tags": []
          },
          "execution_count": 25
        }
      ]
    },
    {
      "cell_type": "code",
      "metadata": {
        "id": "kJ3Gp6UfGMUQ",
        "outputId": "8e15d8fd-d83e-4933-be7e-530ab8b1832e",
        "colab": {
          "base_uri": "https://localhost:8080/"
        }
      },
      "source": [
        "user1.increment_login_attempts()\r\n",
        "user1.login_attempts"
      ],
      "execution_count": 26,
      "outputs": [
        {
          "output_type": "execute_result",
          "data": {
            "text/plain": [
              "5"
            ]
          },
          "metadata": {
            "tags": []
          },
          "execution_count": 26
        }
      ]
    },
    {
      "cell_type": "code",
      "metadata": {
        "id": "6ItPFYCOGMin",
        "outputId": "c7efaf34-4486-4395-eb5e-b1008ba518e4",
        "colab": {
          "base_uri": "https://localhost:8080/"
        }
      },
      "source": [
        "user1.reset_login_attempts()\r\n",
        "user1.login_attempts"
      ],
      "execution_count": 27,
      "outputs": [
        {
          "output_type": "execute_result",
          "data": {
            "text/plain": [
              "0"
            ]
          },
          "metadata": {
            "tags": []
          },
          "execution_count": 27
        }
      ]
    },
    {
      "cell_type": "code",
      "metadata": {
        "id": "aACNPVAGGOXg"
      },
      "source": [
        ""
      ],
      "execution_count": null,
      "outputs": []
    }
  ]
}