{
 "cells": [
  {
   "cell_type": "markdown",
   "metadata": {},
   "source": [
    "# Start solving from Chapter 02"
   ]
  },
  {
   "cell_type": "markdown",
   "metadata": {},
   "source": [
    "2-1. Simple Message: Store a message in a variable, and then print that\n",
    "message"
   ]
  },
  {
   "cell_type": "code",
   "execution_count": 2,
   "metadata": {},
   "outputs": [
    {
     "name": "stdout",
     "output_type": "stream",
     "text": [
      "i am solving all exercise\n"
     ]
    }
   ],
   "source": [
    "my_message = 'i am solving all exercise'\n",
    "print(my_message)"
   ]
  },
  {
   "cell_type": "markdown",
   "metadata": {},
   "source": [
    "2-2. Simple Messages: Store a message in a variable, and print that message.\n",
    "Then change the value of your variable to a new message, and print the new\n",
    "message."
   ]
  },
  {
   "cell_type": "code",
   "execution_count": 3,
   "metadata": {},
   "outputs": [
    {
     "name": "stdout",
     "output_type": "stream",
     "text": [
      "i am solving all exercise\n",
      "Done with 2.l and 2.2\n"
     ]
    }
   ],
   "source": [
    "my_message = 'i am solving all exercise'\n",
    "print(my_message)\n",
    "my_message = 'Done with 2.l and 2.2'\n",
    "print(my_message)"
   ]
  },
  {
   "cell_type": "markdown",
   "metadata": {},
   "source": [
    "2-3. Personal Message: Store a person’s name in a variable, and print a message to that person. Your message should be simple, such as, “Hello Eric,\n",
    "would you like to learn some Python today?”"
   ]
  },
  {
   "cell_type": "code",
   "execution_count": 4,
   "metadata": {},
   "outputs": [
    {
     "name": "stdout",
     "output_type": "stream",
     "text": [
      "hello python how are u?\n"
     ]
    }
   ],
   "source": [
    "Message_to_person = 'hello python how are u?'\n",
    "print(Message_to_person)"
   ]
  },
  {
   "cell_type": "markdown",
   "metadata": {},
   "source": [
    "2-4. Name Cases: Store a person’s name in a variable, and then print that person’s name in lowercase, uppercase, and titlecase."
   ]
  },
  {
   "cell_type": "code",
   "execution_count": 5,
   "metadata": {},
   "outputs": [
    {
     "name": "stdout",
     "output_type": "stream",
     "text": [
      "python\n",
      "PYTHON\n",
      "Python\n"
     ]
    }
   ],
   "source": [
    "person_name = 'python'\n",
    "print(person_name.lower())\n",
    "print(person_name.upper())\n",
    "print(person_name.title())"
   ]
  },
  {
   "cell_type": "markdown",
   "metadata": {},
   "source": [
    "2-5. Famous Quote: Find a quote from a famous person you admire. Print the\n",
    "quote and the name of its author. Your output should look something like the\n",
    "following, including the quotation marks:\n",
    "Albert Einstein once said, “A person who never made a\n",
    "mistake never tried anything new.”"
   ]
  },
  {
   "cell_type": "code",
   "execution_count": 17,
   "metadata": {},
   "outputs": [
    {
     "name": "stdout",
     "output_type": "stream",
     "text": [
      "Ertugul once said, \"The seed which is not willing to let its shell rot, can not bear fruits\"\n"
     ]
    }
   ],
   "source": [
    "print('Ertugul once said, \"The seed which is not willing to let its shell rot, can not bear fruits\"')"
   ]
  },
  {
   "cell_type": "markdown",
   "metadata": {},
   "source": [
    "2-6. Famous Quote 2: Repeat Exercise 2-5, but this time store the famous person’s name in a variable called famous_person. Then compose your message\n",
    "and store it in a new variable called message. Print your message."
   ]
  },
  {
   "cell_type": "code",
   "execution_count": 10,
   "metadata": {},
   "outputs": [
    {
     "name": "stdout",
     "output_type": "stream",
     "text": [
      "Ertugul once said, \"The seed which is not willing to let its shell rot, can not bear fruits\"\n"
     ]
    }
   ],
   "source": [
    "author_name = 'Ertugul'\n",
    "qoute = 'The seed which is not willing to let its shell rot, can not bear fruits'\n",
    "print(f'{author_name} once said, \"{qoute}\"')"
   ]
  },
  {
   "cell_type": "markdown",
   "metadata": {},
   "source": [
    "2-7. Stripping Names: Store a person’s name, and include some whitespace\n",
    "characters at the beginning and end of the name. Make sure you use each\n",
    "character combination, \"\\t\" and \"\\n\", at least once.\n",
    "Print the name once, so the whitespace around the name is displayed.\n",
    "Then print the name using each of the three stripping functions, lstrip(),\n",
    "rstrip(), and strip()"
   ]
  },
  {
   "cell_type": "code",
   "execution_count": 22,
   "metadata": {},
   "outputs": [
    {
     "name": "stdout",
     "output_type": "stream",
     "text": [
      "python  \n",
      "  python\n",
      "python\n"
     ]
    }
   ],
   "source": [
    "person_name = '  python  '\n",
    "print(person_name.lstrip())\n",
    "print(person_name.rstrip())\n",
    "print(person_name.strip())"
   ]
  },
  {
   "cell_type": "markdown",
   "metadata": {},
   "source": [
    "2-8. Number Eight: Write addition, subtraction, multiplication, and division\n",
    "operations that each result in the number 8. Be sure to enclose your operations\n",
    "in print statements to see the results. You should create four lines that look\n",
    "like this:\n",
    "print(5 + 3)\n",
    "Your output should simply be four lines with the number 8 appearing once\n",
    "on each line."
   ]
  },
  {
   "cell_type": "code",
   "execution_count": 20,
   "metadata": {},
   "outputs": [
    {
     "name": "stdout",
     "output_type": "stream",
     "text": [
      "8\n",
      "8\n",
      "8\n",
      "8\n"
     ]
    }
   ],
   "source": [
    "print(5+3)\n",
    "print(10-2)\n",
    "print(2*4)\n",
    "print(16//2)"
   ]
  },
  {
   "cell_type": "markdown",
   "metadata": {},
   "source": [
    "2-9. Favorite Number: Store your favorite number in a variable. Then, using\n",
    "that variable, create a message that reveals your favorite number. Print that\n",
    "message."
   ]
  },
  {
   "cell_type": "markdown",
   "metadata": {},
   "source": [
    "fav_num = 5\n",
    "print(f'My favorite number is {fav_num}')"
   ]
  },
  {
   "cell_type": "markdown",
   "metadata": {},
   "source": [
    "2-10. Adding Comments: Choose two of the programs you’ve written, and\n",
    "add at least one comment to each. If you don’t have anything specific to write\n",
    "because your programs are too simple at this point, just add your name and\n",
    "the current date at the top of each program file. Then write one sentence\n",
    "describing what the program does."
   ]
  },
  {
   "cell_type": "code",
   "execution_count": 23,
   "metadata": {},
   "outputs": [
    {
     "name": "stdout",
     "output_type": "stream",
     "text": [
      "My favorite number is 5\n"
     ]
    }
   ],
   "source": [
    "#Python\n",
    "#Date: 05-02-2021\n",
    "#A program that prints the favorite number.\n",
    "fav_num = 5\n",
    "print(f'My favorite number is {fav_num}')"
   ]
  },
  {
   "cell_type": "markdown",
   "metadata": {},
   "source": [
    "2-11. Zen of Python: Enter import this into a Python terminal session and skim\n",
    "through the additional principles."
   ]
  },
  {
   "cell_type": "code",
   "execution_count": 34,
   "metadata": {},
   "outputs": [
    {
     "data": {
      "text/plain": [
       "<module 'this' from 'C:\\\\Users\\\\OneApple\\\\anaconda3\\\\lib\\\\this.py'>"
      ]
     },
     "execution_count": 34,
     "metadata": {},
     "output_type": "execute_result"
    }
   ],
   "source": [
    "import this\n",
    "this"
   ]
  },
  {
   "cell_type": "markdown",
   "metadata": {},
   "source": [
    "3-1. Names: Store the names of a few of your friends in a list called names. Print\n",
    "each person’s name by accessing each element in the list, one at a time."
   ]
  },
  {
   "cell_type": "code",
   "execution_count": 35,
   "metadata": {},
   "outputs": [
    {
     "name": "stdout",
     "output_type": "stream",
     "text": [
      "Rameez\n",
      "Suneel\n",
      "Sami\n"
     ]
    }
   ],
   "source": [
    "names = ['Rameez', 'Suneel', 'Sami']\n",
    "for i in names:\n",
    "    print(i)"
   ]
  },
  {
   "cell_type": "markdown",
   "metadata": {},
   "source": [
    "3-2. Greetings: Start with the list you used in Exercise 3-1, but instead of just\n",
    "printing each person’s name, print a message to them. The text of each message should be the same, but each message should be personalized with the\n",
    "person’s name."
   ]
  },
  {
   "cell_type": "code",
   "execution_count": 37,
   "metadata": {},
   "outputs": [
    {
     "name": "stdout",
     "output_type": "stream",
     "text": [
      "Welcome Rameez\n",
      "Welcome Suneel\n",
      "Welcome Sami\n"
     ]
    }
   ],
   "source": [
    "names = ['Rameez', 'Suneel', 'Sami']\n",
    "for i in names:\n",
    "    print('Welcome '+i)"
   ]
  },
  {
   "cell_type": "markdown",
   "metadata": {},
   "source": [
    "3-3. Your Own List: Think of your favorite mode of transportation, such as a\n",
    "motorcycle or a car, and make a list that stores several examples. Use your list\n",
    "to print a series of statements about these items, such as “I would like to own a\n",
    "Honda motorcycle.”"
   ]
  },
  {
   "cell_type": "code",
   "execution_count": 2,
   "metadata": {},
   "outputs": [
    {
     "name": "stdout",
     "output_type": "stream",
     "text": [
      "i had a bicycle\n",
      "i am running motorcycle\n",
      "i want a car\n"
     ]
    }
   ],
   "source": [
    "li = ['bicycle', 'motorcycle', 'car']\n",
    "li2 = ['i had a', 'i am running', 'i want a']\n",
    "for i in range(len(li)):\n",
    "    print(li2[i] + ' ' + li[i])"
   ]
  },
  {
   "cell_type": "markdown",
   "metadata": {},
   "source": [
    "3-4. Guest List: If you could invite anyone, living or deceased, to dinner, who\n",
    "would you invite? Make a list that includes at least three people you’d like to\n",
    "invite to dinner. Then use your list to print a message to each person, inviting\n",
    "them to dinner."
   ]
  },
  {
   "cell_type": "code",
   "execution_count": 7,
   "metadata": {},
   "outputs": [
    {
     "name": "stdout",
     "output_type": "stream",
     "text": [
      "Rameez, i wanna invite you at hotel\n",
      "sami, i wanna meet you at dinner\n",
      "nasir, i wanna arrange a dinner for you\n"
     ]
    }
   ],
   "source": [
    "invite_person = ['Rameez', 'sami', 'nasir']\n",
    "li2 = ['i wanna invite you at hotel', 'i wanna meet you at dinner', 'i wanna arrange a dinner for you']\n",
    "for i in range(len(invite_person)):\n",
    "    print(invite_person[i] + ', ' + li2[i])"
   ]
  },
  {
   "cell_type": "markdown",
   "metadata": {},
   "source": [
    "3-5. Changing Guest List: You just heard that one of your guests can’t make the\n",
    "dinner, so you need to send out a new set of invitations. You’ll have to think of\n",
    "someone else to invite.\n",
    "•\t Start with your program from Exercise 3-4. Add a print statement at the\n",
    "end of your program stating the name of the guest who can’t make it.\n",
    "•\t Modify your list, replacing the name of the guest who can’t make it with\n",
    "the name of the new person you are inviting.\n",
    "•\t Print a second set of invitation messages, one for each person who is still\n",
    "in your list."
   ]
  },
  {
   "cell_type": "code",
   "execution_count": 8,
   "metadata": {},
   "outputs": [
    {
     "name": "stdout",
     "output_type": "stream",
     "text": [
      "Rameez, i wanna invite you at hotel\n",
      "suneel, i wanna meet you at dinner\n",
      "nasir, i wanna arrange a dinner for you\n",
      "and sami is bussy, and he is not coming now\n"
     ]
    }
   ],
   "source": [
    "invite_person = ['Rameez', 'suneel', 'nasir']\n",
    "li2 = ['i wanna invite you at hotel', 'i wanna meet you at dinner', 'i wanna arrange a dinner for you']\n",
    "for i in range(len(invite_person)):\n",
    "    print(invite_person[i] + ', ' + li2[i])\n",
    "print('and sami is bussy, and he is not coming now')"
   ]
  },
  {
   "cell_type": "markdown",
   "metadata": {},
   "source": [
    "3-6. More Guests: You just found a bigger dinner table, so now more space is\n",
    "available. Think of three more guests to invite to dinner.\n",
    "•\t Start with your program from Exercise 3-4 or Exercise 3-5. Add a print\n",
    "statement to the end of your program informing people that you found a\n",
    "bigger dinner table.\n",
    "•\t Use insert() to add one new guest to the beginning of your list.\n",
    "•\t Use insert() to add one new guest to the middle of your list.\n",
    "•\t Use append() to add one new guest to the end of your list.\n",
    "•\t Print a new set of invitation messages, one for each person in your list."
   ]
  },
  {
   "cell_type": "code",
   "execution_count": 15,
   "metadata": {},
   "outputs": [
    {
     "name": "stdout",
     "output_type": "stream",
     "text": [
      "Usman, i wanna meet you at dinner\n",
      "Rameez, i wanna meet you at dinner\n",
      "Bilal, i wanna meet you at dinner\n",
      "suneel, i wanna meet you at dinner\n",
      "nasir, i wanna meet you at dinner\n",
      "Abid, i wanna meet you at dinner\n",
      "now i found a bigger dinner table, so you are all invited\n"
     ]
    }
   ],
   "source": [
    "invite_person = ['Rameez', 'suneel', 'nasir']\n",
    "li2 =  'i wanna meet you at dinner'\n",
    "invite_person.insert(0, 'Usman')\n",
    "invite_person.insert(int(len(invite_person)/2), 'Bilal')\n",
    "invite_person.append('Abid')\n",
    "for i in range(len(invite_person)):\n",
    "    print(invite_person[i] + ', ' + li2)\n",
    "print('now i found a bigger dinner table, so you are all invited')"
   ]
  },
  {
   "cell_type": "markdown",
   "metadata": {},
   "source": [
    "3-7. Shrinking Guest List: You just found out that your new dinner table won’t\n",
    "arrive in time for the dinner, and you have space for only two guests.\n",
    "•\t Start with your program from Exercise 3-6. Add a new line that prints a\n",
    "message saying that you can invite only two people for dinner.\n",
    "•\t Use pop() to remove guests from your list one at a time until only two\n",
    "names remain in your list. Each time you pop a name from your list, print\n",
    "a message to that person letting them know you’re sorry you can’t invite\n",
    "them to dinner.\n",
    "•\t Print a message to each of the two people still on your list, letting them\n",
    "know they’re still invited.\n",
    "•\t Use del to remove the last two names from your list, so you have an empty\n",
    "list. Print your list to make sure you actually have an empty list at the end\n",
    "of your program."
   ]
  },
  {
   "cell_type": "code",
   "execution_count": 26,
   "metadata": {},
   "outputs": [
    {
     "name": "stdout",
     "output_type": "stream",
     "text": [
      "i have left only two people space \n",
      "['Usman', 'Rameez', 'suneel', 'Bilal', 'nasir', 'Abid']\n"
     ]
    }
   ],
   "source": [
    "print('i have left only two people space ')\n",
    "guests = ['Rameez', 'suneel', 'nasir']\n",
    "guests.insert(0, 'Usman')\n",
    "guests.insert(int(len(invite_person)/2), 'Bilal')\n",
    "guests.append('Abid')\n",
    "print(guests)\n"
   ]
  },
  {
   "cell_type": "code",
   "execution_count": 27,
   "metadata": {},
   "outputs": [
    {
     "name": "stdout",
     "output_type": "stream",
     "text": [
      "Sorry, Abid there's no room at the table.\n",
      "Sorry, Nasir there's no room at the table.\n",
      "Sorry, Bilal there's no room at the table.\n",
      "Sorry, Suneel there's no room at the table.\n",
      "Usman, please come to dinner.\n",
      "Rameez, please come to dinner.\n",
      "[]\n"
     ]
    }
   ],
   "source": [
    "name = guests.pop()\n",
    "print(\"Sorry, \" + name.title() + \" there's no room at the table.\")\n",
    "\n",
    "name = guests.pop()\n",
    "print(\"Sorry, \" + name.title() + \" there's no room at the table.\")\n",
    "\n",
    "name = guests.pop()\n",
    "print(\"Sorry, \" + name.title() + \" there's no room at the table.\")\n",
    "\n",
    "name = guests.pop()\n",
    "print(\"Sorry, \" + name.title() + \" there's no room at the table.\")\n",
    "\n",
    "# There should be two people left. Let's invite them.\n",
    "name = guests[0].title()\n",
    "print(name + \", please come to dinner.\")\n",
    "\n",
    "name = guests[1].title()\n",
    "print(name + \", please come to dinner.\")\n",
    "\n",
    "# Empty out the list.\n",
    "del(guests[0])\n",
    "del(guests[0])\n",
    "\n",
    "# Prove the list is empty.\n",
    "print(guests)\n"
   ]
  },
  {
   "cell_type": "code",
   "execution_count": null,
   "metadata": {},
   "outputs": [],
   "source": []
  }
 ],
 "metadata": {
  "kernelspec": {
   "display_name": "Python 3",
   "language": "python",
   "name": "python3"
  },
  "language_info": {
   "codemirror_mode": {
    "name": "ipython",
    "version": 3
   },
   "file_extension": ".py",
   "mimetype": "text/x-python",
   "name": "python",
   "nbconvert_exporter": "python",
   "pygments_lexer": "ipython3",
   "version": "3.8.3"
  }
 },
 "nbformat": 4,
 "nbformat_minor": 4
}
