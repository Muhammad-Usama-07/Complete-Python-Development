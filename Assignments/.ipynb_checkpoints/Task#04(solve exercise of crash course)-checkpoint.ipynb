{
 "cells": [
  {
   "cell_type": "markdown",
   "metadata": {},
   "source": [
    "# Start solving from Chapter 02"
   ]
  },
  {
   "cell_type": "markdown",
   "metadata": {},
   "source": [
    "2-1. Simple Message: Store a message in a variable, and then print that\n",
    "message"
   ]
  },
  {
   "cell_type": "code",
   "execution_count": 2,
   "metadata": {},
   "outputs": [
    {
     "name": "stdout",
     "output_type": "stream",
     "text": [
      "i am solving all exercise\n"
     ]
    }
   ],
   "source": [
    "my_message = 'i am solving all exercise'\n",
    "print(my_message)"
   ]
  },
  {
   "cell_type": "markdown",
   "metadata": {},
   "source": [
    "2-2. Simple Messages: Store a message in a variable, and print that message.\n",
    "Then change the value of your variable to a new message, and print the new\n",
    "message."
   ]
  },
  {
   "cell_type": "code",
   "execution_count": 3,
   "metadata": {},
   "outputs": [
    {
     "name": "stdout",
     "output_type": "stream",
     "text": [
      "i am solving all exercise\n",
      "Done with 2.l and 2.2\n"
     ]
    }
   ],
   "source": [
    "my_message = 'i am solving all exercise'\n",
    "print(my_message)\n",
    "my_message = 'Done with 2.l and 2.2'\n",
    "print(my_message)"
   ]
  },
  {
   "cell_type": "markdown",
   "metadata": {},
   "source": [
    "2-3. Personal Message: Store a person’s name in a variable, and print a message to that person. Your message should be simple, such as, “Hello Eric,\n",
    "would you like to learn some Python today?”"
   ]
  },
  {
   "cell_type": "code",
   "execution_count": 4,
   "metadata": {},
   "outputs": [
    {
     "name": "stdout",
     "output_type": "stream",
     "text": [
      "hello python how are u?\n"
     ]
    }
   ],
   "source": [
    "Message_to_person = 'hello python how are u?'\n",
    "print(Message_to_person)"
   ]
  },
  {
   "cell_type": "markdown",
   "metadata": {},
   "source": [
    "2-4. Name Cases: Store a person’s name in a variable, and then print that person’s name in lowercase, uppercase, and titlecase."
   ]
  },
  {
   "cell_type": "code",
   "execution_count": 5,
   "metadata": {},
   "outputs": [
    {
     "name": "stdout",
     "output_type": "stream",
     "text": [
      "python\n",
      "PYTHON\n",
      "Python\n"
     ]
    }
   ],
   "source": [
    "person_name = 'python'\n",
    "print(person_name.lower())\n",
    "print(person_name.upper())\n",
    "print(person_name.title())"
   ]
  },
  {
   "cell_type": "markdown",
   "metadata": {},
   "source": [
    "2-5. Famous Quote: Find a quote from a famous person you admire. Print the\n",
    "quote and the name of its author. Your output should look something like the\n",
    "following, including the quotation marks:\n",
    "Albert Einstein once said, “A person who never made a\n",
    "mistake never tried anything new.”"
   ]
  },
  {
   "cell_type": "code",
   "execution_count": 17,
   "metadata": {},
   "outputs": [
    {
     "name": "stdout",
     "output_type": "stream",
     "text": [
      "Ertugul once said, \"The seed which is not willing to let its shell rot, can not bear fruits\"\n"
     ]
    }
   ],
   "source": [
    "print('Ertugul once said, \"The seed which is not willing to let its shell rot, can not bear fruits\"')"
   ]
  },
  {
   "cell_type": "markdown",
   "metadata": {},
   "source": [
    "2-6. Famous Quote 2: Repeat Exercise 2-5, but this time store the famous person’s name in a variable called famous_person. Then compose your message\n",
    "and store it in a new variable called message. Print your message."
   ]
  },
  {
   "cell_type": "code",
   "execution_count": 10,
   "metadata": {},
   "outputs": [
    {
     "name": "stdout",
     "output_type": "stream",
     "text": [
      "Ertugul once said, \"The seed which is not willing to let its shell rot, can not bear fruits\"\n"
     ]
    }
   ],
   "source": [
    "author_name = 'Ertugul'\n",
    "qoute = 'The seed which is not willing to let its shell rot, can not bear fruits'\n",
    "print(f'{author_name} once said, \"{qoute}\"')"
   ]
  },
  {
   "cell_type": "markdown",
   "metadata": {},
   "source": [
    "2-7. Stripping Names: Store a person’s name, and include some whitespace\n",
    "characters at the beginning and end of the name. Make sure you use each\n",
    "character combination, \"\\t\" and \"\\n\", at least once.\n",
    "Print the name once, so the whitespace around the name is displayed.\n",
    "Then print the name using each of the three stripping functions, lstrip(),\n",
    "rstrip(), and strip()"
   ]
  },
  {
   "cell_type": "code",
   "execution_count": 22,
   "metadata": {},
   "outputs": [
    {
     "name": "stdout",
     "output_type": "stream",
     "text": [
      "python  \n",
      "  python\n",
      "python\n"
     ]
    }
   ],
   "source": [
    "person_name = '  python  '\n",
    "print(person_name.lstrip())\n",
    "print(person_name.rstrip())\n",
    "print(person_name.strip())"
   ]
  },
  {
   "cell_type": "markdown",
   "metadata": {},
   "source": [
    "2-8. Number Eight: Write addition, subtraction, multiplication, and division\n",
    "operations that each result in the number 8. Be sure to enclose your operations\n",
    "in print statements to see the results. You should create four lines that look\n",
    "like this:\n",
    "print(5 + 3)\n",
    "Your output should simply be four lines with the number 8 appearing once\n",
    "on each line."
   ]
  },
  {
   "cell_type": "code",
   "execution_count": 20,
   "metadata": {},
   "outputs": [
    {
     "name": "stdout",
     "output_type": "stream",
     "text": [
      "8\n",
      "8\n",
      "8\n",
      "8\n"
     ]
    }
   ],
   "source": [
    "print(5+3)\n",
    "print(10-2)\n",
    "print(2*4)\n",
    "print(16//2)"
   ]
  },
  {
   "cell_type": "markdown",
   "metadata": {},
   "source": [
    "2-9. Favorite Number: Store your favorite number in a variable. Then, using\n",
    "that variable, create a message that reveals your favorite number. Print that\n",
    "message."
   ]
  },
  {
   "cell_type": "markdown",
   "metadata": {},
   "source": [
    "fav_num = 5\n",
    "print(f'My favorite number is {fav_num}')"
   ]
  },
  {
   "cell_type": "markdown",
   "metadata": {},
   "source": [
    "2-10. Adding Comments: Choose two of the programs you’ve written, and\n",
    "add at least one comment to each. If you don’t have anything specific to write\n",
    "because your programs are too simple at this point, just add your name and\n",
    "the current date at the top of each program file. Then write one sentence\n",
    "describing what the program does."
   ]
  },
  {
   "cell_type": "code",
   "execution_count": 23,
   "metadata": {},
   "outputs": [
    {
     "name": "stdout",
     "output_type": "stream",
     "text": [
      "My favorite number is 5\n"
     ]
    }
   ],
   "source": [
    "#Python\n",
    "#Date: 05-02-2021\n",
    "#A program that prints the favorite number.\n",
    "fav_num = 5\n",
    "print(f'My favorite number is {fav_num}')"
   ]
  },
  {
   "cell_type": "markdown",
   "metadata": {},
   "source": [
    "2-11. Zen of Python: Enter import this into a Python terminal session and skim\n",
    "through the additional principles."
   ]
  },
  {
   "cell_type": "code",
   "execution_count": 34,
   "metadata": {},
   "outputs": [
    {
     "data": {
      "text/plain": [
       "<module 'this' from 'C:\\\\Users\\\\OneApple\\\\anaconda3\\\\lib\\\\this.py'>"
      ]
     },
     "execution_count": 34,
     "metadata": {},
     "output_type": "execute_result"
    }
   ],
   "source": [
    "import this\n",
    "this"
   ]
  },
  {
   "cell_type": "markdown",
   "metadata": {},
   "source": [
    "3-1. Names: Store the names of a few of your friends in a list called names. Print\n",
    "each person’s name by accessing each element in the list, one at a time."
   ]
  },
  {
   "cell_type": "code",
   "execution_count": 35,
   "metadata": {},
   "outputs": [
    {
     "name": "stdout",
     "output_type": "stream",
     "text": [
      "Rameez\n",
      "Suneel\n",
      "Sami\n"
     ]
    }
   ],
   "source": [
    "names = ['Rameez', 'Suneel', 'Sami']\n",
    "for i in names:\n",
    "    print(i)"
   ]
  },
  {
   "cell_type": "markdown",
   "metadata": {},
   "source": [
    "3-2. Greetings: Start with the list you used in Exercise 3-1, but instead of just\n",
    "printing each person’s name, print a message to them. The text of each message should be the same, but each message should be personalized with the\n",
    "person’s name."
   ]
  },
  {
   "cell_type": "code",
   "execution_count": 37,
   "metadata": {},
   "outputs": [
    {
     "name": "stdout",
     "output_type": "stream",
     "text": [
      "Welcome Rameez\n",
      "Welcome Suneel\n",
      "Welcome Sami\n"
     ]
    }
   ],
   "source": [
    "names = ['Rameez', 'Suneel', 'Sami']\n",
    "for i in names:\n",
    "    print('Welcome '+i)"
   ]
  },
  {
   "cell_type": "markdown",
   "metadata": {},
   "source": [
    "3-3. Your Own List: Think of your favorite mode of transportation, such as a\n",
    "motorcycle or a car, and make a list that stores several examples. Use your list\n",
    "to print a series of statements about these items, such as “I would like to own a\n",
    "Honda motorcycle.”"
   ]
  },
  {
   "cell_type": "code",
   "execution_count": 2,
   "metadata": {},
   "outputs": [
    {
     "name": "stdout",
     "output_type": "stream",
     "text": [
      "i had a bicycle\n",
      "i am running motorcycle\n",
      "i want a car\n"
     ]
    }
   ],
   "source": [
    "li = ['bicycle', 'motorcycle', 'car']\n",
    "li2 = ['i had a', 'i am running', 'i want a']\n",
    "for i in range(len(li)):\n",
    "    print(li2[i] + ' ' + li[i])"
   ]
  },
  {
   "cell_type": "markdown",
   "metadata": {},
   "source": [
    "3-4. Guest List: If you could invite anyone, living or deceased, to dinner, who\n",
    "would you invite? Make a list that includes at least three people you’d like to\n",
    "invite to dinner. Then use your list to print a message to each person, inviting\n",
    "them to dinner."
   ]
  },
  {
   "cell_type": "code",
   "execution_count": 7,
   "metadata": {},
   "outputs": [
    {
     "name": "stdout",
     "output_type": "stream",
     "text": [
      "Rameez, i wanna invite you at hotel\n",
      "sami, i wanna meet you at dinner\n",
      "nasir, i wanna arrange a dinner for you\n"
     ]
    }
   ],
   "source": [
    "invite_person = ['Rameez', 'sami', 'nasir']\n",
    "li2 = ['i wanna invite you at hotel', 'i wanna meet you at dinner', 'i wanna arrange a dinner for you']\n",
    "for i in range(len(invite_person)):\n",
    "    print(invite_person[i] + ', ' + li2[i])"
   ]
  },
  {
   "cell_type": "markdown",
   "metadata": {},
   "source": [
    "3-5. Changing Guest List: You just heard that one of your guests can’t make the\n",
    "dinner, so you need to send out a new set of invitations. You’ll have to think of\n",
    "someone else to invite.\n",
    "•\t Start with your program from Exercise 3-4. Add a print statement at the\n",
    "end of your program stating the name of the guest who can’t make it.\n",
    "•\t Modify your list, replacing the name of the guest who can’t make it with\n",
    "the name of the new person you are inviting.\n",
    "•\t Print a second set of invitation messages, one for each person who is still\n",
    "in your list."
   ]
  },
  {
   "cell_type": "code",
   "execution_count": 8,
   "metadata": {},
   "outputs": [
    {
     "name": "stdout",
     "output_type": "stream",
     "text": [
      "Rameez, i wanna invite you at hotel\n",
      "suneel, i wanna meet you at dinner\n",
      "nasir, i wanna arrange a dinner for you\n",
      "and sami is bussy, and he is not coming now\n"
     ]
    }
   ],
   "source": [
    "invite_person = ['Rameez', 'suneel', 'nasir']\n",
    "li2 = ['i wanna invite you at hotel', 'i wanna meet you at dinner', 'i wanna arrange a dinner for you']\n",
    "for i in range(len(invite_person)):\n",
    "    print(invite_person[i] + ', ' + li2[i])\n",
    "print('and sami is bussy, and he is not coming now')"
   ]
  },
  {
   "cell_type": "markdown",
   "metadata": {},
   "source": [
    "3-6. More Guests: You just found a bigger dinner table, so now more space is\n",
    "available. Think of three more guests to invite to dinner.\n",
    "•\t Start with your program from Exercise 3-4 or Exercise 3-5. Add a print\n",
    "statement to the end of your program informing people that you found a\n",
    "bigger dinner table.\n",
    "•\t Use insert() to add one new guest to the beginning of your list.\n",
    "•\t Use insert() to add one new guest to the middle of your list.\n",
    "•\t Use append() to add one new guest to the end of your list.\n",
    "•\t Print a new set of invitation messages, one for each person in your list."
   ]
  },
  {
   "cell_type": "code",
   "execution_count": 15,
   "metadata": {},
   "outputs": [
    {
     "name": "stdout",
     "output_type": "stream",
     "text": [
      "Usman, i wanna meet you at dinner\n",
      "Rameez, i wanna meet you at dinner\n",
      "Bilal, i wanna meet you at dinner\n",
      "suneel, i wanna meet you at dinner\n",
      "nasir, i wanna meet you at dinner\n",
      "Abid, i wanna meet you at dinner\n",
      "now i found a bigger dinner table, so you are all invited\n"
     ]
    }
   ],
   "source": [
    "invite_person = ['Rameez', 'suneel', 'nasir']\n",
    "li2 =  'i wanna meet you at dinner'\n",
    "invite_person.insert(0, 'Usman')\n",
    "invite_person.insert(int(len(invite_person)/2), 'Bilal')\n",
    "invite_person.append('Abid')\n",
    "for i in range(len(invite_person)):\n",
    "    print(invite_person[i] + ', ' + li2)\n",
    "print('now i found a bigger dinner table, so you are all invited')"
   ]
  },
  {
   "cell_type": "markdown",
   "metadata": {},
   "source": [
    "3-7. Shrinking Guest List: You just found out that your new dinner table won’t\n",
    "arrive in time for the dinner, and you have space for only two guests.\n",
    "•\t Start with your program from Exercise 3-6. Add a new line that prints a\n",
    "message saying that you can invite only two people for dinner.\n",
    "•\t Use pop() to remove guests from your list one at a time until only two\n",
    "names remain in your list. Each time you pop a name from your list, print\n",
    "a message to that person letting them know you’re sorry you can’t invite\n",
    "them to dinner.\n",
    "•\t Print a message to each of the two people still on your list, letting them\n",
    "know they’re still invited.\n",
    "•\t Use del to remove the last two names from your list, so you have an empty\n",
    "list. Print your list to make sure you actually have an empty list at the end\n",
    "of your program."
   ]
  },
  {
   "cell_type": "code",
   "execution_count": 26,
   "metadata": {},
   "outputs": [
    {
     "name": "stdout",
     "output_type": "stream",
     "text": [
      "i have left only two people space \n",
      "['Usman', 'Rameez', 'suneel', 'Bilal', 'nasir', 'Abid']\n"
     ]
    }
   ],
   "source": [
    "print('i have left only two people space ')\n",
    "guests = ['Rameez', 'suneel', 'nasir']\n",
    "guests.insert(0, 'Usman')\n",
    "guests.insert(int(len(invite_person)/2), 'Bilal')\n",
    "guests.append('Abid')\n",
    "print(guests)\n"
   ]
  },
  {
   "cell_type": "code",
   "execution_count": 27,
   "metadata": {},
   "outputs": [
    {
     "name": "stdout",
     "output_type": "stream",
     "text": [
      "Sorry, Abid there's no room at the table.\n",
      "Sorry, Nasir there's no room at the table.\n",
      "Sorry, Bilal there's no room at the table.\n",
      "Sorry, Suneel there's no room at the table.\n",
      "Usman, please come to dinner.\n",
      "Rameez, please come to dinner.\n",
      "[]\n"
     ]
    }
   ],
   "source": [
    "name = guests.pop()\n",
    "print(\"Sorry, \" + name.title() + \" there's no room at the table.\")\n",
    "\n",
    "name = guests.pop()\n",
    "print(\"Sorry, \" + name.title() + \" there's no room at the table.\")\n",
    "\n",
    "name = guests.pop()\n",
    "print(\"Sorry, \" + name.title() + \" there's no room at the table.\")\n",
    "\n",
    "name = guests.pop()\n",
    "print(\"Sorry, \" + name.title() + \" there's no room at the table.\")\n",
    "\n",
    "# There should be two people left. Let's invite them.\n",
    "name = guests[0].title()\n",
    "print(name + \", please come to dinner.\")\n",
    "\n",
    "name = guests[1].title()\n",
    "print(name + \", please come to dinner.\")\n",
    "\n",
    "# Empty out the list.\n",
    "del(guests[0])\n",
    "del(guests[0])\n",
    "\n",
    "# Prove the list is empty.\n",
    "print(guests)\n"
   ]
  },
  {
   "cell_type": "markdown",
   "metadata": {},
   "source": [
    "3-8. Seeing the World: Think of at least five places in the world you’d like to\n",
    "visit.\n",
    "•\t Store the locations in a list. Make sure the list is not in alphabetical order.\n",
    "•\t Print your list in its original order. Don’t worry about printing the list neatly,\n",
    "just print it as a raw Python list.\n",
    "•\t Use sorted() to print your list in alphabetical order without modifying the\n",
    "actual list.\n",
    "•\t Show that your list is still in its original order by printing it.\n",
    "•\t Use sorted() to print your list in reverse alphabetical order without changing the order of the original list.\n",
    "•\t Show that your list is still in its original order by printing it again.\n",
    "•\t Use reverse() to change the order of your list. Print the list to show that its\n",
    "order has changed.\n",
    "•\t Use reverse() to change the order of your list again. Print the list to show\n",
    "it’s back to its original order.\n",
    "•\t Use sort() to change your list so it’s stored in alphabetical order. Print the\n",
    "list to show that its order has been changed.\n",
    "•\t Use sort() to change your list so it’s stored in reverse alphabetical order.\n",
    "Print the list to show that its order has changed."
   ]
  },
  {
   "cell_type": "code",
   "execution_count": 41,
   "metadata": {},
   "outputs": [
    {
     "name": "stdout",
     "output_type": "stream",
     "text": [
      "Original order:\n",
      "['himalaya', 'andes', 'tierra del fuego', 'labrador', 'guam']\n",
      "\n",
      "Alphabetical:\n",
      "['andes', 'guam', 'himalaya', 'labrador', 'tierra del fuego']\n",
      "\n",
      "Original order:\n",
      "['himalaya', 'andes', 'tierra del fuego', 'labrador', 'guam']\n",
      "\n",
      "Reverse alphabetical:\n",
      "['tierra del fuego', 'labrador', 'himalaya', 'guam', 'andes']\n",
      "\n",
      "Original order:\n",
      "['himalaya', 'andes', 'tierra del fuego', 'labrador', 'guam']\n",
      "\n",
      "Reversed:\n",
      "['guam', 'labrador', 'tierra del fuego', 'andes', 'himalaya']\n",
      "\n",
      "Original order:\n",
      "['himalaya', 'andes', 'tierra del fuego', 'labrador', 'guam']\n",
      "\n",
      "Alphabetical\n",
      "['andes', 'guam', 'himalaya', 'labrador', 'tierra del fuego']\n",
      "\n",
      "Reverse alphabetical\n",
      "['tierra del fuego', 'labrador', 'himalaya', 'guam', 'andes']\n"
     ]
    }
   ],
   "source": [
    "locations = ['himalaya', 'andes', 'tierra del fuego', 'labrador', 'guam']\n",
    "\n",
    "print(\"Original order:\")\n",
    "print(locations)\n",
    "\n",
    "print(\"\\nAlphabetical:\")\n",
    "print(sorted(locations))\n",
    "\n",
    "print(\"\\nOriginal order:\")\n",
    "print(locations)\n",
    "\n",
    "print(\"\\nReverse alphabetical:\")\n",
    "print(sorted(locations, reverse=True))\n",
    "\n",
    "print(\"\\nOriginal order:\")\n",
    "print(locations)\n",
    "\n",
    "print(\"\\nReversed:\")\n",
    "locations.reverse()\n",
    "print(locations)\n",
    "\n",
    "print(\"\\nOriginal order:\")\n",
    "locations.reverse()\n",
    "print(locations)\n",
    "\n",
    "print(\"\\nAlphabetical\")\n",
    "locations.sort()\n",
    "print(locations)\n",
    "\n",
    "print(\"\\nReverse alphabetical\")\n",
    "locations.sort(reverse=True)\n",
    "print(locations)"
   ]
  },
  {
   "cell_type": "markdown",
   "metadata": {},
   "source": [
    "3-9. Dinner Guests: Working with one of the programs from Exercises 3-4\n",
    "through 3-7 (page 46), use len() to print a message indicating the number\n",
    "of people you are inviting to dinner."
   ]
  },
  {
   "cell_type": "code",
   "execution_count": 43,
   "metadata": {},
   "outputs": [
    {
     "name": "stdout",
     "output_type": "stream",
     "text": [
      "the number of prople invited are:  6\n"
     ]
    }
   ],
   "source": [
    "print('the number of prople invited are: ',len(invite_person))"
   ]
  },
  {
   "cell_type": "markdown",
   "metadata": {},
   "source": [
    "3-10. Every Function: Think of something you could store in a list. For example,\n",
    "you could make a list of mountains, rivers, countries, cities, languages, or anything else you’d like. Write a program that creates a list containing these items\n",
    "and then uses each function introduced in this chapter at least once."
   ]
  },
  {
   "cell_type": "code",
   "execution_count": 44,
   "metadata": {},
   "outputs": [
    {
     "name": "stdout",
     "output_type": "stream",
     "text": [
      "['Django', 'Flask', 'pyhton']\n"
     ]
    }
   ],
   "source": [
    "something = ['pyhton', 'Django', 'Flask']\n",
    "print(sorted(something))"
   ]
  },
  {
   "cell_type": "markdown",
   "metadata": {},
   "source": [
    "4-1. Pizzas: Think of at least three kinds of your favorite pizza. Store these\n",
    "pizza names in a list, and then use a for loop to print the name of each pizza.\n",
    "•\t Modify your for loop to print a sentence using the name of the pizza\n",
    "instead of printing just the name of the pizza. For each pizza you should\n",
    "have one line of output containing a simple statement like I like pepperoni\n",
    "pizza.\n",
    "•\t Add a line at the end of your program, outside the for loop, that states\n",
    "how much you like pizza. The output should consist of three or more lines\n",
    "about the kinds of pizza you like and then an additional sentence, such as\n",
    "I really love pizza!"
   ]
  },
  {
   "cell_type": "code",
   "execution_count": 17,
   "metadata": {},
   "outputs": [
    {
     "name": "stdout",
     "output_type": "stream",
     "text": [
      "i like chineez Pizza\n",
      "i like chicken Pizza\n",
      "i like cheez Pizza\n"
     ]
    }
   ],
   "source": [
    "pizza_list = ['chineez', 'chicken', 'cheez']\n",
    "for i in pizza_list:\n",
    "    print('i like ' + i + ' Pizza')"
   ]
  },
  {
   "cell_type": "markdown",
   "metadata": {},
   "source": [
    "4-2. Animals: Think of at least three different animals that have a common characteristic. Store the names of these animals in a list, and then use a for loop to\n",
    "print out the name of each animal.\n",
    "•\t Modify your program to print a statement about each animal, such as\n",
    "A dog would make a great pet.\n",
    "•\t Add a line at the end of your program stating what these animals have in\n",
    "common. You could print a sentence such as Any of these animals would\n",
    "make a great pet!"
   ]
  },
  {
   "cell_type": "code",
   "execution_count": 4,
   "metadata": {},
   "outputs": [
    {
     "name": "stdout",
     "output_type": "stream",
     "text": [
      "A cat would make a great pet\n",
      "A dog would make a great pet\n",
      "A birds would make a great pet\n",
      "these animal would make a great pet\n"
     ]
    }
   ],
   "source": [
    "animal_names = ['cat', 'dog', 'birds']\n",
    "for i in animal_names:\n",
    "    print(f'A {i} would make a great pet')\n",
    "print('these animal would make a great pet')"
   ]
  },
  {
   "cell_type": "markdown",
   "metadata": {},
   "source": [
    "4-3. Counting to Twenty: Use a for loop to print the numbers from 1 to 20,\n",
    "inclusive."
   ]
  },
  {
   "cell_type": "code",
   "execution_count": 5,
   "metadata": {},
   "outputs": [
    {
     "name": "stdout",
     "output_type": "stream",
     "text": [
      "[1, 2, 3, 4, 5, 6, 7, 8, 9, 10, 11, 12, 13, 14, 15, 16, 17, 18, 19, 20]\n"
     ]
    }
   ],
   "source": [
    "counter = [i for i in range(1,21)]\n",
    "print(counter)"
   ]
  },
  {
   "cell_type": "markdown",
   "metadata": {},
   "source": [
    "4-5. Summing a Million: Make a list of the numbers from one to one million,\n",
    "and then use min() and max() to make sure your list actually starts at one and\n",
    "ends at one million. Also, use the sum() function to see how quickly Python can\n",
    "add a million numbers"
   ]
  },
  {
   "cell_type": "code",
   "execution_count": 9,
   "metadata": {},
   "outputs": [
    {
     "name": "stdout",
     "output_type": "stream",
     "text": [
      "the minimum number in million is: 1\n",
      "the maximum number in million is: 999999\n",
      "the sum of all numbers in million is: 499999500000\n"
     ]
    }
   ],
   "source": [
    "max_in_million = [i for i in range(1, 1000000)]\n",
    "print(f'the minimum number in million is: {min(max_in_million)}')\n",
    "print(f'the maximum number in million is: {max(max_in_million)}')\n",
    "print(f'the sum of all numbers in million is: {sum(max_in_million)}')"
   ]
  },
  {
   "cell_type": "markdown",
   "metadata": {},
   "source": [
    "4-6. Odd Numbers: Use the third argument of the range() function to make a list\n",
    "of the odd numbers from 1 to 20. Use a for loop to print each number"
   ]
  },
  {
   "cell_type": "code",
   "execution_count": 10,
   "metadata": {},
   "outputs": [
    {
     "name": "stdout",
     "output_type": "stream",
     "text": [
      "odd numbers are: [1, 3, 5, 7, 9, 11, 13, 15, 17, 19]\n"
     ]
    }
   ],
   "source": [
    "odd_numbers = [i for i in range(1,20,2)]\n",
    "print(f'odd numbers are: {odd_numbers}')"
   ]
  },
  {
   "cell_type": "markdown",
   "metadata": {},
   "source": [
    "4-7. Threes: Make a list of the multiples of 3 from 3 to 30. Use a for loop to\n",
    "print the numbers in your list."
   ]
  },
  {
   "cell_type": "code",
   "execution_count": 15,
   "metadata": {},
   "outputs": [
    {
     "name": "stdout",
     "output_type": "stream",
     "text": [
      "multiple of three are: [3, 6, 9, 12, 15, 18, 21, 24, 27, 30]\n"
     ]
    }
   ],
   "source": [
    "multiple_of_three = [i for i in range(3,31, 3)]\n",
    "print(f'multiple of three are: {multiple_of_three}')"
   ]
  },
  {
   "cell_type": "markdown",
   "metadata": {},
   "source": [
    "4-8. Cubes: A number raised to the third power is called a cube. For example,\n",
    "the cube of 2 is written as 2**3 in Python. Make a list of the first 10 cubes (that\n",
    "is, the cube of each integer from 1 through 10), and use a for loop to print out\n",
    "the value of each cube."
   ]
  },
  {
   "cell_type": "code",
   "execution_count": 17,
   "metadata": {},
   "outputs": [
    {
     "name": "stdout",
     "output_type": "stream",
     "text": [
      "[1, 8, 27, 64, 125, 216, 343, 512, 729, 1000]\n"
     ]
    }
   ],
   "source": [
    "cubes = [i**3 for i in range(1,11)]\n",
    "print(cubes)"
   ]
  },
  {
   "cell_type": "markdown",
   "metadata": {},
   "source": [
    "4-9. Cube Comprehension: Use a list comprehension to generate a list of the\n",
    "first 10 cubes."
   ]
  },
  {
   "cell_type": "code",
   "execution_count": 2,
   "metadata": {},
   "outputs": [
    {
     "name": "stdout",
     "output_type": "stream",
     "text": [
      "[1, 8, 27, 64, 125, 216, 343, 512, 729, 1000]\n"
     ]
    }
   ],
   "source": [
    "cubes = [i**3 for i in range(1,11)]\n",
    "print(cubes)"
   ]
  },
  {
   "cell_type": "markdown",
   "metadata": {},
   "source": [
    "4-10. Slices: Using one of the programs you wrote in this chapter, add several\n",
    "lines to the end of the program that do the following:\n",
    "•\t Print the message, The first three items in the list are:. Then use a slice to\n",
    "print the first three items from that program’s list.\n",
    "•\t Print the message, Three items from the middle of the list are:. Use a slice\n",
    "to print three items from the middle of the list.\n",
    "•\t Print the message, The last three items in the list are:. Use a slice to print\n",
    "the last three items in the list."
   ]
  },
  {
   "cell_type": "code",
   "execution_count": 8,
   "metadata": {},
   "outputs": [
    {
     "name": "stdout",
     "output_type": "stream",
     "text": [
      "the first three items in the list are: [1, 8, 27]\n",
      "the middle three items in the list are: [125, 216]\n",
      "the middle three items in the list are: [512, 729, 1000]\n"
     ]
    }
   ],
   "source": [
    "print('the first three items in the list are:', cubes[:3])\n",
    "print('the middle three items in the list are:', cubes[4:6])\n",
    "print('the middle three items in the list are:', cubes[-3:])"
   ]
  },
  {
   "cell_type": "markdown",
   "metadata": {},
   "source": [
    "4-11. My Pizzas, Your Pizzas: Start with your program from Exercise 4-1\n",
    "(page 60). Make a copy of the list of pizzas, and call it friend_pizzas.\n",
    "Then, do the following:\n",
    "•\t Add a new pizza to the original list.\n",
    "•\t Add a different pizza to the list friend_pizzas.\n",
    "•\t Prove that you have two separate lists. Print the message, My favorite\n",
    "pizzas are:, and then use a for loop to print the first list. Print the message,\n",
    "My friend’s favorite pizzas are:, and then use a for loop to print the second list. Make sure each new pizza is stored in the appropriate list"
   ]
  },
  {
   "cell_type": "code",
   "execution_count": 19,
   "metadata": {},
   "outputs": [
    {
     "name": "stdout",
     "output_type": "stream",
     "text": [
      "My favorite pizzas are: chineez\n",
      "My favorite pizzas are: chicken\n",
      "My favorite pizzas are: cheez\n",
      "My favorite pizzas are: machroni\n",
      "My favorite pizzas are: machroni\n",
      "My friend favorite pizzas are: chineez\n",
      "My friend favorite pizzas are: chicken\n",
      "My friend favorite pizzas are: cheez\n",
      "My friend favorite pizzas are: machroni\n",
      "My friend favorite pizzas are: Jalfirazi\n"
     ]
    }
   ],
   "source": [
    "friend_pizzas = pizza_list[:]\n",
    "pizza_list.append('machroni')\n",
    "friend_pizzas.append('Jalfirazi')\n",
    "for i in pizza_list:\n",
    "    print('My favorite pizzas are: ' + i)\n",
    "for j in friend_pizzas:\n",
    "    print('My friend favorite pizzas are: ' + j)"
   ]
  },
  {
   "cell_type": "markdown",
   "metadata": {},
   "source": [
    "4-13. Buffet: A buffet-style restaurant offers only five basic foods. Think of five\n",
    "simple foods, and store them in a tuple.\n",
    "•\t Use a for loop to print each food the restaurant offers.\n",
    "•\t Try to modify one of the items, and make sure that Python rejects the\n",
    "change.\n",
    "•\t The restaurant changes its menu, replacing two of the items with different\n",
    "foods. Add a block of code that rewrites the tuple, and then use a for\n",
    "loop to print each of the items on the revised menu."
   ]
  },
  {
   "cell_type": "code",
   "execution_count": 21,
   "metadata": {},
   "outputs": [
    {
     "name": "stdout",
     "output_type": "stream",
     "text": [
      "Qourma\n",
      "Biryani\n",
      "Kheer\n",
      "IceCream\n",
      "cold Drink\n"
     ]
    },
    {
     "ename": "TypeError",
     "evalue": "'tuple' object does not support item assignment",
     "output_type": "error",
     "traceback": [
      "\u001b[1;31m---------------------------------------------------------------------------\u001b[0m",
      "\u001b[1;31mTypeError\u001b[0m                                 Traceback (most recent call last)",
      "\u001b[1;32m<ipython-input-21-4daa7b413a2d>\u001b[0m in \u001b[0;36m<module>\u001b[1;34m\u001b[0m\n\u001b[0;32m      2\u001b[0m \u001b[1;32mfor\u001b[0m \u001b[0mi\u001b[0m \u001b[1;32min\u001b[0m \u001b[0mbuffet_rest\u001b[0m\u001b[1;33m:\u001b[0m\u001b[1;33m\u001b[0m\u001b[1;33m\u001b[0m\u001b[0m\n\u001b[0;32m      3\u001b[0m     \u001b[0mprint\u001b[0m\u001b[1;33m(\u001b[0m\u001b[0mi\u001b[0m\u001b[1;33m)\u001b[0m\u001b[1;33m\u001b[0m\u001b[1;33m\u001b[0m\u001b[0m\n\u001b[1;32m----> 4\u001b[1;33m \u001b[0mbuffet_rest\u001b[0m\u001b[1;33m[\u001b[0m\u001b[1;36m1\u001b[0m\u001b[1;33m]\u001b[0m \u001b[1;33m=\u001b[0m \u001b[1;34m'Tikka'\u001b[0m\u001b[1;33m\u001b[0m\u001b[1;33m\u001b[0m\u001b[0m\n\u001b[0m",
      "\u001b[1;31mTypeError\u001b[0m: 'tuple' object does not support item assignment"
     ]
    }
   ],
   "source": [
    "buffet_rest = ('Qourma', 'Biryani', 'Kheer', 'IceCream', 'cold Drink')\n",
    "for i in buffet_rest:\n",
    "    print(i)\n",
    "buffet_rest[1] = 'Tikka'"
   ]
  },
  {
   "cell_type": "markdown",
   "metadata": {},
   "source": [
    "5-1. Conditional Tests: Write a series of conditional tests. Print a statement\n",
    "describing each test and your prediction for the results of each test. Your code\n",
    "should look something like this:\n",
    "car = 'subaru'\n",
    "print(\"Is car == 'subaru'? I predict True.\")\n",
    "print(car == 'subaru')\n",
    "print(\"\\nIs car == 'audi'? I predict False.\")\n",
    "print(car == 'audi')\n",
    "•\t Look closely at your results, and make sure you understand why each line\n",
    "evaluates to True or False.\n",
    "•\t Create at least 10 tests. Have at least 5 tests evaluate to True and another\n",
    "5 tests evaluate to False."
   ]
  },
  {
   "cell_type": "code",
   "execution_count": 7,
   "metadata": {},
   "outputs": [
    {
     "name": "stdout",
     "output_type": "stream",
     "text": [
      "Is food == 'Pizza'? I predict True.\n",
      "True\n",
      "\n",
      "Is food == 'Pizza'? I predict False.\n",
      "False\n",
      "\n",
      "Is mobile phone == 'iphone'? I predict True.\n",
      "True\n",
      "\n",
      "Is mobile phone == 'iphone'? I predict False.\n",
      "False\n",
      "\n",
      "Is car == 'subaru'? I predict True.\n",
      "True\n",
      "\n",
      "Is car == 'audi'? I predict False.\n",
      "False\n",
      "\n",
      "Is cloth == 'addidas'? I predict True.\n",
      "True\n",
      "\n",
      "Is cloth == 'addidas'? I predict False.\n",
      "False\n",
      "\n",
      "Is shoes == 'bata'? I predict True.\n",
      "True\n",
      "\n",
      "Is shoes == 'bata'? I predict False.\n",
      "False\n"
     ]
    }
   ],
   "source": [
    "#Checking for Food\n",
    "food = 'Pizza'\n",
    "print(\"Is food == 'Pizza'? I predict True.\")\n",
    "print(food == 'Pizza')\n",
    "print(\"\\nIs food == 'Pizza'? I predict False.\")\n",
    "print(food == 'Burger')\n",
    "\n",
    "#Checking for mobile Phone\n",
    "mobile_phone = 'iphone'\n",
    "print(\"\\nIs mobile phone == 'iphone'? I predict True.\")\n",
    "print(mobile_phone == 'iphone')\n",
    "print(\"\\nIs mobile phone == 'iphone'? I predict False.\")\n",
    "print(mobile_phone == 'Vivo')\n",
    "\n",
    "#Checking for car\n",
    "car = 'subaru'\n",
    "print(\"\\nIs car == 'subaru'? I predict True.\")\n",
    "print(car == 'subaru')\n",
    "print(\"\\nIs car == 'audi'? I predict False.\")\n",
    "print(car == 'audi')\n",
    "\n",
    "#Checking for cloth\n",
    "cloth = 'addidas'\n",
    "print(\"\\nIs cloth == 'addidas'? I predict True.\")\n",
    "print(cloth == 'addidas')\n",
    "print(\"\\nIs cloth == 'addidas'? I predict False.\")\n",
    "print(cloth == 'nike')\n",
    "\n",
    "#Checking for shoes\n",
    "shoes = 'bata'\n",
    "print(\"\\nIs shoes == 'bata'? I predict True.\")\n",
    "print(shoes == 'bata')\n",
    "print(\"\\nIs shoes == 'bata'? I predict False.\")\n",
    "print(shoes == 'service')"
   ]
  },
  {
   "cell_type": "markdown",
   "metadata": {},
   "source": [
    "5-3. Alien Colors #1: Imagine an alien was just shot down in a game. Create a\n",
    "variable called alien_color and assign it a value of 'green', 'yellow', or 'red'.\n",
    "•\t Write an if statement to test whether the alien’s color is green. If it is, print\n",
    "a message that the player just earned 5 points.\n",
    "•\t Write one version of this program that passes the if test and another that\n",
    "fails. (The version that fails will have no output.)\n"
   ]
  },
  {
   "cell_type": "code",
   "execution_count": 8,
   "metadata": {},
   "outputs": [
    {
     "name": "stdout",
     "output_type": "stream",
     "text": [
      "player earn 5 points\n"
     ]
    }
   ],
   "source": [
    "alian_color = 'green'\n",
    "if alian_color == 'green':\n",
    "    print('player earn 5 points')"
   ]
  },
  {
   "cell_type": "code",
   "execution_count": 9,
   "metadata": {},
   "outputs": [],
   "source": [
    "alian_color = 'green'\n",
    "if alian_color == '':\n",
    "    print('player earn 5 points')"
   ]
  },
  {
   "cell_type": "markdown",
   "metadata": {},
   "source": [
    "5-4. Alien Colors #2: Choose a color for an alien as you did in Exercise 5-3, and\n",
    "write an if-else chain.\n",
    "•\t If the alien’s color is green, print a statement that the player just earned\n",
    "5 points for shooting the alien.\n",
    "•\t If the alien’s color isn’t green, print a statement that the player just earned\n",
    "10 points.\n",
    "•\t Write one version of this program that runs the if block and another that\n",
    "runs the else block."
   ]
  },
  {
   "cell_type": "code",
   "execution_count": 10,
   "metadata": {},
   "outputs": [
    {
     "name": "stdout",
     "output_type": "stream",
     "text": [
      "player earn 5 points for shooting the alian.\n"
     ]
    }
   ],
   "source": [
    "alian_color = 'green'\n",
    "if alian_color == 'green':\n",
    "    print('player earn 5 points for shooting the alian.')\n",
    "if alian_color!= 'green':\n",
    "    print('player just earn 10 points.')"
   ]
  },
  {
   "cell_type": "code",
   "execution_count": 12,
   "metadata": {},
   "outputs": [
    {
     "name": "stdout",
     "output_type": "stream",
     "text": [
      "player earn 0 points\n"
     ]
    }
   ],
   "source": [
    "alian_color = 'yellow'\n",
    "if alian_color == 'green':\n",
    "    print('player earn 5 points for shooting the alian.')\n",
    "\n",
    "else:\n",
    "    print('player earn 0 points')"
   ]
  },
  {
   "cell_type": "markdown",
   "metadata": {},
   "source": [
    "5-7. Favorite Fruit: Make a list of your favorite fruits, and then write a series of\n",
    "independent if statements that check for certain fruits in your list.\n",
    "•\t Make a list of your three favorite fruits and call it favorite_fruits.\n",
    "•\t Write five if statements. Each should check whether a certain kind of fruit\n",
    "is in your list. If the fruit is in your list, the if block should print a statement,\n",
    "such as You really like bananas!"
   ]
  },
  {
   "cell_type": "code",
   "execution_count": 18,
   "metadata": {},
   "outputs": [
    {
     "name": "stdout",
     "output_type": "stream",
     "text": [
      "You like Mangos\n",
      "You like Oranges\n",
      "You like Bananas\n"
     ]
    }
   ],
   "source": [
    "favorite_fruits = ['Mango', 'Orange', 'Banana']\n",
    "if 'Mango' in favorite_fruits:\n",
    "    print('You like Mangos')\n",
    "if 'Orange' in favorite_fruits:\n",
    "    print('You like Oranges')\n",
    "if 'Banana' in favorite_fruits:\n",
    "    print('You like Bananas')\n",
    "if 'Apple' in favorite_fruits:\n",
    "    print('You like Mangos')\n",
    "if 'Grape' in favorite_fruits:\n",
    "    print('You like Mangos')\n"
   ]
  },
  {
   "cell_type": "markdown",
   "metadata": {},
   "source": [
    "5-8. Hello Admin: Make a list of five or more usernames, including the name\n",
    "'admin'. Imagine you are writing code that will print a greeting to each user\n",
    "after they log in to a website. Loop through the list, and print a greeting to\n",
    "each user:\n",
    "•\t If the username is 'admin', print a special greeting, such as Hello admin,\n",
    "would you like to see a status report?\n",
    "•\t Otherwise, print a generic greeting, such as Hello Eric, thank you for logging in again."
   ]
  },
  {
   "cell_type": "code",
   "execution_count": 20,
   "metadata": {},
   "outputs": [
    {
     "name": "stdout",
     "output_type": "stream",
     "text": [
      "Hello usama, thank you for logging in again\n",
      "Hello rameez, thank you for logging in again\n",
      "Hello sami, thank you for logging in again\n",
      "Hello suneel, thank you for logging in again\n",
      "Hello admin, would you like to see a status report?\n"
     ]
    }
   ],
   "source": [
    "username = ['usama', 'rameez', 'sami', 'suneel', 'admin']\n",
    "for i in username:\n",
    "    if i == 'admin':\n",
    "        print(f'Hello {i}, would you like to see a status report?')\n",
    "    else:\n",
    "        print(f'Hello {i}, thank you for logging in again')"
   ]
  },
  {
   "cell_type": "markdown",
   "metadata": {},
   "source": [
    "5-9. No Users: Add an if test to hello_admin.py to make sure the list of users is\n",
    "not empty.\n",
    "•\t If the list is empty, print the message We need to find some users!\n",
    "•\t Remove all of the usernames from your list, and make sure the correct\n",
    "message is printed."
   ]
  },
  {
   "cell_type": "code",
   "execution_count": 21,
   "metadata": {},
   "outputs": [],
   "source": [
    "username = ['usama', 'rameez', 'sami', 'suneel', 'admin']\n",
    "for i in username:\n",
    "    if username == '':\n",
    "        print('we need to find some users!')"
   ]
  },
  {
   "cell_type": "code",
   "execution_count": 26,
   "metadata": {},
   "outputs": [
    {
     "name": "stdout",
     "output_type": "stream",
     "text": [
      "[]\n"
     ]
    }
   ],
   "source": [
    "username = ['usama', 'rameez', 'sami', 'suneel', 'admin']\n",
    "username.clear()\n",
    "print(username)"
   ]
  },
  {
   "cell_type": "markdown",
   "metadata": {},
   "source": [
    "5-10. Checking Usernames: Do the following to create a program that simulates\n",
    "how websites ensure that everyone has a unique username.\n",
    "•\t Make a list of five or more usernames called current_users.\n",
    "•\t Make another list of five usernames called new_users. Make sure one or\n",
    "two of the new usernames are also in the current_users list.\n",
    "•\t Loop through the new_users list to see if each new username has already\n",
    "been used. If it has, print a message that the person will need to enter a\n",
    "new username. If a username has not been used, print a message saying\n",
    "that the username is available.\n",
    "•\t Make sure your comparison is case insensitive. If 'John' has been used,\n",
    "'JOHN' should not be accepted."
   ]
  },
  {
   "cell_type": "code",
   "execution_count": 35,
   "metadata": {},
   "outputs": [
    {
     "name": "stdout",
     "output_type": "stream",
     "text": [
      "username available\n",
      "username available\n",
      "username available\n",
      "please enter a new username: suneel is not accepted\n",
      "please enter a new username: zeerak is not accepted\n"
     ]
    }
   ],
   "source": [
    "current_users = ['usama', 'rameez', 'sami', 'suneel', 'zeerak']\n",
    "new_users = ['ather', 'bilal', 'ahmed', 'suneel', 'zeerak']\n",
    "for i in range(len(new_users)):\n",
    "    if new_users[i] == current_users[i]:\n",
    "        print(f'please enter a new username: {new_users[i]} is not accepted')\n",
    "    else:\n",
    "        print('username available')"
   ]
  },
  {
   "cell_type": "markdown",
   "metadata": {},
   "source": [
    "5-11. Ordinal Numbers: Ordinal numbers indicate their position in a list, such\n",
    "as 1st or 2nd. Most ordinal numbers end in th, except 1, 2, and 3.\n",
    "•\t Store the numbers 1 through 9 in a list.\n",
    "•\t Loop through the list.\n",
    "•\t Use an if-elif-else chain inside the loop to print the proper ordinal ending for each number. Your output should read \"1st 2nd 3rd 4th 5th 6th\n",
    "7th 8th 9th\", and each result should be on a separate line."
   ]
  },
  {
   "cell_type": "code",
   "execution_count": 36,
   "metadata": {},
   "outputs": [
    {
     "name": "stdout",
     "output_type": "stream",
     "text": [
      "1st\n",
      "2nd\n",
      "3rd\n",
      "4th\n",
      "5th\n",
      "6th\n",
      "7th\n",
      "8th\n",
      "9th\n"
     ]
    }
   ],
   "source": [
    "numbers = list(range(1,10))\n",
    "\n",
    "for number in numbers:\n",
    "    if number == 1:\n",
    "        print(\"1st\")\n",
    "    elif number == 2:\n",
    "        print(\"2nd\")\n",
    "    elif number == 3:\n",
    "        print(\"3rd\")\n",
    "    else:\n",
    "        print(str(number) + \"th\")"
   ]
  },
  {
   "cell_type": "markdown",
   "metadata": {},
   "source": [
    "6-1. Person: Use a dictionary to store information about a person you know.\n",
    "Store their first name, last name, age, and the city in which they live. You\n",
    "should have keys such as first_name, last_name, age, and city. Print each\n",
    "piece of information stored in your dictionary."
   ]
  },
  {
   "cell_type": "code",
   "execution_count": 2,
   "metadata": {},
   "outputs": [
    {
     "name": "stdout",
     "output_type": "stream",
     "text": [
      "Rameez\n",
      "Jalbani\n",
      "21\n",
      "Karachi\n"
     ]
    }
   ],
   "source": [
    "person_info = {'first_name': 'Rameez', 'last_name': 'Jalbani', 'age': 21,'city': 'Karachi'}\n",
    "for k,v in person_info.items():\n",
    "    print(v)"
   ]
  },
  {
   "cell_type": "markdown",
   "metadata": {},
   "source": [
    "6-2. Favorite Numbers: Use a dictionary to store people’s favorite numbers.\n",
    "Think of five names, and use them as keys in your dictionary. Think of a favorite\n",
    "number for each person, and store each as a value in your dictionary. Print\n",
    "each person’s name and their favorite number. For even more fun, poll a few\n",
    "friends and get some actual data for your program."
   ]
  },
  {
   "cell_type": "code",
   "execution_count": 5,
   "metadata": {},
   "outputs": [
    {
     "name": "stdout",
     "output_type": "stream",
     "text": [
      "rameez favorite number is 15\n",
      "suneel favorite number is 11\n",
      "ather favorite number is 55\n",
      "raheel favorite number is 47\n",
      "basit favorite number is 8\n"
     ]
    }
   ],
   "source": [
    "favorite_number = {'rameez': 15, 'suneel': 11, 'ather': 55, 'raheel': 47, 'basit': 8 }\n",
    "for k,v in favorite_number.items():\n",
    "    print(k , 'favorite number is' , v)"
   ]
  },
  {
   "cell_type": "markdown",
   "metadata": {},
   "source": [
    "6-5. Rivers: Make a dictionary containing three major rivers and the country\n",
    "each river runs through. One key-value pair might be 'nile': 'egypt'.\n",
    "•\t Use a loop to print a sentence about each river, such as The Nile runs\n",
    "through Egypt.\n",
    "•\t Use a loop to print the name of each river included in the dictionary.\n",
    "•\t Use a loop to print the name of each country included in the dictionary."
   ]
  },
  {
   "cell_type": "code",
   "execution_count": 7,
   "metadata": {},
   "outputs": [
    {
     "name": "stdout",
     "output_type": "stream",
     "text": [
      "pakistan runs through indus.\n",
      "china runs through Yangtze.\n",
      "Turkey runs through Tigris.\n"
     ]
    }
   ],
   "source": [
    "rivers = {'pakistan':'indus', 'china': 'Yangtze', 'Turkey':'Tigris'}\n",
    "for k,v in rivers.items():\n",
    "    print(f'{k} runs through {v}.')\n"
   ]
  },
  {
   "cell_type": "code",
   "execution_count": null,
   "metadata": {},
   "outputs": [],
   "source": []
  }
 ],
 "metadata": {
  "kernelspec": {
   "display_name": "Python 3",
   "language": "python",
   "name": "python3"
  },
  "language_info": {
   "codemirror_mode": {
    "name": "ipython",
    "version": 3
   },
   "file_extension": ".py",
   "mimetype": "text/x-python",
   "name": "python",
   "nbconvert_exporter": "python",
   "pygments_lexer": "ipython3",
   "version": "3.8.3"
  }
 },
 "nbformat": 4,
 "nbformat_minor": 4
}
