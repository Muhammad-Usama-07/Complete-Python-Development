{
  "nbformat": 4,
  "nbformat_minor": 0,
  "metadata": {
    "colab": {
      "name": "100+ Python programming exercises.ipynb",
      "provenance": [],
      "authorship_tag": "ABX9TyNqxavOhteJEHZqknhG+X50",
      "include_colab_link": true
    },
    "kernelspec": {
      "name": "python3",
      "display_name": "Python 3"
    }
  },
  "cells": [
    {
      "cell_type": "markdown",
      "metadata": {
        "id": "view-in-github",
        "colab_type": "text"
      },
      "source": [
        "<a href=\"https://colab.research.google.com/github/Muhammad-Usama-07/Complete-Your-Python-Here/blob/master/100%2B_Python_programming_exercises.ipynb\" target=\"_parent\"><img src=\"https://colab.research.google.com/assets/colab-badge.svg\" alt=\"Open In Colab\"/></a>"
      ]
    },
    {
      "cell_type": "code",
      "metadata": {
        "id": "Oe4rT1s1xWqj"
      },
      "source": [
        "#Question 01:\r\n",
        "#Write a program which will find all such numbers which are divisible by 7 but are not a multiple of 5,\r\n",
        "#between 2000 and 3200 (both included).\r\n",
        "#The numbers obtained should be printed in a comma-separated sequence on a single line."
      ],
      "execution_count": null,
      "outputs": []
    }
  ]
}