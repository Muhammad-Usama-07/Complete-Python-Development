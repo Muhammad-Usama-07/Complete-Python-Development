{
 "cells": [
  {
   "cell_type": "markdown",
   "id": "e1bc8cd2-26eb-4cd8-83e6-d1a3007179a7",
   "metadata": {},
   "source": [
    "# Collect image data \n",
    "when click on s save image and when click on q it will quit"
   ]
  },
  {
   "cell_type": "code",
   "execution_count": null,
   "id": "e246ecd9-6d04-43e6-8995-b8fd1b5fc2cc",
   "metadata": {},
   "outputs": [],
   "source": [
    "import cv2\n",
    "import os\n",
    "\n",
    "# Create a folder to save images if it doesn't exist\n",
    "if not os.path.exists('images'):\n",
    "    os.makedirs('images')\n",
    "\n",
    "# Initialize the camera\n",
    "cap = cv2.VideoCapture('m1.mp4')\n",
    "\n",
    "# # Set the width and height of the captured frame\n",
    "# cap.set(cv2.CAP_PROP_FRAME_WIDTH, 640)\n",
    "# cap.set(cv2.CAP_PROP_FRAME_HEIGHT, 480)\n",
    "\n",
    "image_counter = 0\n",
    "\n",
    "while True:\n",
    "    # Capture frame-by-frame\n",
    "    ret, frame = cap.read()\n",
    "\n",
    "    # Display the captured frame\n",
    "    cv2.imshow('Frame', frame)\n",
    "\n",
    "    # Wait for 's' key to save the frame as an image\n",
    "    key = cv2.waitKey(1) & 0xFF\n",
    "    if key == ord('s'):\n",
    "        image_name = f'images/image_{image_counter}.jpg'\n",
    "        cv2.imwrite(image_name, frame)\n",
    "        print(f\"Image {image_name} saved!\")\n",
    "        image_counter += 1\n",
    "    # Press 'q' to exit\n",
    "    elif key == ord('q'):\n",
    "        break\n",
    "\n",
    "# Release the camera and close OpenCV windows\n",
    "cap.release()\n",
    "cv2.destroyAllWindows()"
   ]
  },
  {
   "cell_type": "code",
   "execution_count": null,
   "id": "efc18340-8b30-46bd-b834-daac87469df9",
   "metadata": {},
   "outputs": [],
   "source": []
  },
  {
   "cell_type": "code",
   "execution_count": null,
   "id": "dc04c90e-39d2-4a9e-a4e7-44a47948a0a5",
   "metadata": {},
   "outputs": [],
   "source": []
  }
 ],
 "metadata": {
  "kernelspec": {
   "display_name": "Python 3 (ipykernel)",
   "language": "python",
   "name": "python3"
  },
  "language_info": {
   "codemirror_mode": {
    "name": "ipython",
    "version": 3
   },
   "file_extension": ".py",
   "mimetype": "text/x-python",
   "name": "python",
   "nbconvert_exporter": "python",
   "pygments_lexer": "ipython3",
   "version": "3.11.5"
  }
 },
 "nbformat": 4,
 "nbformat_minor": 5
}
